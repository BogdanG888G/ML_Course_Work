{
 "cells": [
  {
   "cell_type": "markdown",
   "id": "9d159816",
   "metadata": {},
   "source": [
    "# Импорт библиотек"
   ]
  },
  {
   "cell_type": "code",
   "execution_count": 589,
   "id": "b8c671a4",
   "metadata": {},
   "outputs": [],
   "source": [
    "import pandas as pd\n",
    "import numpy as np\n",
    "import matplotlib.pyplot as plt\n",
    "import seaborn as sns\n",
    "import warnings\n",
    "import plotly.express as px\n",
    "import re\n",
    "\n",
    "warnings.filterwarnings('ignore')\n",
    "\n",
    "\n"
   ]
  },
  {
   "cell_type": "markdown",
   "id": "3529a8c5",
   "metadata": {},
   "source": [
    "## Начало анализа"
   ]
  },
  {
   "cell_type": "markdown",
   "id": "37cfef96",
   "metadata": {},
   "source": [
    "В этом датасете содержится комплексное исследование по поведению во время ежедневных поездок. Целью этого проекта является прогнозирование предпочтительного способа передвижения (например, автомобиль, велосипед, общественный транспорт) на основе личных и бытовых характеристик, включая местоположение рабочего места и дома."
   ]
  },
  {
   "cell_type": "code",
   "execution_count": 590,
   "metadata": {},
   "outputs": [
    {
     "data": {
      "text/html": [
       "<div>\n",
       "<style scoped>\n",
       "    .dataframe tbody tr th:only-of-type {\n",
       "        vertical-align: middle;\n",
       "    }\n",
       "\n",
       "    .dataframe tbody tr th {\n",
       "        vertical-align: top;\n",
       "    }\n",
       "\n",
       "    .dataframe thead th {\n",
       "        text-align: right;\n",
       "    }\n",
       "</style>\n",
       "<table border=\"1\" class=\"dataframe\">\n",
       "  <thead>\n",
       "    <tr style=\"text-align: right;\">\n",
       "      <th></th>\n",
       "      <th>HHID</th>\n",
       "      <th>PERSID</th>\n",
       "      <th>VPLID</th>\n",
       "      <th>RitID</th>\n",
       "      <th>HH_VALID</th>\n",
       "      <th>P_VALID</th>\n",
       "      <th>KHVM</th>\n",
       "      <th>WEGGEWEEST</th>\n",
       "      <th>VERTREKP</th>\n",
       "      <th>AANTVPL</th>\n",
       "      <th>...</th>\n",
       "      <th>HHAUTO_N</th>\n",
       "      <th>HHAUTO</th>\n",
       "      <th>HHBESTEL</th>\n",
       "      <th>HHHYBRID</th>\n",
       "      <th>HHMOTOR</th>\n",
       "      <th>HHBROM</th>\n",
       "      <th>HHSNOR</th>\n",
       "      <th>HHFIETS</th>\n",
       "      <th>HHVOUWFIETS</th>\n",
       "      <th>HHEBIKE</th>\n",
       "    </tr>\n",
       "  </thead>\n",
       "  <tbody>\n",
       "    <tr>\n",
       "      <th>0</th>\n",
       "      <td>30055622</td>\n",
       "      <td>3005562201</td>\n",
       "      <td>13957101</td>\n",
       "      <td>1395710101</td>\n",
       "      <td>2</td>\n",
       "      <td>3</td>\n",
       "      <td>2</td>\n",
       "      <td>1</td>\n",
       "      <td>2</td>\n",
       "      <td>2</td>\n",
       "      <td>...</td>\n",
       "      <td>3</td>\n",
       "      <td>1</td>\n",
       "      <td>0</td>\n",
       "      <td>0</td>\n",
       "      <td>1</td>\n",
       "      <td>0</td>\n",
       "      <td>0</td>\n",
       "      <td>1</td>\n",
       "      <td>0</td>\n",
       "      <td>1</td>\n",
       "    </tr>\n",
       "    <tr>\n",
       "      <th>1</th>\n",
       "      <td>30055622</td>\n",
       "      <td>3005562201</td>\n",
       "      <td>13957102</td>\n",
       "      <td>1395710201</td>\n",
       "      <td>2</td>\n",
       "      <td>3</td>\n",
       "      <td>2</td>\n",
       "      <td>1</td>\n",
       "      <td>2</td>\n",
       "      <td>2</td>\n",
       "      <td>...</td>\n",
       "      <td>3</td>\n",
       "      <td>1</td>\n",
       "      <td>0</td>\n",
       "      <td>0</td>\n",
       "      <td>1</td>\n",
       "      <td>0</td>\n",
       "      <td>0</td>\n",
       "      <td>1</td>\n",
       "      <td>0</td>\n",
       "      <td>1</td>\n",
       "    </tr>\n",
       "    <tr>\n",
       "      <th>2</th>\n",
       "      <td>30055622</td>\n",
       "      <td>3005562201</td>\n",
       "      <td>13957201</td>\n",
       "      <td>1395720101</td>\n",
       "      <td>2</td>\n",
       "      <td>3</td>\n",
       "      <td>1</td>\n",
       "      <td>1</td>\n",
       "      <td>2</td>\n",
       "      <td>4</td>\n",
       "      <td>...</td>\n",
       "      <td>3</td>\n",
       "      <td>1</td>\n",
       "      <td>0</td>\n",
       "      <td>0</td>\n",
       "      <td>1</td>\n",
       "      <td>0</td>\n",
       "      <td>0</td>\n",
       "      <td>1</td>\n",
       "      <td>0</td>\n",
       "      <td>1</td>\n",
       "    </tr>\n",
       "    <tr>\n",
       "      <th>3</th>\n",
       "      <td>30055622</td>\n",
       "      <td>3005562201</td>\n",
       "      <td>13957202</td>\n",
       "      <td>1395720201</td>\n",
       "      <td>2</td>\n",
       "      <td>3</td>\n",
       "      <td>1</td>\n",
       "      <td>1</td>\n",
       "      <td>2</td>\n",
       "      <td>4</td>\n",
       "      <td>...</td>\n",
       "      <td>3</td>\n",
       "      <td>1</td>\n",
       "      <td>0</td>\n",
       "      <td>0</td>\n",
       "      <td>1</td>\n",
       "      <td>0</td>\n",
       "      <td>0</td>\n",
       "      <td>1</td>\n",
       "      <td>0</td>\n",
       "      <td>1</td>\n",
       "    </tr>\n",
       "    <tr>\n",
       "      <th>4</th>\n",
       "      <td>30204076</td>\n",
       "      <td>3020407601</td>\n",
       "      <td>14445303</td>\n",
       "      <td>1444530301</td>\n",
       "      <td>2</td>\n",
       "      <td>3</td>\n",
       "      <td>8</td>\n",
       "      <td>1</td>\n",
       "      <td>1</td>\n",
       "      <td>3</td>\n",
       "      <td>...</td>\n",
       "      <td>2</td>\n",
       "      <td>1</td>\n",
       "      <td>1</td>\n",
       "      <td>0</td>\n",
       "      <td>1</td>\n",
       "      <td>0</td>\n",
       "      <td>0</td>\n",
       "      <td>1</td>\n",
       "      <td>0</td>\n",
       "      <td>1</td>\n",
       "    </tr>\n",
       "    <tr>\n",
       "      <th>...</th>\n",
       "      <td>...</td>\n",
       "      <td>...</td>\n",
       "      <td>...</td>\n",
       "      <td>...</td>\n",
       "      <td>...</td>\n",
       "      <td>...</td>\n",
       "      <td>...</td>\n",
       "      <td>...</td>\n",
       "      <td>...</td>\n",
       "      <td>...</td>\n",
       "      <td>...</td>\n",
       "      <td>...</td>\n",
       "      <td>...</td>\n",
       "      <td>...</td>\n",
       "      <td>...</td>\n",
       "      <td>...</td>\n",
       "      <td>...</td>\n",
       "      <td>...</td>\n",
       "      <td>...</td>\n",
       "      <td>...</td>\n",
       "      <td>...</td>\n",
       "    </tr>\n",
       "    <tr>\n",
       "      <th>7305</th>\n",
       "      <td>30862294</td>\n",
       "      <td>3086229401</td>\n",
       "      <td>19042304</td>\n",
       "      <td>1904230401</td>\n",
       "      <td>2</td>\n",
       "      <td>3</td>\n",
       "      <td>2</td>\n",
       "      <td>1</td>\n",
       "      <td>2</td>\n",
       "      <td>12</td>\n",
       "      <td>...</td>\n",
       "      <td>1</td>\n",
       "      <td>1</td>\n",
       "      <td>0</td>\n",
       "      <td>0</td>\n",
       "      <td>0</td>\n",
       "      <td>0</td>\n",
       "      <td>0</td>\n",
       "      <td>1</td>\n",
       "      <td>0</td>\n",
       "      <td>0</td>\n",
       "    </tr>\n",
       "    <tr>\n",
       "      <th>7306</th>\n",
       "      <td>30862294</td>\n",
       "      <td>3086229401</td>\n",
       "      <td>19042103</td>\n",
       "      <td>1904210301</td>\n",
       "      <td>2</td>\n",
       "      <td>3</td>\n",
       "      <td>7</td>\n",
       "      <td>1</td>\n",
       "      <td>2</td>\n",
       "      <td>5</td>\n",
       "      <td>...</td>\n",
       "      <td>1</td>\n",
       "      <td>1</td>\n",
       "      <td>0</td>\n",
       "      <td>0</td>\n",
       "      <td>0</td>\n",
       "      <td>0</td>\n",
       "      <td>0</td>\n",
       "      <td>1</td>\n",
       "      <td>0</td>\n",
       "      <td>0</td>\n",
       "    </tr>\n",
       "    <tr>\n",
       "      <th>7307</th>\n",
       "      <td>30862294</td>\n",
       "      <td>3086229401</td>\n",
       "      <td>19042104</td>\n",
       "      <td>1904210401</td>\n",
       "      <td>2</td>\n",
       "      <td>3</td>\n",
       "      <td>7</td>\n",
       "      <td>1</td>\n",
       "      <td>2</td>\n",
       "      <td>5</td>\n",
       "      <td>...</td>\n",
       "      <td>1</td>\n",
       "      <td>1</td>\n",
       "      <td>0</td>\n",
       "      <td>0</td>\n",
       "      <td>0</td>\n",
       "      <td>0</td>\n",
       "      <td>0</td>\n",
       "      <td>1</td>\n",
       "      <td>0</td>\n",
       "      <td>0</td>\n",
       "    </tr>\n",
       "    <tr>\n",
       "      <th>7308</th>\n",
       "      <td>30862294</td>\n",
       "      <td>3086229401</td>\n",
       "      <td>19042201</td>\n",
       "      <td>1904220101</td>\n",
       "      <td>2</td>\n",
       "      <td>3</td>\n",
       "      <td>1</td>\n",
       "      <td>1</td>\n",
       "      <td>2</td>\n",
       "      <td>3</td>\n",
       "      <td>...</td>\n",
       "      <td>1</td>\n",
       "      <td>1</td>\n",
       "      <td>0</td>\n",
       "      <td>0</td>\n",
       "      <td>0</td>\n",
       "      <td>0</td>\n",
       "      <td>0</td>\n",
       "      <td>1</td>\n",
       "      <td>0</td>\n",
       "      <td>0</td>\n",
       "    </tr>\n",
       "    <tr>\n",
       "      <th>7309</th>\n",
       "      <td>30862294</td>\n",
       "      <td>3086229401</td>\n",
       "      <td>19042105</td>\n",
       "      <td>1904210501</td>\n",
       "      <td>2</td>\n",
       "      <td>3</td>\n",
       "      <td>1</td>\n",
       "      <td>1</td>\n",
       "      <td>2</td>\n",
       "      <td>5</td>\n",
       "      <td>...</td>\n",
       "      <td>1</td>\n",
       "      <td>1</td>\n",
       "      <td>0</td>\n",
       "      <td>0</td>\n",
       "      <td>0</td>\n",
       "      <td>0</td>\n",
       "      <td>0</td>\n",
       "      <td>1</td>\n",
       "      <td>0</td>\n",
       "      <td>0</td>\n",
       "    </tr>\n",
       "  </tbody>\n",
       "</table>\n",
       "<p>7310 rows × 56 columns</p>\n",
       "</div>"
      ],
      "text/plain": [
       "          HHID      PERSID     VPLID       RitID  HH_VALID  P_VALID  KHVM  \\\n",
       "0     30055622  3005562201  13957101  1395710101         2        3     2   \n",
       "1     30055622  3005562201  13957102  1395710201         2        3     2   \n",
       "2     30055622  3005562201  13957201  1395720101         2        3     1   \n",
       "3     30055622  3005562201  13957202  1395720201         2        3     1   \n",
       "4     30204076  3020407601  14445303  1444530301         2        3     8   \n",
       "...        ...         ...       ...         ...       ...      ...   ...   \n",
       "7305  30862294  3086229401  19042304  1904230401         2        3     2   \n",
       "7306  30862294  3086229401  19042103  1904210301         2        3     7   \n",
       "7307  30862294  3086229401  19042104  1904210401         2        3     7   \n",
       "7308  30862294  3086229401  19042201  1904220101         2        3     1   \n",
       "7309  30862294  3086229401  19042105  1904210501         2        3     1   \n",
       "\n",
       "      WEGGEWEEST  VERTREKP  AANTVPL  ...  HHAUTO_N  HHAUTO  HHBESTEL  \\\n",
       "0              1         2        2  ...         3       1         0   \n",
       "1              1         2        2  ...         3       1         0   \n",
       "2              1         2        4  ...         3       1         0   \n",
       "3              1         2        4  ...         3       1         0   \n",
       "4              1         1        3  ...         2       1         1   \n",
       "...          ...       ...      ...  ...       ...     ...       ...   \n",
       "7305           1         2       12  ...         1       1         0   \n",
       "7306           1         2        5  ...         1       1         0   \n",
       "7307           1         2        5  ...         1       1         0   \n",
       "7308           1         2        3  ...         1       1         0   \n",
       "7309           1         2        5  ...         1       1         0   \n",
       "\n",
       "      HHHYBRID  HHMOTOR  HHBROM  HHSNOR  HHFIETS  HHVOUWFIETS  HHEBIKE  \n",
       "0            0        1       0       0        1            0        1  \n",
       "1            0        1       0       0        1            0        1  \n",
       "2            0        1       0       0        1            0        1  \n",
       "3            0        1       0       0        1            0        1  \n",
       "4            0        1       0       0        1            0        1  \n",
       "...        ...      ...     ...     ...      ...          ...      ...  \n",
       "7305         0        0       0       0        1            0        0  \n",
       "7306         0        0       0       0        1            0        0  \n",
       "7307         0        0       0       0        1            0        0  \n",
       "7308         0        0       0       0        1            0        0  \n",
       "7309         0        0       0       0        1            0        0  \n",
       "\n",
       "[7310 rows x 56 columns]"
      ]
     },
     "metadata": {},
     "output_type": "display_data"
    },
    {
     "name": "stdout",
     "output_type": "stream",
     "text": [
      "HHID                         30055622\n",
      "PERSID                     3005562201\n",
      "VPLID                        13957101\n",
      "RitID                      1395710101\n",
      "HH_VALID                            2\n",
      "P_VALID                             3\n",
      "KHVM                                2\n",
      "WEGGEWEEST                          1\n",
      "VERTREKP                            2\n",
      "AANTVPL                             2\n",
      "VPLDAGNR                            1\n",
      "VERPL                               3\n",
      "VERPLNR                             1\n",
      "TOER                                0\n",
      "TOER_TYPE                           9\n",
      "AANTRIT                             1\n",
      "KMOTIEF                             2\n",
      "VERTPROV                            0\n",
      "AANKPROV                            0\n",
      "KAFSTV                             13\n",
      "KVERTTIJD                           8\n",
      "KREISDUUR                          11\n",
      "ROLAUTO                             2\n",
      "PARKEERKOSTEN                       0\n",
      "VERTRAGING                          0\n",
      "DAGSOORT                            1\n",
      "OORDEEL_AUTO                        4\n",
      "OORDEEL_TREIN                       3\n",
      "OORDEEL_BTM                         3\n",
      "OORDEEL_FIETS                       4\n",
      "OORDEEL_BROMMER                     4\n",
      "OORDEEL_LOPEN                       4\n",
      "GEBRUIK_AUTO_STELLING3              4\n",
      "GEBRUIK_AUTO_STELLING4              4\n",
      "GEBRUIK_TREIN_STELLING3             3\n",
      "GEBRUIK_TREIN_STELLING4             4\n",
      "GEBRUIK_BTM_STELLING3               3\n",
      "GEBRUIK_BTM_STELLING4               4\n",
      "GEBRUIK_FIETS_STELLING2             4\n",
      "GEBRUIK_FIETS_STELLING3             3\n",
      "GEBRUIK_LOPEN_STELLING3             2\n",
      "GEBRUIK_LOPEN_STELLING4             4\n",
      "HHPERS                              3\n",
      "HHSAM                               3\n",
      "N_KIND                              0\n",
      "HHBRUTOINK2_w5                      2\n",
      "HHAUTO_N                            3\n",
      "HHAUTO                              1\n",
      "HHBESTEL                            0\n",
      "HHHYBRID                            0\n",
      "HHMOTOR                             1\n",
      "HHBROM                              0\n",
      "HHSNOR                              0\n",
      "HHFIETS                             1\n",
      "HHVOUWFIETS                         0\n",
      "HHEBIKE                             1\n",
      "Name: 0, dtype: object\n"
     ]
    }
   ],
   "source": [
    "df = pd.read_csv(\"Dataset_2_DATA.csv\")\n",
    "display(df)\n",
    "print(df.iloc[0, :])"
   ]
  },
  {
   "cell_type": "code",
   "execution_count": 591,
   "id": "e23e531f",
   "metadata": {},
   "outputs": [
    {
     "name": "stdout",
     "output_type": "stream",
     "text": [
      "<class 'pandas.core.frame.DataFrame'>\n",
      "Index: 4465 entries, 0 to 7309\n",
      "Data columns (total 56 columns):\n",
      " #   Column                   Non-Null Count  Dtype \n",
      "---  ------                   --------------  ----- \n",
      " 0   HHID                     4465 non-null   int64 \n",
      " 1   PERSID                   4465 non-null   int64 \n",
      " 2   VPLID                    4465 non-null   int64 \n",
      " 3   RitID                    4465 non-null   int64 \n",
      " 4   HH_VALID                 4465 non-null   int64 \n",
      " 5   P_VALID                  4465 non-null   int64 \n",
      " 6   KHVM                     4465 non-null   int64 \n",
      " 7   WEGGEWEEST               4465 non-null   int64 \n",
      " 8   VERTREKP                 4465 non-null   int64 \n",
      " 9   AANTVPL                  4465 non-null   int64 \n",
      " 10  VPLDAGNR                 4465 non-null   int64 \n",
      " 11  VERPL                    4465 non-null   int64 \n",
      " 12  VERPLNR                  4465 non-null   int64 \n",
      " 13  TOER                     4465 non-null   int64 \n",
      " 14  TOER_TYPE                4465 non-null   int64 \n",
      " 15  AANTRIT                  4465 non-null   int64 \n",
      " 16  KMOTIEF                  4465 non-null   int64 \n",
      " 17  VERTPROV                 4465 non-null   int64 \n",
      " 18  AANKPROV                 4465 non-null   int64 \n",
      " 19  KAFSTV                   4465 non-null   int64 \n",
      " 20  KVERTTIJD                4465 non-null   int64 \n",
      " 21  KREISDUUR                4465 non-null   object\n",
      " 22  ROLAUTO                  4465 non-null   int64 \n",
      " 23  PARKEERKOSTEN            4465 non-null   object\n",
      " 24  VERTRAGING               4465 non-null   int64 \n",
      " 25  DAGSOORT                 4465 non-null   int64 \n",
      " 26  OORDEEL_AUTO             4465 non-null   int64 \n",
      " 27  OORDEEL_TREIN            4465 non-null   int64 \n",
      " 28  OORDEEL_BTM              4465 non-null   int64 \n",
      " 29  OORDEEL_FIETS            4465 non-null   int64 \n",
      " 30  OORDEEL_BROMMER          4465 non-null   int64 \n",
      " 31  OORDEEL_LOPEN            4465 non-null   int64 \n",
      " 32  GEBRUIK_AUTO_STELLING3   4465 non-null   int64 \n",
      " 33  GEBRUIK_AUTO_STELLING4   4465 non-null   int64 \n",
      " 34  GEBRUIK_TREIN_STELLING3  4465 non-null   int64 \n",
      " 35  GEBRUIK_TREIN_STELLING4  4465 non-null   int64 \n",
      " 36  GEBRUIK_BTM_STELLING3    4465 non-null   int64 \n",
      " 37  GEBRUIK_BTM_STELLING4    4465 non-null   int64 \n",
      " 38  GEBRUIK_FIETS_STELLING2  4465 non-null   int64 \n",
      " 39  GEBRUIK_FIETS_STELLING3  4465 non-null   int64 \n",
      " 40  GEBRUIK_LOPEN_STELLING3  4465 non-null   int64 \n",
      " 41  GEBRUIK_LOPEN_STELLING4  4465 non-null   int64 \n",
      " 42  HHPERS                   4465 non-null   int64 \n",
      " 43  HHSAM                    4465 non-null   int64 \n",
      " 44  N_KIND                   4465 non-null   int64 \n",
      " 45  HHBRUTOINK2_w5           4465 non-null   int64 \n",
      " 46  HHAUTO_N                 4465 non-null   int64 \n",
      " 47  HHAUTO                   4465 non-null   int64 \n",
      " 48  HHBESTEL                 4465 non-null   int64 \n",
      " 49  HHHYBRID                 4465 non-null   int64 \n",
      " 50  HHMOTOR                  4465 non-null   int64 \n",
      " 51  HHBROM                   4465 non-null   int64 \n",
      " 52  HHSNOR                   4465 non-null   int64 \n",
      " 53  HHFIETS                  4465 non-null   int64 \n",
      " 54  HHVOUWFIETS              4465 non-null   int64 \n",
      " 55  HHEBIKE                  4465 non-null   int64 \n",
      "dtypes: int64(54), object(2)\n",
      "memory usage: 1.9+ MB\n"
     ]
    },
    {
     "data": {
      "text/plain": [
       "None"
      ]
     },
     "metadata": {},
     "output_type": "display_data"
    }
   ],
   "source": [
    "df = df.replace({' ': np.nan})\n",
    "df = df.dropna()\n",
    "\n",
    "df = df[df['KAFSTV'] >= 4] # по условию 7 варианта \"Дополнительные условия:KAFSTV(Distance class trip) больше 3.5 км\"\n",
    "display(df.info())"
   ]
  },
  {
   "cell_type": "code",
   "execution_count": 592,
   "id": "9c79b125",
   "metadata": {},
   "outputs": [
    {
     "data": {
      "text/html": [
       "<div>\n",
       "<style scoped>\n",
       "    .dataframe tbody tr th:only-of-type {\n",
       "        vertical-align: middle;\n",
       "    }\n",
       "\n",
       "    .dataframe tbody tr th {\n",
       "        vertical-align: top;\n",
       "    }\n",
       "\n",
       "    .dataframe thead th {\n",
       "        text-align: right;\n",
       "    }\n",
       "</style>\n",
       "<table border=\"1\" class=\"dataframe\">\n",
       "  <thead>\n",
       "    <tr style=\"text-align: right;\">\n",
       "      <th></th>\n",
       "      <th>Variable</th>\n",
       "      <th>Var_description</th>\n",
       "      <th>Value</th>\n",
       "      <th>Label</th>\n",
       "      <th>Measurement_level</th>\n",
       "      <th>BaseData_Type</th>\n",
       "      <th>Name_BaseData</th>\n",
       "      <th>Filter_Variables</th>\n",
       "    </tr>\n",
       "  </thead>\n",
       "  <tbody>\n",
       "    <tr>\n",
       "      <th>0</th>\n",
       "      <td>PERSOON</td>\n",
       "      <td>new person</td>\n",
       "      <td>0</td>\n",
       "      <td>no new person</td>\n",
       "      <td>Nominal</td>\n",
       "      <td>Mobility</td>\n",
       "      <td>MPNWAVE6_DAGBOEKdata</td>\n",
       "      <td>1</td>\n",
       "    </tr>\n",
       "    <tr>\n",
       "      <th>1</th>\n",
       "      <td>PERSOON</td>\n",
       "      <td>new person</td>\n",
       "      <td>1</td>\n",
       "      <td>new person</td>\n",
       "      <td>Nominal</td>\n",
       "      <td>Mobility</td>\n",
       "      <td>MPNWAVE6_DAGBOEKdata</td>\n",
       "      <td>1</td>\n",
       "    </tr>\n",
       "    <tr>\n",
       "      <th>2</th>\n",
       "      <td>HHID</td>\n",
       "      <td>Unique Household ID</td>\n",
       "      <td>999999999</td>\n",
       "      <td>Input</td>\n",
       "      <td>Scale</td>\n",
       "      <td>Mobility</td>\n",
       "      <td>MPNWAVE6_DAGBOEKdata</td>\n",
       "      <td>1</td>\n",
       "    </tr>\n",
       "    <tr>\n",
       "      <th>3</th>\n",
       "      <td>PERSID</td>\n",
       "      <td>Unique ID of Person</td>\n",
       "      <td>999999999</td>\n",
       "      <td>Unique ID of Person</td>\n",
       "      <td>Scale</td>\n",
       "      <td>Mobility</td>\n",
       "      <td>MPNWAVE6_DAGBOEKdata</td>\n",
       "      <td>1</td>\n",
       "    </tr>\n",
       "    <tr>\n",
       "      <th>4</th>\n",
       "      <td>HH_VALID</td>\n",
       "      <td>Complete household yes or no</td>\n",
       "      <td>0</td>\n",
       "      <td>Not a complete household, not all persons comp...</td>\n",
       "      <td>Nominal</td>\n",
       "      <td>Mobility</td>\n",
       "      <td>MPNWAVE6_DAGBOEKdata</td>\n",
       "      <td>1</td>\n",
       "    </tr>\n",
       "    <tr>\n",
       "      <th>...</th>\n",
       "      <td>...</td>\n",
       "      <td>...</td>\n",
       "      <td>...</td>\n",
       "      <td>...</td>\n",
       "      <td>...</td>\n",
       "      <td>...</td>\n",
       "      <td>...</td>\n",
       "      <td>...</td>\n",
       "    </tr>\n",
       "    <tr>\n",
       "      <th>1054</th>\n",
       "      <td>tramhalte</td>\n",
       "      <td>Straight line distance between nearest tram st...</td>\n",
       "      <td>999999999</td>\n",
       "      <td>Straight line distance between nearest tram st...</td>\n",
       "      <td>Scale</td>\n",
       "      <td>Data_HouseHold</td>\n",
       "      <td>MPNWAVE6_HHdata_North-Holland</td>\n",
       "      <td>0</td>\n",
       "    </tr>\n",
       "    <tr>\n",
       "      <th>1055</th>\n",
       "      <td>bushalte4xpu</td>\n",
       "      <td>Straight line distance between nearest bus sto...</td>\n",
       "      <td>999999999</td>\n",
       "      <td>Straight line distance between nearest bus sto...</td>\n",
       "      <td>Scale</td>\n",
       "      <td>Data_HouseHold</td>\n",
       "      <td>MPNWAVE6_HHdata_North-Holland</td>\n",
       "      <td>0</td>\n",
       "    </tr>\n",
       "    <tr>\n",
       "      <th>1056</th>\n",
       "      <td>bushalte2xpu</td>\n",
       "      <td>Straight line distance between nearest bus sto...</td>\n",
       "      <td>999999999</td>\n",
       "      <td>Straight line distance between nearest bus sto...</td>\n",
       "      <td>Scale</td>\n",
       "      <td>Data_HouseHold</td>\n",
       "      <td>MPNWAVE6_HHdata_North-Holland</td>\n",
       "      <td>0</td>\n",
       "    </tr>\n",
       "    <tr>\n",
       "      <th>1057</th>\n",
       "      <td>bushalte1xpu</td>\n",
       "      <td>Straight line distance between nearest bus sto...</td>\n",
       "      <td>999999999</td>\n",
       "      <td>Straight line distance between nearest bus sto...</td>\n",
       "      <td>Scale</td>\n",
       "      <td>Data_HouseHold</td>\n",
       "      <td>MPNWAVE6_HHdata_North-Holland</td>\n",
       "      <td>0</td>\n",
       "    </tr>\n",
       "    <tr>\n",
       "      <th>1058</th>\n",
       "      <td>bushalteminder1xpu</td>\n",
       "      <td>Straight line distance between nearest bus sto...</td>\n",
       "      <td>999999999</td>\n",
       "      <td>Straight line distance between nearest bus sto...</td>\n",
       "      <td>Scale</td>\n",
       "      <td>Data_HouseHold</td>\n",
       "      <td>MPNWAVE6_HHdata_North-Holland</td>\n",
       "      <td>0</td>\n",
       "    </tr>\n",
       "  </tbody>\n",
       "</table>\n",
       "<p>1059 rows × 8 columns</p>\n",
       "</div>"
      ],
      "text/plain": [
       "                Variable                                    Var_description  \\\n",
       "0                PERSOON                                         new person   \n",
       "1                PERSOON                                         new person   \n",
       "2                   HHID                                Unique Household ID   \n",
       "3                 PERSID                                Unique ID of Person   \n",
       "4               HH_VALID                       Complete household yes or no   \n",
       "...                  ...                                                ...   \n",
       "1054           tramhalte  Straight line distance between nearest tram st...   \n",
       "1055        bushalte4xpu  Straight line distance between nearest bus sto...   \n",
       "1056        bushalte2xpu  Straight line distance between nearest bus sto...   \n",
       "1057        bushalte1xpu  Straight line distance between nearest bus sto...   \n",
       "1058  bushalteminder1xpu  Straight line distance between nearest bus sto...   \n",
       "\n",
       "          Value                                              Label  \\\n",
       "0             0                                      no new person   \n",
       "1             1                                         new person   \n",
       "2     999999999                                              Input   \n",
       "3     999999999                                Unique ID of Person   \n",
       "4             0  Not a complete household, not all persons comp...   \n",
       "...         ...                                                ...   \n",
       "1054  999999999  Straight line distance between nearest tram st...   \n",
       "1055  999999999  Straight line distance between nearest bus sto...   \n",
       "1056  999999999  Straight line distance between nearest bus sto...   \n",
       "1057  999999999  Straight line distance between nearest bus sto...   \n",
       "1058  999999999  Straight line distance between nearest bus sto...   \n",
       "\n",
       "     Measurement_level   BaseData_Type                  Name_BaseData  \\\n",
       "0              Nominal        Mobility           MPNWAVE6_DAGBOEKdata   \n",
       "1              Nominal        Mobility           MPNWAVE6_DAGBOEKdata   \n",
       "2                Scale        Mobility           MPNWAVE6_DAGBOEKdata   \n",
       "3                Scale        Mobility           MPNWAVE6_DAGBOEKdata   \n",
       "4              Nominal        Mobility           MPNWAVE6_DAGBOEKdata   \n",
       "...                ...             ...                            ...   \n",
       "1054             Scale  Data_HouseHold  MPNWAVE6_HHdata_North-Holland   \n",
       "1055             Scale  Data_HouseHold  MPNWAVE6_HHdata_North-Holland   \n",
       "1056             Scale  Data_HouseHold  MPNWAVE6_HHdata_North-Holland   \n",
       "1057             Scale  Data_HouseHold  MPNWAVE6_HHdata_North-Holland   \n",
       "1058             Scale  Data_HouseHold  MPNWAVE6_HHdata_North-Holland   \n",
       "\n",
       "      Filter_Variables  \n",
       "0                    1  \n",
       "1                    1  \n",
       "2                    1  \n",
       "3                    1  \n",
       "4                    1  \n",
       "...                ...  \n",
       "1054                 0  \n",
       "1055                 0  \n",
       "1056                 0  \n",
       "1057                 0  \n",
       "1058                 0  \n",
       "\n",
       "[1059 rows x 8 columns]"
      ]
     },
     "metadata": {},
     "output_type": "display_data"
    }
   ],
   "source": [
    "desc = pd.read_csv('Dataset_2_DESCRIPTION.csv', encoding='latin1')\n",
    "display(desc) "
   ]
  },
  {
   "cell_type": "markdown",
   "id": "364eda5a",
   "metadata": {},
   "source": [
    "Расшифровка и интепретация написанного"
   ]
  },
  {
   "cell_type": "code",
   "execution_count": 593,
   "id": "b7256352",
   "metadata": {},
   "outputs": [
    {
     "data": {
      "text/html": [
       "<div>\n",
       "<style scoped>\n",
       "    .dataframe tbody tr th:only-of-type {\n",
       "        vertical-align: middle;\n",
       "    }\n",
       "\n",
       "    .dataframe tbody tr th {\n",
       "        vertical-align: top;\n",
       "    }\n",
       "\n",
       "    .dataframe thead th {\n",
       "        text-align: right;\n",
       "    }\n",
       "</style>\n",
       "<table border=\"1\" class=\"dataframe\">\n",
       "  <thead>\n",
       "    <tr style=\"text-align: right;\">\n",
       "      <th></th>\n",
       "      <th>Variable</th>\n",
       "      <th>Var_description</th>\n",
       "      <th>Value</th>\n",
       "      <th>Label</th>\n",
       "      <th>Measurement_level</th>\n",
       "      <th>BaseData_Type</th>\n",
       "      <th>Name_BaseData</th>\n",
       "      <th>Filter_Variables</th>\n",
       "      <th>0</th>\n",
       "    </tr>\n",
       "  </thead>\n",
       "  <tbody>\n",
       "    <tr>\n",
       "      <th>0</th>\n",
       "      <td>HHID</td>\n",
       "      <td>Unique Household ID</td>\n",
       "      <td>999999999</td>\n",
       "      <td>Input</td>\n",
       "      <td>Scale</td>\n",
       "      <td>Mobility</td>\n",
       "      <td>MPNWAVE6_DAGBOEKdata</td>\n",
       "      <td>1</td>\n",
       "      <td>HHID</td>\n",
       "    </tr>\n",
       "    <tr>\n",
       "      <th>1</th>\n",
       "      <td>PERSID</td>\n",
       "      <td>Unique ID of Person</td>\n",
       "      <td>999999999</td>\n",
       "      <td>Unique ID of Person</td>\n",
       "      <td>Scale</td>\n",
       "      <td>Mobility</td>\n",
       "      <td>MPNWAVE6_DAGBOEKdata</td>\n",
       "      <td>1</td>\n",
       "      <td>PERSID</td>\n",
       "    </tr>\n",
       "    <tr>\n",
       "      <th>2</th>\n",
       "      <td>HH_VALID</td>\n",
       "      <td>Complete household yes or no</td>\n",
       "      <td>0</td>\n",
       "      <td>Not a complete household, not all persons comp...</td>\n",
       "      <td>Nominal</td>\n",
       "      <td>Mobility</td>\n",
       "      <td>MPNWAVE6_DAGBOEKdata</td>\n",
       "      <td>1</td>\n",
       "      <td>HH_VALID</td>\n",
       "    </tr>\n",
       "    <tr>\n",
       "      <th>3</th>\n",
       "      <td>HH_VALID</td>\n",
       "      <td>Complete household yes or no</td>\n",
       "      <td>1</td>\n",
       "      <td>Not a complete household, but all persons comp...</td>\n",
       "      <td>Nominal</td>\n",
       "      <td>Mobility</td>\n",
       "      <td>MPNWAVE6_DAGBOEKdata</td>\n",
       "      <td>1</td>\n",
       "      <td>HH_VALID</td>\n",
       "    </tr>\n",
       "    <tr>\n",
       "      <th>4</th>\n",
       "      <td>HH_VALID</td>\n",
       "      <td>Complete household yes or no</td>\n",
       "      <td>2</td>\n",
       "      <td>Yes a complete household</td>\n",
       "      <td>Nominal</td>\n",
       "      <td>Mobility</td>\n",
       "      <td>MPNWAVE6_DAGBOEKdata</td>\n",
       "      <td>1</td>\n",
       "      <td>HH_VALID</td>\n",
       "    </tr>\n",
       "    <tr>\n",
       "      <th>...</th>\n",
       "      <td>...</td>\n",
       "      <td>...</td>\n",
       "      <td>...</td>\n",
       "      <td>...</td>\n",
       "      <td>...</td>\n",
       "      <td>...</td>\n",
       "      <td>...</td>\n",
       "      <td>...</td>\n",
       "      <td>...</td>\n",
       "    </tr>\n",
       "    <tr>\n",
       "      <th>303</th>\n",
       "      <td>HHEBIKE</td>\n",
       "      <td>Yes or no electric bicycle, e-bike in the hous...</td>\n",
       "      <td>0</td>\n",
       "      <td>No</td>\n",
       "      <td>Nominal</td>\n",
       "      <td>Data_HouseHold</td>\n",
       "      <td>MPNWAVE6_HHdata_North-Holland</td>\n",
       "      <td>1</td>\n",
       "      <td>HHEBIKE</td>\n",
       "    </tr>\n",
       "    <tr>\n",
       "      <th>304</th>\n",
       "      <td>HHEBIKE</td>\n",
       "      <td>Yes or no electric bicycle, e-bike in the hous...</td>\n",
       "      <td>1</td>\n",
       "      <td>Yes</td>\n",
       "      <td>Nominal</td>\n",
       "      <td>Data_HouseHold</td>\n",
       "      <td>MPNWAVE6_HHdata_North-Holland</td>\n",
       "      <td>1</td>\n",
       "      <td>HHEBIKE</td>\n",
       "    </tr>\n",
       "    <tr>\n",
       "      <th>305</th>\n",
       "      <td>HHEBIKE</td>\n",
       "      <td>Yes or no electric bicycle, e-bike in the hous...</td>\n",
       "      <td>99</td>\n",
       "      <td>no household questionnaire, no imputation from...</td>\n",
       "      <td>Nominal</td>\n",
       "      <td>Data_HouseHold</td>\n",
       "      <td>MPNWAVE6_HHdata_North-Holland</td>\n",
       "      <td>1</td>\n",
       "      <td>HHEBIKE</td>\n",
       "    </tr>\n",
       "    <tr>\n",
       "      <th>306</th>\n",
       "      <td>HHPERS</td>\n",
       "      <td>Number of people in the household</td>\n",
       "      <td>999999999</td>\n",
       "      <td>Number of people in the household</td>\n",
       "      <td>Nominal</td>\n",
       "      <td>Data_HouseHold</td>\n",
       "      <td>MPNWAVE6_HHdata_North-Holland</td>\n",
       "      <td>1</td>\n",
       "      <td>HHPERS</td>\n",
       "    </tr>\n",
       "    <tr>\n",
       "      <th>307</th>\n",
       "      <td>N_KIND</td>\n",
       "      <td>Number of children &lt;12 years old in the household</td>\n",
       "      <td>999999999</td>\n",
       "      <td>Number of children &lt;12 years old in the household</td>\n",
       "      <td>Nominal</td>\n",
       "      <td>Data_HouseHold</td>\n",
       "      <td>MPNWAVE6_HHdata_North-Holland</td>\n",
       "      <td>1</td>\n",
       "      <td>N_KIND</td>\n",
       "    </tr>\n",
       "  </tbody>\n",
       "</table>\n",
       "<p>308 rows × 9 columns</p>\n",
       "</div>"
      ],
      "text/plain": [
       "     Variable                                    Var_description      Value  \\\n",
       "0        HHID                                Unique Household ID  999999999   \n",
       "1      PERSID                                Unique ID of Person  999999999   \n",
       "2    HH_VALID                       Complete household yes or no          0   \n",
       "3    HH_VALID                       Complete household yes or no          1   \n",
       "4    HH_VALID                       Complete household yes or no          2   \n",
       "..        ...                                                ...        ...   \n",
       "303   HHEBIKE  Yes or no electric bicycle, e-bike in the hous...          0   \n",
       "304   HHEBIKE  Yes or no electric bicycle, e-bike in the hous...          1   \n",
       "305   HHEBIKE  Yes or no electric bicycle, e-bike in the hous...         99   \n",
       "306    HHPERS                  Number of people in the household  999999999   \n",
       "307    N_KIND  Number of children <12 years old in the household  999999999   \n",
       "\n",
       "                                                 Label Measurement_level  \\\n",
       "0                                                Input             Scale   \n",
       "1                                  Unique ID of Person             Scale   \n",
       "2    Not a complete household, not all persons comp...           Nominal   \n",
       "3    Not a complete household, but all persons comp...           Nominal   \n",
       "4                             Yes a complete household           Nominal   \n",
       "..                                                 ...               ...   \n",
       "303                                                 No           Nominal   \n",
       "304                                                Yes           Nominal   \n",
       "305  no household questionnaire, no imputation from...           Nominal   \n",
       "306                  Number of people in the household           Nominal   \n",
       "307  Number of children <12 years old in the household           Nominal   \n",
       "\n",
       "      BaseData_Type                  Name_BaseData  Filter_Variables         0  \n",
       "0          Mobility           MPNWAVE6_DAGBOEKdata                 1      HHID  \n",
       "1          Mobility           MPNWAVE6_DAGBOEKdata                 1    PERSID  \n",
       "2          Mobility           MPNWAVE6_DAGBOEKdata                 1  HH_VALID  \n",
       "3          Mobility           MPNWAVE6_DAGBOEKdata                 1  HH_VALID  \n",
       "4          Mobility           MPNWAVE6_DAGBOEKdata                 1  HH_VALID  \n",
       "..              ...                            ...               ...       ...  \n",
       "303  Data_HouseHold  MPNWAVE6_HHdata_North-Holland                 1   HHEBIKE  \n",
       "304  Data_HouseHold  MPNWAVE6_HHdata_North-Holland                 1   HHEBIKE  \n",
       "305  Data_HouseHold  MPNWAVE6_HHdata_North-Holland                 1   HHEBIKE  \n",
       "306  Data_HouseHold  MPNWAVE6_HHdata_North-Holland                 1    HHPERS  \n",
       "307  Data_HouseHold  MPNWAVE6_HHdata_North-Holland                 1    N_KIND  \n",
       "\n",
       "[308 rows x 9 columns]"
      ]
     },
     "metadata": {},
     "output_type": "display_data"
    }
   ],
   "source": [
    "needed_description = pd.merge(desc, pd.DataFrame(df.columns), left_on='Variable', right_on=0)\n",
    "display(needed_description)"
   ]
  },
  {
   "cell_type": "markdown",
   "id": "69dd5129",
   "metadata": {},
   "source": [
    "Создание понятных значений и ренейм столбцов для понимания"
   ]
  },
  {
   "cell_type": "code",
   "execution_count": 594,
   "id": "350e2c9a",
   "metadata": {},
   "outputs": [],
   "source": [
    "df_map = df.copy()\n",
    "\n",
    "# Создаем словарь вида {колонка: {значение: метка}}\n",
    "mapping = {}\n",
    "for var in needed_description['Variable'].unique():\n",
    "    subset = needed_description[needed_description['Variable'] == var]\n",
    "    mapping[var] = dict(zip(subset['Value'], subset['Label']))\n",
    "\n",
    "for column in df.columns:\n",
    "    if column in mapping:\n",
    "        # Конвертируем ключи маппинга в строки для совместимости с разными типами данных\n",
    "        str_map = {str(k): v for k, v in mapping[column].items()}\n",
    "        df_map[column] = df_map[column].astype(str).replace(str_map)\n",
    "\n",
    "id_columns = ['HHID', 'PERSID', 'VPLID', 'RitID']\n",
    "for col in id_columns:\n",
    "    if col in df.columns:\n",
    "        df[col] = pd.to_numeric(df_map[col], errors='coerce')"
   ]
  },
  {
   "cell_type": "code",
   "execution_count": 595,
   "id": "480b57e5",
   "metadata": {},
   "outputs": [
    {
     "data": {
      "text/plain": [
       "HHID                                                                30055622\n",
       "PERSID                                                            3005562201\n",
       "VPLID                                                               13957101\n",
       "RitID                                                             1395710101\n",
       "HH_VALID                                            Yes a complete household\n",
       "P_VALID                    person completed the questionnaire and complet...\n",
       "KHVM                                                        Car as passenger\n",
       "WEGGEWEEST                           On this day the person did go somewhere\n",
       "VERTREKP                                                     Another address\n",
       "AANTVPL                                                                    2\n",
       "VPLDAGNR                                         first day of recorded trips\n",
       "VERPL                                                            trip abroad\n",
       "VERPLNR                                                                    1\n",
       "TOER                                                                      No\n",
       "TOER_TYPE                                            Did not make round trip\n",
       "AANTRIT                                                                    1\n",
       "KMOTIEF                               Business-related visit in work context\n",
       "VERTPROV                               No departure point in the Netherlands\n",
       "AANKPROV                                 No arrival point in the Netherlands\n",
       "KAFSTV                                                                >50 km\n",
       "KVERTTIJD                                                     14:00 to 16:00\n",
       "KREISDUUR                                                120 minutes or more\n",
       "ROLAUTO                                                     Passenger in car\n",
       "PARKEERKOSTEN                                                         <none>\n",
       "VERTRAGING                                                          No delay\n",
       "DAGSOORT                                                             weekday\n",
       "OORDEEL_AUTO                                                        Positive\n",
       "OORDEEL_TREIN                                    Not positive / not negative\n",
       "OORDEEL_BTM                                      Not positive / not negative\n",
       "OORDEEL_FIETS                                                       Positive\n",
       "OORDEEL_BROMMER                                                     Positive\n",
       "OORDEEL_LOPEN                                                       Positive\n",
       "GEBRUIK_AUTO_STELLING3                                                 agree\n",
       "GEBRUIK_AUTO_STELLING4                                                 agree\n",
       "GEBRUIK_TREIN_STELLING3                        do not agree, do not disagree\n",
       "GEBRUIK_TREIN_STELLING4                                                agree\n",
       "GEBRUIK_BTM_STELLING3                          do not agree, do not disagree\n",
       "GEBRUIK_BTM_STELLING4                                                  agree\n",
       "GEBRUIK_FIETS_STELLING2                                                agree\n",
       "GEBRUIK_FIETS_STELLING3                        do not agree, do not disagree\n",
       "GEBRUIK_LOPEN_STELLING3                                             disagree\n",
       "GEBRUIK_LOPEN_STELLING4                                                agree\n",
       "HHPERS                                                                     3\n",
       "HHSAM                                                    Couple + child(ren)\n",
       "N_KIND                                                                     0\n",
       "HHBRUTOINK2_w5             below the national benchmark income ( 13,700 ...\n",
       "HHAUTO_N                                                                   3\n",
       "HHAUTO                                                                   Yes\n",
       "HHBESTEL                                                                  No\n",
       "HHHYBRID                                                                  No\n",
       "HHMOTOR                                                                  Yes\n",
       "HHBROM                                                                    No\n",
       "HHSNOR                                                                    No\n",
       "HHFIETS                                                                  Yes\n",
       "HHVOUWFIETS                                                               No\n",
       "HHEBIKE                                                                  Yes\n",
       "Name: 0, dtype: object"
      ]
     },
     "metadata": {},
     "output_type": "display_data"
    },
    {
     "name": "stdout",
     "output_type": "stream",
     "text": [
      "----------------------------------------------------------------------------------------------------\n"
     ]
    },
    {
     "data": {
      "text/plain": [
       "HHID                         30055622\n",
       "PERSID                     3005562201\n",
       "VPLID                        13957101\n",
       "RitID                      1395710101\n",
       "HH_VALID                            2\n",
       "P_VALID                             3\n",
       "KHVM                                2\n",
       "WEGGEWEEST                          1\n",
       "VERTREKP                            2\n",
       "AANTVPL                             2\n",
       "VPLDAGNR                            1\n",
       "VERPL                               3\n",
       "VERPLNR                             1\n",
       "TOER                                0\n",
       "TOER_TYPE                           9\n",
       "AANTRIT                             1\n",
       "KMOTIEF                             2\n",
       "VERTPROV                            0\n",
       "AANKPROV                            0\n",
       "KAFSTV                             13\n",
       "KVERTTIJD                           8\n",
       "KREISDUUR                          11\n",
       "ROLAUTO                             2\n",
       "PARKEERKOSTEN                       0\n",
       "VERTRAGING                          0\n",
       "DAGSOORT                            1\n",
       "OORDEEL_AUTO                        4\n",
       "OORDEEL_TREIN                       3\n",
       "OORDEEL_BTM                         3\n",
       "OORDEEL_FIETS                       4\n",
       "OORDEEL_BROMMER                     4\n",
       "OORDEEL_LOPEN                       4\n",
       "GEBRUIK_AUTO_STELLING3              4\n",
       "GEBRUIK_AUTO_STELLING4              4\n",
       "GEBRUIK_TREIN_STELLING3             3\n",
       "GEBRUIK_TREIN_STELLING4             4\n",
       "GEBRUIK_BTM_STELLING3               3\n",
       "GEBRUIK_BTM_STELLING4               4\n",
       "GEBRUIK_FIETS_STELLING2             4\n",
       "GEBRUIK_FIETS_STELLING3             3\n",
       "GEBRUIK_LOPEN_STELLING3             2\n",
       "GEBRUIK_LOPEN_STELLING4             4\n",
       "HHPERS                              3\n",
       "HHSAM                               3\n",
       "N_KIND                              0\n",
       "HHBRUTOINK2_w5                      2\n",
       "HHAUTO_N                            3\n",
       "HHAUTO                              1\n",
       "HHBESTEL                            0\n",
       "HHHYBRID                            0\n",
       "HHMOTOR                             1\n",
       "HHBROM                              0\n",
       "HHSNOR                              0\n",
       "HHFIETS                             1\n",
       "HHVOUWFIETS                         0\n",
       "HHEBIKE                             1\n",
       "Name: 0, dtype: object"
      ]
     },
     "metadata": {},
     "output_type": "display_data"
    }
   ],
   "source": [
    "display(df_map.iloc[0, :])\n",
    "print('-' * 100)\n",
    "display(df.iloc[0, :])"
   ]
  },
  {
   "cell_type": "code",
   "execution_count": 596,
   "id": "0b1b1500",
   "metadata": {},
   "outputs": [
    {
     "name": "stdout",
     "output_type": "stream",
     "text": [
      "Index(['HHID', 'PERSID', 'VPLID', 'RitID', 'HH_VALID', 'P_VALID', 'KHVM',\n",
      "       'WEGGEWEEST', 'VERTREKP', 'AANTVPL', 'VPLDAGNR', 'VERPL', 'VERPLNR',\n",
      "       'TOER', 'TOER_TYPE', 'AANTRIT', 'KMOTIEF', 'VERTPROV', 'AANKPROV',\n",
      "       'KAFSTV', 'KVERTTIJD', 'KREISDUUR', 'ROLAUTO', 'PARKEERKOSTEN',\n",
      "       'VERTRAGING', 'DAGSOORT', 'OORDEEL_AUTO', 'OORDEEL_TREIN',\n",
      "       'OORDEEL_BTM', 'OORDEEL_FIETS', 'OORDEEL_BROMMER', 'OORDEEL_LOPEN',\n",
      "       'GEBRUIK_AUTO_STELLING3', 'GEBRUIK_AUTO_STELLING4',\n",
      "       'GEBRUIK_TREIN_STELLING3', 'GEBRUIK_TREIN_STELLING4',\n",
      "       'GEBRUIK_BTM_STELLING3', 'GEBRUIK_BTM_STELLING4',\n",
      "       'GEBRUIK_FIETS_STELLING2', 'GEBRUIK_FIETS_STELLING3',\n",
      "       'GEBRUIK_LOPEN_STELLING3', 'GEBRUIK_LOPEN_STELLING4', 'HHPERS', 'HHSAM',\n",
      "       'N_KIND', 'HHBRUTOINK2_w5', 'HHAUTO_N', 'HHAUTO', 'HHBESTEL',\n",
      "       'HHHYBRID', 'HHMOTOR', 'HHBROM', 'HHSNOR', 'HHFIETS', 'HHVOUWFIETS',\n",
      "       'HHEBIKE'],\n",
      "      dtype='object')\n"
     ]
    }
   ],
   "source": [
    "print(df.columns)"
   ]
  },
  {
   "cell_type": "markdown",
   "id": "8e5f6c90",
   "metadata": {},
   "source": [
    "## Интепретирование данных\n",
    "\n",
    "\n",
    "**Базовые идентификаторы**\n",
    "* 'HHID': 'id_домохозяйства',\n",
    "* 'PERSID': 'id_человека',\n",
    "* 'VPLID': 'id_поездки',\n",
    "* 'RitID': 'id_участка_поездки',\n",
    "\n",
    "**Валидация данных**\n",
    "* 'HH_VALID': 'статус_валидации_домохозяйства',\n",
    "* 'P_VALID': 'статус_валидации_человека',\n",
    "\n",
    "**Характеристики поездок (основной фокус исследования)**\n",
    "\n",
    "* 'KHVM': 'основной_транспорт',\n",
    "* 'WEGGEWEEST': 'факт_поездки_в_день',\n",
    "* 'VERTREKP': 'точка_отправления_первой_поездки',\n",
    "* 'AANTVPL': 'количество_поездок',\n",
    "* 'VPLDAGNR': 'номер_дня_поездки',\n",
    "* 'VERPL': 'тип_поездки',\n",
    "* 'VERPLNR': 'порядковый_номер_поездки',\n",
    "* 'TOER': 'флаг_круговой_поездки',\n",
    "* 'TOER_TYPE': 'тип_круговой_поездки',\n",
    "* 'AANTRIT': 'количество_сегментов_поездки',\n",
    "  \n",
    "**Цели поездок**\n",
    "* 'KMOTIEF': 'цель_поездки',\n",
    " \n",
    "**География**\n",
    "* 'VERTPROV': 'провинция_отправления',\n",
    "* 'AANKPROV': 'провинция_прибытия',\n",
    "  \n",
    "**Характеристики маршрута (важно для условия >3.5 км)**\n",
    "\n",
    "* 'KAFSTV': 'класс_расстояния_поездки',\n",
    "* 'KVERTTIJD': 'класс_времени_отправления',\n",
    "* 'KREISDUUR': 'класс_длительности_поездки',\n",
    "  \n",
    "**Использование автомобиля**\n",
    "\n",
    "* 'ROLAUTO': 'роль_в_автомобиле',\n",
    "* 'PARKEERKOSTEN': 'класс_стоимости_парковки',\n",
    "* 'VERTRAGING': 'класс_задержки_поездки',\n",
    "  \n",
    "**Временные характеристики**\n",
    "\n",
    "* 'DAGSOORT': 'тип_дня',\n",
    "  \n",
    "**Оценки видов транспорта (ключевой контекст)**\n",
    "\n",
    "* 'OORDEEL_AUTO': 'оценка_автомобиля',\n",
    "* 'OORDEEL_TREIN': 'оценка_поезда',\n",
    "* 'OORDEEL_BTM': 'оценка_общественного_транспорта',\n",
    "* 'OORDEEL_FIETS': 'оценка_велосипеда',\n",
    "* 'OORDEEL_BROMMER': 'оценка_мопеда',\n",
    "* 'OORDEEL_LOPEN': 'оценка_передвижения_пешком',\n",
    "  \n",
    "**Восприятие транспорта (важно для моделирования предпочтений)**\n",
    "  \n",
    "* 'GEBRUIK_AUTO_STELLING3': 'восприятие_экономии_времени_авто',\n",
    "* 'GEBRUIK_AUTO_STELLING4': 'восприятие_безопасности_авто',\n",
    "* 'GEBRUIK_TREIN_STELLING3': 'восприятие_экономии_времени_поезда',\n",
    "* 'GEBRUIK_TREIN_STELLING4': 'восприятие_безопасности_поезда',\n",
    "* 'GEBRUIK_BTM_STELLING3': 'восприятие_экономии_времени_общественного_транспорта',\n",
    "* 'GEBRUIK_BTM_STELLING4': 'восприятие_безопасности_общественного_транспорта',\n",
    "* 'GEBRUIK_FIETS_STELLING2': 'восприятие_релаксации_на_велосипеде',\n",
    "* 'GEBRUIK_FIETS_STELLING3': 'восприятие_экономии_времени_велосипеда',\n",
    "* 'GEBRUIK_LOPEN_STELLING3': 'восприятие_экономии_времени_ходьбы',\n",
    "* 'GEBRUIK_LOPEN_STELLING4': 'восприятие_безопасности_ходьбы',\n",
    "  \n",
    "**Характеристики домохозяйства (ключевые предикторы)**\n",
    "\n",
    "* 'HHPERS': 'количество_в_домохозяйстве',\n",
    "* 'HHSAM': 'состав_домохозяйства',\n",
    "* 'N_KIND': 'дети_до12_в_домохозяйстве',\n",
    "* 'HHBRUTOINK2_w5': 'класс_дохода_домохозяйства',\n",
    "* 'HHAUTO_N': 'количество_автомобилей',\n",
    "* 'HHAUTO': 'наличие_автомобиля',\n",
    "* 'HHBESTEL': 'наличие_фургона',\n",
    "* 'HHHYBRID': 'наличие_гибридного_авто',\n",
    "* 'HHMOTOR': 'наличие_мотоцикла',\n",
    "* 'HHBROM': 'наличие_мопеда',\n",
    "* 'HHSNOR': 'наличие_скутера',\n",
    "* 'HHFIETS': 'наличие_велосипеда',\n",
    "* 'HHVOUWFIETS': 'наличие_складного_велосипеда',\n",
    "* 'HHEBIKE': 'наличие_электровелосипеда'\n",
    "  \n",
    "  "
   ]
  },
  {
   "cell_type": "markdown",
   "id": "d75683cb",
   "metadata": {},
   "source": [
    "# Таргет -- KHVM, задача классфикации, всего кклассов 7"
   ]
  },
  {
   "cell_type": "markdown",
   "id": "1fdb0829",
   "metadata": {},
   "source": [
    "## Анализ (EDA)"
   ]
  },
  {
   "cell_type": "markdown",
   "id": "6f774a17",
   "metadata": {},
   "source": [
    "### График 1 (Целевая переменная (KHVM))"
   ]
  },
  {
   "cell_type": "code",
   "execution_count": 597,
   "id": "749a21d3",
   "metadata": {},
   "outputs": [
    {
     "name": "stdout",
     "output_type": "stream",
     "text": [
      "          Транспорт  Количество поездок\n",
      "2     Car as driver                1479\n",
      "6             Train                 831\n",
      "1    Bus/tram/metro                 729\n",
      "0           Bicycle                 610\n",
      "3  Car as passenger                 416\n",
      "4             Other                 190\n",
      "7           Walking                 128\n",
      "5     Scooter/moped                  82\n"
     ]
    },
    {
     "data": {
      "application/vnd.plotly.v1+json": {
       "config": {
        "plotlyServerURL": "https://plotly.com"
       },
       "data": [
        {
         "hovertemplate": "Транспорт=%{x}<br>Количество поездок=%{y}<extra></extra>",
         "legendgroup": "",
         "marker": {
          "color": "#636efa",
          "pattern": {
           "shape": ""
          }
         },
         "name": "",
         "orientation": "v",
         "showlegend": false,
         "textposition": "auto",
         "texttemplate": "%{y}",
         "type": "bar",
         "x": [
          "Car as driver",
          "Train",
          "Bus/tram/metro",
          "Bicycle",
          "Car as passenger",
          "Other",
          "Walking",
          "Scooter/moped"
         ],
         "xaxis": "x",
         "y": {
          "bdata": "xwU/A9kCYgKgAb4AgABSAA==",
          "dtype": "i2"
         },
         "yaxis": "y"
        }
       ],
       "layout": {
        "barmode": "relative",
        "legend": {
         "tracegroupgap": 0
        },
        "margin": {
         "t": 60
        },
        "template": {
         "data": {
          "bar": [
           {
            "error_x": {
             "color": "#2a3f5f"
            },
            "error_y": {
             "color": "#2a3f5f"
            },
            "marker": {
             "line": {
              "color": "#E5ECF6",
              "width": 0.5
             },
             "pattern": {
              "fillmode": "overlay",
              "size": 10,
              "solidity": 0.2
             }
            },
            "type": "bar"
           }
          ],
          "barpolar": [
           {
            "marker": {
             "line": {
              "color": "#E5ECF6",
              "width": 0.5
             },
             "pattern": {
              "fillmode": "overlay",
              "size": 10,
              "solidity": 0.2
             }
            },
            "type": "barpolar"
           }
          ],
          "carpet": [
           {
            "aaxis": {
             "endlinecolor": "#2a3f5f",
             "gridcolor": "white",
             "linecolor": "white",
             "minorgridcolor": "white",
             "startlinecolor": "#2a3f5f"
            },
            "baxis": {
             "endlinecolor": "#2a3f5f",
             "gridcolor": "white",
             "linecolor": "white",
             "minorgridcolor": "white",
             "startlinecolor": "#2a3f5f"
            },
            "type": "carpet"
           }
          ],
          "choropleth": [
           {
            "colorbar": {
             "outlinewidth": 0,
             "ticks": ""
            },
            "type": "choropleth"
           }
          ],
          "contour": [
           {
            "colorbar": {
             "outlinewidth": 0,
             "ticks": ""
            },
            "colorscale": [
             [
              0,
              "#0d0887"
             ],
             [
              0.1111111111111111,
              "#46039f"
             ],
             [
              0.2222222222222222,
              "#7201a8"
             ],
             [
              0.3333333333333333,
              "#9c179e"
             ],
             [
              0.4444444444444444,
              "#bd3786"
             ],
             [
              0.5555555555555556,
              "#d8576b"
             ],
             [
              0.6666666666666666,
              "#ed7953"
             ],
             [
              0.7777777777777778,
              "#fb9f3a"
             ],
             [
              0.8888888888888888,
              "#fdca26"
             ],
             [
              1,
              "#f0f921"
             ]
            ],
            "type": "contour"
           }
          ],
          "contourcarpet": [
           {
            "colorbar": {
             "outlinewidth": 0,
             "ticks": ""
            },
            "type": "contourcarpet"
           }
          ],
          "heatmap": [
           {
            "colorbar": {
             "outlinewidth": 0,
             "ticks": ""
            },
            "colorscale": [
             [
              0,
              "#0d0887"
             ],
             [
              0.1111111111111111,
              "#46039f"
             ],
             [
              0.2222222222222222,
              "#7201a8"
             ],
             [
              0.3333333333333333,
              "#9c179e"
             ],
             [
              0.4444444444444444,
              "#bd3786"
             ],
             [
              0.5555555555555556,
              "#d8576b"
             ],
             [
              0.6666666666666666,
              "#ed7953"
             ],
             [
              0.7777777777777778,
              "#fb9f3a"
             ],
             [
              0.8888888888888888,
              "#fdca26"
             ],
             [
              1,
              "#f0f921"
             ]
            ],
            "type": "heatmap"
           }
          ],
          "histogram": [
           {
            "marker": {
             "pattern": {
              "fillmode": "overlay",
              "size": 10,
              "solidity": 0.2
             }
            },
            "type": "histogram"
           }
          ],
          "histogram2d": [
           {
            "colorbar": {
             "outlinewidth": 0,
             "ticks": ""
            },
            "colorscale": [
             [
              0,
              "#0d0887"
             ],
             [
              0.1111111111111111,
              "#46039f"
             ],
             [
              0.2222222222222222,
              "#7201a8"
             ],
             [
              0.3333333333333333,
              "#9c179e"
             ],
             [
              0.4444444444444444,
              "#bd3786"
             ],
             [
              0.5555555555555556,
              "#d8576b"
             ],
             [
              0.6666666666666666,
              "#ed7953"
             ],
             [
              0.7777777777777778,
              "#fb9f3a"
             ],
             [
              0.8888888888888888,
              "#fdca26"
             ],
             [
              1,
              "#f0f921"
             ]
            ],
            "type": "histogram2d"
           }
          ],
          "histogram2dcontour": [
           {
            "colorbar": {
             "outlinewidth": 0,
             "ticks": ""
            },
            "colorscale": [
             [
              0,
              "#0d0887"
             ],
             [
              0.1111111111111111,
              "#46039f"
             ],
             [
              0.2222222222222222,
              "#7201a8"
             ],
             [
              0.3333333333333333,
              "#9c179e"
             ],
             [
              0.4444444444444444,
              "#bd3786"
             ],
             [
              0.5555555555555556,
              "#d8576b"
             ],
             [
              0.6666666666666666,
              "#ed7953"
             ],
             [
              0.7777777777777778,
              "#fb9f3a"
             ],
             [
              0.8888888888888888,
              "#fdca26"
             ],
             [
              1,
              "#f0f921"
             ]
            ],
            "type": "histogram2dcontour"
           }
          ],
          "mesh3d": [
           {
            "colorbar": {
             "outlinewidth": 0,
             "ticks": ""
            },
            "type": "mesh3d"
           }
          ],
          "parcoords": [
           {
            "line": {
             "colorbar": {
              "outlinewidth": 0,
              "ticks": ""
             }
            },
            "type": "parcoords"
           }
          ],
          "pie": [
           {
            "automargin": true,
            "type": "pie"
           }
          ],
          "scatter": [
           {
            "fillpattern": {
             "fillmode": "overlay",
             "size": 10,
             "solidity": 0.2
            },
            "type": "scatter"
           }
          ],
          "scatter3d": [
           {
            "line": {
             "colorbar": {
              "outlinewidth": 0,
              "ticks": ""
             }
            },
            "marker": {
             "colorbar": {
              "outlinewidth": 0,
              "ticks": ""
             }
            },
            "type": "scatter3d"
           }
          ],
          "scattercarpet": [
           {
            "marker": {
             "colorbar": {
              "outlinewidth": 0,
              "ticks": ""
             }
            },
            "type": "scattercarpet"
           }
          ],
          "scattergeo": [
           {
            "marker": {
             "colorbar": {
              "outlinewidth": 0,
              "ticks": ""
             }
            },
            "type": "scattergeo"
           }
          ],
          "scattergl": [
           {
            "marker": {
             "colorbar": {
              "outlinewidth": 0,
              "ticks": ""
             }
            },
            "type": "scattergl"
           }
          ],
          "scattermap": [
           {
            "marker": {
             "colorbar": {
              "outlinewidth": 0,
              "ticks": ""
             }
            },
            "type": "scattermap"
           }
          ],
          "scattermapbox": [
           {
            "marker": {
             "colorbar": {
              "outlinewidth": 0,
              "ticks": ""
             }
            },
            "type": "scattermapbox"
           }
          ],
          "scatterpolar": [
           {
            "marker": {
             "colorbar": {
              "outlinewidth": 0,
              "ticks": ""
             }
            },
            "type": "scatterpolar"
           }
          ],
          "scatterpolargl": [
           {
            "marker": {
             "colorbar": {
              "outlinewidth": 0,
              "ticks": ""
             }
            },
            "type": "scatterpolargl"
           }
          ],
          "scatterternary": [
           {
            "marker": {
             "colorbar": {
              "outlinewidth": 0,
              "ticks": ""
             }
            },
            "type": "scatterternary"
           }
          ],
          "surface": [
           {
            "colorbar": {
             "outlinewidth": 0,
             "ticks": ""
            },
            "colorscale": [
             [
              0,
              "#0d0887"
             ],
             [
              0.1111111111111111,
              "#46039f"
             ],
             [
              0.2222222222222222,
              "#7201a8"
             ],
             [
              0.3333333333333333,
              "#9c179e"
             ],
             [
              0.4444444444444444,
              "#bd3786"
             ],
             [
              0.5555555555555556,
              "#d8576b"
             ],
             [
              0.6666666666666666,
              "#ed7953"
             ],
             [
              0.7777777777777778,
              "#fb9f3a"
             ],
             [
              0.8888888888888888,
              "#fdca26"
             ],
             [
              1,
              "#f0f921"
             ]
            ],
            "type": "surface"
           }
          ],
          "table": [
           {
            "cells": {
             "fill": {
              "color": "#EBF0F8"
             },
             "line": {
              "color": "white"
             }
            },
            "header": {
             "fill": {
              "color": "#C8D4E3"
             },
             "line": {
              "color": "white"
             }
            },
            "type": "table"
           }
          ]
         },
         "layout": {
          "annotationdefaults": {
           "arrowcolor": "#2a3f5f",
           "arrowhead": 0,
           "arrowwidth": 1
          },
          "autotypenumbers": "strict",
          "coloraxis": {
           "colorbar": {
            "outlinewidth": 0,
            "ticks": ""
           }
          },
          "colorscale": {
           "diverging": [
            [
             0,
             "#8e0152"
            ],
            [
             0.1,
             "#c51b7d"
            ],
            [
             0.2,
             "#de77ae"
            ],
            [
             0.3,
             "#f1b6da"
            ],
            [
             0.4,
             "#fde0ef"
            ],
            [
             0.5,
             "#f7f7f7"
            ],
            [
             0.6,
             "#e6f5d0"
            ],
            [
             0.7,
             "#b8e186"
            ],
            [
             0.8,
             "#7fbc41"
            ],
            [
             0.9,
             "#4d9221"
            ],
            [
             1,
             "#276419"
            ]
           ],
           "sequential": [
            [
             0,
             "#0d0887"
            ],
            [
             0.1111111111111111,
             "#46039f"
            ],
            [
             0.2222222222222222,
             "#7201a8"
            ],
            [
             0.3333333333333333,
             "#9c179e"
            ],
            [
             0.4444444444444444,
             "#bd3786"
            ],
            [
             0.5555555555555556,
             "#d8576b"
            ],
            [
             0.6666666666666666,
             "#ed7953"
            ],
            [
             0.7777777777777778,
             "#fb9f3a"
            ],
            [
             0.8888888888888888,
             "#fdca26"
            ],
            [
             1,
             "#f0f921"
            ]
           ],
           "sequentialminus": [
            [
             0,
             "#0d0887"
            ],
            [
             0.1111111111111111,
             "#46039f"
            ],
            [
             0.2222222222222222,
             "#7201a8"
            ],
            [
             0.3333333333333333,
             "#9c179e"
            ],
            [
             0.4444444444444444,
             "#bd3786"
            ],
            [
             0.5555555555555556,
             "#d8576b"
            ],
            [
             0.6666666666666666,
             "#ed7953"
            ],
            [
             0.7777777777777778,
             "#fb9f3a"
            ],
            [
             0.8888888888888888,
             "#fdca26"
            ],
            [
             1,
             "#f0f921"
            ]
           ]
          },
          "colorway": [
           "#636efa",
           "#EF553B",
           "#00cc96",
           "#ab63fa",
           "#FFA15A",
           "#19d3f3",
           "#FF6692",
           "#B6E880",
           "#FF97FF",
           "#FECB52"
          ],
          "font": {
           "color": "#2a3f5f"
          },
          "geo": {
           "bgcolor": "white",
           "lakecolor": "white",
           "landcolor": "#E5ECF6",
           "showlakes": true,
           "showland": true,
           "subunitcolor": "white"
          },
          "hoverlabel": {
           "align": "left"
          },
          "hovermode": "closest",
          "mapbox": {
           "style": "light"
          },
          "paper_bgcolor": "white",
          "plot_bgcolor": "#E5ECF6",
          "polar": {
           "angularaxis": {
            "gridcolor": "white",
            "linecolor": "white",
            "ticks": ""
           },
           "bgcolor": "#E5ECF6",
           "radialaxis": {
            "gridcolor": "white",
            "linecolor": "white",
            "ticks": ""
           }
          },
          "scene": {
           "xaxis": {
            "backgroundcolor": "#E5ECF6",
            "gridcolor": "white",
            "gridwidth": 2,
            "linecolor": "white",
            "showbackground": true,
            "ticks": "",
            "zerolinecolor": "white"
           },
           "yaxis": {
            "backgroundcolor": "#E5ECF6",
            "gridcolor": "white",
            "gridwidth": 2,
            "linecolor": "white",
            "showbackground": true,
            "ticks": "",
            "zerolinecolor": "white"
           },
           "zaxis": {
            "backgroundcolor": "#E5ECF6",
            "gridcolor": "white",
            "gridwidth": 2,
            "linecolor": "white",
            "showbackground": true,
            "ticks": "",
            "zerolinecolor": "white"
           }
          },
          "shapedefaults": {
           "line": {
            "color": "#2a3f5f"
           }
          },
          "ternary": {
           "aaxis": {
            "gridcolor": "white",
            "linecolor": "white",
            "ticks": ""
           },
           "baxis": {
            "gridcolor": "white",
            "linecolor": "white",
            "ticks": ""
           },
           "bgcolor": "#E5ECF6",
           "caxis": {
            "gridcolor": "white",
            "linecolor": "white",
            "ticks": ""
           }
          },
          "title": {
           "x": 0.05
          },
          "xaxis": {
           "automargin": true,
           "gridcolor": "white",
           "linecolor": "white",
           "ticks": "",
           "title": {
            "standoff": 15
           },
           "zerolinecolor": "white",
           "zerolinewidth": 2
          },
          "yaxis": {
           "automargin": true,
           "gridcolor": "white",
           "linecolor": "white",
           "ticks": "",
           "title": {
            "standoff": 15
           },
           "zerolinecolor": "white",
           "zerolinewidth": 2
          }
         }
        },
        "title": {
         "text": "Распределение количества использования конкретного транспортного средства",
         "x": 0.5
        },
        "xaxis": {
         "anchor": "y",
         "domain": [
          0,
          1
         ],
         "title": {
          "text": "Транспорт"
         }
        },
        "yaxis": {
         "anchor": "x",
         "domain": [
          0,
          1
         ],
         "title": {
          "text": "Количество поездок"
         }
        }
       }
      }
     },
     "metadata": {},
     "output_type": "display_data"
    }
   ],
   "source": [
    "df2 = df_map.groupby('KHVM').size().reset_index().rename(columns = {'KHVM': 'Транспорт', 0: 'Количество поездок'}).sort_values('Количество поездок', ascending=False)\n",
    "print(df2)\n",
    "\n",
    "fig2 = px.bar(df2, x='Транспорт', y = 'Количество поездок', text_auto=True)\n",
    "fig2.update_layout(title = {'text': 'Распределение количества использования конкретного транспортного средства', 'x': 0.5})\n",
    "fig2.show()"
   ]
  },
  {
   "cell_type": "markdown",
   "id": "05c3deb5",
   "metadata": {},
   "source": [
    "##№ График 2 (Основные характеристики поездок)"
   ]
  },
  {
   "cell_type": "code",
   "execution_count": 598,
   "id": "9fb3bb5e",
   "metadata": {},
   "outputs": [
    {
     "name": "stdout",
     "output_type": "stream",
     "text": [
      "   Расстояние поездки Транспортное средство  Количество поездок\n",
      "0            10-15 km               Bicycle                  49\n",
      "1            10-15 km        Bus/tram/metro                 127\n",
      "2            10-15 km         Car as driver                 177\n",
      "3            10-15 km      Car as passenger                  65\n",
      "4            10-15 km                 Other                  19\n",
      "..                ...                   ...                 ...\n",
      "69             >50 km        Bus/tram/metro                  28\n",
      "70             >50 km         Car as driver                 125\n",
      "71             >50 km      Car as passenger                  63\n",
      "72             >50 km                 Other                  48\n",
      "73             >50 km                 Train                 351\n",
      "\n",
      "[74 rows x 3 columns]\n"
     ]
    },
    {
     "data": {
      "application/vnd.plotly.v1+json": {
       "config": {
        "plotlyServerURL": "https://plotly.com"
       },
       "data": [
        {
         "hovertemplate": "Транспортное средство=Bicycle<br>Расстояние поездки=%{x}<br>Количество поездок=%{y}<extra></extra>",
         "legendgroup": "Bicycle",
         "marker": {
          "color": "#636efa",
          "pattern": {
           "shape": ""
          }
         },
         "name": "Bicycle",
         "orientation": "v",
         "showlegend": true,
         "textposition": "auto",
         "texttemplate": "%{y}",
         "type": "bar",
         "x": [
          "10-15 km",
          "15-20 km",
          "2.5-3.7 km",
          "20-30 km",
          "3.7-5.0 km",
          "30-40 km",
          "40-50 km",
          "5.0-7.5 km",
          "7.5-10 km",
          ">50 km"
         ],
         "xaxis": "x",
         "y": {
          "bdata": "MQANAKUADACbAAcACQB1AEoACQA=",
          "dtype": "i2"
         },
         "yaxis": "y"
        },
        {
         "hovertemplate": "Транспортное средство=Bus/tram/metro<br>Расстояние поездки=%{x}<br>Количество поездок=%{y}<extra></extra>",
         "legendgroup": "Bus/tram/metro",
         "marker": {
          "color": "#EF553B",
          "pattern": {
           "shape": ""
          }
         },
         "name": "Bus/tram/metro",
         "orientation": "v",
         "showlegend": true,
         "textposition": "auto",
         "texttemplate": "%{y}",
         "type": "bar",
         "x": [
          "10-15 km",
          "15-20 km",
          "2.5-3.7 km",
          "20-30 km",
          "3.7-5.0 km",
          "30-40 km",
          "40-50 km",
          "5.0-7.5 km",
          "7.5-10 km",
          ">50 km"
         ],
         "xaxis": "x",
         "y": {
          "bdata": "fwA0AD4ASQBVAAwAGABbAK8AHAA=",
          "dtype": "i2"
         },
         "yaxis": "y"
        },
        {
         "hovertemplate": "Транспортное средство=Car as driver<br>Расстояние поездки=%{x}<br>Количество поездок=%{y}<extra></extra>",
         "legendgroup": "Car as driver",
         "marker": {
          "color": "#00cc96",
          "pattern": {
           "shape": ""
          }
         },
         "name": "Car as driver",
         "orientation": "v",
         "showlegend": true,
         "textposition": "auto",
         "texttemplate": "%{y}",
         "type": "bar",
         "x": [
          "10-15 km",
          "15-20 km",
          "2.5-3.7 km",
          "20-30 km",
          "3.7-5.0 km",
          "30-40 km",
          "40-50 km",
          "5.0-7.5 km",
          "7.5-10 km",
          ">50 km"
         ],
         "xaxis": "x",
         "y": {
          "bdata": "sQCYALwAkADEAHQAVgCMAJsAfQA=",
          "dtype": "i2"
         },
         "yaxis": "y"
        },
        {
         "hovertemplate": "Транспортное средство=Car as passenger<br>Расстояние поездки=%{x}<br>Количество поездок=%{y}<extra></extra>",
         "legendgroup": "Car as passenger",
         "marker": {
          "color": "#ab63fa",
          "pattern": {
           "shape": ""
          }
         },
         "name": "Car as passenger",
         "orientation": "v",
         "showlegend": true,
         "textposition": "auto",
         "texttemplate": "%{y}",
         "type": "bar",
         "x": [
          "10-15 km",
          "15-20 km",
          "2.5-3.7 km",
          "20-30 km",
          "3.7-5.0 km",
          "30-40 km",
          "40-50 km",
          "5.0-7.5 km",
          "7.5-10 km",
          ">50 km"
         ],
         "xaxis": "x",
         "y": {
          "bdata": "QR8uJzQTEysnPw==",
          "dtype": "i1"
         },
         "yaxis": "y"
        },
        {
         "hovertemplate": "Транспортное средство=Other<br>Расстояние поездки=%{x}<br>Количество поездок=%{y}<extra></extra>",
         "legendgroup": "Other",
         "marker": {
          "color": "#FFA15A",
          "pattern": {
           "shape": ""
          }
         },
         "name": "Other",
         "orientation": "v",
         "showlegend": true,
         "textposition": "auto",
         "texttemplate": "%{y}",
         "type": "bar",
         "x": [
          "10-15 km",
          "15-20 km",
          "2.5-3.7 km",
          "20-30 km",
          "3.7-5.0 km",
          "30-40 km",
          "40-50 km",
          "5.0-7.5 km",
          "7.5-10 km",
          ">50 km"
         ],
         "xaxis": "x",
         "y": {
          "bdata": "EwEMHwwOCQ8dMA==",
          "dtype": "i1"
         },
         "yaxis": "y"
        },
        {
         "hovertemplate": "Транспортное средство=Scooter/moped<br>Расстояние поездки=%{x}<br>Количество поездок=%{y}<extra></extra>",
         "legendgroup": "Scooter/moped",
         "marker": {
          "color": "#19d3f3",
          "pattern": {
           "shape": ""
          }
         },
         "name": "Scooter/moped",
         "orientation": "v",
         "showlegend": true,
         "textposition": "auto",
         "texttemplate": "%{y}",
         "type": "bar",
         "x": [
          "10-15 km",
          "15-20 km",
          "2.5-3.7 km",
          "20-30 km",
          "3.7-5.0 km",
          "5.0-7.5 km",
          "7.5-10 km"
         ],
         "xaxis": "x",
         "y": {
          "bdata": "BwUKCAoRGQ==",
          "dtype": "i1"
         },
         "yaxis": "y"
        },
        {
         "hovertemplate": "Транспортное средство=Train<br>Расстояние поездки=%{x}<br>Количество поездок=%{y}<extra></extra>",
         "legendgroup": "Train",
         "marker": {
          "color": "#FF6692",
          "pattern": {
           "shape": ""
          }
         },
         "name": "Train",
         "orientation": "v",
         "showlegend": true,
         "textposition": "auto",
         "texttemplate": "%{y}",
         "type": "bar",
         "x": [
          "10-15 km",
          "15-20 km",
          "20-30 km",
          "3.7-5.0 km",
          "30-40 km",
          "40-50 km",
          "5.0-7.5 km",
          "7.5-10 km",
          ">50 km"
         ],
         "xaxis": "x",
         "y": {
          "bdata": "KgBgAIMABQBeAEQADAAgAF8B",
          "dtype": "i2"
         },
         "yaxis": "y"
        },
        {
         "hovertemplate": "Транспортное средство=Walking<br>Расстояние поездки=%{x}<br>Количество поездок=%{y}<extra></extra>",
         "legendgroup": "Walking",
         "marker": {
          "color": "#B6E880",
          "pattern": {
           "shape": ""
          }
         },
         "name": "Walking",
         "orientation": "v",
         "showlegend": true,
         "textposition": "auto",
         "texttemplate": "%{y}",
         "type": "bar",
         "x": [
          "10-15 km",
          "15-20 km",
          "2.5-3.7 km",
          "20-30 km",
          "3.7-5.0 km",
          "40-50 km",
          "5.0-7.5 km",
          "7.5-10 km"
         ],
         "xaxis": "x",
         "y": {
          "bdata": "CAQkBS0CEAw=",
          "dtype": "i1"
         },
         "yaxis": "y"
        }
       ],
       "layout": {
        "barmode": "relative",
        "height": 800,
        "legend": {
         "title": {
          "text": "Транспортное средство"
         },
         "tracegroupgap": 0
        },
        "margin": {
         "t": 60
        },
        "template": {
         "data": {
          "bar": [
           {
            "error_x": {
             "color": "#2a3f5f"
            },
            "error_y": {
             "color": "#2a3f5f"
            },
            "marker": {
             "line": {
              "color": "#E5ECF6",
              "width": 0.5
             },
             "pattern": {
              "fillmode": "overlay",
              "size": 10,
              "solidity": 0.2
             }
            },
            "type": "bar"
           }
          ],
          "barpolar": [
           {
            "marker": {
             "line": {
              "color": "#E5ECF6",
              "width": 0.5
             },
             "pattern": {
              "fillmode": "overlay",
              "size": 10,
              "solidity": 0.2
             }
            },
            "type": "barpolar"
           }
          ],
          "carpet": [
           {
            "aaxis": {
             "endlinecolor": "#2a3f5f",
             "gridcolor": "white",
             "linecolor": "white",
             "minorgridcolor": "white",
             "startlinecolor": "#2a3f5f"
            },
            "baxis": {
             "endlinecolor": "#2a3f5f",
             "gridcolor": "white",
             "linecolor": "white",
             "minorgridcolor": "white",
             "startlinecolor": "#2a3f5f"
            },
            "type": "carpet"
           }
          ],
          "choropleth": [
           {
            "colorbar": {
             "outlinewidth": 0,
             "ticks": ""
            },
            "type": "choropleth"
           }
          ],
          "contour": [
           {
            "colorbar": {
             "outlinewidth": 0,
             "ticks": ""
            },
            "colorscale": [
             [
              0,
              "#0d0887"
             ],
             [
              0.1111111111111111,
              "#46039f"
             ],
             [
              0.2222222222222222,
              "#7201a8"
             ],
             [
              0.3333333333333333,
              "#9c179e"
             ],
             [
              0.4444444444444444,
              "#bd3786"
             ],
             [
              0.5555555555555556,
              "#d8576b"
             ],
             [
              0.6666666666666666,
              "#ed7953"
             ],
             [
              0.7777777777777778,
              "#fb9f3a"
             ],
             [
              0.8888888888888888,
              "#fdca26"
             ],
             [
              1,
              "#f0f921"
             ]
            ],
            "type": "contour"
           }
          ],
          "contourcarpet": [
           {
            "colorbar": {
             "outlinewidth": 0,
             "ticks": ""
            },
            "type": "contourcarpet"
           }
          ],
          "heatmap": [
           {
            "colorbar": {
             "outlinewidth": 0,
             "ticks": ""
            },
            "colorscale": [
             [
              0,
              "#0d0887"
             ],
             [
              0.1111111111111111,
              "#46039f"
             ],
             [
              0.2222222222222222,
              "#7201a8"
             ],
             [
              0.3333333333333333,
              "#9c179e"
             ],
             [
              0.4444444444444444,
              "#bd3786"
             ],
             [
              0.5555555555555556,
              "#d8576b"
             ],
             [
              0.6666666666666666,
              "#ed7953"
             ],
             [
              0.7777777777777778,
              "#fb9f3a"
             ],
             [
              0.8888888888888888,
              "#fdca26"
             ],
             [
              1,
              "#f0f921"
             ]
            ],
            "type": "heatmap"
           }
          ],
          "histogram": [
           {
            "marker": {
             "pattern": {
              "fillmode": "overlay",
              "size": 10,
              "solidity": 0.2
             }
            },
            "type": "histogram"
           }
          ],
          "histogram2d": [
           {
            "colorbar": {
             "outlinewidth": 0,
             "ticks": ""
            },
            "colorscale": [
             [
              0,
              "#0d0887"
             ],
             [
              0.1111111111111111,
              "#46039f"
             ],
             [
              0.2222222222222222,
              "#7201a8"
             ],
             [
              0.3333333333333333,
              "#9c179e"
             ],
             [
              0.4444444444444444,
              "#bd3786"
             ],
             [
              0.5555555555555556,
              "#d8576b"
             ],
             [
              0.6666666666666666,
              "#ed7953"
             ],
             [
              0.7777777777777778,
              "#fb9f3a"
             ],
             [
              0.8888888888888888,
              "#fdca26"
             ],
             [
              1,
              "#f0f921"
             ]
            ],
            "type": "histogram2d"
           }
          ],
          "histogram2dcontour": [
           {
            "colorbar": {
             "outlinewidth": 0,
             "ticks": ""
            },
            "colorscale": [
             [
              0,
              "#0d0887"
             ],
             [
              0.1111111111111111,
              "#46039f"
             ],
             [
              0.2222222222222222,
              "#7201a8"
             ],
             [
              0.3333333333333333,
              "#9c179e"
             ],
             [
              0.4444444444444444,
              "#bd3786"
             ],
             [
              0.5555555555555556,
              "#d8576b"
             ],
             [
              0.6666666666666666,
              "#ed7953"
             ],
             [
              0.7777777777777778,
              "#fb9f3a"
             ],
             [
              0.8888888888888888,
              "#fdca26"
             ],
             [
              1,
              "#f0f921"
             ]
            ],
            "type": "histogram2dcontour"
           }
          ],
          "mesh3d": [
           {
            "colorbar": {
             "outlinewidth": 0,
             "ticks": ""
            },
            "type": "mesh3d"
           }
          ],
          "parcoords": [
           {
            "line": {
             "colorbar": {
              "outlinewidth": 0,
              "ticks": ""
             }
            },
            "type": "parcoords"
           }
          ],
          "pie": [
           {
            "automargin": true,
            "type": "pie"
           }
          ],
          "scatter": [
           {
            "fillpattern": {
             "fillmode": "overlay",
             "size": 10,
             "solidity": 0.2
            },
            "type": "scatter"
           }
          ],
          "scatter3d": [
           {
            "line": {
             "colorbar": {
              "outlinewidth": 0,
              "ticks": ""
             }
            },
            "marker": {
             "colorbar": {
              "outlinewidth": 0,
              "ticks": ""
             }
            },
            "type": "scatter3d"
           }
          ],
          "scattercarpet": [
           {
            "marker": {
             "colorbar": {
              "outlinewidth": 0,
              "ticks": ""
             }
            },
            "type": "scattercarpet"
           }
          ],
          "scattergeo": [
           {
            "marker": {
             "colorbar": {
              "outlinewidth": 0,
              "ticks": ""
             }
            },
            "type": "scattergeo"
           }
          ],
          "scattergl": [
           {
            "marker": {
             "colorbar": {
              "outlinewidth": 0,
              "ticks": ""
             }
            },
            "type": "scattergl"
           }
          ],
          "scattermap": [
           {
            "marker": {
             "colorbar": {
              "outlinewidth": 0,
              "ticks": ""
             }
            },
            "type": "scattermap"
           }
          ],
          "scattermapbox": [
           {
            "marker": {
             "colorbar": {
              "outlinewidth": 0,
              "ticks": ""
             }
            },
            "type": "scattermapbox"
           }
          ],
          "scatterpolar": [
           {
            "marker": {
             "colorbar": {
              "outlinewidth": 0,
              "ticks": ""
             }
            },
            "type": "scatterpolar"
           }
          ],
          "scatterpolargl": [
           {
            "marker": {
             "colorbar": {
              "outlinewidth": 0,
              "ticks": ""
             }
            },
            "type": "scatterpolargl"
           }
          ],
          "scatterternary": [
           {
            "marker": {
             "colorbar": {
              "outlinewidth": 0,
              "ticks": ""
             }
            },
            "type": "scatterternary"
           }
          ],
          "surface": [
           {
            "colorbar": {
             "outlinewidth": 0,
             "ticks": ""
            },
            "colorscale": [
             [
              0,
              "#0d0887"
             ],
             [
              0.1111111111111111,
              "#46039f"
             ],
             [
              0.2222222222222222,
              "#7201a8"
             ],
             [
              0.3333333333333333,
              "#9c179e"
             ],
             [
              0.4444444444444444,
              "#bd3786"
             ],
             [
              0.5555555555555556,
              "#d8576b"
             ],
             [
              0.6666666666666666,
              "#ed7953"
             ],
             [
              0.7777777777777778,
              "#fb9f3a"
             ],
             [
              0.8888888888888888,
              "#fdca26"
             ],
             [
              1,
              "#f0f921"
             ]
            ],
            "type": "surface"
           }
          ],
          "table": [
           {
            "cells": {
             "fill": {
              "color": "#EBF0F8"
             },
             "line": {
              "color": "white"
             }
            },
            "header": {
             "fill": {
              "color": "#C8D4E3"
             },
             "line": {
              "color": "white"
             }
            },
            "type": "table"
           }
          ]
         },
         "layout": {
          "annotationdefaults": {
           "arrowcolor": "#2a3f5f",
           "arrowhead": 0,
           "arrowwidth": 1
          },
          "autotypenumbers": "strict",
          "coloraxis": {
           "colorbar": {
            "outlinewidth": 0,
            "ticks": ""
           }
          },
          "colorscale": {
           "diverging": [
            [
             0,
             "#8e0152"
            ],
            [
             0.1,
             "#c51b7d"
            ],
            [
             0.2,
             "#de77ae"
            ],
            [
             0.3,
             "#f1b6da"
            ],
            [
             0.4,
             "#fde0ef"
            ],
            [
             0.5,
             "#f7f7f7"
            ],
            [
             0.6,
             "#e6f5d0"
            ],
            [
             0.7,
             "#b8e186"
            ],
            [
             0.8,
             "#7fbc41"
            ],
            [
             0.9,
             "#4d9221"
            ],
            [
             1,
             "#276419"
            ]
           ],
           "sequential": [
            [
             0,
             "#0d0887"
            ],
            [
             0.1111111111111111,
             "#46039f"
            ],
            [
             0.2222222222222222,
             "#7201a8"
            ],
            [
             0.3333333333333333,
             "#9c179e"
            ],
            [
             0.4444444444444444,
             "#bd3786"
            ],
            [
             0.5555555555555556,
             "#d8576b"
            ],
            [
             0.6666666666666666,
             "#ed7953"
            ],
            [
             0.7777777777777778,
             "#fb9f3a"
            ],
            [
             0.8888888888888888,
             "#fdca26"
            ],
            [
             1,
             "#f0f921"
            ]
           ],
           "sequentialminus": [
            [
             0,
             "#0d0887"
            ],
            [
             0.1111111111111111,
             "#46039f"
            ],
            [
             0.2222222222222222,
             "#7201a8"
            ],
            [
             0.3333333333333333,
             "#9c179e"
            ],
            [
             0.4444444444444444,
             "#bd3786"
            ],
            [
             0.5555555555555556,
             "#d8576b"
            ],
            [
             0.6666666666666666,
             "#ed7953"
            ],
            [
             0.7777777777777778,
             "#fb9f3a"
            ],
            [
             0.8888888888888888,
             "#fdca26"
            ],
            [
             1,
             "#f0f921"
            ]
           ]
          },
          "colorway": [
           "#636efa",
           "#EF553B",
           "#00cc96",
           "#ab63fa",
           "#FFA15A",
           "#19d3f3",
           "#FF6692",
           "#B6E880",
           "#FF97FF",
           "#FECB52"
          ],
          "font": {
           "color": "#2a3f5f"
          },
          "geo": {
           "bgcolor": "white",
           "lakecolor": "white",
           "landcolor": "#E5ECF6",
           "showlakes": true,
           "showland": true,
           "subunitcolor": "white"
          },
          "hoverlabel": {
           "align": "left"
          },
          "hovermode": "closest",
          "mapbox": {
           "style": "light"
          },
          "paper_bgcolor": "white",
          "plot_bgcolor": "#E5ECF6",
          "polar": {
           "angularaxis": {
            "gridcolor": "white",
            "linecolor": "white",
            "ticks": ""
           },
           "bgcolor": "#E5ECF6",
           "radialaxis": {
            "gridcolor": "white",
            "linecolor": "white",
            "ticks": ""
           }
          },
          "scene": {
           "xaxis": {
            "backgroundcolor": "#E5ECF6",
            "gridcolor": "white",
            "gridwidth": 2,
            "linecolor": "white",
            "showbackground": true,
            "ticks": "",
            "zerolinecolor": "white"
           },
           "yaxis": {
            "backgroundcolor": "#E5ECF6",
            "gridcolor": "white",
            "gridwidth": 2,
            "linecolor": "white",
            "showbackground": true,
            "ticks": "",
            "zerolinecolor": "white"
           },
           "zaxis": {
            "backgroundcolor": "#E5ECF6",
            "gridcolor": "white",
            "gridwidth": 2,
            "linecolor": "white",
            "showbackground": true,
            "ticks": "",
            "zerolinecolor": "white"
           }
          },
          "shapedefaults": {
           "line": {
            "color": "#2a3f5f"
           }
          },
          "ternary": {
           "aaxis": {
            "gridcolor": "white",
            "linecolor": "white",
            "ticks": ""
           },
           "baxis": {
            "gridcolor": "white",
            "linecolor": "white",
            "ticks": ""
           },
           "bgcolor": "#E5ECF6",
           "caxis": {
            "gridcolor": "white",
            "linecolor": "white",
            "ticks": ""
           }
          },
          "title": {
           "x": 0.05
          },
          "xaxis": {
           "automargin": true,
           "gridcolor": "white",
           "linecolor": "white",
           "ticks": "",
           "title": {
            "standoff": 15
           },
           "zerolinecolor": "white",
           "zerolinewidth": 2
          },
          "yaxis": {
           "automargin": true,
           "gridcolor": "white",
           "linecolor": "white",
           "ticks": "",
           "title": {
            "standoff": 15
           },
           "zerolinecolor": "white",
           "zerolinewidth": 2
          }
         }
        },
        "title": {
         "text": "Распределение количества поездок по расстоянию и используемому виду транспорта",
         "x": 0.5
        },
        "width": 1200,
        "xaxis": {
         "anchor": "y",
         "domain": [
          0,
          1
         ],
         "title": {
          "text": "Расстояние поездки"
         }
        },
        "yaxis": {
         "anchor": "x",
         "domain": [
          0,
          1
         ],
         "title": {
          "text": "Количество поездок"
         }
        }
       }
      }
     },
     "metadata": {},
     "output_type": "display_data"
    }
   ],
   "source": [
    "df1 = df_map.groupby(['KAFSTV', 'KHVM']).size().reset_index().rename(columns = {'KAFSTV': 'Расстояние поездки', 0: 'Количество поездок', 'KHVM': 'Транспортное средство'})\n",
    "print(df1)\n",
    "\n",
    "fig1 = px.bar(df1, \n",
    "              x='Расстояние поездки', \n",
    "              y = 'Количество поездок',\n",
    "              color='Транспортное средство', \n",
    "              text_auto=True,\n",
    "              width=1200,\n",
    "              height=800)\n",
    "fig1.update_layout(title = {'text': 'Распределение количества поездок по расстоянию и используемому виду транспорта', 'x': 0.5})\n",
    "fig1.show()"
   ]
  },
  {
   "cell_type": "markdown",
   "id": "aae323bf",
   "metadata": {},
   "source": [
    "**вывод для графика** ----"
   ]
  },
  {
   "cell_type": "markdown",
   "id": "3386550e",
   "metadata": {},
   "source": [
    "### График 3 (Влияние оценки транспорта (OORDEEL_*) на предпочтение (KHVM))"
   ]
  },
  {
   "cell_type": "markdown",
   "id": "2d1f3ee6",
   "metadata": {},
   "source": [
    "'OORDEEL_AUTO': 'оценка_автомобиля',\n",
    "'OORDEEL_TREIN': 'оценка_поезда',\n",
    "'OORDEEL_BTM': 'оценка_общественного_транспорта',\n",
    "'OORDEEL_FIETS': 'оценка_велосипеда',\n",
    "'OORDEEL_BROMMER': 'оценка_мопеда',\n",
    "'OORDEEL_LOPEN': 'оценка_передвижения_пешком',"
   ]
  },
  {
   "cell_type": "code",
   "execution_count": 599,
   "id": "6932c289",
   "metadata": {},
   "outputs": [
    {
     "data": {
      "application/vnd.plotly.v1+json": {
       "config": {
        "plotlyServerURL": "https://plotly.com"
       },
       "data": [
        {
         "cliponaxis": false,
         "hovertemplate": "Оценка=Очень позитивно<br>Тип передвижения=%{x}<br>Количество ответивших=%{text}<extra></extra>",
         "legendgroup": "",
         "marker": {
          "color": "#636efa",
          "pattern": {
           "shape": ""
          }
         },
         "name": "",
         "orientation": "v",
         "showlegend": false,
         "text": {
          "bdata": "AAAAAAC8mEAAAAAAADiAQAAAAAAAgHpAAAAAAACIm0AAAAAAAGBmQAAAAAAAiJ5A",
          "dtype": "f8"
         },
         "textfont": {
          "size": 10
         },
         "textposition": "outside",
         "type": "bar",
         "x": [
          "Автомобиль",
          "Поезд",
          "Общественный транспорт",
          "Велосипед",
          "Мотоцикл",
          "Пешая прогулка"
         ],
         "xaxis": "x4",
         "y": {
          "bdata": "LwYHAqgB4gazAKIH",
          "dtype": "i2"
         },
         "yaxis": "y4"
        },
        {
         "cliponaxis": false,
         "hovertemplate": "Оценка=Позитивно<br>Тип передвижения=%{x}<br>Количество ответивших=%{text}<extra></extra>",
         "legendgroup": "",
         "marker": {
          "color": "#636efa",
          "pattern": {
           "shape": ""
          }
         },
         "name": "",
         "orientation": "v",
         "showlegend": false,
         "text": {
          "bdata": "AAAAAABknkAAAAAAAHihQAAAAAAA6J9AAAAAAABwn0AAAAAAAJiKQAAAAAAACJ9A",
          "dtype": "f8"
         },
         "textfont": {
          "size": 10
         },
         "textposition": "outside",
         "type": "bar",
         "x": [
          "Автомобиль",
          "Поезд",
          "Общественный транспорт",
          "Велосипед",
          "Мотоцикл",
          "Пешая прогулка"
         ],
         "xaxis": "x5",
         "y": {
          "bdata": "mQe8CPoH3AdTA8IH",
          "dtype": "i2"
         },
         "yaxis": "y5"
        },
        {
         "cliponaxis": false,
         "hovertemplate": "Оценка=Нейтрально<br>Тип передвижения=%{x}<br>Количество ответивших=%{text}<extra></extra>",
         "legendgroup": "",
         "marker": {
          "color": "#636efa",
          "pattern": {
           "shape": ""
          }
         },
         "name": "",
         "orientation": "v",
         "showlegend": false,
         "text": {
          "bdata": "AAAAAABYhEAAAAAAABCVQAAAAAAAXJVAAAAAAAAgeUAAAAAAAGyTQAAAAAAA0HlA",
          "dtype": "f8"
         },
         "textfont": {
          "size": 10
         },
         "textposition": "outside",
         "type": "bar",
         "x": [
          "Автомобиль",
          "Поезд",
          "Общественный транспорт",
          "Велосипед",
          "Мотоцикл",
          "Пешая прогулка"
         ],
         "xaxis": "x6",
         "y": {
          "bdata": "iwJEBVcFkgHbBJ0B",
          "dtype": "i2"
         },
         "yaxis": "y6"
        },
        {
         "cliponaxis": false,
         "hovertemplate": "Оценка=Очень негативно<br>Тип передвижения=%{x}<br>Количество ответивших=%{text}<extra></extra>",
         "legendgroup": "",
         "marker": {
          "color": "#636efa",
          "pattern": {
           "shape": ""
          }
         },
         "name": "",
         "orientation": "v",
         "showlegend": false,
         "text": {
          "bdata": "AAAAAABAYUAAAAAAAIBEQAAAAAAAgE1AAAAAAAAAM0AAAAAAAKB4QAAAAAAAACJA",
          "dtype": "f8"
         },
         "textfont": {
          "size": 10
         },
         "textposition": "outside",
         "type": "bar",
         "x": [
          "Автомобиль",
          "Поезд",
          "Общественный транспорт",
          "Велосипед",
          "Мотоцикл",
          "Пешая прогулка"
         ],
         "xaxis": "x",
         "y": {
          "bdata": "igApADsAEwCKAQkA",
          "dtype": "i2"
         },
         "yaxis": "y"
        },
        {
         "cliponaxis": false,
         "hovertemplate": "Оценка=Негативно<br>Тип передвижения=%{x}<br>Количество ответивших=%{text}<extra></extra>",
         "legendgroup": "",
         "marker": {
          "color": "#636efa",
          "pattern": {
           "shape": ""
          }
         },
         "name": "",
         "orientation": "v",
         "showlegend": false,
         "text": {
          "bdata": "AAAAAADAWkAAAAAAAGBwQAAAAAAAoHtAAAAAAABAW0AAAAAAAHiPQAAAAAAAQFZA",
          "dtype": "f8"
         },
         "textfont": {
          "size": 10
         },
         "textposition": "outside",
         "type": "bar",
         "x": [
          "Автомобиль",
          "Поезд",
          "Общественный транспорт",
          "Велосипед",
          "Мотоцикл",
          "Пешая прогулка"
         ],
         "xaxis": "x2",
         "y": {
          "bdata": "awAGAboBbQDvA1kA",
          "dtype": "i2"
         },
         "yaxis": "y2"
        },
        {
         "cliponaxis": false,
         "hovertemplate": "Оценка=Нет оценки<br>Тип передвижения=%{x}<br>Количество ответивших=%{text}<extra></extra>",
         "legendgroup": "",
         "marker": {
          "color": "#636efa",
          "pattern": {
           "shape": ""
          }
         },
         "name": "",
         "orientation": "v",
         "showlegend": false,
         "text": {
          "bdata": "AAAAAACAREAAAAAAAIBNQAAAAAAAYGBAAAAAAAAgZEAAAAAAALiIQAAAAAAAACxA",
          "dtype": "f8"
         },
         "textfont": {
          "size": 10
         },
         "textposition": "outside",
         "type": "bar",
         "x": [
          "Автомобиль",
          "Поезд",
          "Общественный транспорт",
          "Велосипед",
          "Мотоцикл",
          "Пешая прогулка"
         ],
         "xaxis": "x3",
         "y": {
          "bdata": "KQA7AIMAoQAXAw4A",
          "dtype": "i2"
         },
         "yaxis": "y3"
        }
       ],
       "layout": {
        "annotations": [
         {
          "font": {},
          "showarrow": false,
          "text": "Оценка=Очень негативно",
          "x": 0.15999999999999998,
          "xanchor": "center",
          "xref": "paper",
          "y": 0.46499999999999997,
          "yanchor": "bottom",
          "yref": "paper"
         },
         {
          "font": {},
          "showarrow": false,
          "text": "Оценка=Негативно",
          "x": 0.49999999999999994,
          "xanchor": "center",
          "xref": "paper",
          "y": 0.46499999999999997,
          "yanchor": "bottom",
          "yref": "paper"
         },
         {
          "font": {},
          "showarrow": false,
          "text": "Оценка=Нет оценки",
          "x": 0.8399999999999999,
          "xanchor": "center",
          "xref": "paper",
          "y": 0.46499999999999997,
          "yanchor": "bottom",
          "yref": "paper"
         },
         {
          "font": {},
          "showarrow": false,
          "text": "Оценка=Очень позитивно",
          "x": 0.15999999999999998,
          "xanchor": "center",
          "xref": "paper",
          "y": 0.9999999999999999,
          "yanchor": "bottom",
          "yref": "paper"
         },
         {
          "font": {},
          "showarrow": false,
          "text": "Оценка=Позитивно",
          "x": 0.49999999999999994,
          "xanchor": "center",
          "xref": "paper",
          "y": 0.9999999999999999,
          "yanchor": "bottom",
          "yref": "paper"
         },
         {
          "font": {},
          "showarrow": false,
          "text": "Оценка=Нейтрально",
          "x": 0.8399999999999999,
          "xanchor": "center",
          "xref": "paper",
          "y": 0.9999999999999999,
          "yanchor": "bottom",
          "yref": "paper"
         }
        ],
        "barmode": "relative",
        "height": 600,
        "legend": {
         "orientation": "h",
         "title": {
          "text": "Тип передвижения"
         },
         "tracegroupgap": 0,
         "x": 0.5,
         "xanchor": "center",
         "y": -0.2,
         "yanchor": "bottom"
        },
        "margin": {
         "b": 40,
         "l": 40,
         "r": 40,
         "t": 60
        },
        "template": {
         "data": {
          "bar": [
           {
            "error_x": {
             "color": "#2a3f5f"
            },
            "error_y": {
             "color": "#2a3f5f"
            },
            "marker": {
             "line": {
              "color": "#E5ECF6",
              "width": 0.5
             },
             "pattern": {
              "fillmode": "overlay",
              "size": 10,
              "solidity": 0.2
             }
            },
            "type": "bar"
           }
          ],
          "barpolar": [
           {
            "marker": {
             "line": {
              "color": "#E5ECF6",
              "width": 0.5
             },
             "pattern": {
              "fillmode": "overlay",
              "size": 10,
              "solidity": 0.2
             }
            },
            "type": "barpolar"
           }
          ],
          "carpet": [
           {
            "aaxis": {
             "endlinecolor": "#2a3f5f",
             "gridcolor": "white",
             "linecolor": "white",
             "minorgridcolor": "white",
             "startlinecolor": "#2a3f5f"
            },
            "baxis": {
             "endlinecolor": "#2a3f5f",
             "gridcolor": "white",
             "linecolor": "white",
             "minorgridcolor": "white",
             "startlinecolor": "#2a3f5f"
            },
            "type": "carpet"
           }
          ],
          "choropleth": [
           {
            "colorbar": {
             "outlinewidth": 0,
             "ticks": ""
            },
            "type": "choropleth"
           }
          ],
          "contour": [
           {
            "colorbar": {
             "outlinewidth": 0,
             "ticks": ""
            },
            "colorscale": [
             [
              0,
              "#0d0887"
             ],
             [
              0.1111111111111111,
              "#46039f"
             ],
             [
              0.2222222222222222,
              "#7201a8"
             ],
             [
              0.3333333333333333,
              "#9c179e"
             ],
             [
              0.4444444444444444,
              "#bd3786"
             ],
             [
              0.5555555555555556,
              "#d8576b"
             ],
             [
              0.6666666666666666,
              "#ed7953"
             ],
             [
              0.7777777777777778,
              "#fb9f3a"
             ],
             [
              0.8888888888888888,
              "#fdca26"
             ],
             [
              1,
              "#f0f921"
             ]
            ],
            "type": "contour"
           }
          ],
          "contourcarpet": [
           {
            "colorbar": {
             "outlinewidth": 0,
             "ticks": ""
            },
            "type": "contourcarpet"
           }
          ],
          "heatmap": [
           {
            "colorbar": {
             "outlinewidth": 0,
             "ticks": ""
            },
            "colorscale": [
             [
              0,
              "#0d0887"
             ],
             [
              0.1111111111111111,
              "#46039f"
             ],
             [
              0.2222222222222222,
              "#7201a8"
             ],
             [
              0.3333333333333333,
              "#9c179e"
             ],
             [
              0.4444444444444444,
              "#bd3786"
             ],
             [
              0.5555555555555556,
              "#d8576b"
             ],
             [
              0.6666666666666666,
              "#ed7953"
             ],
             [
              0.7777777777777778,
              "#fb9f3a"
             ],
             [
              0.8888888888888888,
              "#fdca26"
             ],
             [
              1,
              "#f0f921"
             ]
            ],
            "type": "heatmap"
           }
          ],
          "histogram": [
           {
            "marker": {
             "pattern": {
              "fillmode": "overlay",
              "size": 10,
              "solidity": 0.2
             }
            },
            "type": "histogram"
           }
          ],
          "histogram2d": [
           {
            "colorbar": {
             "outlinewidth": 0,
             "ticks": ""
            },
            "colorscale": [
             [
              0,
              "#0d0887"
             ],
             [
              0.1111111111111111,
              "#46039f"
             ],
             [
              0.2222222222222222,
              "#7201a8"
             ],
             [
              0.3333333333333333,
              "#9c179e"
             ],
             [
              0.4444444444444444,
              "#bd3786"
             ],
             [
              0.5555555555555556,
              "#d8576b"
             ],
             [
              0.6666666666666666,
              "#ed7953"
             ],
             [
              0.7777777777777778,
              "#fb9f3a"
             ],
             [
              0.8888888888888888,
              "#fdca26"
             ],
             [
              1,
              "#f0f921"
             ]
            ],
            "type": "histogram2d"
           }
          ],
          "histogram2dcontour": [
           {
            "colorbar": {
             "outlinewidth": 0,
             "ticks": ""
            },
            "colorscale": [
             [
              0,
              "#0d0887"
             ],
             [
              0.1111111111111111,
              "#46039f"
             ],
             [
              0.2222222222222222,
              "#7201a8"
             ],
             [
              0.3333333333333333,
              "#9c179e"
             ],
             [
              0.4444444444444444,
              "#bd3786"
             ],
             [
              0.5555555555555556,
              "#d8576b"
             ],
             [
              0.6666666666666666,
              "#ed7953"
             ],
             [
              0.7777777777777778,
              "#fb9f3a"
             ],
             [
              0.8888888888888888,
              "#fdca26"
             ],
             [
              1,
              "#f0f921"
             ]
            ],
            "type": "histogram2dcontour"
           }
          ],
          "mesh3d": [
           {
            "colorbar": {
             "outlinewidth": 0,
             "ticks": ""
            },
            "type": "mesh3d"
           }
          ],
          "parcoords": [
           {
            "line": {
             "colorbar": {
              "outlinewidth": 0,
              "ticks": ""
             }
            },
            "type": "parcoords"
           }
          ],
          "pie": [
           {
            "automargin": true,
            "type": "pie"
           }
          ],
          "scatter": [
           {
            "fillpattern": {
             "fillmode": "overlay",
             "size": 10,
             "solidity": 0.2
            },
            "type": "scatter"
           }
          ],
          "scatter3d": [
           {
            "line": {
             "colorbar": {
              "outlinewidth": 0,
              "ticks": ""
             }
            },
            "marker": {
             "colorbar": {
              "outlinewidth": 0,
              "ticks": ""
             }
            },
            "type": "scatter3d"
           }
          ],
          "scattercarpet": [
           {
            "marker": {
             "colorbar": {
              "outlinewidth": 0,
              "ticks": ""
             }
            },
            "type": "scattercarpet"
           }
          ],
          "scattergeo": [
           {
            "marker": {
             "colorbar": {
              "outlinewidth": 0,
              "ticks": ""
             }
            },
            "type": "scattergeo"
           }
          ],
          "scattergl": [
           {
            "marker": {
             "colorbar": {
              "outlinewidth": 0,
              "ticks": ""
             }
            },
            "type": "scattergl"
           }
          ],
          "scattermap": [
           {
            "marker": {
             "colorbar": {
              "outlinewidth": 0,
              "ticks": ""
             }
            },
            "type": "scattermap"
           }
          ],
          "scattermapbox": [
           {
            "marker": {
             "colorbar": {
              "outlinewidth": 0,
              "ticks": ""
             }
            },
            "type": "scattermapbox"
           }
          ],
          "scatterpolar": [
           {
            "marker": {
             "colorbar": {
              "outlinewidth": 0,
              "ticks": ""
             }
            },
            "type": "scatterpolar"
           }
          ],
          "scatterpolargl": [
           {
            "marker": {
             "colorbar": {
              "outlinewidth": 0,
              "ticks": ""
             }
            },
            "type": "scatterpolargl"
           }
          ],
          "scatterternary": [
           {
            "marker": {
             "colorbar": {
              "outlinewidth": 0,
              "ticks": ""
             }
            },
            "type": "scatterternary"
           }
          ],
          "surface": [
           {
            "colorbar": {
             "outlinewidth": 0,
             "ticks": ""
            },
            "colorscale": [
             [
              0,
              "#0d0887"
             ],
             [
              0.1111111111111111,
              "#46039f"
             ],
             [
              0.2222222222222222,
              "#7201a8"
             ],
             [
              0.3333333333333333,
              "#9c179e"
             ],
             [
              0.4444444444444444,
              "#bd3786"
             ],
             [
              0.5555555555555556,
              "#d8576b"
             ],
             [
              0.6666666666666666,
              "#ed7953"
             ],
             [
              0.7777777777777778,
              "#fb9f3a"
             ],
             [
              0.8888888888888888,
              "#fdca26"
             ],
             [
              1,
              "#f0f921"
             ]
            ],
            "type": "surface"
           }
          ],
          "table": [
           {
            "cells": {
             "fill": {
              "color": "#EBF0F8"
             },
             "line": {
              "color": "white"
             }
            },
            "header": {
             "fill": {
              "color": "#C8D4E3"
             },
             "line": {
              "color": "white"
             }
            },
            "type": "table"
           }
          ]
         },
         "layout": {
          "annotationdefaults": {
           "arrowcolor": "#2a3f5f",
           "arrowhead": 0,
           "arrowwidth": 1
          },
          "autotypenumbers": "strict",
          "coloraxis": {
           "colorbar": {
            "outlinewidth": 0,
            "ticks": ""
           }
          },
          "colorscale": {
           "diverging": [
            [
             0,
             "#8e0152"
            ],
            [
             0.1,
             "#c51b7d"
            ],
            [
             0.2,
             "#de77ae"
            ],
            [
             0.3,
             "#f1b6da"
            ],
            [
             0.4,
             "#fde0ef"
            ],
            [
             0.5,
             "#f7f7f7"
            ],
            [
             0.6,
             "#e6f5d0"
            ],
            [
             0.7,
             "#b8e186"
            ],
            [
             0.8,
             "#7fbc41"
            ],
            [
             0.9,
             "#4d9221"
            ],
            [
             1,
             "#276419"
            ]
           ],
           "sequential": [
            [
             0,
             "#0d0887"
            ],
            [
             0.1111111111111111,
             "#46039f"
            ],
            [
             0.2222222222222222,
             "#7201a8"
            ],
            [
             0.3333333333333333,
             "#9c179e"
            ],
            [
             0.4444444444444444,
             "#bd3786"
            ],
            [
             0.5555555555555556,
             "#d8576b"
            ],
            [
             0.6666666666666666,
             "#ed7953"
            ],
            [
             0.7777777777777778,
             "#fb9f3a"
            ],
            [
             0.8888888888888888,
             "#fdca26"
            ],
            [
             1,
             "#f0f921"
            ]
           ],
           "sequentialminus": [
            [
             0,
             "#0d0887"
            ],
            [
             0.1111111111111111,
             "#46039f"
            ],
            [
             0.2222222222222222,
             "#7201a8"
            ],
            [
             0.3333333333333333,
             "#9c179e"
            ],
            [
             0.4444444444444444,
             "#bd3786"
            ],
            [
             0.5555555555555556,
             "#d8576b"
            ],
            [
             0.6666666666666666,
             "#ed7953"
            ],
            [
             0.7777777777777778,
             "#fb9f3a"
            ],
            [
             0.8888888888888888,
             "#fdca26"
            ],
            [
             1,
             "#f0f921"
            ]
           ]
          },
          "colorway": [
           "#636efa",
           "#EF553B",
           "#00cc96",
           "#ab63fa",
           "#FFA15A",
           "#19d3f3",
           "#FF6692",
           "#B6E880",
           "#FF97FF",
           "#FECB52"
          ],
          "font": {
           "color": "#2a3f5f"
          },
          "geo": {
           "bgcolor": "white",
           "lakecolor": "white",
           "landcolor": "#E5ECF6",
           "showlakes": true,
           "showland": true,
           "subunitcolor": "white"
          },
          "hoverlabel": {
           "align": "left"
          },
          "hovermode": "closest",
          "mapbox": {
           "style": "light"
          },
          "paper_bgcolor": "white",
          "plot_bgcolor": "#E5ECF6",
          "polar": {
           "angularaxis": {
            "gridcolor": "white",
            "linecolor": "white",
            "ticks": ""
           },
           "bgcolor": "#E5ECF6",
           "radialaxis": {
            "gridcolor": "white",
            "linecolor": "white",
            "ticks": ""
           }
          },
          "scene": {
           "xaxis": {
            "backgroundcolor": "#E5ECF6",
            "gridcolor": "white",
            "gridwidth": 2,
            "linecolor": "white",
            "showbackground": true,
            "ticks": "",
            "zerolinecolor": "white"
           },
           "yaxis": {
            "backgroundcolor": "#E5ECF6",
            "gridcolor": "white",
            "gridwidth": 2,
            "linecolor": "white",
            "showbackground": true,
            "ticks": "",
            "zerolinecolor": "white"
           },
           "zaxis": {
            "backgroundcolor": "#E5ECF6",
            "gridcolor": "white",
            "gridwidth": 2,
            "linecolor": "white",
            "showbackground": true,
            "ticks": "",
            "zerolinecolor": "white"
           }
          },
          "shapedefaults": {
           "line": {
            "color": "#2a3f5f"
           }
          },
          "ternary": {
           "aaxis": {
            "gridcolor": "white",
            "linecolor": "white",
            "ticks": ""
           },
           "baxis": {
            "gridcolor": "white",
            "linecolor": "white",
            "ticks": ""
           },
           "bgcolor": "#E5ECF6",
           "caxis": {
            "gridcolor": "white",
            "linecolor": "white",
            "ticks": ""
           }
          },
          "title": {
           "x": 0.05
          },
          "xaxis": {
           "automargin": true,
           "gridcolor": "white",
           "linecolor": "white",
           "ticks": "",
           "title": {
            "standoff": 15
           },
           "zerolinecolor": "white",
           "zerolinewidth": 2
          },
          "yaxis": {
           "automargin": true,
           "gridcolor": "white",
           "linecolor": "white",
           "ticks": "",
           "title": {
            "standoff": 15
           },
           "zerolinecolor": "white",
           "zerolinewidth": 2
          }
         }
        },
        "title": {
         "text": "Распределение количества мнений респондентов по поводу использования транспорта по оценкам",
         "x": 0.5
        },
        "width": 1400,
        "xaxis": {
         "anchor": "y",
         "domain": [
          0,
          0.31999999999999995
         ],
         "title": {
          "text": "Тип передвижения"
         }
        },
        "xaxis2": {
         "anchor": "y2",
         "domain": [
          0.33999999999999997,
          0.6599999999999999
         ],
         "matches": "x",
         "title": {
          "text": "Тип передвижения"
         }
        },
        "xaxis3": {
         "anchor": "y3",
         "domain": [
          0.6799999999999999,
          0.9999999999999999
         ],
         "matches": "x",
         "title": {
          "text": "Тип передвижения"
         }
        },
        "xaxis4": {
         "anchor": "y4",
         "domain": [
          0,
          0.31999999999999995
         ],
         "matches": "x",
         "showticklabels": false
        },
        "xaxis5": {
         "anchor": "y5",
         "domain": [
          0.33999999999999997,
          0.6599999999999999
         ],
         "matches": "x",
         "showticklabels": false
        },
        "xaxis6": {
         "anchor": "y6",
         "domain": [
          0.6799999999999999,
          0.9999999999999999
         ],
         "matches": "x",
         "showticklabels": false
        },
        "yaxis": {
         "anchor": "x",
         "domain": [
          0,
          0.46499999999999997
         ],
         "title": {
          "text": "Количество ответивших"
         }
        },
        "yaxis2": {
         "anchor": "x2",
         "domain": [
          0,
          0.46499999999999997
         ],
         "matches": "y",
         "showticklabels": false
        },
        "yaxis3": {
         "anchor": "x3",
         "domain": [
          0,
          0.46499999999999997
         ],
         "matches": "y",
         "showticklabels": false
        },
        "yaxis4": {
         "anchor": "x4",
         "domain": [
          0.5349999999999999,
          0.9999999999999999
         ],
         "matches": "y",
         "title": {
          "text": "Количество ответивших"
         }
        },
        "yaxis5": {
         "anchor": "x5",
         "domain": [
          0.5349999999999999,
          0.9999999999999999
         ],
         "matches": "y",
         "showticklabels": false
        },
        "yaxis6": {
         "anchor": "x6",
         "domain": [
          0.5349999999999999,
          0.9999999999999999
         ],
         "matches": "y",
         "showticklabels": false
        }
       }
      }
     },
     "metadata": {},
     "output_type": "display_data"
    },
    {
     "data": {
      "application/vnd.plotly.v1+json": {
       "config": {
        "plotlyServerURL": "https://plotly.com"
       },
       "data": [
        {
         "cliponaxis": false,
         "hovertemplate": "Оценка=Очень позитивно<br>Тип передвижения=%{x}<br>Доля=%{text}<extra></extra>",
         "legendgroup": "",
         "marker": {
          "color": "#636efa",
          "pattern": {
           "shape": ""
          }
         },
         "name": "",
         "offsetgroup": "1",
         "orientation": "v",
         "showlegend": false,
         "text": {
          "bdata": "mpmZmZm5QUA9CtejcD0nQAAAAAAAACNAexSuR+G6Q0AK16NwPQoQQOF6FK5H4UVA",
          "dtype": "f8"
         },
         "textfont": {
          "size": 12
         },
         "textposition": "outside",
         "texttemplate": "%{text}%",
         "type": "bar",
         "x": [
          "Автомобиль",
          "Поезд",
          "Общественный транспорт",
          "Велосипед",
          "Мотоцикл",
          "Пешая прогулка"
         ],
         "xaxis": "x4",
         "y": {
          "bdata": "mpmZmZm5QUA9CtejcD0nQAAAAAAAACNAexSuR+G6Q0AK16NwPQoQQOF6FK5H4UVA",
          "dtype": "f8"
         },
         "yaxis": "y4"
        },
        {
         "cliponaxis": false,
         "hovertemplate": "Оценка=Позитивно<br>Тип передвижения=%{x}<br>Доля=%{text}<extra></extra>",
         "legendgroup": "",
         "marker": {
          "color": "#636efa",
          "pattern": {
           "shape": ""
          }
         },
         "name": "",
         "offsetgroup": "1",
         "orientation": "v",
         "showlegend": false,
         "text": {
          "bdata": "SOF6FK7HRUAK16NwPQpJQD0K16Nw3UZASOF6FK6HRkCPwvUoXA8zQD0K16NwPUZA",
          "dtype": "f8"
         },
         "textfont": {
          "size": 12
         },
         "textposition": "outside",
         "texttemplate": "%{text}%",
         "type": "bar",
         "x": [
          "Автомобиль",
          "Поезд",
          "Общественный транспорт",
          "Велосипед",
          "Мотоцикл",
          "Пешая прогулка"
         ],
         "xaxis": "x5",
         "y": {
          "bdata": "SOF6FK7HRUAK16NwPQpJQD0K16Nw3UZASOF6FK6HRkCPwvUoXA8zQD0K16NwPUZA",
          "dtype": "f8"
         },
         "yaxis": "y5"
        },
        {
         "cliponaxis": false,
         "hovertemplate": "Оценка=Нейтрально<br>Тип передвижения=%{x}<br>Доля=%{text}<extra></extra>",
         "legendgroup": "",
         "marker": {
          "color": "#636efa",
          "pattern": {
           "shape": ""
          }
         },
         "name": "",
         "offsetgroup": "1",
         "orientation": "v",
         "showlegend": false,
         "text": {
          "bdata": "KVyPwvUoLUBxPQrXozA+QB+F61G4nj5AAAAAAAAAIkDXo3A9Ctc7QAAAAAAAgCJA",
          "dtype": "f8"
         },
         "textfont": {
          "size": 12
         },
         "textposition": "outside",
         "texttemplate": "%{text}%",
         "type": "bar",
         "x": [
          "Автомобиль",
          "Поезд",
          "Общественный транспорт",
          "Велосипед",
          "Мотоцикл",
          "Пешая прогулка"
         ],
         "xaxis": "x6",
         "y": {
          "bdata": "KVyPwvUoLUBxPQrXozA+QB+F61G4nj5AAAAAAAAAIkDXo3A9Ctc7QAAAAAAAgCJA",
          "dtype": "f8"
         },
         "yaxis": "y6"
        },
        {
         "cliponaxis": false,
         "hovertemplate": "Оценка=Очень негативно<br>Тип передвижения=%{x}<br>Доля=%{text}<extra></extra>",
         "legendgroup": "",
         "marker": {
          "color": "#636efa",
          "pattern": {
           "shape": ""
          }
         },
         "name": "",
         "offsetgroup": "1",
         "orientation": "v",
         "showlegend": false,
         "text": {
          "bdata": "uB6F61G4CEBxPQrXo3DtPx+F61G4HvU/hetRuB6F2z+kcD0K16MhQJqZmZmZmck/",
          "dtype": "f8"
         },
         "textfont": {
          "size": 12
         },
         "textposition": "outside",
         "texttemplate": "%{text}%",
         "type": "bar",
         "x": [
          "Автомобиль",
          "Поезд",
          "Общественный транспорт",
          "Велосипед",
          "Мотоцикл",
          "Пешая прогулка"
         ],
         "xaxis": "x",
         "y": {
          "bdata": "uB6F61G4CEBxPQrXo3DtPx+F61G4HvU/hetRuB6F2z+kcD0K16MhQJqZmZmZmck/",
          "dtype": "f8"
         },
         "yaxis": "y"
        },
        {
         "cliponaxis": false,
         "hovertemplate": "Оценка=Негативно<br>Тип передвижения=%{x}<br>Доля=%{text}<extra></extra>",
         "legendgroup": "",
         "marker": {
          "color": "#636efa",
          "pattern": {
           "shape": ""
          }
         },
         "name": "",
         "offsetgroup": "1",
         "orientation": "v",
         "showlegend": false,
         "text": {
          "bdata": "MzMzMzMzA0B7FK5H4XoXQM3MzMzMzCNAhetRuB6FA0DNzMzMzIw2QNejcD0K1/8/",
          "dtype": "f8"
         },
         "textfont": {
          "size": 12
         },
         "textposition": "outside",
         "texttemplate": "%{text}%",
         "type": "bar",
         "x": [
          "Автомобиль",
          "Поезд",
          "Общественный транспорт",
          "Велосипед",
          "Мотоцикл",
          "Пешая прогулка"
         ],
         "xaxis": "x2",
         "y": {
          "bdata": "MzMzMzMzA0B7FK5H4XoXQM3MzMzMzCNAhetRuB6FA0DNzMzMzIw2QNejcD0K1/8/",
          "dtype": "f8"
         },
         "yaxis": "y2"
        },
        {
         "cliponaxis": false,
         "hovertemplate": "Оценка=Нет оценки<br>Тип передвижения=%{x}<br>Доля=%{text}<extra></extra>",
         "legendgroup": "",
         "marker": {
          "color": "#636efa",
          "pattern": {
           "shape": ""
          }
         },
         "name": "",
         "offsetgroup": "1",
         "orientation": "v",
         "showlegend": false,
         "text": {
          "bdata": "cT0K16Nw7T8fhetRuB71P3E9CtejcAdA4XoUrkfhDEC4HoXrUbgxQNejcD0K19M/",
          "dtype": "f8"
         },
         "textfont": {
          "size": 12
         },
         "textposition": "outside",
         "texttemplate": "%{text}%",
         "type": "bar",
         "x": [
          "Автомобиль",
          "Поезд",
          "Общественный транспорт",
          "Велосипед",
          "Мотоцикл",
          "Пешая прогулка"
         ],
         "xaxis": "x3",
         "y": {
          "bdata": "cT0K16Nw7T8fhetRuB71P3E9CtejcAdA4XoUrkfhDEC4HoXrUbgxQNejcD0K19M/",
          "dtype": "f8"
         },
         "yaxis": "y3"
        }
       ],
       "layout": {
        "annotations": [
         {
          "font": {},
          "showarrow": false,
          "text": "Оценка=Очень негативно",
          "x": 0.15999999999999998,
          "xanchor": "center",
          "xref": "paper",
          "y": 0.46499999999999997,
          "yanchor": "bottom",
          "yref": "paper"
         },
         {
          "font": {},
          "showarrow": false,
          "text": "Оценка=Негативно",
          "x": 0.49999999999999994,
          "xanchor": "center",
          "xref": "paper",
          "y": 0.46499999999999997,
          "yanchor": "bottom",
          "yref": "paper"
         },
         {
          "font": {},
          "showarrow": false,
          "text": "Оценка=Нет оценки",
          "x": 0.8399999999999999,
          "xanchor": "center",
          "xref": "paper",
          "y": 0.46499999999999997,
          "yanchor": "bottom",
          "yref": "paper"
         },
         {
          "font": {},
          "showarrow": false,
          "text": "Оценка=Очень позитивно",
          "x": 0.15999999999999998,
          "xanchor": "center",
          "xref": "paper",
          "y": 0.9999999999999999,
          "yanchor": "bottom",
          "yref": "paper"
         },
         {
          "font": {},
          "showarrow": false,
          "text": "Оценка=Позитивно",
          "x": 0.49999999999999994,
          "xanchor": "center",
          "xref": "paper",
          "y": 0.9999999999999999,
          "yanchor": "bottom",
          "yref": "paper"
         },
         {
          "font": {},
          "showarrow": false,
          "text": "Оценка=Нейтрально",
          "x": 0.8399999999999999,
          "xanchor": "center",
          "xref": "paper",
          "y": 0.9999999999999999,
          "yanchor": "bottom",
          "yref": "paper"
         }
        ],
        "barmode": "relative",
        "height": 600,
        "legend": {
         "tracegroupgap": 0
        },
        "margin": {
         "b": 40,
         "l": 40,
         "r": 40,
         "t": 60
        },
        "template": {
         "data": {
          "bar": [
           {
            "error_x": {
             "color": "#2a3f5f"
            },
            "error_y": {
             "color": "#2a3f5f"
            },
            "marker": {
             "line": {
              "color": "#E5ECF6",
              "width": 0.5
             },
             "pattern": {
              "fillmode": "overlay",
              "size": 10,
              "solidity": 0.2
             }
            },
            "type": "bar"
           }
          ],
          "barpolar": [
           {
            "marker": {
             "line": {
              "color": "#E5ECF6",
              "width": 0.5
             },
             "pattern": {
              "fillmode": "overlay",
              "size": 10,
              "solidity": 0.2
             }
            },
            "type": "barpolar"
           }
          ],
          "carpet": [
           {
            "aaxis": {
             "endlinecolor": "#2a3f5f",
             "gridcolor": "white",
             "linecolor": "white",
             "minorgridcolor": "white",
             "startlinecolor": "#2a3f5f"
            },
            "baxis": {
             "endlinecolor": "#2a3f5f",
             "gridcolor": "white",
             "linecolor": "white",
             "minorgridcolor": "white",
             "startlinecolor": "#2a3f5f"
            },
            "type": "carpet"
           }
          ],
          "choropleth": [
           {
            "colorbar": {
             "outlinewidth": 0,
             "ticks": ""
            },
            "type": "choropleth"
           }
          ],
          "contour": [
           {
            "colorbar": {
             "outlinewidth": 0,
             "ticks": ""
            },
            "colorscale": [
             [
              0,
              "#0d0887"
             ],
             [
              0.1111111111111111,
              "#46039f"
             ],
             [
              0.2222222222222222,
              "#7201a8"
             ],
             [
              0.3333333333333333,
              "#9c179e"
             ],
             [
              0.4444444444444444,
              "#bd3786"
             ],
             [
              0.5555555555555556,
              "#d8576b"
             ],
             [
              0.6666666666666666,
              "#ed7953"
             ],
             [
              0.7777777777777778,
              "#fb9f3a"
             ],
             [
              0.8888888888888888,
              "#fdca26"
             ],
             [
              1,
              "#f0f921"
             ]
            ],
            "type": "contour"
           }
          ],
          "contourcarpet": [
           {
            "colorbar": {
             "outlinewidth": 0,
             "ticks": ""
            },
            "type": "contourcarpet"
           }
          ],
          "heatmap": [
           {
            "colorbar": {
             "outlinewidth": 0,
             "ticks": ""
            },
            "colorscale": [
             [
              0,
              "#0d0887"
             ],
             [
              0.1111111111111111,
              "#46039f"
             ],
             [
              0.2222222222222222,
              "#7201a8"
             ],
             [
              0.3333333333333333,
              "#9c179e"
             ],
             [
              0.4444444444444444,
              "#bd3786"
             ],
             [
              0.5555555555555556,
              "#d8576b"
             ],
             [
              0.6666666666666666,
              "#ed7953"
             ],
             [
              0.7777777777777778,
              "#fb9f3a"
             ],
             [
              0.8888888888888888,
              "#fdca26"
             ],
             [
              1,
              "#f0f921"
             ]
            ],
            "type": "heatmap"
           }
          ],
          "histogram": [
           {
            "marker": {
             "pattern": {
              "fillmode": "overlay",
              "size": 10,
              "solidity": 0.2
             }
            },
            "type": "histogram"
           }
          ],
          "histogram2d": [
           {
            "colorbar": {
             "outlinewidth": 0,
             "ticks": ""
            },
            "colorscale": [
             [
              0,
              "#0d0887"
             ],
             [
              0.1111111111111111,
              "#46039f"
             ],
             [
              0.2222222222222222,
              "#7201a8"
             ],
             [
              0.3333333333333333,
              "#9c179e"
             ],
             [
              0.4444444444444444,
              "#bd3786"
             ],
             [
              0.5555555555555556,
              "#d8576b"
             ],
             [
              0.6666666666666666,
              "#ed7953"
             ],
             [
              0.7777777777777778,
              "#fb9f3a"
             ],
             [
              0.8888888888888888,
              "#fdca26"
             ],
             [
              1,
              "#f0f921"
             ]
            ],
            "type": "histogram2d"
           }
          ],
          "histogram2dcontour": [
           {
            "colorbar": {
             "outlinewidth": 0,
             "ticks": ""
            },
            "colorscale": [
             [
              0,
              "#0d0887"
             ],
             [
              0.1111111111111111,
              "#46039f"
             ],
             [
              0.2222222222222222,
              "#7201a8"
             ],
             [
              0.3333333333333333,
              "#9c179e"
             ],
             [
              0.4444444444444444,
              "#bd3786"
             ],
             [
              0.5555555555555556,
              "#d8576b"
             ],
             [
              0.6666666666666666,
              "#ed7953"
             ],
             [
              0.7777777777777778,
              "#fb9f3a"
             ],
             [
              0.8888888888888888,
              "#fdca26"
             ],
             [
              1,
              "#f0f921"
             ]
            ],
            "type": "histogram2dcontour"
           }
          ],
          "mesh3d": [
           {
            "colorbar": {
             "outlinewidth": 0,
             "ticks": ""
            },
            "type": "mesh3d"
           }
          ],
          "parcoords": [
           {
            "line": {
             "colorbar": {
              "outlinewidth": 0,
              "ticks": ""
             }
            },
            "type": "parcoords"
           }
          ],
          "pie": [
           {
            "automargin": true,
            "type": "pie"
           }
          ],
          "scatter": [
           {
            "fillpattern": {
             "fillmode": "overlay",
             "size": 10,
             "solidity": 0.2
            },
            "type": "scatter"
           }
          ],
          "scatter3d": [
           {
            "line": {
             "colorbar": {
              "outlinewidth": 0,
              "ticks": ""
             }
            },
            "marker": {
             "colorbar": {
              "outlinewidth": 0,
              "ticks": ""
             }
            },
            "type": "scatter3d"
           }
          ],
          "scattercarpet": [
           {
            "marker": {
             "colorbar": {
              "outlinewidth": 0,
              "ticks": ""
             }
            },
            "type": "scattercarpet"
           }
          ],
          "scattergeo": [
           {
            "marker": {
             "colorbar": {
              "outlinewidth": 0,
              "ticks": ""
             }
            },
            "type": "scattergeo"
           }
          ],
          "scattergl": [
           {
            "marker": {
             "colorbar": {
              "outlinewidth": 0,
              "ticks": ""
             }
            },
            "type": "scattergl"
           }
          ],
          "scattermap": [
           {
            "marker": {
             "colorbar": {
              "outlinewidth": 0,
              "ticks": ""
             }
            },
            "type": "scattermap"
           }
          ],
          "scattermapbox": [
           {
            "marker": {
             "colorbar": {
              "outlinewidth": 0,
              "ticks": ""
             }
            },
            "type": "scattermapbox"
           }
          ],
          "scatterpolar": [
           {
            "marker": {
             "colorbar": {
              "outlinewidth": 0,
              "ticks": ""
             }
            },
            "type": "scatterpolar"
           }
          ],
          "scatterpolargl": [
           {
            "marker": {
             "colorbar": {
              "outlinewidth": 0,
              "ticks": ""
             }
            },
            "type": "scatterpolargl"
           }
          ],
          "scatterternary": [
           {
            "marker": {
             "colorbar": {
              "outlinewidth": 0,
              "ticks": ""
             }
            },
            "type": "scatterternary"
           }
          ],
          "surface": [
           {
            "colorbar": {
             "outlinewidth": 0,
             "ticks": ""
            },
            "colorscale": [
             [
              0,
              "#0d0887"
             ],
             [
              0.1111111111111111,
              "#46039f"
             ],
             [
              0.2222222222222222,
              "#7201a8"
             ],
             [
              0.3333333333333333,
              "#9c179e"
             ],
             [
              0.4444444444444444,
              "#bd3786"
             ],
             [
              0.5555555555555556,
              "#d8576b"
             ],
             [
              0.6666666666666666,
              "#ed7953"
             ],
             [
              0.7777777777777778,
              "#fb9f3a"
             ],
             [
              0.8888888888888888,
              "#fdca26"
             ],
             [
              1,
              "#f0f921"
             ]
            ],
            "type": "surface"
           }
          ],
          "table": [
           {
            "cells": {
             "fill": {
              "color": "#EBF0F8"
             },
             "line": {
              "color": "white"
             }
            },
            "header": {
             "fill": {
              "color": "#C8D4E3"
             },
             "line": {
              "color": "white"
             }
            },
            "type": "table"
           }
          ]
         },
         "layout": {
          "annotationdefaults": {
           "arrowcolor": "#2a3f5f",
           "arrowhead": 0,
           "arrowwidth": 1
          },
          "autotypenumbers": "strict",
          "coloraxis": {
           "colorbar": {
            "outlinewidth": 0,
            "ticks": ""
           }
          },
          "colorscale": {
           "diverging": [
            [
             0,
             "#8e0152"
            ],
            [
             0.1,
             "#c51b7d"
            ],
            [
             0.2,
             "#de77ae"
            ],
            [
             0.3,
             "#f1b6da"
            ],
            [
             0.4,
             "#fde0ef"
            ],
            [
             0.5,
             "#f7f7f7"
            ],
            [
             0.6,
             "#e6f5d0"
            ],
            [
             0.7,
             "#b8e186"
            ],
            [
             0.8,
             "#7fbc41"
            ],
            [
             0.9,
             "#4d9221"
            ],
            [
             1,
             "#276419"
            ]
           ],
           "sequential": [
            [
             0,
             "#0d0887"
            ],
            [
             0.1111111111111111,
             "#46039f"
            ],
            [
             0.2222222222222222,
             "#7201a8"
            ],
            [
             0.3333333333333333,
             "#9c179e"
            ],
            [
             0.4444444444444444,
             "#bd3786"
            ],
            [
             0.5555555555555556,
             "#d8576b"
            ],
            [
             0.6666666666666666,
             "#ed7953"
            ],
            [
             0.7777777777777778,
             "#fb9f3a"
            ],
            [
             0.8888888888888888,
             "#fdca26"
            ],
            [
             1,
             "#f0f921"
            ]
           ],
           "sequentialminus": [
            [
             0,
             "#0d0887"
            ],
            [
             0.1111111111111111,
             "#46039f"
            ],
            [
             0.2222222222222222,
             "#7201a8"
            ],
            [
             0.3333333333333333,
             "#9c179e"
            ],
            [
             0.4444444444444444,
             "#bd3786"
            ],
            [
             0.5555555555555556,
             "#d8576b"
            ],
            [
             0.6666666666666666,
             "#ed7953"
            ],
            [
             0.7777777777777778,
             "#fb9f3a"
            ],
            [
             0.8888888888888888,
             "#fdca26"
            ],
            [
             1,
             "#f0f921"
            ]
           ]
          },
          "colorway": [
           "#636efa",
           "#EF553B",
           "#00cc96",
           "#ab63fa",
           "#FFA15A",
           "#19d3f3",
           "#FF6692",
           "#B6E880",
           "#FF97FF",
           "#FECB52"
          ],
          "font": {
           "color": "#2a3f5f"
          },
          "geo": {
           "bgcolor": "white",
           "lakecolor": "white",
           "landcolor": "#E5ECF6",
           "showlakes": true,
           "showland": true,
           "subunitcolor": "white"
          },
          "hoverlabel": {
           "align": "left"
          },
          "hovermode": "closest",
          "mapbox": {
           "style": "light"
          },
          "paper_bgcolor": "white",
          "plot_bgcolor": "#E5ECF6",
          "polar": {
           "angularaxis": {
            "gridcolor": "white",
            "linecolor": "white",
            "ticks": ""
           },
           "bgcolor": "#E5ECF6",
           "radialaxis": {
            "gridcolor": "white",
            "linecolor": "white",
            "ticks": ""
           }
          },
          "scene": {
           "xaxis": {
            "backgroundcolor": "#E5ECF6",
            "gridcolor": "white",
            "gridwidth": 2,
            "linecolor": "white",
            "showbackground": true,
            "ticks": "",
            "zerolinecolor": "white"
           },
           "yaxis": {
            "backgroundcolor": "#E5ECF6",
            "gridcolor": "white",
            "gridwidth": 2,
            "linecolor": "white",
            "showbackground": true,
            "ticks": "",
            "zerolinecolor": "white"
           },
           "zaxis": {
            "backgroundcolor": "#E5ECF6",
            "gridcolor": "white",
            "gridwidth": 2,
            "linecolor": "white",
            "showbackground": true,
            "ticks": "",
            "zerolinecolor": "white"
           }
          },
          "shapedefaults": {
           "line": {
            "color": "#2a3f5f"
           }
          },
          "ternary": {
           "aaxis": {
            "gridcolor": "white",
            "linecolor": "white",
            "ticks": ""
           },
           "baxis": {
            "gridcolor": "white",
            "linecolor": "white",
            "ticks": ""
           },
           "bgcolor": "#E5ECF6",
           "caxis": {
            "gridcolor": "white",
            "linecolor": "white",
            "ticks": ""
           }
          },
          "title": {
           "x": 0.05
          },
          "xaxis": {
           "automargin": true,
           "gridcolor": "white",
           "linecolor": "white",
           "ticks": "",
           "title": {
            "standoff": 15
           },
           "zerolinecolor": "white",
           "zerolinewidth": 2
          },
          "yaxis": {
           "automargin": true,
           "gridcolor": "white",
           "linecolor": "white",
           "ticks": "",
           "title": {
            "standoff": 15
           },
           "zerolinecolor": "white",
           "zerolinewidth": 2
          }
         }
        },
        "title": {
         "text": "Распределение количества мнений респондентов по поводу использования транспорта по оценкам (доли)",
         "x": 0.5
        },
        "uniformtext": {
         "minsize": 12,
         "mode": "show"
        },
        "width": 1400,
        "xaxis": {
         "anchor": "y",
         "domain": [
          0,
          0.31999999999999995
         ],
         "title": {
          "text": "Тип передвижения"
         }
        },
        "xaxis2": {
         "anchor": "y2",
         "domain": [
          0.33999999999999997,
          0.6599999999999999
         ],
         "matches": "x",
         "title": {
          "text": "Тип передвижения"
         }
        },
        "xaxis3": {
         "anchor": "y3",
         "domain": [
          0.6799999999999999,
          0.9999999999999999
         ],
         "matches": "x",
         "title": {
          "text": "Тип передвижения"
         }
        },
        "xaxis4": {
         "anchor": "y4",
         "domain": [
          0,
          0.31999999999999995
         ],
         "matches": "x",
         "showticklabels": false
        },
        "xaxis5": {
         "anchor": "y5",
         "domain": [
          0.33999999999999997,
          0.6599999999999999
         ],
         "matches": "x",
         "showticklabels": false
        },
        "xaxis6": {
         "anchor": "y6",
         "domain": [
          0.6799999999999999,
          0.9999999999999999
         ],
         "matches": "x",
         "showticklabels": false
        },
        "yaxis": {
         "anchor": "x",
         "domain": [
          0,
          0.46499999999999997
         ],
         "title": {
          "text": "Доля"
         }
        },
        "yaxis2": {
         "anchor": "x2",
         "domain": [
          0,
          0.46499999999999997
         ],
         "matches": "y",
         "showticklabels": false
        },
        "yaxis3": {
         "anchor": "x3",
         "domain": [
          0,
          0.46499999999999997
         ],
         "matches": "y",
         "showticklabels": false
        },
        "yaxis4": {
         "anchor": "x4",
         "domain": [
          0.5349999999999999,
          0.9999999999999999
         ],
         "matches": "y",
         "title": {
          "text": "Доля"
         }
        },
        "yaxis5": {
         "anchor": "x5",
         "domain": [
          0.5349999999999999,
          0.9999999999999999
         ],
         "matches": "y",
         "showticklabels": false
        },
        "yaxis6": {
         "anchor": "x6",
         "domain": [
          0.5349999999999999,
          0.9999999999999999
         ],
         "matches": "y",
         "showticklabels": false
        }
       }
      }
     },
     "metadata": {},
     "output_type": "display_data"
    }
   ],
   "source": [
    "df31 = df.groupby('OORDEEL_AUTO').size().reset_index().rename(columns = {'OORDEEL_AUTO': 'Оценка автомобиля', 0: 'Количество поездок'}).sort_values('Количество поездок', ascending=False)\n",
    "df31['Тип передвижения'] = 'Автомобиль'\n",
    "\n",
    "\n",
    "df32 = df.groupby('OORDEEL_TREIN').size().reset_index().rename(columns = {'OORDEEL_TREIN': 'Оценка поезда', 0: 'Количество поездок'}).sort_values('Количество поездок', ascending=False)\n",
    "df32['Тип передвижения'] = 'Поезд'\n",
    "\n",
    "\n",
    "df33 = df.groupby('OORDEEL_BTM').size().reset_index().rename(columns = {'OORDEEL_BTM': 'Оценка общественного транспорта', 0: 'Количество поездок'}).sort_values('Количество поездок', ascending=False)\n",
    "df33['Тип передвижения'] = 'Общественный транспорт'\n",
    "\n",
    "\n",
    "df34 = df.groupby('OORDEEL_FIETS').size().reset_index().rename(columns = {'OORDEEL_FIETS': 'Оценка велосипеда', 0: 'Количество поездок'}).sort_values('Количество поездок', ascending=False)\n",
    "df34['Тип передвижения'] = 'Велосипед'\n",
    "\n",
    "\n",
    "df35 = df.groupby('OORDEEL_BROMMER').size().reset_index().rename(columns = {'OORDEEL_BROMMER': 'Оценка мотоцикла', 0: 'Количество поездок'}).sort_values('Количество поездок', ascending=False)\n",
    "df35['Тип передвижения'] = 'Мотоцикл'\n",
    "\n",
    "\n",
    "df36 = df.groupby('OORDEEL_LOPEN').size().reset_index().rename(columns = {'OORDEEL_LOPEN': 'Оценка ходить пешком', 0: 'Количество поездок'}).sort_values('Количество поездок', ascending=False)\n",
    "df36['Тип передвижения'] = 'Пешая прогулка'\n",
    "\n",
    "\n",
    "df3 = pd.concat([df31, df32, df33, df34, df35, df36])\n",
    "\n",
    "overall = sum(df31['Количество поездок'])\n",
    "\n",
    "\n",
    "\n",
    "df_long = pd.melt(\n",
    "    df3,\n",
    "    id_vars=['Количество поездок', 'Тип передвижения'],\n",
    "    value_vars=['Оценка автомобиля', 'Оценка поезда', 'Оценка общественного транспорта',\n",
    "                'Оценка велосипеда', 'Оценка мотоцикла', 'Оценка ходить пешком'],\n",
    "    var_name='Тип оценки',\n",
    "    value_name='Оценка'\n",
    ")\n",
    "\n",
    "\n",
    "df_long.dropna(inplace=True)\n",
    "\n",
    "df_long['Доля'] = round((df_long['Количество поездок'] / overall) * 100, 2)\n",
    "\n",
    "\n",
    "df_long['Оценка'] = df_long['Оценка'].replace({1: 'Очень негативно',\n",
    "                                   2: 'Негативно',\n",
    "                                   3: 'Нейтрально',\n",
    "                                   4: 'Позитивно',\n",
    "                                   5: 'Очень позитивно',\n",
    "                                   6: 'Нет оценки',\n",
    "                                   })\n",
    "order = ['Очень позитивно', 'Позитивно', 'Нейтрально', 'Очень негативно', 'Негативно', 'Нет оценки']\n",
    "df_long['Оценка'] = pd.Categorical(df_long['Оценка'], categories=order, ordered=True)\n",
    "\n",
    "df_long = df_long.rename(columns={'Количество поездок': 'Количество ответивших'})\n",
    "\n",
    "#--------------ОТОБРАЗИМ ВСЕ В КОЛИЧЕСТВАХ----------------------\n",
    "\n",
    "fig3 = px.bar(\n",
    "    df_long, \n",
    "    x='Тип передвижения', \n",
    "    y='Количество ответивших', \n",
    "    text='Количество ответивших',\n",
    "    facet_col='Оценка',\n",
    "    facet_col_wrap=3,  # Создаем две строки по 3 графика\n",
    "    height=600, \n",
    "    width=1400,\n",
    "    category_orders={'Оценка': order}\n",
    ")\n",
    "\n",
    "fig3.update_traces(textfont_size=10, textposition='outside', cliponaxis=False)\n",
    "\n",
    "fig3.update_layout(\n",
    "    title={'text': 'Распределение количества мнений респондентов по поводу использования транспорта по оценкам', 'x': 0.5},\n",
    "    margin=dict(t=60, b=40, l=40, r=40),\n",
    "    legend=dict(title='Тип передвижения', orientation='h', yanchor='bottom', y=-0.2, xanchor='center', x=0.5)\n",
    ")\n",
    "\n",
    "fig3.show()\n",
    "\n",
    "\n",
    "#--------------ОТОБРАЗИМ ВСЕ В ДОЛЯХ----------------------\n",
    "fig4 = px.bar(\n",
    "    df_long, \n",
    "    x='Тип передвижения', \n",
    "    y='Доля', \n",
    "    text='Доля',\n",
    "    facet_col='Оценка',\n",
    "    facet_col_wrap=3,\n",
    "    height=600, \n",
    "    width=1400,\n",
    "    category_orders={'Оценка': order}\n",
    ")\n",
    "\n",
    "fig4.update_traces(\n",
    "    textposition='outside',\n",
    "    textfont=dict(size=12),  \n",
    "    cliponaxis=False,  \n",
    "    texttemplate='%{text}%', \n",
    "    offsetgroup=1 \n",
    ")\n",
    "\n",
    "fig4.update_layout(\n",
    "    title={'text': 'Распределение количества мнений респондентов по поводу использования транспорта по оценкам (доли)', 'x': 0.5},\n",
    "    margin=dict(t=60, b=40, l=40, r=40),\n",
    "    uniformtext_minsize=12,\n",
    "    uniformtext_mode='show'  \n",
    ")\n",
    "\n",
    "fig4.show()\n"
   ]
  },
  {
   "cell_type": "markdown",
   "id": "89885761",
   "metadata": {},
   "source": [
    "### График 4 (Восприятие экономии времени разных видов транспорта)"
   ]
  },
  {
   "cell_type": "markdown",
   "id": "332bf583",
   "metadata": {},
   "source": [
    "    # Восприятие транспорта (важно для моделирования предпочтений)\n",
    "    'GEBRUIK_AUTO_STELLING3': 'восприятие_экономии_времени_авто',\n",
    "    'GEBRUIK_AUTO_STELLING4': 'восприятие_безопасности_авто',\n",
    "    'GEBRUIK_TREIN_STELLING3': 'восприятие_экономии_времени_поезда',\n",
    "    'GEBRUIK_TREIN_STELLING4': 'восприятие_безопасности_поезда',\n",
    "    'GEBRUIK_BTM_STELLING3': 'восприятие_экономии_времени_общественного_транспорта',\n",
    "    'GEBRUIK_BTM_STELLING4': 'восприятие_безопасности_общественного_транспорта',\n",
    "    'GEBRUIK_FIETS_STELLING2': 'восприятие_релаксации_на_велосипеде',\n",
    "    'GEBRUIK_FIETS_STELLING3': 'восприятие_экономии_времени_велосипеда',\n",
    "    'GEBRUIK_LOPEN_STELLING3': 'восприятие_экономии_времени_ходьбы',\n",
    "    'GEBRUIK_LOPEN_STELLING4': 'восприятие_безопасности_ходьбы',"
   ]
  },
  {
   "cell_type": "code",
   "execution_count": 600,
   "id": "d72a759c",
   "metadata": {},
   "outputs": [
    {
     "name": "stdout",
     "output_type": "stream",
     "text": [
      "4465\n"
     ]
    },
    {
     "data": {
      "application/vnd.plotly.v1+json": {
       "config": {
        "plotlyServerURL": "https://plotly.com"
       },
       "data": [
        {
         "cliponaxis": false,
         "hovertemplate": "Оценка=Абсолютно согласен<br>Тип передвижения=%{x}<br>Количество ответивших=%{text}<extra></extra>",
         "legendgroup": "",
         "marker": {
          "color": "#636efa",
          "pattern": {
           "shape": ""
          }
         },
         "name": "",
         "orientation": "v",
         "showlegend": false,
         "text": {
          "bdata": "AAAAAACsnEAAAAAAAKBtQAAAAAAAAGZAAAAAAAC4gUAAAAAAAMBmQA==",
          "dtype": "f8"
         },
         "textfont": {
          "size": 10
         },
         "textposition": "outside",
         "type": "bar",
         "x": [
          "Автомобиль",
          "Поезд",
          "Общественный транспорт",
          "Велосипед",
          "Ходьба"
         ],
         "xaxis": "x4",
         "y": {
          "bdata": "KwftALAANwK2AA==",
          "dtype": "i2"
         },
         "yaxis": "y4"
        },
        {
         "cliponaxis": false,
         "hovertemplate": "Оценка=Согласен<br>Тип передвижения=%{x}<br>Количество ответивших=%{text}<extra></extra>",
         "legendgroup": "",
         "marker": {
          "color": "#636efa",
          "pattern": {
           "shape": ""
          }
         },
         "name": "",
         "orientation": "v",
         "showlegend": false,
         "text": {
          "bdata": "AAAAAADEnUAAAAAAANCHQAAAAAAAQI9AAAAAAAB4nkAAAAAAAPiBQA==",
          "dtype": "f8"
         },
         "textfont": {
          "size": 10
         },
         "textposition": "outside",
         "type": "bar",
         "x": [
          "Автомобиль",
          "Поезд",
          "Общественный транспорт",
          "Велосипед",
          "Ходьба"
         ],
         "xaxis": "x5",
         "y": {
          "bdata": "cQf6AugDngc/Ag==",
          "dtype": "i2"
         },
         "yaxis": "y5"
        },
        {
         "cliponaxis": false,
         "hovertemplate": "Оценка=Не уверен<br>Тип передвижения=%{x}<br>Количество ответивших=%{text}<extra></extra>",
         "legendgroup": "",
         "marker": {
          "color": "#636efa",
          "pattern": {
           "shape": ""
          }
         },
         "name": "",
         "orientation": "v",
         "showlegend": false,
         "text": {
          "bdata": "AAAAAADAeEAAAAAAAICVQAAAAAAAZJNAAAAAAABskEAAAAAAADiTQA==",
          "dtype": "f8"
         },
         "textfont": {
          "size": 10
         },
         "textposition": "outside",
         "type": "bar",
         "x": [
          "Автомобиль",
          "Поезд",
          "Общественный транспорт",
          "Велосипед",
          "Ходьба"
         ],
         "xaxis": "x6",
         "y": {
          "bdata": "jAFgBdkEGwTOBA==",
          "dtype": "i2"
         },
         "yaxis": "y6"
        },
        {
         "cliponaxis": false,
         "hovertemplate": "Оценка=Абсолютно не согласен<br>Тип передвижения=%{x}<br>Количество ответивших=%{text}<extra></extra>",
         "legendgroup": "",
         "marker": {
          "color": "#636efa",
          "pattern": {
           "shape": ""
          }
         },
         "name": "",
         "orientation": "v",
         "showlegend": false,
         "text": {
          "bdata": "AAAAAAAAQkAAAAAAAPB5QAAAAAAAkHdAAAAAAACAXUAAAAAAAIB+QA==",
          "dtype": "f8"
         },
         "textfont": {
          "size": 10
         },
         "textposition": "outside",
         "type": "bar",
         "x": [
          "Автомобиль",
          "Поезд",
          "Общественный транспорт",
          "Велосипед",
          "Ходьба"
         ],
         "xaxis": "x",
         "y": {
          "bdata": "JACfAXkBdgDoAQ==",
          "dtype": "i2"
         },
         "yaxis": "y"
        },
        {
         "cliponaxis": false,
         "hovertemplate": "Оценка=Не согласен<br>Тип передвижения=%{x}<br>Количество ответивших=%{text}<extra></extra>",
         "legendgroup": "",
         "marker": {
          "color": "#636efa",
          "pattern": {
           "shape": ""
          }
         },
         "name": "",
         "orientation": "v",
         "showlegend": false,
         "text": {
          "bdata": "AAAAAAAAW0AAAAAAAMiWQAAAAAAARJZAAAAAAACYgkAAAAAAAGidQA==",
          "dtype": "f8"
         },
         "textfont": {
          "size": 10
         },
         "textposition": "outside",
         "type": "bar",
         "x": [
          "Автомобиль",
          "Поезд",
          "Общественный транспорт",
          "Велосипед",
          "Ходьба"
         ],
         "xaxis": "x2",
         "y": {
          "bdata": "bACyBZEFUwJaBw==",
          "dtype": "i2"
         },
         "yaxis": "y2"
        },
        {
         "cliponaxis": false,
         "hovertemplate": "Оценка=Нет оценки<br>Тип передвижения=%{x}<br>Количество ответивших=%{text}<extra></extra>",
         "legendgroup": "",
         "marker": {
          "color": "#636efa",
          "pattern": {
           "shape": ""
          }
         },
         "name": "",
         "orientation": "v",
         "showlegend": false,
         "text": {
          "bdata": "AAAAAAAgZ0AAAAAAACBrQAAAAAAAwG5AAAAAAAAAZ0AAAAAAAABbQA==",
          "dtype": "f8"
         },
         "textfont": {
          "size": 10
         },
         "textposition": "outside",
         "type": "bar",
         "x": [
          "Автомобиль",
          "Поезд",
          "Общественный транспорт",
          "Велосипед",
          "Ходьба"
         ],
         "xaxis": "x3",
         "y": {
          "bdata": "uQDZAPYAuABsAA==",
          "dtype": "i2"
         },
         "yaxis": "y3"
        }
       ],
       "layout": {
        "annotations": [
         {
          "font": {},
          "showarrow": false,
          "text": "Оценка=Абсолютно не согласен",
          "x": 0.15999999999999998,
          "xanchor": "center",
          "xref": "paper",
          "y": 0.46499999999999997,
          "yanchor": "bottom",
          "yref": "paper"
         },
         {
          "font": {},
          "showarrow": false,
          "text": "Оценка=Не согласен",
          "x": 0.49999999999999994,
          "xanchor": "center",
          "xref": "paper",
          "y": 0.46499999999999997,
          "yanchor": "bottom",
          "yref": "paper"
         },
         {
          "font": {},
          "showarrow": false,
          "text": "Оценка=Нет оценки",
          "x": 0.8399999999999999,
          "xanchor": "center",
          "xref": "paper",
          "y": 0.46499999999999997,
          "yanchor": "bottom",
          "yref": "paper"
         },
         {
          "font": {},
          "showarrow": false,
          "text": "Оценка=Абсолютно согласен",
          "x": 0.15999999999999998,
          "xanchor": "center",
          "xref": "paper",
          "y": 0.9999999999999999,
          "yanchor": "bottom",
          "yref": "paper"
         },
         {
          "font": {},
          "showarrow": false,
          "text": "Оценка=Согласен",
          "x": 0.49999999999999994,
          "xanchor": "center",
          "xref": "paper",
          "y": 0.9999999999999999,
          "yanchor": "bottom",
          "yref": "paper"
         },
         {
          "font": {},
          "showarrow": false,
          "text": "Оценка=Не уверен",
          "x": 0.8399999999999999,
          "xanchor": "center",
          "xref": "paper",
          "y": 0.9999999999999999,
          "yanchor": "bottom",
          "yref": "paper"
         }
        ],
        "barmode": "relative",
        "height": 600,
        "legend": {
         "orientation": "h",
         "title": {
          "text": "Тип передвижения"
         },
         "tracegroupgap": 0,
         "x": 0.5,
         "xanchor": "center",
         "y": -0.2,
         "yanchor": "bottom"
        },
        "margin": {
         "b": 40,
         "l": 40,
         "r": 40,
         "t": 60
        },
        "template": {
         "data": {
          "bar": [
           {
            "error_x": {
             "color": "#2a3f5f"
            },
            "error_y": {
             "color": "#2a3f5f"
            },
            "marker": {
             "line": {
              "color": "#E5ECF6",
              "width": 0.5
             },
             "pattern": {
              "fillmode": "overlay",
              "size": 10,
              "solidity": 0.2
             }
            },
            "type": "bar"
           }
          ],
          "barpolar": [
           {
            "marker": {
             "line": {
              "color": "#E5ECF6",
              "width": 0.5
             },
             "pattern": {
              "fillmode": "overlay",
              "size": 10,
              "solidity": 0.2
             }
            },
            "type": "barpolar"
           }
          ],
          "carpet": [
           {
            "aaxis": {
             "endlinecolor": "#2a3f5f",
             "gridcolor": "white",
             "linecolor": "white",
             "minorgridcolor": "white",
             "startlinecolor": "#2a3f5f"
            },
            "baxis": {
             "endlinecolor": "#2a3f5f",
             "gridcolor": "white",
             "linecolor": "white",
             "minorgridcolor": "white",
             "startlinecolor": "#2a3f5f"
            },
            "type": "carpet"
           }
          ],
          "choropleth": [
           {
            "colorbar": {
             "outlinewidth": 0,
             "ticks": ""
            },
            "type": "choropleth"
           }
          ],
          "contour": [
           {
            "colorbar": {
             "outlinewidth": 0,
             "ticks": ""
            },
            "colorscale": [
             [
              0,
              "#0d0887"
             ],
             [
              0.1111111111111111,
              "#46039f"
             ],
             [
              0.2222222222222222,
              "#7201a8"
             ],
             [
              0.3333333333333333,
              "#9c179e"
             ],
             [
              0.4444444444444444,
              "#bd3786"
             ],
             [
              0.5555555555555556,
              "#d8576b"
             ],
             [
              0.6666666666666666,
              "#ed7953"
             ],
             [
              0.7777777777777778,
              "#fb9f3a"
             ],
             [
              0.8888888888888888,
              "#fdca26"
             ],
             [
              1,
              "#f0f921"
             ]
            ],
            "type": "contour"
           }
          ],
          "contourcarpet": [
           {
            "colorbar": {
             "outlinewidth": 0,
             "ticks": ""
            },
            "type": "contourcarpet"
           }
          ],
          "heatmap": [
           {
            "colorbar": {
             "outlinewidth": 0,
             "ticks": ""
            },
            "colorscale": [
             [
              0,
              "#0d0887"
             ],
             [
              0.1111111111111111,
              "#46039f"
             ],
             [
              0.2222222222222222,
              "#7201a8"
             ],
             [
              0.3333333333333333,
              "#9c179e"
             ],
             [
              0.4444444444444444,
              "#bd3786"
             ],
             [
              0.5555555555555556,
              "#d8576b"
             ],
             [
              0.6666666666666666,
              "#ed7953"
             ],
             [
              0.7777777777777778,
              "#fb9f3a"
             ],
             [
              0.8888888888888888,
              "#fdca26"
             ],
             [
              1,
              "#f0f921"
             ]
            ],
            "type": "heatmap"
           }
          ],
          "histogram": [
           {
            "marker": {
             "pattern": {
              "fillmode": "overlay",
              "size": 10,
              "solidity": 0.2
             }
            },
            "type": "histogram"
           }
          ],
          "histogram2d": [
           {
            "colorbar": {
             "outlinewidth": 0,
             "ticks": ""
            },
            "colorscale": [
             [
              0,
              "#0d0887"
             ],
             [
              0.1111111111111111,
              "#46039f"
             ],
             [
              0.2222222222222222,
              "#7201a8"
             ],
             [
              0.3333333333333333,
              "#9c179e"
             ],
             [
              0.4444444444444444,
              "#bd3786"
             ],
             [
              0.5555555555555556,
              "#d8576b"
             ],
             [
              0.6666666666666666,
              "#ed7953"
             ],
             [
              0.7777777777777778,
              "#fb9f3a"
             ],
             [
              0.8888888888888888,
              "#fdca26"
             ],
             [
              1,
              "#f0f921"
             ]
            ],
            "type": "histogram2d"
           }
          ],
          "histogram2dcontour": [
           {
            "colorbar": {
             "outlinewidth": 0,
             "ticks": ""
            },
            "colorscale": [
             [
              0,
              "#0d0887"
             ],
             [
              0.1111111111111111,
              "#46039f"
             ],
             [
              0.2222222222222222,
              "#7201a8"
             ],
             [
              0.3333333333333333,
              "#9c179e"
             ],
             [
              0.4444444444444444,
              "#bd3786"
             ],
             [
              0.5555555555555556,
              "#d8576b"
             ],
             [
              0.6666666666666666,
              "#ed7953"
             ],
             [
              0.7777777777777778,
              "#fb9f3a"
             ],
             [
              0.8888888888888888,
              "#fdca26"
             ],
             [
              1,
              "#f0f921"
             ]
            ],
            "type": "histogram2dcontour"
           }
          ],
          "mesh3d": [
           {
            "colorbar": {
             "outlinewidth": 0,
             "ticks": ""
            },
            "type": "mesh3d"
           }
          ],
          "parcoords": [
           {
            "line": {
             "colorbar": {
              "outlinewidth": 0,
              "ticks": ""
             }
            },
            "type": "parcoords"
           }
          ],
          "pie": [
           {
            "automargin": true,
            "type": "pie"
           }
          ],
          "scatter": [
           {
            "fillpattern": {
             "fillmode": "overlay",
             "size": 10,
             "solidity": 0.2
            },
            "type": "scatter"
           }
          ],
          "scatter3d": [
           {
            "line": {
             "colorbar": {
              "outlinewidth": 0,
              "ticks": ""
             }
            },
            "marker": {
             "colorbar": {
              "outlinewidth": 0,
              "ticks": ""
             }
            },
            "type": "scatter3d"
           }
          ],
          "scattercarpet": [
           {
            "marker": {
             "colorbar": {
              "outlinewidth": 0,
              "ticks": ""
             }
            },
            "type": "scattercarpet"
           }
          ],
          "scattergeo": [
           {
            "marker": {
             "colorbar": {
              "outlinewidth": 0,
              "ticks": ""
             }
            },
            "type": "scattergeo"
           }
          ],
          "scattergl": [
           {
            "marker": {
             "colorbar": {
              "outlinewidth": 0,
              "ticks": ""
             }
            },
            "type": "scattergl"
           }
          ],
          "scattermap": [
           {
            "marker": {
             "colorbar": {
              "outlinewidth": 0,
              "ticks": ""
             }
            },
            "type": "scattermap"
           }
          ],
          "scattermapbox": [
           {
            "marker": {
             "colorbar": {
              "outlinewidth": 0,
              "ticks": ""
             }
            },
            "type": "scattermapbox"
           }
          ],
          "scatterpolar": [
           {
            "marker": {
             "colorbar": {
              "outlinewidth": 0,
              "ticks": ""
             }
            },
            "type": "scatterpolar"
           }
          ],
          "scatterpolargl": [
           {
            "marker": {
             "colorbar": {
              "outlinewidth": 0,
              "ticks": ""
             }
            },
            "type": "scatterpolargl"
           }
          ],
          "scatterternary": [
           {
            "marker": {
             "colorbar": {
              "outlinewidth": 0,
              "ticks": ""
             }
            },
            "type": "scatterternary"
           }
          ],
          "surface": [
           {
            "colorbar": {
             "outlinewidth": 0,
             "ticks": ""
            },
            "colorscale": [
             [
              0,
              "#0d0887"
             ],
             [
              0.1111111111111111,
              "#46039f"
             ],
             [
              0.2222222222222222,
              "#7201a8"
             ],
             [
              0.3333333333333333,
              "#9c179e"
             ],
             [
              0.4444444444444444,
              "#bd3786"
             ],
             [
              0.5555555555555556,
              "#d8576b"
             ],
             [
              0.6666666666666666,
              "#ed7953"
             ],
             [
              0.7777777777777778,
              "#fb9f3a"
             ],
             [
              0.8888888888888888,
              "#fdca26"
             ],
             [
              1,
              "#f0f921"
             ]
            ],
            "type": "surface"
           }
          ],
          "table": [
           {
            "cells": {
             "fill": {
              "color": "#EBF0F8"
             },
             "line": {
              "color": "white"
             }
            },
            "header": {
             "fill": {
              "color": "#C8D4E3"
             },
             "line": {
              "color": "white"
             }
            },
            "type": "table"
           }
          ]
         },
         "layout": {
          "annotationdefaults": {
           "arrowcolor": "#2a3f5f",
           "arrowhead": 0,
           "arrowwidth": 1
          },
          "autotypenumbers": "strict",
          "coloraxis": {
           "colorbar": {
            "outlinewidth": 0,
            "ticks": ""
           }
          },
          "colorscale": {
           "diverging": [
            [
             0,
             "#8e0152"
            ],
            [
             0.1,
             "#c51b7d"
            ],
            [
             0.2,
             "#de77ae"
            ],
            [
             0.3,
             "#f1b6da"
            ],
            [
             0.4,
             "#fde0ef"
            ],
            [
             0.5,
             "#f7f7f7"
            ],
            [
             0.6,
             "#e6f5d0"
            ],
            [
             0.7,
             "#b8e186"
            ],
            [
             0.8,
             "#7fbc41"
            ],
            [
             0.9,
             "#4d9221"
            ],
            [
             1,
             "#276419"
            ]
           ],
           "sequential": [
            [
             0,
             "#0d0887"
            ],
            [
             0.1111111111111111,
             "#46039f"
            ],
            [
             0.2222222222222222,
             "#7201a8"
            ],
            [
             0.3333333333333333,
             "#9c179e"
            ],
            [
             0.4444444444444444,
             "#bd3786"
            ],
            [
             0.5555555555555556,
             "#d8576b"
            ],
            [
             0.6666666666666666,
             "#ed7953"
            ],
            [
             0.7777777777777778,
             "#fb9f3a"
            ],
            [
             0.8888888888888888,
             "#fdca26"
            ],
            [
             1,
             "#f0f921"
            ]
           ],
           "sequentialminus": [
            [
             0,
             "#0d0887"
            ],
            [
             0.1111111111111111,
             "#46039f"
            ],
            [
             0.2222222222222222,
             "#7201a8"
            ],
            [
             0.3333333333333333,
             "#9c179e"
            ],
            [
             0.4444444444444444,
             "#bd3786"
            ],
            [
             0.5555555555555556,
             "#d8576b"
            ],
            [
             0.6666666666666666,
             "#ed7953"
            ],
            [
             0.7777777777777778,
             "#fb9f3a"
            ],
            [
             0.8888888888888888,
             "#fdca26"
            ],
            [
             1,
             "#f0f921"
            ]
           ]
          },
          "colorway": [
           "#636efa",
           "#EF553B",
           "#00cc96",
           "#ab63fa",
           "#FFA15A",
           "#19d3f3",
           "#FF6692",
           "#B6E880",
           "#FF97FF",
           "#FECB52"
          ],
          "font": {
           "color": "#2a3f5f"
          },
          "geo": {
           "bgcolor": "white",
           "lakecolor": "white",
           "landcolor": "#E5ECF6",
           "showlakes": true,
           "showland": true,
           "subunitcolor": "white"
          },
          "hoverlabel": {
           "align": "left"
          },
          "hovermode": "closest",
          "mapbox": {
           "style": "light"
          },
          "paper_bgcolor": "white",
          "plot_bgcolor": "#E5ECF6",
          "polar": {
           "angularaxis": {
            "gridcolor": "white",
            "linecolor": "white",
            "ticks": ""
           },
           "bgcolor": "#E5ECF6",
           "radialaxis": {
            "gridcolor": "white",
            "linecolor": "white",
            "ticks": ""
           }
          },
          "scene": {
           "xaxis": {
            "backgroundcolor": "#E5ECF6",
            "gridcolor": "white",
            "gridwidth": 2,
            "linecolor": "white",
            "showbackground": true,
            "ticks": "",
            "zerolinecolor": "white"
           },
           "yaxis": {
            "backgroundcolor": "#E5ECF6",
            "gridcolor": "white",
            "gridwidth": 2,
            "linecolor": "white",
            "showbackground": true,
            "ticks": "",
            "zerolinecolor": "white"
           },
           "zaxis": {
            "backgroundcolor": "#E5ECF6",
            "gridcolor": "white",
            "gridwidth": 2,
            "linecolor": "white",
            "showbackground": true,
            "ticks": "",
            "zerolinecolor": "white"
           }
          },
          "shapedefaults": {
           "line": {
            "color": "#2a3f5f"
           }
          },
          "ternary": {
           "aaxis": {
            "gridcolor": "white",
            "linecolor": "white",
            "ticks": ""
           },
           "baxis": {
            "gridcolor": "white",
            "linecolor": "white",
            "ticks": ""
           },
           "bgcolor": "#E5ECF6",
           "caxis": {
            "gridcolor": "white",
            "linecolor": "white",
            "ticks": ""
           }
          },
          "title": {
           "x": 0.05
          },
          "xaxis": {
           "automargin": true,
           "gridcolor": "white",
           "linecolor": "white",
           "ticks": "",
           "title": {
            "standoff": 15
           },
           "zerolinecolor": "white",
           "zerolinewidth": 2
          },
          "yaxis": {
           "automargin": true,
           "gridcolor": "white",
           "linecolor": "white",
           "ticks": "",
           "title": {
            "standoff": 15
           },
           "zerolinecolor": "white",
           "zerolinewidth": 2
          }
         }
        },
        "title": {
         "text": "Согласны ли вы, что этот вид транспорта экономит время?",
         "x": 0.5
        },
        "width": 1400,
        "xaxis": {
         "anchor": "y",
         "domain": [
          0,
          0.31999999999999995
         ],
         "title": {
          "text": "Тип передвижения"
         }
        },
        "xaxis2": {
         "anchor": "y2",
         "domain": [
          0.33999999999999997,
          0.6599999999999999
         ],
         "matches": "x",
         "title": {
          "text": "Тип передвижения"
         }
        },
        "xaxis3": {
         "anchor": "y3",
         "domain": [
          0.6799999999999999,
          0.9999999999999999
         ],
         "matches": "x",
         "title": {
          "text": "Тип передвижения"
         }
        },
        "xaxis4": {
         "anchor": "y4",
         "domain": [
          0,
          0.31999999999999995
         ],
         "matches": "x",
         "showticklabels": false
        },
        "xaxis5": {
         "anchor": "y5",
         "domain": [
          0.33999999999999997,
          0.6599999999999999
         ],
         "matches": "x",
         "showticklabels": false
        },
        "xaxis6": {
         "anchor": "y6",
         "domain": [
          0.6799999999999999,
          0.9999999999999999
         ],
         "matches": "x",
         "showticklabels": false
        },
        "yaxis": {
         "anchor": "x",
         "domain": [
          0,
          0.46499999999999997
         ],
         "title": {
          "text": "Количество ответивших"
         }
        },
        "yaxis2": {
         "anchor": "x2",
         "domain": [
          0,
          0.46499999999999997
         ],
         "matches": "y",
         "showticklabels": false
        },
        "yaxis3": {
         "anchor": "x3",
         "domain": [
          0,
          0.46499999999999997
         ],
         "matches": "y",
         "showticklabels": false
        },
        "yaxis4": {
         "anchor": "x4",
         "domain": [
          0.5349999999999999,
          0.9999999999999999
         ],
         "matches": "y",
         "title": {
          "text": "Количество ответивших"
         }
        },
        "yaxis5": {
         "anchor": "x5",
         "domain": [
          0.5349999999999999,
          0.9999999999999999
         ],
         "matches": "y",
         "showticklabels": false
        },
        "yaxis6": {
         "anchor": "x6",
         "domain": [
          0.5349999999999999,
          0.9999999999999999
         ],
         "matches": "y",
         "showticklabels": false
        }
       }
      }
     },
     "metadata": {},
     "output_type": "display_data"
    },
    {
     "data": {
      "application/vnd.plotly.v1+json": {
       "config": {
        "plotlyServerURL": "https://plotly.com"
       },
       "data": [
        {
         "cliponaxis": false,
         "hovertemplate": "Оценка=Абсолютно согласен<br>Тип передвижения=%{x}<br>Доля=%{text}<extra></extra>",
         "legendgroup": "",
         "marker": {
          "color": "#636efa",
          "pattern": {
           "shape": ""
          }
         },
         "name": "",
         "offsetgroup": "1",
         "orientation": "v",
         "showlegend": false,
         "text": {
          "bdata": "zczMzMyMREA9CtejcD0VQIXrUbgehQ9AZmZmZmZmKUBSuB6F61EQQA==",
          "dtype": "f8"
         },
         "textfont": {
          "size": 12
         },
         "textposition": "outside",
         "texttemplate": "%{text}%",
         "type": "bar",
         "x": [
          "Автомобиль",
          "Поезд",
          "Общественный транспорт",
          "Велосипед",
          "Ходьба"
         ],
         "xaxis": "x4",
         "y": {
          "bdata": "zczMzMyMREA9CtejcD0VQIXrUbgehQ9AZmZmZmZmKUBSuB6F61EQQA==",
          "dtype": "f8"
         },
         "yaxis": "y4"
        },
        {
         "cliponaxis": false,
         "hovertemplate": "Оценка=Согласен<br>Тип передвижения=%{x}<br>Доля=%{text}<extra></extra>",
         "legendgroup": "",
         "marker": {
          "color": "#636efa",
          "pattern": {
           "shape": ""
          }
         },
         "name": "",
         "offsetgroup": "1",
         "orientation": "v",
         "showlegend": false,
         "text": {
          "bdata": "9ihcj8JVRUBSuB6F6xExQGZmZmZmZjZA9ihcj8LVRUDD9Shcj8IpQA==",
          "dtype": "f8"
         },
         "textfont": {
          "size": 12
         },
         "textposition": "outside",
         "texttemplate": "%{text}%",
         "type": "bar",
         "x": [
          "Автомобиль",
          "Поезд",
          "Общественный транспорт",
          "Велосипед",
          "Ходьба"
         ],
         "xaxis": "x5",
         "y": {
          "bdata": "9ihcj8JVRUBSuB6F6xExQGZmZmZmZjZA9ihcj8LVRUDD9Shcj8IpQA==",
          "dtype": "f8"
         },
         "yaxis": "y5"
        },
        {
         "cliponaxis": false,
         "hovertemplate": "Оценка=Не уверен<br>Тип передвижения=%{x}<br>Доля=%{text}<extra></extra>",
         "legendgroup": "",
         "marker": {
          "color": "#636efa",
          "pattern": {
           "shape": ""
          }
         },
         "name": "",
         "offsetgroup": "1",
         "orientation": "v",
         "showlegend": false,
         "text": {
          "bdata": "PQrXo3C9IUBSuB6F69E+QArXo3A9yjtACtejcD2KN0DNzMzMzIw7QA==",
          "dtype": "f8"
         },
         "textfont": {
          "size": 12
         },
         "textposition": "outside",
         "texttemplate": "%{text}%",
         "type": "bar",
         "x": [
          "Автомобиль",
          "Поезд",
          "Общественный транспорт",
          "Велосипед",
          "Ходьба"
         ],
         "xaxis": "x6",
         "y": {
          "bdata": "PQrXo3C9IUBSuB6F69E+QArXo3A9yjtACtejcD2KN0DNzMzMzIw7QA==",
          "dtype": "f8"
         },
         "yaxis": "y6"
        },
        {
         "cliponaxis": false,
         "hovertemplate": "Оценка=Абсолютно не согласен<br>Тип передвижения=%{x}<br>Доля=%{text}<extra></extra>",
         "legendgroup": "",
         "marker": {
          "color": "#636efa",
          "pattern": {
           "shape": ""
          }
         },
         "name": "",
         "offsetgroup": "1",
         "orientation": "v",
         "showlegend": false,
         "text": {
          "bdata": "7FG4HoXr6T8UrkfhepQiQOF6FK5H4SBAH4XrUbgeBUBcj8L1KNwlQA==",
          "dtype": "f8"
         },
         "textfont": {
          "size": 12
         },
         "textposition": "outside",
         "texttemplate": "%{text}%",
         "type": "bar",
         "x": [
          "Автомобиль",
          "Поезд",
          "Общественный транспорт",
          "Велосипед",
          "Ходьба"
         ],
         "xaxis": "x",
         "y": {
          "bdata": "7FG4HoXr6T8UrkfhepQiQOF6FK5H4SBAH4XrUbgeBUBcj8L1KNwlQA==",
          "dtype": "f8"
         },
         "yaxis": "y"
        },
        {
         "cliponaxis": false,
         "hovertemplate": "Оценка=Не согласен<br>Тип передвижения=%{x}<br>Доля=%{text}<extra></extra>",
         "legendgroup": "",
         "marker": {
          "color": "#636efa",
          "pattern": {
           "shape": ""
          }
         },
         "name": "",
         "offsetgroup": "1",
         "orientation": "v",
         "showlegend": false,
         "text": {
          "bdata": "XI/C9ShcA0AzMzMzM1NAQClcj8L16D9AKVyPwvWoKkAzMzMzMxNFQA==",
          "dtype": "f8"
         },
         "textfont": {
          "size": 12
         },
         "textposition": "outside",
         "texttemplate": "%{text}%",
         "type": "bar",
         "x": [
          "Автомобиль",
          "Поезд",
          "Общественный транспорт",
          "Велосипед",
          "Ходьба"
         ],
         "xaxis": "x2",
         "y": {
          "bdata": "XI/C9ShcA0AzMzMzM1NAQClcj8L16D9AKVyPwvWoKkAzMzMzMxNFQA==",
          "dtype": "f8"
         },
         "yaxis": "y2"
        },
        {
         "cliponaxis": false,
         "hovertemplate": "Оценка=Нет оценки<br>Тип передвижения=%{x}<br>Доля=%{text}<extra></extra>",
         "legendgroup": "",
         "marker": {
          "color": "#636efa",
          "pattern": {
           "shape": ""
          }
         },
         "name": "",
         "offsetgroup": "1",
         "orientation": "v",
         "showlegend": false,
         "text": {
          "bdata": "j8L1KFyPEEBxPQrXo3ATQArXo3A9ChZAexSuR+F6EEBcj8L1KFwDQA==",
          "dtype": "f8"
         },
         "textfont": {
          "size": 12
         },
         "textposition": "outside",
         "texttemplate": "%{text}%",
         "type": "bar",
         "x": [
          "Автомобиль",
          "Поезд",
          "Общественный транспорт",
          "Велосипед",
          "Ходьба"
         ],
         "xaxis": "x3",
         "y": {
          "bdata": "j8L1KFyPEEBxPQrXo3ATQArXo3A9ChZAexSuR+F6EEBcj8L1KFwDQA==",
          "dtype": "f8"
         },
         "yaxis": "y3"
        }
       ],
       "layout": {
        "annotations": [
         {
          "font": {},
          "showarrow": false,
          "text": "Оценка=Абсолютно не согласен",
          "x": 0.15999999999999998,
          "xanchor": "center",
          "xref": "paper",
          "y": 0.46499999999999997,
          "yanchor": "bottom",
          "yref": "paper"
         },
         {
          "font": {},
          "showarrow": false,
          "text": "Оценка=Не согласен",
          "x": 0.49999999999999994,
          "xanchor": "center",
          "xref": "paper",
          "y": 0.46499999999999997,
          "yanchor": "bottom",
          "yref": "paper"
         },
         {
          "font": {},
          "showarrow": false,
          "text": "Оценка=Нет оценки",
          "x": 0.8399999999999999,
          "xanchor": "center",
          "xref": "paper",
          "y": 0.46499999999999997,
          "yanchor": "bottom",
          "yref": "paper"
         },
         {
          "font": {},
          "showarrow": false,
          "text": "Оценка=Абсолютно согласен",
          "x": 0.15999999999999998,
          "xanchor": "center",
          "xref": "paper",
          "y": 0.9999999999999999,
          "yanchor": "bottom",
          "yref": "paper"
         },
         {
          "font": {},
          "showarrow": false,
          "text": "Оценка=Согласен",
          "x": 0.49999999999999994,
          "xanchor": "center",
          "xref": "paper",
          "y": 0.9999999999999999,
          "yanchor": "bottom",
          "yref": "paper"
         },
         {
          "font": {},
          "showarrow": false,
          "text": "Оценка=Не уверен",
          "x": 0.8399999999999999,
          "xanchor": "center",
          "xref": "paper",
          "y": 0.9999999999999999,
          "yanchor": "bottom",
          "yref": "paper"
         }
        ],
        "barmode": "relative",
        "height": 600,
        "legend": {
         "tracegroupgap": 0
        },
        "margin": {
         "b": 40,
         "l": 40,
         "r": 40,
         "t": 60
        },
        "template": {
         "data": {
          "bar": [
           {
            "error_x": {
             "color": "#2a3f5f"
            },
            "error_y": {
             "color": "#2a3f5f"
            },
            "marker": {
             "line": {
              "color": "#E5ECF6",
              "width": 0.5
             },
             "pattern": {
              "fillmode": "overlay",
              "size": 10,
              "solidity": 0.2
             }
            },
            "type": "bar"
           }
          ],
          "barpolar": [
           {
            "marker": {
             "line": {
              "color": "#E5ECF6",
              "width": 0.5
             },
             "pattern": {
              "fillmode": "overlay",
              "size": 10,
              "solidity": 0.2
             }
            },
            "type": "barpolar"
           }
          ],
          "carpet": [
           {
            "aaxis": {
             "endlinecolor": "#2a3f5f",
             "gridcolor": "white",
             "linecolor": "white",
             "minorgridcolor": "white",
             "startlinecolor": "#2a3f5f"
            },
            "baxis": {
             "endlinecolor": "#2a3f5f",
             "gridcolor": "white",
             "linecolor": "white",
             "minorgridcolor": "white",
             "startlinecolor": "#2a3f5f"
            },
            "type": "carpet"
           }
          ],
          "choropleth": [
           {
            "colorbar": {
             "outlinewidth": 0,
             "ticks": ""
            },
            "type": "choropleth"
           }
          ],
          "contour": [
           {
            "colorbar": {
             "outlinewidth": 0,
             "ticks": ""
            },
            "colorscale": [
             [
              0,
              "#0d0887"
             ],
             [
              0.1111111111111111,
              "#46039f"
             ],
             [
              0.2222222222222222,
              "#7201a8"
             ],
             [
              0.3333333333333333,
              "#9c179e"
             ],
             [
              0.4444444444444444,
              "#bd3786"
             ],
             [
              0.5555555555555556,
              "#d8576b"
             ],
             [
              0.6666666666666666,
              "#ed7953"
             ],
             [
              0.7777777777777778,
              "#fb9f3a"
             ],
             [
              0.8888888888888888,
              "#fdca26"
             ],
             [
              1,
              "#f0f921"
             ]
            ],
            "type": "contour"
           }
          ],
          "contourcarpet": [
           {
            "colorbar": {
             "outlinewidth": 0,
             "ticks": ""
            },
            "type": "contourcarpet"
           }
          ],
          "heatmap": [
           {
            "colorbar": {
             "outlinewidth": 0,
             "ticks": ""
            },
            "colorscale": [
             [
              0,
              "#0d0887"
             ],
             [
              0.1111111111111111,
              "#46039f"
             ],
             [
              0.2222222222222222,
              "#7201a8"
             ],
             [
              0.3333333333333333,
              "#9c179e"
             ],
             [
              0.4444444444444444,
              "#bd3786"
             ],
             [
              0.5555555555555556,
              "#d8576b"
             ],
             [
              0.6666666666666666,
              "#ed7953"
             ],
             [
              0.7777777777777778,
              "#fb9f3a"
             ],
             [
              0.8888888888888888,
              "#fdca26"
             ],
             [
              1,
              "#f0f921"
             ]
            ],
            "type": "heatmap"
           }
          ],
          "histogram": [
           {
            "marker": {
             "pattern": {
              "fillmode": "overlay",
              "size": 10,
              "solidity": 0.2
             }
            },
            "type": "histogram"
           }
          ],
          "histogram2d": [
           {
            "colorbar": {
             "outlinewidth": 0,
             "ticks": ""
            },
            "colorscale": [
             [
              0,
              "#0d0887"
             ],
             [
              0.1111111111111111,
              "#46039f"
             ],
             [
              0.2222222222222222,
              "#7201a8"
             ],
             [
              0.3333333333333333,
              "#9c179e"
             ],
             [
              0.4444444444444444,
              "#bd3786"
             ],
             [
              0.5555555555555556,
              "#d8576b"
             ],
             [
              0.6666666666666666,
              "#ed7953"
             ],
             [
              0.7777777777777778,
              "#fb9f3a"
             ],
             [
              0.8888888888888888,
              "#fdca26"
             ],
             [
              1,
              "#f0f921"
             ]
            ],
            "type": "histogram2d"
           }
          ],
          "histogram2dcontour": [
           {
            "colorbar": {
             "outlinewidth": 0,
             "ticks": ""
            },
            "colorscale": [
             [
              0,
              "#0d0887"
             ],
             [
              0.1111111111111111,
              "#46039f"
             ],
             [
              0.2222222222222222,
              "#7201a8"
             ],
             [
              0.3333333333333333,
              "#9c179e"
             ],
             [
              0.4444444444444444,
              "#bd3786"
             ],
             [
              0.5555555555555556,
              "#d8576b"
             ],
             [
              0.6666666666666666,
              "#ed7953"
             ],
             [
              0.7777777777777778,
              "#fb9f3a"
             ],
             [
              0.8888888888888888,
              "#fdca26"
             ],
             [
              1,
              "#f0f921"
             ]
            ],
            "type": "histogram2dcontour"
           }
          ],
          "mesh3d": [
           {
            "colorbar": {
             "outlinewidth": 0,
             "ticks": ""
            },
            "type": "mesh3d"
           }
          ],
          "parcoords": [
           {
            "line": {
             "colorbar": {
              "outlinewidth": 0,
              "ticks": ""
             }
            },
            "type": "parcoords"
           }
          ],
          "pie": [
           {
            "automargin": true,
            "type": "pie"
           }
          ],
          "scatter": [
           {
            "fillpattern": {
             "fillmode": "overlay",
             "size": 10,
             "solidity": 0.2
            },
            "type": "scatter"
           }
          ],
          "scatter3d": [
           {
            "line": {
             "colorbar": {
              "outlinewidth": 0,
              "ticks": ""
             }
            },
            "marker": {
             "colorbar": {
              "outlinewidth": 0,
              "ticks": ""
             }
            },
            "type": "scatter3d"
           }
          ],
          "scattercarpet": [
           {
            "marker": {
             "colorbar": {
              "outlinewidth": 0,
              "ticks": ""
             }
            },
            "type": "scattercarpet"
           }
          ],
          "scattergeo": [
           {
            "marker": {
             "colorbar": {
              "outlinewidth": 0,
              "ticks": ""
             }
            },
            "type": "scattergeo"
           }
          ],
          "scattergl": [
           {
            "marker": {
             "colorbar": {
              "outlinewidth": 0,
              "ticks": ""
             }
            },
            "type": "scattergl"
           }
          ],
          "scattermap": [
           {
            "marker": {
             "colorbar": {
              "outlinewidth": 0,
              "ticks": ""
             }
            },
            "type": "scattermap"
           }
          ],
          "scattermapbox": [
           {
            "marker": {
             "colorbar": {
              "outlinewidth": 0,
              "ticks": ""
             }
            },
            "type": "scattermapbox"
           }
          ],
          "scatterpolar": [
           {
            "marker": {
             "colorbar": {
              "outlinewidth": 0,
              "ticks": ""
             }
            },
            "type": "scatterpolar"
           }
          ],
          "scatterpolargl": [
           {
            "marker": {
             "colorbar": {
              "outlinewidth": 0,
              "ticks": ""
             }
            },
            "type": "scatterpolargl"
           }
          ],
          "scatterternary": [
           {
            "marker": {
             "colorbar": {
              "outlinewidth": 0,
              "ticks": ""
             }
            },
            "type": "scatterternary"
           }
          ],
          "surface": [
           {
            "colorbar": {
             "outlinewidth": 0,
             "ticks": ""
            },
            "colorscale": [
             [
              0,
              "#0d0887"
             ],
             [
              0.1111111111111111,
              "#46039f"
             ],
             [
              0.2222222222222222,
              "#7201a8"
             ],
             [
              0.3333333333333333,
              "#9c179e"
             ],
             [
              0.4444444444444444,
              "#bd3786"
             ],
             [
              0.5555555555555556,
              "#d8576b"
             ],
             [
              0.6666666666666666,
              "#ed7953"
             ],
             [
              0.7777777777777778,
              "#fb9f3a"
             ],
             [
              0.8888888888888888,
              "#fdca26"
             ],
             [
              1,
              "#f0f921"
             ]
            ],
            "type": "surface"
           }
          ],
          "table": [
           {
            "cells": {
             "fill": {
              "color": "#EBF0F8"
             },
             "line": {
              "color": "white"
             }
            },
            "header": {
             "fill": {
              "color": "#C8D4E3"
             },
             "line": {
              "color": "white"
             }
            },
            "type": "table"
           }
          ]
         },
         "layout": {
          "annotationdefaults": {
           "arrowcolor": "#2a3f5f",
           "arrowhead": 0,
           "arrowwidth": 1
          },
          "autotypenumbers": "strict",
          "coloraxis": {
           "colorbar": {
            "outlinewidth": 0,
            "ticks": ""
           }
          },
          "colorscale": {
           "diverging": [
            [
             0,
             "#8e0152"
            ],
            [
             0.1,
             "#c51b7d"
            ],
            [
             0.2,
             "#de77ae"
            ],
            [
             0.3,
             "#f1b6da"
            ],
            [
             0.4,
             "#fde0ef"
            ],
            [
             0.5,
             "#f7f7f7"
            ],
            [
             0.6,
             "#e6f5d0"
            ],
            [
             0.7,
             "#b8e186"
            ],
            [
             0.8,
             "#7fbc41"
            ],
            [
             0.9,
             "#4d9221"
            ],
            [
             1,
             "#276419"
            ]
           ],
           "sequential": [
            [
             0,
             "#0d0887"
            ],
            [
             0.1111111111111111,
             "#46039f"
            ],
            [
             0.2222222222222222,
             "#7201a8"
            ],
            [
             0.3333333333333333,
             "#9c179e"
            ],
            [
             0.4444444444444444,
             "#bd3786"
            ],
            [
             0.5555555555555556,
             "#d8576b"
            ],
            [
             0.6666666666666666,
             "#ed7953"
            ],
            [
             0.7777777777777778,
             "#fb9f3a"
            ],
            [
             0.8888888888888888,
             "#fdca26"
            ],
            [
             1,
             "#f0f921"
            ]
           ],
           "sequentialminus": [
            [
             0,
             "#0d0887"
            ],
            [
             0.1111111111111111,
             "#46039f"
            ],
            [
             0.2222222222222222,
             "#7201a8"
            ],
            [
             0.3333333333333333,
             "#9c179e"
            ],
            [
             0.4444444444444444,
             "#bd3786"
            ],
            [
             0.5555555555555556,
             "#d8576b"
            ],
            [
             0.6666666666666666,
             "#ed7953"
            ],
            [
             0.7777777777777778,
             "#fb9f3a"
            ],
            [
             0.8888888888888888,
             "#fdca26"
            ],
            [
             1,
             "#f0f921"
            ]
           ]
          },
          "colorway": [
           "#636efa",
           "#EF553B",
           "#00cc96",
           "#ab63fa",
           "#FFA15A",
           "#19d3f3",
           "#FF6692",
           "#B6E880",
           "#FF97FF",
           "#FECB52"
          ],
          "font": {
           "color": "#2a3f5f"
          },
          "geo": {
           "bgcolor": "white",
           "lakecolor": "white",
           "landcolor": "#E5ECF6",
           "showlakes": true,
           "showland": true,
           "subunitcolor": "white"
          },
          "hoverlabel": {
           "align": "left"
          },
          "hovermode": "closest",
          "mapbox": {
           "style": "light"
          },
          "paper_bgcolor": "white",
          "plot_bgcolor": "#E5ECF6",
          "polar": {
           "angularaxis": {
            "gridcolor": "white",
            "linecolor": "white",
            "ticks": ""
           },
           "bgcolor": "#E5ECF6",
           "radialaxis": {
            "gridcolor": "white",
            "linecolor": "white",
            "ticks": ""
           }
          },
          "scene": {
           "xaxis": {
            "backgroundcolor": "#E5ECF6",
            "gridcolor": "white",
            "gridwidth": 2,
            "linecolor": "white",
            "showbackground": true,
            "ticks": "",
            "zerolinecolor": "white"
           },
           "yaxis": {
            "backgroundcolor": "#E5ECF6",
            "gridcolor": "white",
            "gridwidth": 2,
            "linecolor": "white",
            "showbackground": true,
            "ticks": "",
            "zerolinecolor": "white"
           },
           "zaxis": {
            "backgroundcolor": "#E5ECF6",
            "gridcolor": "white",
            "gridwidth": 2,
            "linecolor": "white",
            "showbackground": true,
            "ticks": "",
            "zerolinecolor": "white"
           }
          },
          "shapedefaults": {
           "line": {
            "color": "#2a3f5f"
           }
          },
          "ternary": {
           "aaxis": {
            "gridcolor": "white",
            "linecolor": "white",
            "ticks": ""
           },
           "baxis": {
            "gridcolor": "white",
            "linecolor": "white",
            "ticks": ""
           },
           "bgcolor": "#E5ECF6",
           "caxis": {
            "gridcolor": "white",
            "linecolor": "white",
            "ticks": ""
           }
          },
          "title": {
           "x": 0.05
          },
          "xaxis": {
           "automargin": true,
           "gridcolor": "white",
           "linecolor": "white",
           "ticks": "",
           "title": {
            "standoff": 15
           },
           "zerolinecolor": "white",
           "zerolinewidth": 2
          },
          "yaxis": {
           "automargin": true,
           "gridcolor": "white",
           "linecolor": "white",
           "ticks": "",
           "title": {
            "standoff": 15
           },
           "zerolinecolor": "white",
           "zerolinewidth": 2
          }
         }
        },
        "title": {
         "text": "Распределение использования транспорта по оценкам",
         "x": 0.5
        },
        "uniformtext": {
         "minsize": 12,
         "mode": "show"
        },
        "width": 1400,
        "xaxis": {
         "anchor": "y",
         "domain": [
          0,
          0.31999999999999995
         ],
         "title": {
          "text": "Тип передвижения"
         }
        },
        "xaxis2": {
         "anchor": "y2",
         "domain": [
          0.33999999999999997,
          0.6599999999999999
         ],
         "matches": "x",
         "title": {
          "text": "Тип передвижения"
         }
        },
        "xaxis3": {
         "anchor": "y3",
         "domain": [
          0.6799999999999999,
          0.9999999999999999
         ],
         "matches": "x",
         "title": {
          "text": "Тип передвижения"
         }
        },
        "xaxis4": {
         "anchor": "y4",
         "domain": [
          0,
          0.31999999999999995
         ],
         "matches": "x",
         "showticklabels": false
        },
        "xaxis5": {
         "anchor": "y5",
         "domain": [
          0.33999999999999997,
          0.6599999999999999
         ],
         "matches": "x",
         "showticklabels": false
        },
        "xaxis6": {
         "anchor": "y6",
         "domain": [
          0.6799999999999999,
          0.9999999999999999
         ],
         "matches": "x",
         "showticklabels": false
        },
        "yaxis": {
         "anchor": "x",
         "domain": [
          0,
          0.46499999999999997
         ],
         "title": {
          "text": "Доля"
         }
        },
        "yaxis2": {
         "anchor": "x2",
         "domain": [
          0,
          0.46499999999999997
         ],
         "matches": "y",
         "showticklabels": false
        },
        "yaxis3": {
         "anchor": "x3",
         "domain": [
          0,
          0.46499999999999997
         ],
         "matches": "y",
         "showticklabels": false
        },
        "yaxis4": {
         "anchor": "x4",
         "domain": [
          0.5349999999999999,
          0.9999999999999999
         ],
         "matches": "y",
         "title": {
          "text": "Доля"
         }
        },
        "yaxis5": {
         "anchor": "x5",
         "domain": [
          0.5349999999999999,
          0.9999999999999999
         ],
         "matches": "y",
         "showticklabels": false
        },
        "yaxis6": {
         "anchor": "x6",
         "domain": [
          0.5349999999999999,
          0.9999999999999999
         ],
         "matches": "y",
         "showticklabels": false
        }
       }
      }
     },
     "metadata": {},
     "output_type": "display_data"
    }
   ],
   "source": [
    "df51 = df.groupby('GEBRUIK_AUTO_STELLING3').size().reset_index()\n",
    "\n",
    "df51 = df51.rename(columns = {'GEBRUIK_AUTO_STELLING3': 'Оценка экономии времени на автомобиле', \n",
    "                              0: 'Количество ответивших'})\n",
    "\n",
    "df51.sort_values('Количество ответивших', ascending=False)\n",
    "\n",
    "df51['Тип передвижения'] = 'Автомобиль'\n",
    "\n",
    "\n",
    "\n",
    "\n",
    "df52 = df.groupby('GEBRUIK_TREIN_STELLING3').size().reset_index()\n",
    "\n",
    "df52 = df52.rename(columns = {'GEBRUIK_TREIN_STELLING3': 'Оценка экономии времени на поезде', \n",
    "                              0: 'Количество ответивших'})\n",
    "\n",
    "df52.sort_values('Количество ответивших', ascending=False)\n",
    "df52['Тип передвижения'] = 'Поезд'\n",
    "\n",
    "\n",
    "df53 = df.groupby('GEBRUIK_BTM_STELLING3').size().reset_index()\n",
    "\n",
    "df53 = df53.rename(columns={'GEBRUIK_BTM_STELLING3': 'Оценка экономии времени на общественном транспорте', \n",
    "                            0: 'Количество ответивших'})\n",
    "\n",
    "df53 = df53.sort_values('Количество ответивших', ascending=False)\n",
    "df53['Тип передвижения'] = 'Общественный транспорт'\n",
    "\n",
    "\n",
    "\n",
    "df54 = df.groupby('GEBRUIK_FIETS_STELLING3').size().reset_index()\n",
    "df54 = df54.rename(columns={'GEBRUIK_FIETS_STELLING3': 'Оценка экономии времени на велосипеде', \n",
    "                            0: 'Количество ответивших'})\n",
    "df54 = df54.sort_values('Количество ответивших', ascending=False)\n",
    "df54['Тип передвижения'] = 'Велосипед'\n",
    "\n",
    "\n",
    "df55 = df.groupby('GEBRUIK_LOPEN_STELLING3').size().reset_index()\n",
    "df55 = df55.rename(columns={'GEBRUIK_LOPEN_STELLING3': 'Оценка экономии времени при ходьбе', \n",
    "                            0: 'Количество ответивших'})\n",
    "df55 = df55.sort_values('Количество ответивших', ascending=False)\n",
    "df55['Тип передвижения'] = 'Ходьба'\n",
    "\n",
    "\n",
    "\n",
    "\n",
    "df5 = pd.concat([df51, df52, df53, df54, df55])\n",
    "\n",
    "overall = sum(df51['Количество ответивших'])\n",
    "\n",
    "\n",
    "print(overall)\n",
    "\n",
    "df_long = pd.melt(\n",
    "    df5,\n",
    "    id_vars=['Количество ответивших', 'Тип передвижения'],\n",
    "    value_vars=['Оценка экономии времени на автомобиле', 'Оценка экономии времени на поезде', 'Оценка экономии времени на общественном транспорте', 'Оценка экономии времени на велосипеде', 'Оценка экономии времени при ходьбе'],\n",
    "    var_name='Тип оценки',\n",
    "    value_name='Оценка'\n",
    ")\n",
    "\n",
    "# Удаление NaN значений\n",
    "df_long.dropna(inplace=True)\n",
    "\n",
    "# Вычисление долей в процентах\n",
    "df_long['Доля'] = round((df_long['Количество ответивших'] / overall) * 100, 2)\n",
    "\n",
    "# Замена категорий оценок\n",
    "df_long['Оценка'] = df_long['Оценка'].replace({\n",
    "    1: 'Абсолютно не согласен',\n",
    "    2: 'Не согласен',\n",
    "    3: 'Не уверен',\n",
    "    4: 'Согласен',\n",
    "    5: 'Абсолютно согласен',\n",
    "    6: 'Нет оценки'\n",
    "})\n",
    "\n",
    "# Задание порядка категорий\n",
    "order = ['Абсолютно согласен', 'Согласен', 'Не уверен', 'Абсолютно не согласен', 'Не согласен', 'Нет оценки']\n",
    "df_long['Оценка'] = pd.Categorical(df_long['Оценка'], categories=order, ordered=True)\n",
    "\n",
    "# Построение графика для количества поездок\n",
    "fig3 = px.bar(\n",
    "    df_long, \n",
    "    x='Тип передвижения', \n",
    "    y='Количество ответивших', \n",
    "    text='Количество ответивших',\n",
    "    facet_col='Оценка',\n",
    "    facet_col_wrap=3,\n",
    "    height=600, \n",
    "    width=1400,\n",
    "    category_orders={'Оценка': order}\n",
    ")\n",
    "\n",
    "fig3.update_traces(textfont_size=10, textposition='outside', cliponaxis=False)\n",
    "\n",
    "fig3.update_layout(\n",
    "    title={'text': 'Согласны ли вы, что этот вид транспорта экономит время?', 'x': 0.5},\n",
    "    margin=dict(t=60, b=40, l=40, r=40),\n",
    "    legend=dict(title='Тип передвижения', orientation='h', yanchor='bottom', y=-0.2, xanchor='center', x=0.5)\n",
    ")\n",
    "\n",
    "fig3.show()\n",
    "\n",
    "\n",
    "\n",
    "#--------------ОТОБРАЗИМ ВСЕ В ДОЛЯХ----------------------\n",
    "fig4 = px.bar(\n",
    "    df_long, \n",
    "    x='Тип передвижения', \n",
    "    y='Доля', \n",
    "    text='Доля',\n",
    "    facet_col='Оценка',\n",
    "    facet_col_wrap=3,\n",
    "    height=600, \n",
    "    width=1400,\n",
    "    category_orders={'Оценка': order}\n",
    ")\n",
    "\n",
    "fig4.update_traces(\n",
    "    textposition='outside',\n",
    "    textfont=dict(size=12),  \n",
    "    cliponaxis=False,  \n",
    "    texttemplate='%{text}%', \n",
    "    offsetgroup=1 \n",
    ")\n",
    "\n",
    "fig4.update_layout(\n",
    "    title={'text': 'Распределение использования транспорта по оценкам', 'x': 0.5},\n",
    "    margin=dict(t=60, b=40, l=40, r=40),\n",
    "    uniformtext_minsize=12,\n",
    "    uniformtext_mode='show'  \n",
    ")\n",
    "\n",
    "fig4.show()\n"
   ]
  },
  {
   "cell_type": "markdown",
   "id": "b3412607",
   "metadata": {},
   "source": [
    "### График 5 (Восприятие безопасности разных видов транспорта)"
   ]
  },
  {
   "cell_type": "code",
   "execution_count": 601,
   "id": "813290c0",
   "metadata": {},
   "outputs": [
    {
     "name": "stdout",
     "output_type": "stream",
     "text": [
      "4465\n"
     ]
    },
    {
     "data": {
      "application/vnd.plotly.v1+json": {
       "config": {
        "plotlyServerURL": "https://plotly.com"
       },
       "data": [
        {
         "cliponaxis": false,
         "hovertemplate": "Оценка=Абсолютно согласен<br>Тип передвижения=%{x}<br>Количество ответивших=%{text}<extra></extra>",
         "legendgroup": "",
         "marker": {
          "color": "#636efa",
          "pattern": {
           "shape": ""
          }
         },
         "name": "",
         "orientation": "v",
         "showlegend": false,
         "text": {
          "bdata": "AAAAAACYj0AAAAAAAAyVQAAAAAAA0HRAAAAAAAAckEA=",
          "dtype": "f8"
         },
         "textfont": {
          "size": 10
         },
         "textposition": "outside",
         "type": "bar",
         "x": [
          "Автомобиль",
          "Поезд",
          "Общественный транспорт",
          "Ходьба"
         ],
         "xaxis": "x4",
         "y": {
          "bdata": "8wNDBU0BBwQ=",
          "dtype": "i2"
         },
         "yaxis": "y4"
        },
        {
         "cliponaxis": false,
         "hovertemplate": "Оценка=Согласен<br>Тип передвижения=%{x}<br>Количество ответивших=%{text}<extra></extra>",
         "legendgroup": "",
         "marker": {
          "color": "#636efa",
          "pattern": {
           "shape": ""
          }
         },
         "name": "",
         "orientation": "v",
         "showlegend": false,
         "text": {
          "bdata": "AAAAAADyoUAAAAAAAEiiQAAAAAAAlKRAAAAAAAAgokA=",
          "dtype": "f8"
         },
         "textfont": {
          "size": 10
         },
         "textposition": "outside",
         "type": "bar",
         "x": [
          "Автомобиль",
          "Поезд",
          "Общественный транспорт",
          "Ходьба"
         ],
         "xaxis": "x5",
         "y": {
          "bdata": "+QgkCUoKEAk=",
          "dtype": "i2"
         },
         "yaxis": "y5"
        },
        {
         "cliponaxis": false,
         "hovertemplate": "Оценка=Не уверен<br>Тип передвижения=%{x}<br>Количество ответивших=%{text}<extra></extra>",
         "legendgroup": "",
         "marker": {
          "color": "#636efa",
          "pattern": {
           "shape": ""
          }
         },
         "name": "",
         "orientation": "v",
         "showlegend": false,
         "text": {
          "bdata": "AAAAAAC4iUAAAAAAAECBQAAAAAAAtJBAAAAAAAAwjUA=",
          "dtype": "f8"
         },
         "textfont": {
          "size": 10
         },
         "textposition": "outside",
         "type": "bar",
         "x": [
          "Автомобиль",
          "Поезд",
          "Общественный транспорт",
          "Ходьба"
         ],
         "xaxis": "x6",
         "y": {
          "bdata": "NwMoAi0EpgM=",
          "dtype": "i2"
         },
         "yaxis": "y6"
        },
        {
         "cliponaxis": false,
         "hovertemplate": "Оценка=Абсолютно не согласен<br>Тип передвижения=%{x}<br>Количество ответивших=%{text}<extra></extra>",
         "legendgroup": "",
         "marker": {
          "color": "#636efa",
          "pattern": {
           "shape": ""
          }
         },
         "name": "",
         "orientation": "v",
         "showlegend": false,
         "text": {
          "bdata": "AAAAAAAASkAAAAAAAAA1QAAAAAAAwFRAAAAAAAAAN0A=",
          "dtype": "f8"
         },
         "textfont": {
          "size": 10
         },
         "textposition": "outside",
         "type": "bar",
         "x": [
          "Автомобиль",
          "Поезд",
          "Общественный транспорт",
          "Ходьба"
         ],
         "xaxis": "x",
         "y": {
          "bdata": "NBVTFw==",
          "dtype": "i1"
         },
         "yaxis": "y"
        },
        {
         "cliponaxis": false,
         "hovertemplate": "Оценка=Не согласен<br>Тип передвижения=%{x}<br>Количество ответивших=%{text}<extra></extra>",
         "legendgroup": "",
         "marker": {
          "color": "#636efa",
          "pattern": {
           "shape": ""
          }
         },
         "name": "",
         "orientation": "v",
         "showlegend": false,
         "text": {
          "bdata": "AAAAAABgY0AAAAAAAABKQAAAAAAAQGFAAAAAAAAAXUA=",
          "dtype": "f8"
         },
         "textfont": {
          "size": 10
         },
         "textposition": "outside",
         "type": "bar",
         "x": [
          "Автомобиль",
          "Поезд",
          "Общественный транспорт",
          "Ходьба"
         ],
         "xaxis": "x2",
         "y": {
          "bdata": "mwA0AIoAdAA=",
          "dtype": "i2"
         },
         "yaxis": "y2"
        },
        {
         "cliponaxis": false,
         "hovertemplate": "Оценка=Нет оценки<br>Тип передвижения=%{x}<br>Количество ответивших=%{text}<extra></extra>",
         "legendgroup": "",
         "marker": {
          "color": "#636efa",
          "pattern": {
           "shape": ""
          }
         },
         "name": "",
         "orientation": "v",
         "showlegend": false,
         "text": {
          "bdata": "AAAAAADAX0AAAAAAACBjQAAAAAAAAGpAAAAAAACAREA=",
          "dtype": "f8"
         },
         "textfont": {
          "size": 10
         },
         "textposition": "outside",
         "type": "bar",
         "x": [
          "Автомобиль",
          "Поезд",
          "Общественный транспорт",
          "Ходьба"
         ],
         "xaxis": "x3",
         "y": {
          "bdata": "fwCZANAAKQA=",
          "dtype": "i2"
         },
         "yaxis": "y3"
        }
       ],
       "layout": {
        "annotations": [
         {
          "font": {},
          "showarrow": false,
          "text": "Оценка=Абсолютно не согласен",
          "x": 0.15999999999999998,
          "xanchor": "center",
          "xref": "paper",
          "y": 0.46499999999999997,
          "yanchor": "bottom",
          "yref": "paper"
         },
         {
          "font": {},
          "showarrow": false,
          "text": "Оценка=Не согласен",
          "x": 0.49999999999999994,
          "xanchor": "center",
          "xref": "paper",
          "y": 0.46499999999999997,
          "yanchor": "bottom",
          "yref": "paper"
         },
         {
          "font": {},
          "showarrow": false,
          "text": "Оценка=Нет оценки",
          "x": 0.8399999999999999,
          "xanchor": "center",
          "xref": "paper",
          "y": 0.46499999999999997,
          "yanchor": "bottom",
          "yref": "paper"
         },
         {
          "font": {},
          "showarrow": false,
          "text": "Оценка=Абсолютно согласен",
          "x": 0.15999999999999998,
          "xanchor": "center",
          "xref": "paper",
          "y": 0.9999999999999999,
          "yanchor": "bottom",
          "yref": "paper"
         },
         {
          "font": {},
          "showarrow": false,
          "text": "Оценка=Согласен",
          "x": 0.49999999999999994,
          "xanchor": "center",
          "xref": "paper",
          "y": 0.9999999999999999,
          "yanchor": "bottom",
          "yref": "paper"
         },
         {
          "font": {},
          "showarrow": false,
          "text": "Оценка=Не уверен",
          "x": 0.8399999999999999,
          "xanchor": "center",
          "xref": "paper",
          "y": 0.9999999999999999,
          "yanchor": "bottom",
          "yref": "paper"
         }
        ],
        "barmode": "relative",
        "height": 600,
        "legend": {
         "orientation": "h",
         "title": {
          "text": "Тип передвижения"
         },
         "tracegroupgap": 0,
         "x": 0.5,
         "xanchor": "center",
         "y": -0.2,
         "yanchor": "bottom"
        },
        "margin": {
         "b": 40,
         "l": 40,
         "r": 40,
         "t": 60
        },
        "template": {
         "data": {
          "bar": [
           {
            "error_x": {
             "color": "#2a3f5f"
            },
            "error_y": {
             "color": "#2a3f5f"
            },
            "marker": {
             "line": {
              "color": "#E5ECF6",
              "width": 0.5
             },
             "pattern": {
              "fillmode": "overlay",
              "size": 10,
              "solidity": 0.2
             }
            },
            "type": "bar"
           }
          ],
          "barpolar": [
           {
            "marker": {
             "line": {
              "color": "#E5ECF6",
              "width": 0.5
             },
             "pattern": {
              "fillmode": "overlay",
              "size": 10,
              "solidity": 0.2
             }
            },
            "type": "barpolar"
           }
          ],
          "carpet": [
           {
            "aaxis": {
             "endlinecolor": "#2a3f5f",
             "gridcolor": "white",
             "linecolor": "white",
             "minorgridcolor": "white",
             "startlinecolor": "#2a3f5f"
            },
            "baxis": {
             "endlinecolor": "#2a3f5f",
             "gridcolor": "white",
             "linecolor": "white",
             "minorgridcolor": "white",
             "startlinecolor": "#2a3f5f"
            },
            "type": "carpet"
           }
          ],
          "choropleth": [
           {
            "colorbar": {
             "outlinewidth": 0,
             "ticks": ""
            },
            "type": "choropleth"
           }
          ],
          "contour": [
           {
            "colorbar": {
             "outlinewidth": 0,
             "ticks": ""
            },
            "colorscale": [
             [
              0,
              "#0d0887"
             ],
             [
              0.1111111111111111,
              "#46039f"
             ],
             [
              0.2222222222222222,
              "#7201a8"
             ],
             [
              0.3333333333333333,
              "#9c179e"
             ],
             [
              0.4444444444444444,
              "#bd3786"
             ],
             [
              0.5555555555555556,
              "#d8576b"
             ],
             [
              0.6666666666666666,
              "#ed7953"
             ],
             [
              0.7777777777777778,
              "#fb9f3a"
             ],
             [
              0.8888888888888888,
              "#fdca26"
             ],
             [
              1,
              "#f0f921"
             ]
            ],
            "type": "contour"
           }
          ],
          "contourcarpet": [
           {
            "colorbar": {
             "outlinewidth": 0,
             "ticks": ""
            },
            "type": "contourcarpet"
           }
          ],
          "heatmap": [
           {
            "colorbar": {
             "outlinewidth": 0,
             "ticks": ""
            },
            "colorscale": [
             [
              0,
              "#0d0887"
             ],
             [
              0.1111111111111111,
              "#46039f"
             ],
             [
              0.2222222222222222,
              "#7201a8"
             ],
             [
              0.3333333333333333,
              "#9c179e"
             ],
             [
              0.4444444444444444,
              "#bd3786"
             ],
             [
              0.5555555555555556,
              "#d8576b"
             ],
             [
              0.6666666666666666,
              "#ed7953"
             ],
             [
              0.7777777777777778,
              "#fb9f3a"
             ],
             [
              0.8888888888888888,
              "#fdca26"
             ],
             [
              1,
              "#f0f921"
             ]
            ],
            "type": "heatmap"
           }
          ],
          "histogram": [
           {
            "marker": {
             "pattern": {
              "fillmode": "overlay",
              "size": 10,
              "solidity": 0.2
             }
            },
            "type": "histogram"
           }
          ],
          "histogram2d": [
           {
            "colorbar": {
             "outlinewidth": 0,
             "ticks": ""
            },
            "colorscale": [
             [
              0,
              "#0d0887"
             ],
             [
              0.1111111111111111,
              "#46039f"
             ],
             [
              0.2222222222222222,
              "#7201a8"
             ],
             [
              0.3333333333333333,
              "#9c179e"
             ],
             [
              0.4444444444444444,
              "#bd3786"
             ],
             [
              0.5555555555555556,
              "#d8576b"
             ],
             [
              0.6666666666666666,
              "#ed7953"
             ],
             [
              0.7777777777777778,
              "#fb9f3a"
             ],
             [
              0.8888888888888888,
              "#fdca26"
             ],
             [
              1,
              "#f0f921"
             ]
            ],
            "type": "histogram2d"
           }
          ],
          "histogram2dcontour": [
           {
            "colorbar": {
             "outlinewidth": 0,
             "ticks": ""
            },
            "colorscale": [
             [
              0,
              "#0d0887"
             ],
             [
              0.1111111111111111,
              "#46039f"
             ],
             [
              0.2222222222222222,
              "#7201a8"
             ],
             [
              0.3333333333333333,
              "#9c179e"
             ],
             [
              0.4444444444444444,
              "#bd3786"
             ],
             [
              0.5555555555555556,
              "#d8576b"
             ],
             [
              0.6666666666666666,
              "#ed7953"
             ],
             [
              0.7777777777777778,
              "#fb9f3a"
             ],
             [
              0.8888888888888888,
              "#fdca26"
             ],
             [
              1,
              "#f0f921"
             ]
            ],
            "type": "histogram2dcontour"
           }
          ],
          "mesh3d": [
           {
            "colorbar": {
             "outlinewidth": 0,
             "ticks": ""
            },
            "type": "mesh3d"
           }
          ],
          "parcoords": [
           {
            "line": {
             "colorbar": {
              "outlinewidth": 0,
              "ticks": ""
             }
            },
            "type": "parcoords"
           }
          ],
          "pie": [
           {
            "automargin": true,
            "type": "pie"
           }
          ],
          "scatter": [
           {
            "fillpattern": {
             "fillmode": "overlay",
             "size": 10,
             "solidity": 0.2
            },
            "type": "scatter"
           }
          ],
          "scatter3d": [
           {
            "line": {
             "colorbar": {
              "outlinewidth": 0,
              "ticks": ""
             }
            },
            "marker": {
             "colorbar": {
              "outlinewidth": 0,
              "ticks": ""
             }
            },
            "type": "scatter3d"
           }
          ],
          "scattercarpet": [
           {
            "marker": {
             "colorbar": {
              "outlinewidth": 0,
              "ticks": ""
             }
            },
            "type": "scattercarpet"
           }
          ],
          "scattergeo": [
           {
            "marker": {
             "colorbar": {
              "outlinewidth": 0,
              "ticks": ""
             }
            },
            "type": "scattergeo"
           }
          ],
          "scattergl": [
           {
            "marker": {
             "colorbar": {
              "outlinewidth": 0,
              "ticks": ""
             }
            },
            "type": "scattergl"
           }
          ],
          "scattermap": [
           {
            "marker": {
             "colorbar": {
              "outlinewidth": 0,
              "ticks": ""
             }
            },
            "type": "scattermap"
           }
          ],
          "scattermapbox": [
           {
            "marker": {
             "colorbar": {
              "outlinewidth": 0,
              "ticks": ""
             }
            },
            "type": "scattermapbox"
           }
          ],
          "scatterpolar": [
           {
            "marker": {
             "colorbar": {
              "outlinewidth": 0,
              "ticks": ""
             }
            },
            "type": "scatterpolar"
           }
          ],
          "scatterpolargl": [
           {
            "marker": {
             "colorbar": {
              "outlinewidth": 0,
              "ticks": ""
             }
            },
            "type": "scatterpolargl"
           }
          ],
          "scatterternary": [
           {
            "marker": {
             "colorbar": {
              "outlinewidth": 0,
              "ticks": ""
             }
            },
            "type": "scatterternary"
           }
          ],
          "surface": [
           {
            "colorbar": {
             "outlinewidth": 0,
             "ticks": ""
            },
            "colorscale": [
             [
              0,
              "#0d0887"
             ],
             [
              0.1111111111111111,
              "#46039f"
             ],
             [
              0.2222222222222222,
              "#7201a8"
             ],
             [
              0.3333333333333333,
              "#9c179e"
             ],
             [
              0.4444444444444444,
              "#bd3786"
             ],
             [
              0.5555555555555556,
              "#d8576b"
             ],
             [
              0.6666666666666666,
              "#ed7953"
             ],
             [
              0.7777777777777778,
              "#fb9f3a"
             ],
             [
              0.8888888888888888,
              "#fdca26"
             ],
             [
              1,
              "#f0f921"
             ]
            ],
            "type": "surface"
           }
          ],
          "table": [
           {
            "cells": {
             "fill": {
              "color": "#EBF0F8"
             },
             "line": {
              "color": "white"
             }
            },
            "header": {
             "fill": {
              "color": "#C8D4E3"
             },
             "line": {
              "color": "white"
             }
            },
            "type": "table"
           }
          ]
         },
         "layout": {
          "annotationdefaults": {
           "arrowcolor": "#2a3f5f",
           "arrowhead": 0,
           "arrowwidth": 1
          },
          "autotypenumbers": "strict",
          "coloraxis": {
           "colorbar": {
            "outlinewidth": 0,
            "ticks": ""
           }
          },
          "colorscale": {
           "diverging": [
            [
             0,
             "#8e0152"
            ],
            [
             0.1,
             "#c51b7d"
            ],
            [
             0.2,
             "#de77ae"
            ],
            [
             0.3,
             "#f1b6da"
            ],
            [
             0.4,
             "#fde0ef"
            ],
            [
             0.5,
             "#f7f7f7"
            ],
            [
             0.6,
             "#e6f5d0"
            ],
            [
             0.7,
             "#b8e186"
            ],
            [
             0.8,
             "#7fbc41"
            ],
            [
             0.9,
             "#4d9221"
            ],
            [
             1,
             "#276419"
            ]
           ],
           "sequential": [
            [
             0,
             "#0d0887"
            ],
            [
             0.1111111111111111,
             "#46039f"
            ],
            [
             0.2222222222222222,
             "#7201a8"
            ],
            [
             0.3333333333333333,
             "#9c179e"
            ],
            [
             0.4444444444444444,
             "#bd3786"
            ],
            [
             0.5555555555555556,
             "#d8576b"
            ],
            [
             0.6666666666666666,
             "#ed7953"
            ],
            [
             0.7777777777777778,
             "#fb9f3a"
            ],
            [
             0.8888888888888888,
             "#fdca26"
            ],
            [
             1,
             "#f0f921"
            ]
           ],
           "sequentialminus": [
            [
             0,
             "#0d0887"
            ],
            [
             0.1111111111111111,
             "#46039f"
            ],
            [
             0.2222222222222222,
             "#7201a8"
            ],
            [
             0.3333333333333333,
             "#9c179e"
            ],
            [
             0.4444444444444444,
             "#bd3786"
            ],
            [
             0.5555555555555556,
             "#d8576b"
            ],
            [
             0.6666666666666666,
             "#ed7953"
            ],
            [
             0.7777777777777778,
             "#fb9f3a"
            ],
            [
             0.8888888888888888,
             "#fdca26"
            ],
            [
             1,
             "#f0f921"
            ]
           ]
          },
          "colorway": [
           "#636efa",
           "#EF553B",
           "#00cc96",
           "#ab63fa",
           "#FFA15A",
           "#19d3f3",
           "#FF6692",
           "#B6E880",
           "#FF97FF",
           "#FECB52"
          ],
          "font": {
           "color": "#2a3f5f"
          },
          "geo": {
           "bgcolor": "white",
           "lakecolor": "white",
           "landcolor": "#E5ECF6",
           "showlakes": true,
           "showland": true,
           "subunitcolor": "white"
          },
          "hoverlabel": {
           "align": "left"
          },
          "hovermode": "closest",
          "mapbox": {
           "style": "light"
          },
          "paper_bgcolor": "white",
          "plot_bgcolor": "#E5ECF6",
          "polar": {
           "angularaxis": {
            "gridcolor": "white",
            "linecolor": "white",
            "ticks": ""
           },
           "bgcolor": "#E5ECF6",
           "radialaxis": {
            "gridcolor": "white",
            "linecolor": "white",
            "ticks": ""
           }
          },
          "scene": {
           "xaxis": {
            "backgroundcolor": "#E5ECF6",
            "gridcolor": "white",
            "gridwidth": 2,
            "linecolor": "white",
            "showbackground": true,
            "ticks": "",
            "zerolinecolor": "white"
           },
           "yaxis": {
            "backgroundcolor": "#E5ECF6",
            "gridcolor": "white",
            "gridwidth": 2,
            "linecolor": "white",
            "showbackground": true,
            "ticks": "",
            "zerolinecolor": "white"
           },
           "zaxis": {
            "backgroundcolor": "#E5ECF6",
            "gridcolor": "white",
            "gridwidth": 2,
            "linecolor": "white",
            "showbackground": true,
            "ticks": "",
            "zerolinecolor": "white"
           }
          },
          "shapedefaults": {
           "line": {
            "color": "#2a3f5f"
           }
          },
          "ternary": {
           "aaxis": {
            "gridcolor": "white",
            "linecolor": "white",
            "ticks": ""
           },
           "baxis": {
            "gridcolor": "white",
            "linecolor": "white",
            "ticks": ""
           },
           "bgcolor": "#E5ECF6",
           "caxis": {
            "gridcolor": "white",
            "linecolor": "white",
            "ticks": ""
           }
          },
          "title": {
           "x": 0.05
          },
          "xaxis": {
           "automargin": true,
           "gridcolor": "white",
           "linecolor": "white",
           "ticks": "",
           "title": {
            "standoff": 15
           },
           "zerolinecolor": "white",
           "zerolinewidth": 2
          },
          "yaxis": {
           "automargin": true,
           "gridcolor": "white",
           "linecolor": "white",
           "ticks": "",
           "title": {
            "standoff": 15
           },
           "zerolinecolor": "white",
           "zerolinewidth": 2
          }
         }
        },
        "title": {
         "text": "Согласны ли вы, что этот вид транспорта безопасен?",
         "x": 0.5
        },
        "width": 1400,
        "xaxis": {
         "anchor": "y",
         "domain": [
          0,
          0.31999999999999995
         ],
         "title": {
          "text": "Тип передвижения"
         }
        },
        "xaxis2": {
         "anchor": "y2",
         "domain": [
          0.33999999999999997,
          0.6599999999999999
         ],
         "matches": "x",
         "title": {
          "text": "Тип передвижения"
         }
        },
        "xaxis3": {
         "anchor": "y3",
         "domain": [
          0.6799999999999999,
          0.9999999999999999
         ],
         "matches": "x",
         "title": {
          "text": "Тип передвижения"
         }
        },
        "xaxis4": {
         "anchor": "y4",
         "domain": [
          0,
          0.31999999999999995
         ],
         "matches": "x",
         "showticklabels": false
        },
        "xaxis5": {
         "anchor": "y5",
         "domain": [
          0.33999999999999997,
          0.6599999999999999
         ],
         "matches": "x",
         "showticklabels": false
        },
        "xaxis6": {
         "anchor": "y6",
         "domain": [
          0.6799999999999999,
          0.9999999999999999
         ],
         "matches": "x",
         "showticklabels": false
        },
        "yaxis": {
         "anchor": "x",
         "domain": [
          0,
          0.46499999999999997
         ],
         "title": {
          "text": "Количество ответивших"
         }
        },
        "yaxis2": {
         "anchor": "x2",
         "domain": [
          0,
          0.46499999999999997
         ],
         "matches": "y",
         "showticklabels": false
        },
        "yaxis3": {
         "anchor": "x3",
         "domain": [
          0,
          0.46499999999999997
         ],
         "matches": "y",
         "showticklabels": false
        },
        "yaxis4": {
         "anchor": "x4",
         "domain": [
          0.5349999999999999,
          0.9999999999999999
         ],
         "matches": "y",
         "title": {
          "text": "Количество ответивших"
         }
        },
        "yaxis5": {
         "anchor": "x5",
         "domain": [
          0.5349999999999999,
          0.9999999999999999
         ],
         "matches": "y",
         "showticklabels": false
        },
        "yaxis6": {
         "anchor": "x6",
         "domain": [
          0.5349999999999999,
          0.9999999999999999
         ],
         "matches": "y",
         "showticklabels": false
        }
       }
      }
     },
     "metadata": {},
     "output_type": "display_data"
    },
    {
     "data": {
      "application/vnd.plotly.v1+json": {
       "config": {
        "plotlyServerURL": "https://plotly.com"
       },
       "data": [
        {
         "cliponaxis": false,
         "hovertemplate": "Оценка=Абсолютно согласен<br>Тип передвижения=%{x}<br>Доля=%{text}<extra></extra>",
         "legendgroup": "",
         "marker": {
          "color": "#636efa",
          "pattern": {
           "shape": ""
          }
         },
         "name": "",
         "offsetgroup": "1",
         "orientation": "v",
         "showlegend": false,
         "text": {
          "bdata": "pHA9CtejNkDsUbgehSs+QNejcD0K1x1A16NwPQoXN0A=",
          "dtype": "f8"
         },
         "textfont": {
          "size": 12
         },
         "textposition": "outside",
         "texttemplate": "%{text}%",
         "type": "bar",
         "x": [
          "Автомобиль",
          "Поезд",
          "Общественный транспорт",
          "Ходьба"
         ],
         "xaxis": "x4",
         "y": {
          "bdata": "pHA9CtejNkDsUbgehSs+QNejcD0K1x1A16NwPQoXN0A=",
          "dtype": "f8"
         },
         "yaxis": "y4"
        },
        {
         "cliponaxis": false,
         "hovertemplate": "Оценка=Согласен<br>Тип передвижения=%{x}<br>Доля=%{text}<extra></extra>",
         "legendgroup": "",
         "marker": {
          "color": "#636efa",
          "pattern": {
           "shape": ""
          }
         },
         "name": "",
         "offsetgroup": "1",
         "orientation": "v",
         "showlegend": false,
         "text": {
          "bdata": "uB6F61G4SUAUrkfhejRKQB+F61G4fk1AexSuR+H6SUA=",
          "dtype": "f8"
         },
         "textfont": {
          "size": 12
         },
         "textposition": "outside",
         "texttemplate": "%{text}%",
         "type": "bar",
         "x": [
          "Автомобиль",
          "Поезд",
          "Общественный транспорт",
          "Ходьба"
         ],
         "xaxis": "x5",
         "y": {
          "bdata": "uB6F61G4SUAUrkfhejRKQB+F61G4fk1AexSuR+H6SUA=",
          "dtype": "f8"
         },
         "yaxis": "y5"
        },
        {
         "cliponaxis": false,
         "hovertemplate": "Оценка=Не уверен<br>Тип передвижения=%{x}<br>Доля=%{text}<extra></extra>",
         "legendgroup": "",
         "marker": {
          "color": "#636efa",
          "pattern": {
           "shape": ""
          }
         },
         "name": "",
         "offsetgroup": "1",
         "orientation": "v",
         "showlegend": false,
         "text": {
          "bdata": "rkfhehRuMkC4HoXrUbgoQHE9Ctej8DdA7FG4HoXrNEA=",
          "dtype": "f8"
         },
         "textfont": {
          "size": 12
         },
         "textposition": "outside",
         "texttemplate": "%{text}%",
         "type": "bar",
         "x": [
          "Автомобиль",
          "Поезд",
          "Общественный транспорт",
          "Ходьба"
         ],
         "xaxis": "x6",
         "y": {
          "bdata": "rkfhehRuMkC4HoXrUbgoQHE9Ctej8DdA7FG4HoXrNEA=",
          "dtype": "f8"
         },
         "yaxis": "y6"
        },
        {
         "cliponaxis": false,
         "hovertemplate": "Оценка=Абсолютно не согласен<br>Тип передвижения=%{x}<br>Доля=%{text}<extra></extra>",
         "legendgroup": "",
         "marker": {
          "color": "#636efa",
          "pattern": {
           "shape": ""
          }
         },
         "name": "",
         "offsetgroup": "1",
         "orientation": "v",
         "showlegend": false,
         "text": {
          "bdata": "j8L1KFyP8j8UrkfhehTeP8P1KFyPwv0/pHA9Ctej4D8=",
          "dtype": "f8"
         },
         "textfont": {
          "size": 12
         },
         "textposition": "outside",
         "texttemplate": "%{text}%",
         "type": "bar",
         "x": [
          "Автомобиль",
          "Поезд",
          "Общественный транспорт",
          "Ходьба"
         ],
         "xaxis": "x",
         "y": {
          "bdata": "j8L1KFyP8j8UrkfhehTeP8P1KFyPwv0/pHA9Ctej4D8=",
          "dtype": "f8"
         },
         "yaxis": "y"
        },
        {
         "cliponaxis": false,
         "hovertemplate": "Оценка=Не согласен<br>Тип передвижения=%{x}<br>Доля=%{text}<extra></extra>",
         "legendgroup": "",
         "marker": {
          "color": "#636efa",
          "pattern": {
           "shape": ""
          }
         },
         "name": "",
         "offsetgroup": "1",
         "orientation": "v",
         "showlegend": false,
         "text": {
          "bdata": "w/UoXI/CC0CPwvUoXI/yP7gehetRuAhAzczMzMzMBEA=",
          "dtype": "f8"
         },
         "textfont": {
          "size": 12
         },
         "textposition": "outside",
         "texttemplate": "%{text}%",
         "type": "bar",
         "x": [
          "Автомобиль",
          "Поезд",
          "Общественный транспорт",
          "Ходьба"
         ],
         "xaxis": "x2",
         "y": {
          "bdata": "w/UoXI/CC0CPwvUoXI/yP7gehetRuAhAzczMzMzMBEA=",
          "dtype": "f8"
         },
         "yaxis": "y2"
        },
        {
         "cliponaxis": false,
         "hovertemplate": "Оценка=Нет оценки<br>Тип передвижения=%{x}<br>Доля=%{text}<extra></extra>",
         "legendgroup": "",
         "marker": {
          "color": "#636efa",
          "pattern": {
           "shape": ""
          }
         },
         "name": "",
         "offsetgroup": "1",
         "orientation": "v",
         "showlegend": false,
         "text": {
          "bdata": "uB6F61G4BkBxPQrXo3ALQKRwPQrXoxJAcT0K16Nw7T8=",
          "dtype": "f8"
         },
         "textfont": {
          "size": 12
         },
         "textposition": "outside",
         "texttemplate": "%{text}%",
         "type": "bar",
         "x": [
          "Автомобиль",
          "Поезд",
          "Общественный транспорт",
          "Ходьба"
         ],
         "xaxis": "x3",
         "y": {
          "bdata": "uB6F61G4BkBxPQrXo3ALQKRwPQrXoxJAcT0K16Nw7T8=",
          "dtype": "f8"
         },
         "yaxis": "y3"
        }
       ],
       "layout": {
        "annotations": [
         {
          "font": {},
          "showarrow": false,
          "text": "Оценка=Абсолютно не согласен",
          "x": 0.15999999999999998,
          "xanchor": "center",
          "xref": "paper",
          "y": 0.46499999999999997,
          "yanchor": "bottom",
          "yref": "paper"
         },
         {
          "font": {},
          "showarrow": false,
          "text": "Оценка=Не согласен",
          "x": 0.49999999999999994,
          "xanchor": "center",
          "xref": "paper",
          "y": 0.46499999999999997,
          "yanchor": "bottom",
          "yref": "paper"
         },
         {
          "font": {},
          "showarrow": false,
          "text": "Оценка=Нет оценки",
          "x": 0.8399999999999999,
          "xanchor": "center",
          "xref": "paper",
          "y": 0.46499999999999997,
          "yanchor": "bottom",
          "yref": "paper"
         },
         {
          "font": {},
          "showarrow": false,
          "text": "Оценка=Абсолютно согласен",
          "x": 0.15999999999999998,
          "xanchor": "center",
          "xref": "paper",
          "y": 0.9999999999999999,
          "yanchor": "bottom",
          "yref": "paper"
         },
         {
          "font": {},
          "showarrow": false,
          "text": "Оценка=Согласен",
          "x": 0.49999999999999994,
          "xanchor": "center",
          "xref": "paper",
          "y": 0.9999999999999999,
          "yanchor": "bottom",
          "yref": "paper"
         },
         {
          "font": {},
          "showarrow": false,
          "text": "Оценка=Не уверен",
          "x": 0.8399999999999999,
          "xanchor": "center",
          "xref": "paper",
          "y": 0.9999999999999999,
          "yanchor": "bottom",
          "yref": "paper"
         }
        ],
        "barmode": "relative",
        "height": 600,
        "legend": {
         "tracegroupgap": 0
        },
        "margin": {
         "b": 40,
         "l": 40,
         "r": 40,
         "t": 60
        },
        "template": {
         "data": {
          "bar": [
           {
            "error_x": {
             "color": "#2a3f5f"
            },
            "error_y": {
             "color": "#2a3f5f"
            },
            "marker": {
             "line": {
              "color": "#E5ECF6",
              "width": 0.5
             },
             "pattern": {
              "fillmode": "overlay",
              "size": 10,
              "solidity": 0.2
             }
            },
            "type": "bar"
           }
          ],
          "barpolar": [
           {
            "marker": {
             "line": {
              "color": "#E5ECF6",
              "width": 0.5
             },
             "pattern": {
              "fillmode": "overlay",
              "size": 10,
              "solidity": 0.2
             }
            },
            "type": "barpolar"
           }
          ],
          "carpet": [
           {
            "aaxis": {
             "endlinecolor": "#2a3f5f",
             "gridcolor": "white",
             "linecolor": "white",
             "minorgridcolor": "white",
             "startlinecolor": "#2a3f5f"
            },
            "baxis": {
             "endlinecolor": "#2a3f5f",
             "gridcolor": "white",
             "linecolor": "white",
             "minorgridcolor": "white",
             "startlinecolor": "#2a3f5f"
            },
            "type": "carpet"
           }
          ],
          "choropleth": [
           {
            "colorbar": {
             "outlinewidth": 0,
             "ticks": ""
            },
            "type": "choropleth"
           }
          ],
          "contour": [
           {
            "colorbar": {
             "outlinewidth": 0,
             "ticks": ""
            },
            "colorscale": [
             [
              0,
              "#0d0887"
             ],
             [
              0.1111111111111111,
              "#46039f"
             ],
             [
              0.2222222222222222,
              "#7201a8"
             ],
             [
              0.3333333333333333,
              "#9c179e"
             ],
             [
              0.4444444444444444,
              "#bd3786"
             ],
             [
              0.5555555555555556,
              "#d8576b"
             ],
             [
              0.6666666666666666,
              "#ed7953"
             ],
             [
              0.7777777777777778,
              "#fb9f3a"
             ],
             [
              0.8888888888888888,
              "#fdca26"
             ],
             [
              1,
              "#f0f921"
             ]
            ],
            "type": "contour"
           }
          ],
          "contourcarpet": [
           {
            "colorbar": {
             "outlinewidth": 0,
             "ticks": ""
            },
            "type": "contourcarpet"
           }
          ],
          "heatmap": [
           {
            "colorbar": {
             "outlinewidth": 0,
             "ticks": ""
            },
            "colorscale": [
             [
              0,
              "#0d0887"
             ],
             [
              0.1111111111111111,
              "#46039f"
             ],
             [
              0.2222222222222222,
              "#7201a8"
             ],
             [
              0.3333333333333333,
              "#9c179e"
             ],
             [
              0.4444444444444444,
              "#bd3786"
             ],
             [
              0.5555555555555556,
              "#d8576b"
             ],
             [
              0.6666666666666666,
              "#ed7953"
             ],
             [
              0.7777777777777778,
              "#fb9f3a"
             ],
             [
              0.8888888888888888,
              "#fdca26"
             ],
             [
              1,
              "#f0f921"
             ]
            ],
            "type": "heatmap"
           }
          ],
          "histogram": [
           {
            "marker": {
             "pattern": {
              "fillmode": "overlay",
              "size": 10,
              "solidity": 0.2
             }
            },
            "type": "histogram"
           }
          ],
          "histogram2d": [
           {
            "colorbar": {
             "outlinewidth": 0,
             "ticks": ""
            },
            "colorscale": [
             [
              0,
              "#0d0887"
             ],
             [
              0.1111111111111111,
              "#46039f"
             ],
             [
              0.2222222222222222,
              "#7201a8"
             ],
             [
              0.3333333333333333,
              "#9c179e"
             ],
             [
              0.4444444444444444,
              "#bd3786"
             ],
             [
              0.5555555555555556,
              "#d8576b"
             ],
             [
              0.6666666666666666,
              "#ed7953"
             ],
             [
              0.7777777777777778,
              "#fb9f3a"
             ],
             [
              0.8888888888888888,
              "#fdca26"
             ],
             [
              1,
              "#f0f921"
             ]
            ],
            "type": "histogram2d"
           }
          ],
          "histogram2dcontour": [
           {
            "colorbar": {
             "outlinewidth": 0,
             "ticks": ""
            },
            "colorscale": [
             [
              0,
              "#0d0887"
             ],
             [
              0.1111111111111111,
              "#46039f"
             ],
             [
              0.2222222222222222,
              "#7201a8"
             ],
             [
              0.3333333333333333,
              "#9c179e"
             ],
             [
              0.4444444444444444,
              "#bd3786"
             ],
             [
              0.5555555555555556,
              "#d8576b"
             ],
             [
              0.6666666666666666,
              "#ed7953"
             ],
             [
              0.7777777777777778,
              "#fb9f3a"
             ],
             [
              0.8888888888888888,
              "#fdca26"
             ],
             [
              1,
              "#f0f921"
             ]
            ],
            "type": "histogram2dcontour"
           }
          ],
          "mesh3d": [
           {
            "colorbar": {
             "outlinewidth": 0,
             "ticks": ""
            },
            "type": "mesh3d"
           }
          ],
          "parcoords": [
           {
            "line": {
             "colorbar": {
              "outlinewidth": 0,
              "ticks": ""
             }
            },
            "type": "parcoords"
           }
          ],
          "pie": [
           {
            "automargin": true,
            "type": "pie"
           }
          ],
          "scatter": [
           {
            "fillpattern": {
             "fillmode": "overlay",
             "size": 10,
             "solidity": 0.2
            },
            "type": "scatter"
           }
          ],
          "scatter3d": [
           {
            "line": {
             "colorbar": {
              "outlinewidth": 0,
              "ticks": ""
             }
            },
            "marker": {
             "colorbar": {
              "outlinewidth": 0,
              "ticks": ""
             }
            },
            "type": "scatter3d"
           }
          ],
          "scattercarpet": [
           {
            "marker": {
             "colorbar": {
              "outlinewidth": 0,
              "ticks": ""
             }
            },
            "type": "scattercarpet"
           }
          ],
          "scattergeo": [
           {
            "marker": {
             "colorbar": {
              "outlinewidth": 0,
              "ticks": ""
             }
            },
            "type": "scattergeo"
           }
          ],
          "scattergl": [
           {
            "marker": {
             "colorbar": {
              "outlinewidth": 0,
              "ticks": ""
             }
            },
            "type": "scattergl"
           }
          ],
          "scattermap": [
           {
            "marker": {
             "colorbar": {
              "outlinewidth": 0,
              "ticks": ""
             }
            },
            "type": "scattermap"
           }
          ],
          "scattermapbox": [
           {
            "marker": {
             "colorbar": {
              "outlinewidth": 0,
              "ticks": ""
             }
            },
            "type": "scattermapbox"
           }
          ],
          "scatterpolar": [
           {
            "marker": {
             "colorbar": {
              "outlinewidth": 0,
              "ticks": ""
             }
            },
            "type": "scatterpolar"
           }
          ],
          "scatterpolargl": [
           {
            "marker": {
             "colorbar": {
              "outlinewidth": 0,
              "ticks": ""
             }
            },
            "type": "scatterpolargl"
           }
          ],
          "scatterternary": [
           {
            "marker": {
             "colorbar": {
              "outlinewidth": 0,
              "ticks": ""
             }
            },
            "type": "scatterternary"
           }
          ],
          "surface": [
           {
            "colorbar": {
             "outlinewidth": 0,
             "ticks": ""
            },
            "colorscale": [
             [
              0,
              "#0d0887"
             ],
             [
              0.1111111111111111,
              "#46039f"
             ],
             [
              0.2222222222222222,
              "#7201a8"
             ],
             [
              0.3333333333333333,
              "#9c179e"
             ],
             [
              0.4444444444444444,
              "#bd3786"
             ],
             [
              0.5555555555555556,
              "#d8576b"
             ],
             [
              0.6666666666666666,
              "#ed7953"
             ],
             [
              0.7777777777777778,
              "#fb9f3a"
             ],
             [
              0.8888888888888888,
              "#fdca26"
             ],
             [
              1,
              "#f0f921"
             ]
            ],
            "type": "surface"
           }
          ],
          "table": [
           {
            "cells": {
             "fill": {
              "color": "#EBF0F8"
             },
             "line": {
              "color": "white"
             }
            },
            "header": {
             "fill": {
              "color": "#C8D4E3"
             },
             "line": {
              "color": "white"
             }
            },
            "type": "table"
           }
          ]
         },
         "layout": {
          "annotationdefaults": {
           "arrowcolor": "#2a3f5f",
           "arrowhead": 0,
           "arrowwidth": 1
          },
          "autotypenumbers": "strict",
          "coloraxis": {
           "colorbar": {
            "outlinewidth": 0,
            "ticks": ""
           }
          },
          "colorscale": {
           "diverging": [
            [
             0,
             "#8e0152"
            ],
            [
             0.1,
             "#c51b7d"
            ],
            [
             0.2,
             "#de77ae"
            ],
            [
             0.3,
             "#f1b6da"
            ],
            [
             0.4,
             "#fde0ef"
            ],
            [
             0.5,
             "#f7f7f7"
            ],
            [
             0.6,
             "#e6f5d0"
            ],
            [
             0.7,
             "#b8e186"
            ],
            [
             0.8,
             "#7fbc41"
            ],
            [
             0.9,
             "#4d9221"
            ],
            [
             1,
             "#276419"
            ]
           ],
           "sequential": [
            [
             0,
             "#0d0887"
            ],
            [
             0.1111111111111111,
             "#46039f"
            ],
            [
             0.2222222222222222,
             "#7201a8"
            ],
            [
             0.3333333333333333,
             "#9c179e"
            ],
            [
             0.4444444444444444,
             "#bd3786"
            ],
            [
             0.5555555555555556,
             "#d8576b"
            ],
            [
             0.6666666666666666,
             "#ed7953"
            ],
            [
             0.7777777777777778,
             "#fb9f3a"
            ],
            [
             0.8888888888888888,
             "#fdca26"
            ],
            [
             1,
             "#f0f921"
            ]
           ],
           "sequentialminus": [
            [
             0,
             "#0d0887"
            ],
            [
             0.1111111111111111,
             "#46039f"
            ],
            [
             0.2222222222222222,
             "#7201a8"
            ],
            [
             0.3333333333333333,
             "#9c179e"
            ],
            [
             0.4444444444444444,
             "#bd3786"
            ],
            [
             0.5555555555555556,
             "#d8576b"
            ],
            [
             0.6666666666666666,
             "#ed7953"
            ],
            [
             0.7777777777777778,
             "#fb9f3a"
            ],
            [
             0.8888888888888888,
             "#fdca26"
            ],
            [
             1,
             "#f0f921"
            ]
           ]
          },
          "colorway": [
           "#636efa",
           "#EF553B",
           "#00cc96",
           "#ab63fa",
           "#FFA15A",
           "#19d3f3",
           "#FF6692",
           "#B6E880",
           "#FF97FF",
           "#FECB52"
          ],
          "font": {
           "color": "#2a3f5f"
          },
          "geo": {
           "bgcolor": "white",
           "lakecolor": "white",
           "landcolor": "#E5ECF6",
           "showlakes": true,
           "showland": true,
           "subunitcolor": "white"
          },
          "hoverlabel": {
           "align": "left"
          },
          "hovermode": "closest",
          "mapbox": {
           "style": "light"
          },
          "paper_bgcolor": "white",
          "plot_bgcolor": "#E5ECF6",
          "polar": {
           "angularaxis": {
            "gridcolor": "white",
            "linecolor": "white",
            "ticks": ""
           },
           "bgcolor": "#E5ECF6",
           "radialaxis": {
            "gridcolor": "white",
            "linecolor": "white",
            "ticks": ""
           }
          },
          "scene": {
           "xaxis": {
            "backgroundcolor": "#E5ECF6",
            "gridcolor": "white",
            "gridwidth": 2,
            "linecolor": "white",
            "showbackground": true,
            "ticks": "",
            "zerolinecolor": "white"
           },
           "yaxis": {
            "backgroundcolor": "#E5ECF6",
            "gridcolor": "white",
            "gridwidth": 2,
            "linecolor": "white",
            "showbackground": true,
            "ticks": "",
            "zerolinecolor": "white"
           },
           "zaxis": {
            "backgroundcolor": "#E5ECF6",
            "gridcolor": "white",
            "gridwidth": 2,
            "linecolor": "white",
            "showbackground": true,
            "ticks": "",
            "zerolinecolor": "white"
           }
          },
          "shapedefaults": {
           "line": {
            "color": "#2a3f5f"
           }
          },
          "ternary": {
           "aaxis": {
            "gridcolor": "white",
            "linecolor": "white",
            "ticks": ""
           },
           "baxis": {
            "gridcolor": "white",
            "linecolor": "white",
            "ticks": ""
           },
           "bgcolor": "#E5ECF6",
           "caxis": {
            "gridcolor": "white",
            "linecolor": "white",
            "ticks": ""
           }
          },
          "title": {
           "x": 0.05
          },
          "xaxis": {
           "automargin": true,
           "gridcolor": "white",
           "linecolor": "white",
           "ticks": "",
           "title": {
            "standoff": 15
           },
           "zerolinecolor": "white",
           "zerolinewidth": 2
          },
          "yaxis": {
           "automargin": true,
           "gridcolor": "white",
           "linecolor": "white",
           "ticks": "",
           "title": {
            "standoff": 15
           },
           "zerolinecolor": "white",
           "zerolinewidth": 2
          }
         }
        },
        "title": {
         "text": "Распределение восприятия безопасности транспорта по оценкам",
         "x": 0.5
        },
        "uniformtext": {
         "minsize": 12,
         "mode": "show"
        },
        "width": 1400,
        "xaxis": {
         "anchor": "y",
         "domain": [
          0,
          0.31999999999999995
         ],
         "title": {
          "text": "Тип передвижения"
         }
        },
        "xaxis2": {
         "anchor": "y2",
         "domain": [
          0.33999999999999997,
          0.6599999999999999
         ],
         "matches": "x",
         "title": {
          "text": "Тип передвижения"
         }
        },
        "xaxis3": {
         "anchor": "y3",
         "domain": [
          0.6799999999999999,
          0.9999999999999999
         ],
         "matches": "x",
         "title": {
          "text": "Тип передвижения"
         }
        },
        "xaxis4": {
         "anchor": "y4",
         "domain": [
          0,
          0.31999999999999995
         ],
         "matches": "x",
         "showticklabels": false
        },
        "xaxis5": {
         "anchor": "y5",
         "domain": [
          0.33999999999999997,
          0.6599999999999999
         ],
         "matches": "x",
         "showticklabels": false
        },
        "xaxis6": {
         "anchor": "y6",
         "domain": [
          0.6799999999999999,
          0.9999999999999999
         ],
         "matches": "x",
         "showticklabels": false
        },
        "yaxis": {
         "anchor": "x",
         "domain": [
          0,
          0.46499999999999997
         ],
         "title": {
          "text": "Доля"
         }
        },
        "yaxis2": {
         "anchor": "x2",
         "domain": [
          0,
          0.46499999999999997
         ],
         "matches": "y",
         "showticklabels": false
        },
        "yaxis3": {
         "anchor": "x3",
         "domain": [
          0,
          0.46499999999999997
         ],
         "matches": "y",
         "showticklabels": false
        },
        "yaxis4": {
         "anchor": "x4",
         "domain": [
          0.5349999999999999,
          0.9999999999999999
         ],
         "matches": "y",
         "title": {
          "text": "Доля"
         }
        },
        "yaxis5": {
         "anchor": "x5",
         "domain": [
          0.5349999999999999,
          0.9999999999999999
         ],
         "matches": "y",
         "showticklabels": false
        },
        "yaxis6": {
         "anchor": "x6",
         "domain": [
          0.5349999999999999,
          0.9999999999999999
         ],
         "matches": "y",
         "showticklabels": false
        }
       }
      }
     },
     "metadata": {},
     "output_type": "display_data"
    }
   ],
   "source": [
    "df51 = df.groupby('GEBRUIK_AUTO_STELLING4').size().reset_index()\n",
    "\n",
    "df51 = df51.rename(columns = {'GEBRUIK_AUTO_STELLING4': 'Оценка безопасности автомобиля', \n",
    "                              0: 'Количество ответивших'})\n",
    "\n",
    "df51.sort_values('Количество ответивших', ascending=False)\n",
    "\n",
    "df51['Тип передвижения'] = 'Автомобиль'\n",
    "\n",
    "\n",
    "\n",
    "\n",
    "df52 = df.groupby('GEBRUIK_TREIN_STELLING4').size().reset_index()\n",
    "\n",
    "df52 = df52.rename(columns = {'GEBRUIK_TREIN_STELLING4': 'Оценка безопасности поезда', \n",
    "                              0: 'Количество ответивших'})\n",
    "\n",
    "df52.sort_values('Количество ответивших', ascending=False)\n",
    "df52['Тип передвижения'] = 'Поезд'\n",
    "\n",
    "\n",
    "df53 = df.groupby('GEBRUIK_BTM_STELLING4').size().reset_index()\n",
    "\n",
    "df53 = df53.rename(columns={'GEBRUIK_BTM_STELLING4': 'Оценка безопасности общественного транспорта', \n",
    "                            0: 'Количество ответивших'})\n",
    "\n",
    "df53 = df53.sort_values('Количество ответивших', ascending=False)\n",
    "df53['Тип передвижения'] = 'Общественный транспорт'\n",
    "\n",
    "\n",
    "\n",
    "\n",
    "df54 = df.groupby('GEBRUIK_LOPEN_STELLING4').size().reset_index()\n",
    "df54 = df54.rename(columns={'GEBRUIK_LOPEN_STELLING4': 'Оценка безопасности ходьбы', \n",
    "                            0: 'Количество ответивших'})\n",
    "df54 = df54.sort_values('Количество ответивших', ascending=False)\n",
    "df54['Тип передвижения'] = 'Ходьба'\n",
    "\n",
    "\n",
    "\n",
    "df5 = pd.concat([df51, df52, df53, df54])\n",
    "\n",
    "overall = sum(df51['Количество ответивших'])\n",
    "\n",
    "\n",
    "print(overall)\n",
    "\n",
    "df_long = pd.melt(\n",
    "    df5,\n",
    "    id_vars=['Количество ответивших', 'Тип передвижения'],\n",
    "    value_vars=['Оценка безопасности автомобиля', 'Оценка безопасности поезда', 'Оценка безопасности общественного транспорта', 'Оценка безопасности ходьбы'],\n",
    "    var_name='Тип оценки',\n",
    "    value_name='Оценка'\n",
    ")\n",
    "\n",
    "# Удаление NaN значений\n",
    "df_long.dropna(inplace=True)\n",
    "\n",
    "# Вычисление долей в процентах\n",
    "df_long['Доля'] = round((df_long['Количество ответивших'] / overall) * 100, 2)\n",
    "\n",
    "# Замена категорий оценок\n",
    "df_long['Оценка'] = df_long['Оценка'].replace({\n",
    "    1: 'Абсолютно не согласен',\n",
    "    2: 'Не согласен',\n",
    "    3: 'Не уверен',\n",
    "    4: 'Согласен',\n",
    "    5: 'Абсолютно согласен',\n",
    "    6: 'Нет оценки'\n",
    "})\n",
    "\n",
    "# Задание порядка категорий\n",
    "order = ['Абсолютно согласен', 'Согласен', 'Не уверен', 'Абсолютно не согласен', 'Не согласен', 'Нет оценки']\n",
    "df_long['Оценка'] = pd.Categorical(df_long['Оценка'], categories=order, ordered=True)\n",
    "\n",
    "# Построение графика для количества поездок\n",
    "fig3 = px.bar(\n",
    "    df_long, \n",
    "    x='Тип передвижения', \n",
    "    y='Количество ответивших', \n",
    "    text='Количество ответивших',\n",
    "    facet_col='Оценка',\n",
    "    facet_col_wrap=3,\n",
    "    height=600, \n",
    "    width=1400,\n",
    "    category_orders={'Оценка': order}\n",
    ")\n",
    "\n",
    "fig3.update_traces(textfont_size=10, textposition='outside', cliponaxis=False)\n",
    "\n",
    "fig3.update_layout(\n",
    "    title={'text': 'Согласны ли вы, что этот вид транспорта безопасен?', 'x': 0.5},\n",
    "    margin=dict(t=60, b=40, l=40, r=40),\n",
    "    legend=dict(title='Тип передвижения', orientation='h', yanchor='bottom', y=-0.2, xanchor='center', x=0.5)\n",
    ")\n",
    "\n",
    "fig3.show()\n",
    "\n",
    "\n",
    "\n",
    "#--------------ОТОБРАЗИМ ВСЕ В ДОЛЯХ----------------------\n",
    "fig4 = px.bar(\n",
    "    df_long, \n",
    "    x='Тип передвижения', \n",
    "    y='Доля', \n",
    "    text='Доля',\n",
    "    facet_col='Оценка',\n",
    "    facet_col_wrap=3,\n",
    "    height=600, \n",
    "    width=1400,\n",
    "    category_orders={'Оценка': order}\n",
    ")\n",
    "\n",
    "fig4.update_traces(\n",
    "    textposition='outside',\n",
    "    textfont=dict(size=12),  \n",
    "    cliponaxis=False,  \n",
    "    texttemplate='%{text}%', \n",
    "    offsetgroup=1 \n",
    ")\n",
    "\n",
    "fig4.update_layout(\n",
    "    title={'text': 'Распределение восприятия безопасности транспорта по оценкам', 'x': 0.5},\n",
    "    margin=dict(t=60, b=40, l=40, r=40),\n",
    "    uniformtext_minsize=12,\n",
    "    uniformtext_mode='show'  \n",
    ")\n",
    "\n",
    "fig4.show()\n"
   ]
  },
  {
   "cell_type": "markdown",
   "id": "47cf2a2c",
   "metadata": {},
   "source": [
    "### График 6 (Распределение количетсва разныъ семей с разным финансовым положением)"
   ]
  },
  {
   "cell_type": "code",
   "execution_count": 602,
   "id": "e1b8d5b2",
   "metadata": {},
   "outputs": [
    {
     "data": {
      "text/plain": [
       "['HHAUTO_N', 'HHFIETS', 'HHEBIKE', 'HHPERS', 'N_KIND']"
      ]
     },
     "execution_count": 602,
     "metadata": {},
     "output_type": "execute_result"
    }
   ],
   "source": [
    "['HHAUTO_N', 'HHFIETS', 'HHEBIKE', 'HHPERS', 'N_KIND']"
   ]
  },
  {
   "cell_type": "code",
   "execution_count": 603,
   "id": "0ca46fe2",
   "metadata": {},
   "outputs": [
    {
     "data": {
      "application/vnd.plotly.v1+json": {
       "config": {
        "plotlyServerURL": "https://plotly.com"
       },
       "data": [
        {
         "hovertemplate": "Доход семьи=1-2x the national benchmark income (€ 42,400 - < € 71,000)<br>Категория семьи=%{x}<br>Количество=%{y}<extra></extra>",
         "legendgroup": "1-2x the national benchmark income (€ 42,400 - < € 71,000)",
         "marker": {
          "color": "#636efa",
          "pattern": {
           "shape": ""
          }
         },
         "name": "1-2x the national benchmark income (€ 42,400 - < € 71,000)",
         "orientation": "v",
         "showlegend": true,
         "textposition": "auto",
         "texttemplate": "%{y}",
         "type": "bar",
         "x": [
          "Couple",
          "Couple + child(ren)",
          "Single parent family + child(ren)",
          "Single person household"
         ],
         "xaxis": "x",
         "y": {
          "bdata": "5wELAg8AeAE=",
          "dtype": "i2"
         },
         "yaxis": "y"
        },
        {
         "hovertemplate": "Доход семьи=2x the national benchmark income (€ 71,000 - < € 84,700)<br>Категория семьи=%{x}<br>Количество=%{y}<extra></extra>",
         "legendgroup": "2x the national benchmark income (€ 71,000 - < € 84,700)",
         "marker": {
          "color": "#EF553B",
          "pattern": {
           "shape": ""
          }
         },
         "name": "2x the national benchmark income (€ 71,000 - < € 84,700)",
         "orientation": "v",
         "showlegend": true,
         "textposition": "auto",
         "texttemplate": "%{y}",
         "type": "bar",
         "x": [
          "Couple",
          "Couple + child(ren)",
          "Couple + other(s)",
          "Single person household"
         ],
         "xaxis": "x",
         "y": {
          "bdata": "NQDEABkAOQA=",
          "dtype": "i2"
         },
         "yaxis": "y"
        },
        {
         "hovertemplate": "Доход семьи=Do not know / do not want to say<br>Категория семьи=%{x}<br>Количество=%{y}<extra></extra>",
         "legendgroup": "Do not know / do not want to say",
         "marker": {
          "color": "#00cc96",
          "pattern": {
           "shape": ""
          }
         },
         "name": "Do not know / do not want to say",
         "orientation": "v",
         "showlegend": true,
         "textposition": "auto",
         "texttemplate": "%{y}",
         "type": "bar",
         "x": [
          "Couple",
          "Couple + child(ren)",
          "Single parent family + child(ren)",
          "Single person household"
         ],
         "xaxis": "x",
         "y": {
          "bdata": "ZE8uYQ==",
          "dtype": "i1"
         },
         "yaxis": "y"
        },
        {
         "hovertemplate": "Доход семьи=below the national benchmark income (€ 13,700 - < € 28,600)<br>Категория семьи=%{x}<br>Количество=%{y}<extra></extra>",
         "legendgroup": "below the national benchmark income (€ 13,700 - < € 28,600)",
         "marker": {
          "color": "#ab63fa",
          "pattern": {
           "shape": ""
          }
         },
         "name": "below the national benchmark income (€ 13,700 - < € 28,600)",
         "orientation": "v",
         "showlegend": true,
         "textposition": "auto",
         "texttemplate": "%{y}",
         "type": "bar",
         "x": [
          "Couple",
          "Couple + child(ren)",
          "Single parent family + child(ren)",
          "Single person household"
         ],
         "xaxis": "x",
         "y": {
          "bdata": "PwBkAHIAyQE=",
          "dtype": "i2"
         },
         "yaxis": "y"
        },
        {
         "hovertemplate": "Доход семьи=minimum (< € 13,700)<br>Категория семьи=%{x}<br>Количество=%{y}<extra></extra>",
         "legendgroup": "minimum (< € 13,700)",
         "marker": {
          "color": "#FFA15A",
          "pattern": {
           "shape": ""
          }
         },
         "name": "minimum (< € 13,700)",
         "orientation": "v",
         "showlegend": true,
         "textposition": "auto",
         "texttemplate": "%{y}",
         "type": "bar",
         "x": [
          "Couple",
          "Couple + child(ren)",
          "Single parent family + child(ren)",
          "Single person household"
         ],
         "xaxis": "x",
         "y": {
          "bdata": "GgAiADAAhwA=",
          "dtype": "i2"
         },
         "yaxis": "y"
        },
        {
         "hovertemplate": "Доход семьи=more than 2x the national benchmark income (>= € 84,700)<br>Категория семьи=%{x}<br>Количество=%{y}<extra></extra>",
         "legendgroup": "more than 2x the national benchmark income (>= € 84,700)",
         "marker": {
          "color": "#19d3f3",
          "pattern": {
           "shape": ""
          }
         },
         "name": "more than 2x the national benchmark income (>= € 84,700)",
         "orientation": "v",
         "showlegend": true,
         "textposition": "auto",
         "texttemplate": "%{y}",
         "type": "bar",
         "x": [
          "Couple",
          "Couple + child(ren)",
          "Single person household"
         ],
         "xaxis": "x",
         "y": {
          "bdata": "vwBpARgA",
          "dtype": "i2"
         },
         "yaxis": "y"
        },
        {
         "hovertemplate": "Доход семьи=national benchmark income (€ 28,600 - < € 42,400)<br>Категория семьи=%{x}<br>Количество=%{y}<extra></extra>",
         "legendgroup": "national benchmark income (€ 28,600 - < € 42,400)",
         "marker": {
          "color": "#FF6692",
          "pattern": {
           "shape": ""
          }
         },
         "name": "national benchmark income (€ 28,600 - < € 42,400)",
         "orientation": "v",
         "showlegend": true,
         "textposition": "auto",
         "texttemplate": "%{y}",
         "type": "bar",
         "x": [
          "Couple",
          "Couple + child(ren)",
          "Single parent family + child(ren)",
          "Single person household"
         ],
         "xaxis": "x",
         "y": {
          "bdata": "DgGdAAwAowE=",
          "dtype": "i2"
         },
         "yaxis": "y"
        }
       ],
       "layout": {
        "barmode": "relative",
        "legend": {
         "title": {
          "text": "Доход семьи"
         },
         "tracegroupgap": 0
        },
        "margin": {
         "t": 60
        },
        "template": {
         "data": {
          "bar": [
           {
            "error_x": {
             "color": "#2a3f5f"
            },
            "error_y": {
             "color": "#2a3f5f"
            },
            "marker": {
             "line": {
              "color": "#E5ECF6",
              "width": 0.5
             },
             "pattern": {
              "fillmode": "overlay",
              "size": 10,
              "solidity": 0.2
             }
            },
            "type": "bar"
           }
          ],
          "barpolar": [
           {
            "marker": {
             "line": {
              "color": "#E5ECF6",
              "width": 0.5
             },
             "pattern": {
              "fillmode": "overlay",
              "size": 10,
              "solidity": 0.2
             }
            },
            "type": "barpolar"
           }
          ],
          "carpet": [
           {
            "aaxis": {
             "endlinecolor": "#2a3f5f",
             "gridcolor": "white",
             "linecolor": "white",
             "minorgridcolor": "white",
             "startlinecolor": "#2a3f5f"
            },
            "baxis": {
             "endlinecolor": "#2a3f5f",
             "gridcolor": "white",
             "linecolor": "white",
             "minorgridcolor": "white",
             "startlinecolor": "#2a3f5f"
            },
            "type": "carpet"
           }
          ],
          "choropleth": [
           {
            "colorbar": {
             "outlinewidth": 0,
             "ticks": ""
            },
            "type": "choropleth"
           }
          ],
          "contour": [
           {
            "colorbar": {
             "outlinewidth": 0,
             "ticks": ""
            },
            "colorscale": [
             [
              0,
              "#0d0887"
             ],
             [
              0.1111111111111111,
              "#46039f"
             ],
             [
              0.2222222222222222,
              "#7201a8"
             ],
             [
              0.3333333333333333,
              "#9c179e"
             ],
             [
              0.4444444444444444,
              "#bd3786"
             ],
             [
              0.5555555555555556,
              "#d8576b"
             ],
             [
              0.6666666666666666,
              "#ed7953"
             ],
             [
              0.7777777777777778,
              "#fb9f3a"
             ],
             [
              0.8888888888888888,
              "#fdca26"
             ],
             [
              1,
              "#f0f921"
             ]
            ],
            "type": "contour"
           }
          ],
          "contourcarpet": [
           {
            "colorbar": {
             "outlinewidth": 0,
             "ticks": ""
            },
            "type": "contourcarpet"
           }
          ],
          "heatmap": [
           {
            "colorbar": {
             "outlinewidth": 0,
             "ticks": ""
            },
            "colorscale": [
             [
              0,
              "#0d0887"
             ],
             [
              0.1111111111111111,
              "#46039f"
             ],
             [
              0.2222222222222222,
              "#7201a8"
             ],
             [
              0.3333333333333333,
              "#9c179e"
             ],
             [
              0.4444444444444444,
              "#bd3786"
             ],
             [
              0.5555555555555556,
              "#d8576b"
             ],
             [
              0.6666666666666666,
              "#ed7953"
             ],
             [
              0.7777777777777778,
              "#fb9f3a"
             ],
             [
              0.8888888888888888,
              "#fdca26"
             ],
             [
              1,
              "#f0f921"
             ]
            ],
            "type": "heatmap"
           }
          ],
          "histogram": [
           {
            "marker": {
             "pattern": {
              "fillmode": "overlay",
              "size": 10,
              "solidity": 0.2
             }
            },
            "type": "histogram"
           }
          ],
          "histogram2d": [
           {
            "colorbar": {
             "outlinewidth": 0,
             "ticks": ""
            },
            "colorscale": [
             [
              0,
              "#0d0887"
             ],
             [
              0.1111111111111111,
              "#46039f"
             ],
             [
              0.2222222222222222,
              "#7201a8"
             ],
             [
              0.3333333333333333,
              "#9c179e"
             ],
             [
              0.4444444444444444,
              "#bd3786"
             ],
             [
              0.5555555555555556,
              "#d8576b"
             ],
             [
              0.6666666666666666,
              "#ed7953"
             ],
             [
              0.7777777777777778,
              "#fb9f3a"
             ],
             [
              0.8888888888888888,
              "#fdca26"
             ],
             [
              1,
              "#f0f921"
             ]
            ],
            "type": "histogram2d"
           }
          ],
          "histogram2dcontour": [
           {
            "colorbar": {
             "outlinewidth": 0,
             "ticks": ""
            },
            "colorscale": [
             [
              0,
              "#0d0887"
             ],
             [
              0.1111111111111111,
              "#46039f"
             ],
             [
              0.2222222222222222,
              "#7201a8"
             ],
             [
              0.3333333333333333,
              "#9c179e"
             ],
             [
              0.4444444444444444,
              "#bd3786"
             ],
             [
              0.5555555555555556,
              "#d8576b"
             ],
             [
              0.6666666666666666,
              "#ed7953"
             ],
             [
              0.7777777777777778,
              "#fb9f3a"
             ],
             [
              0.8888888888888888,
              "#fdca26"
             ],
             [
              1,
              "#f0f921"
             ]
            ],
            "type": "histogram2dcontour"
           }
          ],
          "mesh3d": [
           {
            "colorbar": {
             "outlinewidth": 0,
             "ticks": ""
            },
            "type": "mesh3d"
           }
          ],
          "parcoords": [
           {
            "line": {
             "colorbar": {
              "outlinewidth": 0,
              "ticks": ""
             }
            },
            "type": "parcoords"
           }
          ],
          "pie": [
           {
            "automargin": true,
            "type": "pie"
           }
          ],
          "scatter": [
           {
            "fillpattern": {
             "fillmode": "overlay",
             "size": 10,
             "solidity": 0.2
            },
            "type": "scatter"
           }
          ],
          "scatter3d": [
           {
            "line": {
             "colorbar": {
              "outlinewidth": 0,
              "ticks": ""
             }
            },
            "marker": {
             "colorbar": {
              "outlinewidth": 0,
              "ticks": ""
             }
            },
            "type": "scatter3d"
           }
          ],
          "scattercarpet": [
           {
            "marker": {
             "colorbar": {
              "outlinewidth": 0,
              "ticks": ""
             }
            },
            "type": "scattercarpet"
           }
          ],
          "scattergeo": [
           {
            "marker": {
             "colorbar": {
              "outlinewidth": 0,
              "ticks": ""
             }
            },
            "type": "scattergeo"
           }
          ],
          "scattergl": [
           {
            "marker": {
             "colorbar": {
              "outlinewidth": 0,
              "ticks": ""
             }
            },
            "type": "scattergl"
           }
          ],
          "scattermap": [
           {
            "marker": {
             "colorbar": {
              "outlinewidth": 0,
              "ticks": ""
             }
            },
            "type": "scattermap"
           }
          ],
          "scattermapbox": [
           {
            "marker": {
             "colorbar": {
              "outlinewidth": 0,
              "ticks": ""
             }
            },
            "type": "scattermapbox"
           }
          ],
          "scatterpolar": [
           {
            "marker": {
             "colorbar": {
              "outlinewidth": 0,
              "ticks": ""
             }
            },
            "type": "scatterpolar"
           }
          ],
          "scatterpolargl": [
           {
            "marker": {
             "colorbar": {
              "outlinewidth": 0,
              "ticks": ""
             }
            },
            "type": "scatterpolargl"
           }
          ],
          "scatterternary": [
           {
            "marker": {
             "colorbar": {
              "outlinewidth": 0,
              "ticks": ""
             }
            },
            "type": "scatterternary"
           }
          ],
          "surface": [
           {
            "colorbar": {
             "outlinewidth": 0,
             "ticks": ""
            },
            "colorscale": [
             [
              0,
              "#0d0887"
             ],
             [
              0.1111111111111111,
              "#46039f"
             ],
             [
              0.2222222222222222,
              "#7201a8"
             ],
             [
              0.3333333333333333,
              "#9c179e"
             ],
             [
              0.4444444444444444,
              "#bd3786"
             ],
             [
              0.5555555555555556,
              "#d8576b"
             ],
             [
              0.6666666666666666,
              "#ed7953"
             ],
             [
              0.7777777777777778,
              "#fb9f3a"
             ],
             [
              0.8888888888888888,
              "#fdca26"
             ],
             [
              1,
              "#f0f921"
             ]
            ],
            "type": "surface"
           }
          ],
          "table": [
           {
            "cells": {
             "fill": {
              "color": "#EBF0F8"
             },
             "line": {
              "color": "white"
             }
            },
            "header": {
             "fill": {
              "color": "#C8D4E3"
             },
             "line": {
              "color": "white"
             }
            },
            "type": "table"
           }
          ]
         },
         "layout": {
          "annotationdefaults": {
           "arrowcolor": "#2a3f5f",
           "arrowhead": 0,
           "arrowwidth": 1
          },
          "autotypenumbers": "strict",
          "coloraxis": {
           "colorbar": {
            "outlinewidth": 0,
            "ticks": ""
           }
          },
          "colorscale": {
           "diverging": [
            [
             0,
             "#8e0152"
            ],
            [
             0.1,
             "#c51b7d"
            ],
            [
             0.2,
             "#de77ae"
            ],
            [
             0.3,
             "#f1b6da"
            ],
            [
             0.4,
             "#fde0ef"
            ],
            [
             0.5,
             "#f7f7f7"
            ],
            [
             0.6,
             "#e6f5d0"
            ],
            [
             0.7,
             "#b8e186"
            ],
            [
             0.8,
             "#7fbc41"
            ],
            [
             0.9,
             "#4d9221"
            ],
            [
             1,
             "#276419"
            ]
           ],
           "sequential": [
            [
             0,
             "#0d0887"
            ],
            [
             0.1111111111111111,
             "#46039f"
            ],
            [
             0.2222222222222222,
             "#7201a8"
            ],
            [
             0.3333333333333333,
             "#9c179e"
            ],
            [
             0.4444444444444444,
             "#bd3786"
            ],
            [
             0.5555555555555556,
             "#d8576b"
            ],
            [
             0.6666666666666666,
             "#ed7953"
            ],
            [
             0.7777777777777778,
             "#fb9f3a"
            ],
            [
             0.8888888888888888,
             "#fdca26"
            ],
            [
             1,
             "#f0f921"
            ]
           ],
           "sequentialminus": [
            [
             0,
             "#0d0887"
            ],
            [
             0.1111111111111111,
             "#46039f"
            ],
            [
             0.2222222222222222,
             "#7201a8"
            ],
            [
             0.3333333333333333,
             "#9c179e"
            ],
            [
             0.4444444444444444,
             "#bd3786"
            ],
            [
             0.5555555555555556,
             "#d8576b"
            ],
            [
             0.6666666666666666,
             "#ed7953"
            ],
            [
             0.7777777777777778,
             "#fb9f3a"
            ],
            [
             0.8888888888888888,
             "#fdca26"
            ],
            [
             1,
             "#f0f921"
            ]
           ]
          },
          "colorway": [
           "#636efa",
           "#EF553B",
           "#00cc96",
           "#ab63fa",
           "#FFA15A",
           "#19d3f3",
           "#FF6692",
           "#B6E880",
           "#FF97FF",
           "#FECB52"
          ],
          "font": {
           "color": "#2a3f5f"
          },
          "geo": {
           "bgcolor": "white",
           "lakecolor": "white",
           "landcolor": "#E5ECF6",
           "showlakes": true,
           "showland": true,
           "subunitcolor": "white"
          },
          "hoverlabel": {
           "align": "left"
          },
          "hovermode": "closest",
          "mapbox": {
           "style": "light"
          },
          "paper_bgcolor": "white",
          "plot_bgcolor": "#E5ECF6",
          "polar": {
           "angularaxis": {
            "gridcolor": "white",
            "linecolor": "white",
            "ticks": ""
           },
           "bgcolor": "#E5ECF6",
           "radialaxis": {
            "gridcolor": "white",
            "linecolor": "white",
            "ticks": ""
           }
          },
          "scene": {
           "xaxis": {
            "backgroundcolor": "#E5ECF6",
            "gridcolor": "white",
            "gridwidth": 2,
            "linecolor": "white",
            "showbackground": true,
            "ticks": "",
            "zerolinecolor": "white"
           },
           "yaxis": {
            "backgroundcolor": "#E5ECF6",
            "gridcolor": "white",
            "gridwidth": 2,
            "linecolor": "white",
            "showbackground": true,
            "ticks": "",
            "zerolinecolor": "white"
           },
           "zaxis": {
            "backgroundcolor": "#E5ECF6",
            "gridcolor": "white",
            "gridwidth": 2,
            "linecolor": "white",
            "showbackground": true,
            "ticks": "",
            "zerolinecolor": "white"
           }
          },
          "shapedefaults": {
           "line": {
            "color": "#2a3f5f"
           }
          },
          "ternary": {
           "aaxis": {
            "gridcolor": "white",
            "linecolor": "white",
            "ticks": ""
           },
           "baxis": {
            "gridcolor": "white",
            "linecolor": "white",
            "ticks": ""
           },
           "bgcolor": "#E5ECF6",
           "caxis": {
            "gridcolor": "white",
            "linecolor": "white",
            "ticks": ""
           }
          },
          "title": {
           "x": 0.05
          },
          "xaxis": {
           "automargin": true,
           "gridcolor": "white",
           "linecolor": "white",
           "ticks": "",
           "title": {
            "standoff": 15
           },
           "zerolinecolor": "white",
           "zerolinewidth": 2
          },
          "yaxis": {
           "automargin": true,
           "gridcolor": "white",
           "linecolor": "white",
           "ticks": "",
           "title": {
            "standoff": 15
           },
           "zerolinecolor": "white",
           "zerolinewidth": 2
          }
         }
        },
        "title": {
         "text": "Распределение категорий семей и их заработная плата",
         "x": 0.5
        },
        "xaxis": {
         "anchor": "y",
         "domain": [
          0,
          1
         ],
         "title": {
          "text": "Категория семьи"
         }
        },
        "yaxis": {
         "anchor": "x",
         "domain": [
          0,
          1
         ],
         "title": {
          "text": "Количество"
         }
        }
       }
      }
     },
     "metadata": {},
     "output_type": "display_data"
    }
   ],
   "source": [
    "df6 = df_map[['HHBRUTOINK2_w5', 'HHSAM', 'HHPERS', 'N_KIND', 'KHVM']]\n",
    "\n",
    "df6.rename(columns = {'HHBRUTOINK2_w5': 'Доход семьи',\n",
    "                      'HHSAM': 'Категория семьи',\n",
    "                      'HHPERS': 'Количество человек в семье',\n",
    "                      'N_KIND': 'Количетсво детей в семье',\n",
    "                      'KHVM': 'Средство передвижения'}, inplace=True)\n",
    "\n",
    "df61 = df6.groupby(['Доход семьи', 'Категория семьи']).size().reset_index()\n",
    "df61['Доход семьи'] = df61['Доход семьи'].str.replace('\\x80', '€', regex=False)\n",
    "\n",
    "\n",
    "df61.rename(columns = {0: 'Количество'}, inplace=True)\n",
    "\n",
    "fig6 = px.bar(df61, \n",
    "              x = 'Категория семьи',\n",
    "              y = 'Количество',\n",
    "              color='Доход семьи',\n",
    "              text_auto=True)\n",
    "fig6.update_layout(title = {'text': 'Распределение категорий семей и их заработная плата', 'x': 0.5})\n",
    "fig6.show()\n",
    "\n"
   ]
  },
  {
   "cell_type": "markdown",
   "id": "e28888ef",
   "metadata": {},
   "source": [
    "### График 7 (Использование средств передвижения разными семьями и разными финансовыми положениями)"
   ]
  },
  {
   "cell_type": "code",
   "execution_count": 604,
   "id": "1482a9e1",
   "metadata": {},
   "outputs": [
    {
     "data": {
      "application/vnd.plotly.v1+json": {
       "config": {
        "plotlyServerURL": "https://plotly.com"
       },
       "data": [
        {
         "hovertemplate": "Средство передвижения=Bus/tram/metro<br>Доход семьи=<€13,700<br>Категория семьи=%{x}<br>Количество=%{y}<extra></extra>",
         "legendgroup": "Bus/tram/metro",
         "marker": {
          "color": "#636efa",
          "pattern": {
           "shape": ""
          }
         },
         "name": "Bus/tram/metro",
         "orientation": "v",
         "showlegend": true,
         "textposition": "auto",
         "texttemplate": "%{y}",
         "type": "bar",
         "x": [
          "Single parent family + child(ren)",
          "Single person household",
          "Couple + child(ren)"
         ],
         "xaxis": "x",
         "y": {
          "bdata": "GSoI",
          "dtype": "i1"
         },
         "yaxis": "y"
        },
        {
         "hovertemplate": "Средство передвижения=Car as passenger<br>Доход семьи=<€13,700<br>Категория семьи=%{x}<br>Количество=%{y}<extra></extra>",
         "legendgroup": "Car as passenger",
         "marker": {
          "color": "#EF553B",
          "pattern": {
           "shape": ""
          }
         },
         "name": "Car as passenger",
         "orientation": "v",
         "showlegend": true,
         "textposition": "auto",
         "texttemplate": "%{y}",
         "type": "bar",
         "x": [
          "Couple + child(ren)",
          "Single parent family + child(ren)",
          "Single person household"
         ],
         "xaxis": "x",
         "y": {
          "bdata": "AgQG",
          "dtype": "i1"
         },
         "yaxis": "y"
        },
        {
         "hovertemplate": "Средство передвижения=Train<br>Доход семьи=<€13,700<br>Категория семьи=%{x}<br>Количество=%{y}<extra></extra>",
         "legendgroup": "Train",
         "marker": {
          "color": "#00cc96",
          "pattern": {
           "shape": ""
          }
         },
         "name": "Train",
         "orientation": "v",
         "showlegend": true,
         "textposition": "auto",
         "texttemplate": "%{y}",
         "type": "bar",
         "x": [
          "Couple + child(ren)",
          "Couple",
          "Single person household"
         ],
         "xaxis": "x",
         "y": {
          "bdata": "Ehoa",
          "dtype": "i1"
         },
         "yaxis": "y"
        },
        {
         "hovertemplate": "Средство передвижения=Walking<br>Доход семьи=<€13,700<br>Категория семьи=%{x}<br>Количество=%{y}<extra></extra>",
         "legendgroup": "Walking",
         "marker": {
          "color": "#ab63fa",
          "pattern": {
           "shape": ""
          }
         },
         "name": "Walking",
         "orientation": "v",
         "showlegend": true,
         "textposition": "auto",
         "texttemplate": "%{y}",
         "type": "bar",
         "x": [
          "Couple + child(ren)",
          "Single person household"
         ],
         "xaxis": "x",
         "y": {
          "bdata": "AQM=",
          "dtype": "i1"
         },
         "yaxis": "y"
        },
        {
         "hovertemplate": "Средство передвижения=Bicycle<br>Доход семьи=<€13,700<br>Категория семьи=%{x}<br>Количество=%{y}<extra></extra>",
         "legendgroup": "Bicycle",
         "marker": {
          "color": "#FFA15A",
          "pattern": {
           "shape": ""
          }
         },
         "name": "Bicycle",
         "orientation": "v",
         "showlegend": true,
         "textposition": "auto",
         "texttemplate": "%{y}",
         "type": "bar",
         "x": [
          "Single parent family + child(ren)",
          "Single person household"
         ],
         "xaxis": "x",
         "y": {
          "bdata": "CBg=",
          "dtype": "i1"
         },
         "yaxis": "y"
        },
        {
         "hovertemplate": "Средство передвижения=Car as driver<br>Доход семьи=<€13,700<br>Категория семьи=%{x}<br>Количество=%{y}<extra></extra>",
         "legendgroup": "Car as driver",
         "marker": {
          "color": "#19d3f3",
          "pattern": {
           "shape": ""
          }
         },
         "name": "Car as driver",
         "orientation": "v",
         "showlegend": true,
         "textposition": "auto",
         "texttemplate": "%{y}",
         "type": "bar",
         "x": [
          "Single parent family + child(ren)",
          "Single person household",
          "Couple + child(ren)"
         ],
         "xaxis": "x",
         "y": {
          "bdata": "CxsF",
          "dtype": "i1"
         },
         "yaxis": "y"
        },
        {
         "hovertemplate": "Средство передвижения=Scooter/moped<br>Доход семьи=<€13,700<br>Категория семьи=%{x}<br>Количество=%{y}<extra></extra>",
         "legendgroup": "Scooter/moped",
         "marker": {
          "color": "#FF6692",
          "pattern": {
           "shape": ""
          }
         },
         "name": "Scooter/moped",
         "orientation": "v",
         "showlegend": true,
         "textposition": "auto",
         "texttemplate": "%{y}",
         "type": "bar",
         "x": [
          "Single person household"
         ],
         "xaxis": "x",
         "y": {
          "bdata": "Bw==",
          "dtype": "i1"
         },
         "yaxis": "y"
        },
        {
         "hovertemplate": "Средство передвижения=Bus/tram/metro<br>Доход семьи=€13,700 - <€28,600<br>Категория семьи=%{x}<br>Количество=%{y}<extra></extra>",
         "legendgroup": "Bus/tram/metro",
         "marker": {
          "color": "#636efa",
          "pattern": {
           "shape": ""
          }
         },
         "name": "Bus/tram/metro",
         "orientation": "v",
         "showlegend": false,
         "textposition": "auto",
         "texttemplate": "%{y}",
         "type": "bar",
         "x": [
          "Couple + child(ren)",
          "Single parent family + child(ren)",
          "Single person household"
         ],
         "xaxis": "x2",
         "y": {
          "bdata": "GAZ7",
          "dtype": "i1"
         },
         "yaxis": "y2"
        },
        {
         "hovertemplate": "Средство передвижения=Car as passenger<br>Доход семьи=€13,700 - <€28,600<br>Категория семьи=%{x}<br>Количество=%{y}<extra></extra>",
         "legendgroup": "Car as passenger",
         "marker": {
          "color": "#EF553B",
          "pattern": {
           "shape": ""
          }
         },
         "name": "Car as passenger",
         "orientation": "v",
         "showlegend": false,
         "textposition": "auto",
         "texttemplate": "%{y}",
         "type": "bar",
         "x": [
          "Couple",
          "Single parent family + child(ren)",
          "Single person household",
          "Couple + child(ren)"
         ],
         "xaxis": "x2",
         "y": {
          "bdata": "Fg8TFg==",
          "dtype": "i1"
         },
         "yaxis": "y2"
        },
        {
         "hovertemplate": "Средство передвижения=Train<br>Доход семьи=€13,700 - <€28,600<br>Категория семьи=%{x}<br>Количество=%{y}<extra></extra>",
         "legendgroup": "Train",
         "marker": {
          "color": "#00cc96",
          "pattern": {
           "shape": ""
          }
         },
         "name": "Train",
         "orientation": "v",
         "showlegend": false,
         "textposition": "auto",
         "texttemplate": "%{y}",
         "type": "bar",
         "x": [
          "Couple + child(ren)",
          "Single person household",
          "Single parent family + child(ren)"
         ],
         "xaxis": "x2",
         "y": {
          "bdata": "BmEG",
          "dtype": "i1"
         },
         "yaxis": "y2"
        },
        {
         "hovertemplate": "Средство передвижения=Walking<br>Доход семьи=€13,700 - <€28,600<br>Категория семьи=%{x}<br>Количество=%{y}<extra></extra>",
         "legendgroup": "Walking",
         "marker": {
          "color": "#ab63fa",
          "pattern": {
           "shape": ""
          }
         },
         "name": "Walking",
         "orientation": "v",
         "showlegend": false,
         "textposition": "auto",
         "texttemplate": "%{y}",
         "type": "bar",
         "x": [
          "Couple",
          "Couple + child(ren)",
          "Single person household",
          "Single parent family + child(ren)"
         ],
         "xaxis": "x2",
         "y": {
          "bdata": "AQESCw==",
          "dtype": "i1"
         },
         "yaxis": "y2"
        },
        {
         "hovertemplate": "Средство передвижения=Bicycle<br>Доход семьи=€13,700 - <€28,600<br>Категория семьи=%{x}<br>Количество=%{y}<extra></extra>",
         "legendgroup": "Bicycle",
         "marker": {
          "color": "#FFA15A",
          "pattern": {
           "shape": ""
          }
         },
         "name": "Bicycle",
         "orientation": "v",
         "showlegend": false,
         "textposition": "auto",
         "texttemplate": "%{y}",
         "type": "bar",
         "x": [
          "Single person household",
          "Couple + child(ren)",
          "Single parent family + child(ren)",
          "Couple"
         ],
         "xaxis": "x2",
         "y": {
          "bdata": "MAQTAg==",
          "dtype": "i1"
         },
         "yaxis": "y2"
        },
        {
         "hovertemplate": "Средство передвижения=Car as driver<br>Доход семьи=€13,700 - <€28,600<br>Категория семьи=%{x}<br>Количество=%{y}<extra></extra>",
         "legendgroup": "Car as driver",
         "marker": {
          "color": "#19d3f3",
          "pattern": {
           "shape": ""
          }
         },
         "name": "Car as driver",
         "orientation": "v",
         "showlegend": false,
         "textposition": "auto",
         "texttemplate": "%{y}",
         "type": "bar",
         "x": [
          "Couple + child(ren)",
          "Single parent family + child(ren)",
          "Single person household",
          "Couple"
         ],
         "xaxis": "x2",
         "y": {
          "bdata": "HwAvAIEAJgA=",
          "dtype": "i2"
         },
         "yaxis": "y2"
        },
        {
         "hovertemplate": "Средство передвижения=Scooter/moped<br>Доход семьи=€13,700 - <€28,600<br>Категория семьи=%{x}<br>Количество=%{y}<extra></extra>",
         "legendgroup": "Scooter/moped",
         "marker": {
          "color": "#FF6692",
          "pattern": {
           "shape": ""
          }
         },
         "name": "Scooter/moped",
         "orientation": "v",
         "showlegend": false,
         "textposition": "auto",
         "texttemplate": "%{y}",
         "type": "bar",
         "x": [
          "Single parent family + child(ren)",
          "Single person household"
         ],
         "xaxis": "x2",
         "y": {
          "bdata": "AgQ=",
          "dtype": "i1"
         },
         "yaxis": "y2"
        },
        {
         "hovertemplate": "Средство передвижения=Other<br>Доход семьи=€13,700 - <€28,600<br>Категория семьи=%{x}<br>Количество=%{y}<extra></extra>",
         "legendgroup": "Other",
         "marker": {
          "color": "#B6E880",
          "pattern": {
           "shape": ""
          }
         },
         "name": "Other",
         "orientation": "v",
         "showlegend": true,
         "textposition": "auto",
         "texttemplate": "%{y}",
         "type": "bar",
         "x": [
          "Couple + child(ren)",
          "Single parent family + child(ren)",
          "Single person household"
         ],
         "xaxis": "x2",
         "y": {
          "bdata": "DAgT",
          "dtype": "i1"
         },
         "yaxis": "y2"
        },
        {
         "hovertemplate": "Средство передвижения=Bus/tram/metro<br>Доход семьи=€28,600 - <€42,400<br>Категория семьи=%{x}<br>Количество=%{y}<extra></extra>",
         "legendgroup": "Bus/tram/metro",
         "marker": {
          "color": "#636efa",
          "pattern": {
           "shape": ""
          }
         },
         "name": "Bus/tram/metro",
         "orientation": "v",
         "showlegend": false,
         "textposition": "auto",
         "texttemplate": "%{y}",
         "type": "bar",
         "x": [
          "Single person household",
          "Single parent family + child(ren)",
          "Couple + child(ren)",
          "Couple"
         ],
         "xaxis": "x3",
         "y": {
          "bdata": "QAMVIA==",
          "dtype": "i1"
         },
         "yaxis": "y3"
        },
        {
         "hovertemplate": "Средство передвижения=Car as passenger<br>Доход семьи=€28,600 - <€42,400<br>Категория семьи=%{x}<br>Количество=%{y}<extra></extra>",
         "legendgroup": "Car as passenger",
         "marker": {
          "color": "#EF553B",
          "pattern": {
           "shape": ""
          }
         },
         "name": "Car as passenger",
         "orientation": "v",
         "showlegend": false,
         "textposition": "auto",
         "texttemplate": "%{y}",
         "type": "bar",
         "x": [
          "Single person household",
          "Couple + child(ren)",
          "Couple"
         ],
         "xaxis": "x3",
         "y": {
          "bdata": "Dwsm",
          "dtype": "i1"
         },
         "yaxis": "y3"
        },
        {
         "hovertemplate": "Средство передвижения=Train<br>Доход семьи=€28,600 - <€42,400<br>Категория семьи=%{x}<br>Количество=%{y}<extra></extra>",
         "legendgroup": "Train",
         "marker": {
          "color": "#00cc96",
          "pattern": {
           "shape": ""
          }
         },
         "name": "Train",
         "orientation": "v",
         "showlegend": false,
         "textposition": "auto",
         "texttemplate": "%{y}",
         "type": "bar",
         "x": [
          "Single person household",
          "Couple",
          "Couple + child(ren)"
         ],
         "xaxis": "x3",
         "y": {
          "bdata": "WBwc",
          "dtype": "i1"
         },
         "yaxis": "y3"
        },
        {
         "hovertemplate": "Средство передвижения=Walking<br>Доход семьи=€28,600 - <€42,400<br>Категория семьи=%{x}<br>Количество=%{y}<extra></extra>",
         "legendgroup": "Walking",
         "marker": {
          "color": "#ab63fa",
          "pattern": {
           "shape": ""
          }
         },
         "name": "Walking",
         "orientation": "v",
         "showlegend": false,
         "textposition": "auto",
         "texttemplate": "%{y}",
         "type": "bar",
         "x": [
          "Couple + child(ren)",
          "Couple",
          "Single person household"
         ],
         "xaxis": "x3",
         "y": {
          "bdata": "AwsO",
          "dtype": "i1"
         },
         "yaxis": "y3"
        },
        {
         "hovertemplate": "Средство передвижения=Bicycle<br>Доход семьи=€28,600 - <€42,400<br>Категория семьи=%{x}<br>Количество=%{y}<extra></extra>",
         "legendgroup": "Bicycle",
         "marker": {
          "color": "#FFA15A",
          "pattern": {
           "shape": ""
          }
         },
         "name": "Bicycle",
         "orientation": "v",
         "showlegend": false,
         "textposition": "auto",
         "texttemplate": "%{y}",
         "type": "bar",
         "x": [
          "Single person household",
          "Single parent family + child(ren)",
          "Couple",
          "Couple + child(ren)"
         ],
         "xaxis": "x3",
         "y": {
          "bdata": "QQE6FQ==",
          "dtype": "i1"
         },
         "yaxis": "y3"
        },
        {
         "hovertemplate": "Средство передвижения=Car as driver<br>Доход семьи=€28,600 - <€42,400<br>Категория семьи=%{x}<br>Количество=%{y}<extra></extra>",
         "legendgroup": "Car as driver",
         "marker": {
          "color": "#19d3f3",
          "pattern": {
           "shape": ""
          }
         },
         "name": "Car as driver",
         "orientation": "v",
         "showlegend": false,
         "textposition": "auto",
         "texttemplate": "%{y}",
         "type": "bar",
         "x": [
          "Single person household",
          "Single parent family + child(ren)",
          "Couple + child(ren)",
          "Couple"
         ],
         "xaxis": "x3",
         "y": {
          "bdata": "lwAIADgAXAA=",
          "dtype": "i2"
         },
         "yaxis": "y3"
        },
        {
         "hovertemplate": "Средство передвижения=Scooter/moped<br>Доход семьи=€28,600 - <€42,400<br>Категория семьи=%{x}<br>Количество=%{y}<extra></extra>",
         "legendgroup": "Scooter/moped",
         "marker": {
          "color": "#FF6692",
          "pattern": {
           "shape": ""
          }
         },
         "name": "Scooter/moped",
         "orientation": "v",
         "showlegend": false,
         "textposition": "auto",
         "texttemplate": "%{y}",
         "type": "bar",
         "x": [
          "Single person household",
          "Couple + child(ren)"
         ],
         "xaxis": "x3",
         "y": {
          "bdata": "BwY=",
          "dtype": "i1"
         },
         "yaxis": "y3"
        },
        {
         "hovertemplate": "Средство передвижения=Other<br>Доход семьи=€28,600 - <€42,400<br>Категория семьи=%{x}<br>Количество=%{y}<extra></extra>",
         "legendgroup": "Other",
         "marker": {
          "color": "#B6E880",
          "pattern": {
           "shape": ""
          }
         },
         "name": "Other",
         "orientation": "v",
         "showlegend": false,
         "textposition": "auto",
         "texttemplate": "%{y}",
         "type": "bar",
         "x": [
          "Single person household",
          "Couple + child(ren)",
          "Couple"
         ],
         "xaxis": "x3",
         "y": {
          "bdata": "DwsL",
          "dtype": "i1"
         },
         "yaxis": "y3"
        },
        {
         "hovertemplate": "Средство передвижения=Bus/tram/metro<br>Доход семьи=€42,400 - <€71,000<br>Категория семьи=%{x}<br>Количество=%{y}<extra></extra>",
         "legendgroup": "Bus/tram/metro",
         "marker": {
          "color": "#636efa",
          "pattern": {
           "shape": ""
          }
         },
         "name": "Bus/tram/metro",
         "orientation": "v",
         "showlegend": false,
         "textposition": "auto",
         "texttemplate": "%{y}",
         "type": "bar",
         "x": [
          "Single person household",
          "Couple + child(ren)",
          "Couple"
         ],
         "xaxis": "x4",
         "y": {
          "bdata": "WBk6",
          "dtype": "i1"
         },
         "yaxis": "y4"
        },
        {
         "hovertemplate": "Средство передвижения=Car as passenger<br>Доход семьи=€42,400 - <€71,000<br>Категория семьи=%{x}<br>Количество=%{y}<extra></extra>",
         "legendgroup": "Car as passenger",
         "marker": {
          "color": "#EF553B",
          "pattern": {
           "shape": ""
          }
         },
         "name": "Car as passenger",
         "orientation": "v",
         "showlegend": false,
         "textposition": "auto",
         "texttemplate": "%{y}",
         "type": "bar",
         "x": [
          "Single person household",
          "Single parent family + child(ren)",
          "Couple + child(ren)",
          "Couple"
         ],
         "xaxis": "x4",
         "y": {
          "bdata": "FQMrQw==",
          "dtype": "i1"
         },
         "yaxis": "y4"
        },
        {
         "hovertemplate": "Средство передвижения=Train<br>Доход семьи=€42,400 - <€71,000<br>Категория семьи=%{x}<br>Количество=%{y}<extra></extra>",
         "legendgroup": "Train",
         "marker": {
          "color": "#00cc96",
          "pattern": {
           "shape": ""
          }
         },
         "name": "Train",
         "orientation": "v",
         "showlegend": false,
         "textposition": "auto",
         "texttemplate": "%{y}",
         "type": "bar",
         "x": [
          "Single parent family + child(ren)",
          "Couple + child(ren)",
          "Couple",
          "Single person household"
         ],
         "xaxis": "x4",
         "y": {
          "bdata": "Bn9LMQ==",
          "dtype": "i1"
         },
         "yaxis": "y4"
        },
        {
         "hovertemplate": "Средство передвижения=Walking<br>Доход семьи=€42,400 - <€71,000<br>Категория семьи=%{x}<br>Количество=%{y}<extra></extra>",
         "legendgroup": "Walking",
         "marker": {
          "color": "#ab63fa",
          "pattern": {
           "shape": ""
          }
         },
         "name": "Walking",
         "orientation": "v",
         "showlegend": false,
         "textposition": "auto",
         "texttemplate": "%{y}",
         "type": "bar",
         "x": [
          "Single person household",
          "Couple + child(ren)",
          "Couple"
         ],
         "xaxis": "x4",
         "y": {
          "bdata": "CgcW",
          "dtype": "i1"
         },
         "yaxis": "y4"
        },
        {
         "hovertemplate": "Средство передвижения=Bicycle<br>Доход семьи=€42,400 - <€71,000<br>Категория семьи=%{x}<br>Количество=%{y}<extra></extra>",
         "legendgroup": "Bicycle",
         "marker": {
          "color": "#FFA15A",
          "pattern": {
           "shape": ""
          }
         },
         "name": "Bicycle",
         "orientation": "v",
         "showlegend": false,
         "textposition": "auto",
         "texttemplate": "%{y}",
         "type": "bar",
         "x": [
          "Single person household",
          "Single parent family + child(ren)",
          "Couple + child(ren)",
          "Couple"
         ],
         "xaxis": "x4",
         "y": {
          "bdata": "NQFUNA==",
          "dtype": "i1"
         },
         "yaxis": "y4"
        },
        {
         "hovertemplate": "Средство передвижения=Car as driver<br>Доход семьи=€42,400 - <€71,000<br>Категория семьи=%{x}<br>Количество=%{y}<extra></extra>",
         "legendgroup": "Car as driver",
         "marker": {
          "color": "#19d3f3",
          "pattern": {
           "shape": ""
          }
         },
         "name": "Car as driver",
         "orientation": "v",
         "showlegend": false,
         "textposition": "auto",
         "texttemplate": "%{y}",
         "type": "bar",
         "x": [
          "Single person household",
          "Single parent family + child(ren)",
          "Couple + child(ren)",
          "Couple"
         ],
         "xaxis": "x4",
         "y": {
          "bdata": "igAFALQAmwA=",
          "dtype": "i2"
         },
         "yaxis": "y4"
        },
        {
         "hovertemplate": "Средство передвижения=Scooter/moped<br>Доход семьи=€42,400 - <€71,000<br>Категория семьи=%{x}<br>Количество=%{y}<extra></extra>",
         "legendgroup": "Scooter/moped",
         "marker": {
          "color": "#FF6692",
          "pattern": {
           "shape": ""
          }
         },
         "name": "Scooter/moped",
         "orientation": "v",
         "showlegend": false,
         "textposition": "auto",
         "texttemplate": "%{y}",
         "type": "bar",
         "x": [
          "Couple + child(ren)",
          "Single person household"
         ],
         "xaxis": "x4",
         "y": {
          "bdata": "Gwg=",
          "dtype": "i1"
         },
         "yaxis": "y4"
        },
        {
         "hovertemplate": "Средство передвижения=Other<br>Доход семьи=€42,400 - <€71,000<br>Категория семьи=%{x}<br>Количество=%{y}<extra></extra>",
         "legendgroup": "Other",
         "marker": {
          "color": "#B6E880",
          "pattern": {
           "shape": ""
          }
         },
         "name": "Other",
         "orientation": "v",
         "showlegend": false,
         "textposition": "auto",
         "texttemplate": "%{y}",
         "type": "bar",
         "x": [
          "Single person household",
          "Couple + child(ren)",
          "Couple"
         ],
         "xaxis": "x4",
         "y": {
          "bdata": "CR46",
          "dtype": "i1"
         },
         "yaxis": "y4"
        },
        {
         "hovertemplate": "Средство передвижения=Bus/tram/metro<br>Доход семьи=€71,000 - <€84,700<br>Категория семьи=%{x}<br>Количество=%{y}<extra></extra>",
         "legendgroup": "Bus/tram/metro",
         "marker": {
          "color": "#636efa",
          "pattern": {
           "shape": ""
          }
         },
         "name": "Bus/tram/metro",
         "orientation": "v",
         "showlegend": false,
         "textposition": "auto",
         "texttemplate": "%{y}",
         "type": "bar",
         "x": [
          "Single person household",
          "Couple",
          "Couple + other(s)",
          "Couple + child(ren)"
         ],
         "xaxis": "x5",
         "y": {
          "bdata": "Hw4GDA==",
          "dtype": "i1"
         },
         "yaxis": "y5"
        },
        {
         "hovertemplate": "Средство передвижения=Car as passenger<br>Доход семьи=€71,000 - <€84,700<br>Категория семьи=%{x}<br>Количество=%{y}<extra></extra>",
         "legendgroup": "Car as passenger",
         "marker": {
          "color": "#EF553B",
          "pattern": {
           "shape": ""
          }
         },
         "name": "Car as passenger",
         "orientation": "v",
         "showlegend": false,
         "textposition": "auto",
         "texttemplate": "%{y}",
         "type": "bar",
         "x": [
          "Single person household",
          "Couple",
          "Couple + child(ren)"
         ],
         "xaxis": "x5",
         "y": {
          "bdata": "Ag0K",
          "dtype": "i1"
         },
         "yaxis": "y5"
        },
        {
         "hovertemplate": "Средство передвижения=Train<br>Доход семьи=€71,000 - <€84,700<br>Категория семьи=%{x}<br>Количество=%{y}<extra></extra>",
         "legendgroup": "Train",
         "marker": {
          "color": "#00cc96",
          "pattern": {
           "shape": ""
          }
         },
         "name": "Train",
         "orientation": "v",
         "showlegend": false,
         "textposition": "auto",
         "texttemplate": "%{y}",
         "type": "bar",
         "x": [
          "Single person household",
          "Couple + child(ren)"
         ],
         "xaxis": "x5",
         "y": {
          "bdata": "ERw=",
          "dtype": "i1"
         },
         "yaxis": "y5"
        },
        {
         "hovertemplate": "Средство передвижения=Walking<br>Доход семьи=€71,000 - <€84,700<br>Категория семьи=%{x}<br>Количество=%{y}<extra></extra>",
         "legendgroup": "Walking",
         "marker": {
          "color": "#ab63fa",
          "pattern": {
           "shape": ""
          }
         },
         "name": "Walking",
         "orientation": "v",
         "showlegend": false,
         "textposition": "auto",
         "texttemplate": "%{y}",
         "type": "bar",
         "x": [
          "Single person household",
          "Couple",
          "Couple + child(ren)"
         ],
         "xaxis": "x5",
         "y": {
          "bdata": "AQID",
          "dtype": "i1"
         },
         "yaxis": "y5"
        },
        {
         "hovertemplate": "Средство передвижения=Bicycle<br>Доход семьи=€71,000 - <€84,700<br>Категория семьи=%{x}<br>Количество=%{y}<extra></extra>",
         "legendgroup": "Bicycle",
         "marker": {
          "color": "#FFA15A",
          "pattern": {
           "shape": ""
          }
         },
         "name": "Bicycle",
         "orientation": "v",
         "showlegend": false,
         "textposition": "auto",
         "texttemplate": "%{y}",
         "type": "bar",
         "x": [
          "Couple",
          "Couple + child(ren)",
          "Single person household"
         ],
         "xaxis": "x5",
         "y": {
          "bdata": "BjQE",
          "dtype": "i1"
         },
         "yaxis": "y5"
        },
        {
         "hovertemplate": "Средство передвижения=Car as driver<br>Доход семьи=€71,000 - <€84,700<br>Категория семьи=%{x}<br>Количество=%{y}<extra></extra>",
         "legendgroup": "Car as driver",
         "marker": {
          "color": "#19d3f3",
          "pattern": {
           "shape": ""
          }
         },
         "name": "Car as driver",
         "orientation": "v",
         "showlegend": false,
         "textposition": "auto",
         "texttemplate": "%{y}",
         "type": "bar",
         "x": [
          "Single person household",
          "Couple",
          "Couple + child(ren)",
          "Couple + other(s)"
         ],
         "xaxis": "x5",
         "y": {
          "bdata": "AhJWEw==",
          "dtype": "i1"
         },
         "yaxis": "y5"
        },
        {
         "hovertemplate": "Средство передвижения=Other<br>Доход семьи=€71,000 - <€84,700<br>Категория семьи=%{x}<br>Количество=%{y}<extra></extra>",
         "legendgroup": "Other",
         "marker": {
          "color": "#B6E880",
          "pattern": {
           "shape": ""
          }
         },
         "name": "Other",
         "orientation": "v",
         "showlegend": false,
         "textposition": "auto",
         "texttemplate": "%{y}",
         "type": "bar",
         "x": [
          "Couple + child(ren)"
         ],
         "xaxis": "x5",
         "y": {
          "bdata": "BQ==",
          "dtype": "i1"
         },
         "yaxis": "y5"
        },
        {
         "hovertemplate": "Средство передвижения=Bus/tram/metro<br>Доход семьи=>€84,700<br>Категория семьи=%{x}<br>Количество=%{y}<extra></extra>",
         "legendgroup": "Bus/tram/metro",
         "marker": {
          "color": "#636efa",
          "pattern": {
           "shape": ""
          }
         },
         "name": "Bus/tram/metro",
         "orientation": "v",
         "showlegend": false,
         "textposition": "auto",
         "texttemplate": "%{y}",
         "type": "bar",
         "x": [
          "Couple + child(ren)",
          "Couple"
         ],
         "xaxis": "x6",
         "y": {
          "bdata": "RiY=",
          "dtype": "i1"
         },
         "yaxis": "y6"
        },
        {
         "hovertemplate": "Средство передвижения=Car as passenger<br>Доход семьи=>€84,700<br>Категория семьи=%{x}<br>Количество=%{y}<extra></extra>",
         "legendgroup": "Car as passenger",
         "marker": {
          "color": "#EF553B",
          "pattern": {
           "shape": ""
          }
         },
         "name": "Car as passenger",
         "orientation": "v",
         "showlegend": false,
         "textposition": "auto",
         "texttemplate": "%{y}",
         "type": "bar",
         "x": [
          "Single person household",
          "Couple + child(ren)",
          "Couple"
         ],
         "xaxis": "x6",
         "y": {
          "bdata": "BB0R",
          "dtype": "i1"
         },
         "yaxis": "y6"
        },
        {
         "hovertemplate": "Средство передвижения=Train<br>Доход семьи=>€84,700<br>Категория семьи=%{x}<br>Количество=%{y}<extra></extra>",
         "legendgroup": "Train",
         "marker": {
          "color": "#00cc96",
          "pattern": {
           "shape": ""
          }
         },
         "name": "Train",
         "orientation": "v",
         "showlegend": false,
         "textposition": "auto",
         "texttemplate": "%{y}",
         "type": "bar",
         "x": [
          "Single person household",
          "Couple + child(ren)",
          "Couple"
         ],
         "xaxis": "x6",
         "y": {
          "bdata": "Elg1",
          "dtype": "i1"
         },
         "yaxis": "y6"
        },
        {
         "hovertemplate": "Средство передвижения=Walking<br>Доход семьи=>€84,700<br>Категория семьи=%{x}<br>Количество=%{y}<extra></extra>",
         "legendgroup": "Walking",
         "marker": {
          "color": "#ab63fa",
          "pattern": {
           "shape": ""
          }
         },
         "name": "Walking",
         "orientation": "v",
         "showlegend": false,
         "textposition": "auto",
         "texttemplate": "%{y}",
         "type": "bar",
         "x": [
          "Couple + child(ren)",
          "Couple"
         ],
         "xaxis": "x6",
         "y": {
          "bdata": "BgM=",
          "dtype": "i1"
         },
         "yaxis": "y6"
        },
        {
         "hovertemplate": "Средство передвижения=Bicycle<br>Доход семьи=>€84,700<br>Категория семьи=%{x}<br>Количество=%{y}<extra></extra>",
         "legendgroup": "Bicycle",
         "marker": {
          "color": "#FFA15A",
          "pattern": {
           "shape": ""
          }
         },
         "name": "Bicycle",
         "orientation": "v",
         "showlegend": false,
         "textposition": "auto",
         "texttemplate": "%{y}",
         "type": "bar",
         "x": [
          "Single person household",
          "Couple + child(ren)",
          "Couple"
         ],
         "xaxis": "x6",
         "y": {
          "bdata": "Ah4M",
          "dtype": "i1"
         },
         "yaxis": "y6"
        },
        {
         "hovertemplate": "Средство передвижения=Car as driver<br>Доход семьи=>€84,700<br>Категория семьи=%{x}<br>Количество=%{y}<extra></extra>",
         "legendgroup": "Car as driver",
         "marker": {
          "color": "#19d3f3",
          "pattern": {
           "shape": ""
          }
         },
         "name": "Car as driver",
         "orientation": "v",
         "showlegend": false,
         "textposition": "auto",
         "texttemplate": "%{y}",
         "type": "bar",
         "x": [
          "Couple",
          "Couple + child(ren)"
         ],
         "xaxis": "x6",
         "y": {
          "bdata": "RHE=",
          "dtype": "i1"
         },
         "yaxis": "y6"
        },
        {
         "hovertemplate": "Средство передвижения=Scooter/moped<br>Доход семьи=>€84,700<br>Категория семьи=%{x}<br>Количество=%{y}<extra></extra>",
         "legendgroup": "Scooter/moped",
         "marker": {
          "color": "#FF6692",
          "pattern": {
           "shape": ""
          }
         },
         "name": "Scooter/moped",
         "orientation": "v",
         "showlegend": false,
         "textposition": "auto",
         "texttemplate": "%{y}",
         "type": "bar",
         "x": [
          "Couple + child(ren)"
         ],
         "xaxis": "x6",
         "y": {
          "bdata": "Eg==",
          "dtype": "i1"
         },
         "yaxis": "y6"
        },
        {
         "hovertemplate": "Средство передвижения=Other<br>Доход семьи=>€84,700<br>Категория семьи=%{x}<br>Количество=%{y}<extra></extra>",
         "legendgroup": "Other",
         "marker": {
          "color": "#B6E880",
          "pattern": {
           "shape": ""
          }
         },
         "name": "Other",
         "orientation": "v",
         "showlegend": false,
         "textposition": "auto",
         "texttemplate": "%{y}",
         "type": "bar",
         "x": [
          "Couple + child(ren)"
         ],
         "xaxis": "x6",
         "y": {
          "bdata": "Bw==",
          "dtype": "i1"
         },
         "yaxis": "y6"
        },
        {
         "hovertemplate": "Средство передвижения=Bus/tram/metro<br>Доход семьи=Не захотел отвечать<br>Категория семьи=%{x}<br>Количество=%{y}<extra></extra>",
         "legendgroup": "Bus/tram/metro",
         "marker": {
          "color": "#636efa",
          "pattern": {
           "shape": ""
          }
         },
         "name": "Bus/tram/metro",
         "orientation": "v",
         "showlegend": false,
         "textposition": "auto",
         "texttemplate": "%{y}",
         "type": "bar",
         "x": [
          "Single person household",
          "Couple + child(ren)",
          "Couple"
         ],
         "xaxis": "x7",
         "y": {
          "bdata": "FwQM",
          "dtype": "i1"
         },
         "yaxis": "y7"
        },
        {
         "hovertemplate": "Средство передвижения=Car as passenger<br>Доход семьи=Не захотел отвечать<br>Категория семьи=%{x}<br>Количество=%{y}<extra></extra>",
         "legendgroup": "Car as passenger",
         "marker": {
          "color": "#EF553B",
          "pattern": {
           "shape": ""
          }
         },
         "name": "Car as passenger",
         "orientation": "v",
         "showlegend": false,
         "textposition": "auto",
         "texttemplate": "%{y}",
         "type": "bar",
         "x": [
          "Single parent family + child(ren)",
          "Single person household",
          "Couple + child(ren)",
          "Couple"
         ],
         "xaxis": "x7",
         "y": {
          "bdata": "CgcHHQ==",
          "dtype": "i1"
         },
         "yaxis": "y7"
        },
        {
         "hovertemplate": "Средство передвижения=Train<br>Доход семьи=Не захотел отвечать<br>Категория семьи=%{x}<br>Количество=%{y}<extra></extra>",
         "legendgroup": "Train",
         "marker": {
          "color": "#00cc96",
          "pattern": {
           "shape": ""
          }
         },
         "name": "Train",
         "orientation": "v",
         "showlegend": false,
         "textposition": "auto",
         "texttemplate": "%{y}",
         "type": "bar",
         "x": [
          "Single parent family + child(ren)",
          "Single person household",
          "Couple + child(ren)"
         ],
         "xaxis": "x7",
         "y": {
          "bdata": "Bgkg",
          "dtype": "i1"
         },
         "yaxis": "y7"
        },
        {
         "hovertemplate": "Средство передвижения=Walking<br>Доход семьи=Не захотел отвечать<br>Категория семьи=%{x}<br>Количество=%{y}<extra></extra>",
         "legendgroup": "Walking",
         "marker": {
          "color": "#ab63fa",
          "pattern": {
           "shape": ""
          }
         },
         "name": "Walking",
         "orientation": "v",
         "showlegend": false,
         "textposition": "auto",
         "texttemplate": "%{y}",
         "type": "bar",
         "x": [
          "Couple + child(ren)",
          "Couple",
          "Single person household"
         ],
         "xaxis": "x7",
         "y": {
          "bdata": "AgQF",
          "dtype": "i1"
         },
         "yaxis": "y7"
        },
        {
         "hovertemplate": "Средство передвижения=Bicycle<br>Доход семьи=Не захотел отвечать<br>Категория семьи=%{x}<br>Количество=%{y}<extra></extra>",
         "legendgroup": "Bicycle",
         "marker": {
          "color": "#FFA15A",
          "pattern": {
           "shape": ""
          }
         },
         "name": "Bicycle",
         "orientation": "v",
         "showlegend": false,
         "textposition": "auto",
         "texttemplate": "%{y}",
         "type": "bar",
         "x": [
          "Single person household",
          "Single parent family + child(ren)",
          "Couple + child(ren)",
          "Couple"
         ],
         "xaxis": "x7",
         "y": {
          "bdata": "DBEPFA==",
          "dtype": "i1"
         },
         "yaxis": "y7"
        },
        {
         "hovertemplate": "Средство передвижения=Car as driver<br>Доход семьи=Не захотел отвечать<br>Категория семьи=%{x}<br>Количество=%{y}<extra></extra>",
         "legendgroup": "Car as driver",
         "marker": {
          "color": "#19d3f3",
          "pattern": {
           "shape": ""
          }
         },
         "name": "Car as driver",
         "orientation": "v",
         "showlegend": false,
         "textposition": "auto",
         "texttemplate": "%{y}",
         "type": "bar",
         "x": [
          "Single parent family + child(ren)",
          "Single person household",
          "Couple + child(ren)",
          "Couple"
         ],
         "xaxis": "x7",
         "y": {
          "bdata": "DSMRIw==",
          "dtype": "i1"
         },
         "yaxis": "y7"
        },
        {
         "hovertemplate": "Средство передвижения=Scooter/moped<br>Доход семьи=Не захотел отвечать<br>Категория семьи=%{x}<br>Количество=%{y}<extra></extra>",
         "legendgroup": "Scooter/moped",
         "marker": {
          "color": "#FF6692",
          "pattern": {
           "shape": ""
          }
         },
         "name": "Scooter/moped",
         "orientation": "v",
         "showlegend": false,
         "textposition": "auto",
         "texttemplate": "%{y}",
         "type": "bar",
         "x": [
          "Single person household"
         ],
         "xaxis": "x7",
         "y": {
          "bdata": "Aw==",
          "dtype": "i1"
         },
         "yaxis": "y7"
        },
        {
         "hovertemplate": "Средство передвижения=Other<br>Доход семьи=Не захотел отвечать<br>Категория семьи=%{x}<br>Количество=%{y}<extra></extra>",
         "legendgroup": "Other",
         "marker": {
          "color": "#B6E880",
          "pattern": {
           "shape": ""
          }
         },
         "name": "Other",
         "orientation": "v",
         "showlegend": false,
         "textposition": "auto",
         "texttemplate": "%{y}",
         "type": "bar",
         "x": [
          "Single person household",
          "Couple + child(ren)"
         ],
         "xaxis": "x7",
         "y": {
          "bdata": "AwI=",
          "dtype": "i1"
         },
         "yaxis": "y7"
        }
       ],
       "layout": {
        "annotations": [
         {
          "font": {},
          "showarrow": false,
          "text": "<€13,700",
          "x": 0.06285714285714285,
          "xanchor": "center",
          "xref": "paper",
          "y": 1,
          "yanchor": "bottom",
          "yref": "paper"
         },
         {
          "font": {},
          "showarrow": false,
          "text": "€13,700 - <€28,600",
          "x": 0.20857142857142852,
          "xanchor": "center",
          "xref": "paper",
          "y": 1,
          "yanchor": "bottom",
          "yref": "paper"
         },
         {
          "font": {},
          "showarrow": false,
          "text": "€28,600 - <€42,400",
          "x": 0.3542857142857142,
          "xanchor": "center",
          "xref": "paper",
          "y": 1,
          "yanchor": "bottom",
          "yref": "paper"
         },
         {
          "font": {},
          "showarrow": false,
          "text": "€42,400 - <€71,000",
          "x": 0.5,
          "xanchor": "center",
          "xref": "paper",
          "y": 1,
          "yanchor": "bottom",
          "yref": "paper"
         },
         {
          "font": {},
          "showarrow": false,
          "text": "€71,000 - <€84,700",
          "x": 0.6457142857142856,
          "xanchor": "center",
          "xref": "paper",
          "y": 1,
          "yanchor": "bottom",
          "yref": "paper"
         },
         {
          "font": {},
          "showarrow": false,
          "text": ">€84,700",
          "x": 0.7914285714285713,
          "xanchor": "center",
          "xref": "paper",
          "y": 1,
          "yanchor": "bottom",
          "yref": "paper"
         },
         {
          "font": {},
          "showarrow": false,
          "text": "Не захотел отвечать",
          "x": 0.9371428571428569,
          "xanchor": "center",
          "xref": "paper",
          "y": 1,
          "yanchor": "bottom",
          "yref": "paper"
         }
        ],
        "barmode": "relative",
        "height": 600,
        "legend": {
         "orientation": "h",
         "title": {
          "text": "Транспорт"
         },
         "tracegroupgap": 0,
         "x": 0.5,
         "xanchor": "center",
         "y": 1.25,
         "yanchor": "bottom"
        },
        "margin": {
         "b": 20,
         "t": 150
        },
        "template": {
         "data": {
          "bar": [
           {
            "error_x": {
             "color": "#2a3f5f"
            },
            "error_y": {
             "color": "#2a3f5f"
            },
            "marker": {
             "line": {
              "color": "#E5ECF6",
              "width": 0.5
             },
             "pattern": {
              "fillmode": "overlay",
              "size": 10,
              "solidity": 0.2
             }
            },
            "type": "bar"
           }
          ],
          "barpolar": [
           {
            "marker": {
             "line": {
              "color": "#E5ECF6",
              "width": 0.5
             },
             "pattern": {
              "fillmode": "overlay",
              "size": 10,
              "solidity": 0.2
             }
            },
            "type": "barpolar"
           }
          ],
          "carpet": [
           {
            "aaxis": {
             "endlinecolor": "#2a3f5f",
             "gridcolor": "white",
             "linecolor": "white",
             "minorgridcolor": "white",
             "startlinecolor": "#2a3f5f"
            },
            "baxis": {
             "endlinecolor": "#2a3f5f",
             "gridcolor": "white",
             "linecolor": "white",
             "minorgridcolor": "white",
             "startlinecolor": "#2a3f5f"
            },
            "type": "carpet"
           }
          ],
          "choropleth": [
           {
            "colorbar": {
             "outlinewidth": 0,
             "ticks": ""
            },
            "type": "choropleth"
           }
          ],
          "contour": [
           {
            "colorbar": {
             "outlinewidth": 0,
             "ticks": ""
            },
            "colorscale": [
             [
              0,
              "#0d0887"
             ],
             [
              0.1111111111111111,
              "#46039f"
             ],
             [
              0.2222222222222222,
              "#7201a8"
             ],
             [
              0.3333333333333333,
              "#9c179e"
             ],
             [
              0.4444444444444444,
              "#bd3786"
             ],
             [
              0.5555555555555556,
              "#d8576b"
             ],
             [
              0.6666666666666666,
              "#ed7953"
             ],
             [
              0.7777777777777778,
              "#fb9f3a"
             ],
             [
              0.8888888888888888,
              "#fdca26"
             ],
             [
              1,
              "#f0f921"
             ]
            ],
            "type": "contour"
           }
          ],
          "contourcarpet": [
           {
            "colorbar": {
             "outlinewidth": 0,
             "ticks": ""
            },
            "type": "contourcarpet"
           }
          ],
          "heatmap": [
           {
            "colorbar": {
             "outlinewidth": 0,
             "ticks": ""
            },
            "colorscale": [
             [
              0,
              "#0d0887"
             ],
             [
              0.1111111111111111,
              "#46039f"
             ],
             [
              0.2222222222222222,
              "#7201a8"
             ],
             [
              0.3333333333333333,
              "#9c179e"
             ],
             [
              0.4444444444444444,
              "#bd3786"
             ],
             [
              0.5555555555555556,
              "#d8576b"
             ],
             [
              0.6666666666666666,
              "#ed7953"
             ],
             [
              0.7777777777777778,
              "#fb9f3a"
             ],
             [
              0.8888888888888888,
              "#fdca26"
             ],
             [
              1,
              "#f0f921"
             ]
            ],
            "type": "heatmap"
           }
          ],
          "histogram": [
           {
            "marker": {
             "pattern": {
              "fillmode": "overlay",
              "size": 10,
              "solidity": 0.2
             }
            },
            "type": "histogram"
           }
          ],
          "histogram2d": [
           {
            "colorbar": {
             "outlinewidth": 0,
             "ticks": ""
            },
            "colorscale": [
             [
              0,
              "#0d0887"
             ],
             [
              0.1111111111111111,
              "#46039f"
             ],
             [
              0.2222222222222222,
              "#7201a8"
             ],
             [
              0.3333333333333333,
              "#9c179e"
             ],
             [
              0.4444444444444444,
              "#bd3786"
             ],
             [
              0.5555555555555556,
              "#d8576b"
             ],
             [
              0.6666666666666666,
              "#ed7953"
             ],
             [
              0.7777777777777778,
              "#fb9f3a"
             ],
             [
              0.8888888888888888,
              "#fdca26"
             ],
             [
              1,
              "#f0f921"
             ]
            ],
            "type": "histogram2d"
           }
          ],
          "histogram2dcontour": [
           {
            "colorbar": {
             "outlinewidth": 0,
             "ticks": ""
            },
            "colorscale": [
             [
              0,
              "#0d0887"
             ],
             [
              0.1111111111111111,
              "#46039f"
             ],
             [
              0.2222222222222222,
              "#7201a8"
             ],
             [
              0.3333333333333333,
              "#9c179e"
             ],
             [
              0.4444444444444444,
              "#bd3786"
             ],
             [
              0.5555555555555556,
              "#d8576b"
             ],
             [
              0.6666666666666666,
              "#ed7953"
             ],
             [
              0.7777777777777778,
              "#fb9f3a"
             ],
             [
              0.8888888888888888,
              "#fdca26"
             ],
             [
              1,
              "#f0f921"
             ]
            ],
            "type": "histogram2dcontour"
           }
          ],
          "mesh3d": [
           {
            "colorbar": {
             "outlinewidth": 0,
             "ticks": ""
            },
            "type": "mesh3d"
           }
          ],
          "parcoords": [
           {
            "line": {
             "colorbar": {
              "outlinewidth": 0,
              "ticks": ""
             }
            },
            "type": "parcoords"
           }
          ],
          "pie": [
           {
            "automargin": true,
            "type": "pie"
           }
          ],
          "scatter": [
           {
            "fillpattern": {
             "fillmode": "overlay",
             "size": 10,
             "solidity": 0.2
            },
            "type": "scatter"
           }
          ],
          "scatter3d": [
           {
            "line": {
             "colorbar": {
              "outlinewidth": 0,
              "ticks": ""
             }
            },
            "marker": {
             "colorbar": {
              "outlinewidth": 0,
              "ticks": ""
             }
            },
            "type": "scatter3d"
           }
          ],
          "scattercarpet": [
           {
            "marker": {
             "colorbar": {
              "outlinewidth": 0,
              "ticks": ""
             }
            },
            "type": "scattercarpet"
           }
          ],
          "scattergeo": [
           {
            "marker": {
             "colorbar": {
              "outlinewidth": 0,
              "ticks": ""
             }
            },
            "type": "scattergeo"
           }
          ],
          "scattergl": [
           {
            "marker": {
             "colorbar": {
              "outlinewidth": 0,
              "ticks": ""
             }
            },
            "type": "scattergl"
           }
          ],
          "scattermap": [
           {
            "marker": {
             "colorbar": {
              "outlinewidth": 0,
              "ticks": ""
             }
            },
            "type": "scattermap"
           }
          ],
          "scattermapbox": [
           {
            "marker": {
             "colorbar": {
              "outlinewidth": 0,
              "ticks": ""
             }
            },
            "type": "scattermapbox"
           }
          ],
          "scatterpolar": [
           {
            "marker": {
             "colorbar": {
              "outlinewidth": 0,
              "ticks": ""
             }
            },
            "type": "scatterpolar"
           }
          ],
          "scatterpolargl": [
           {
            "marker": {
             "colorbar": {
              "outlinewidth": 0,
              "ticks": ""
             }
            },
            "type": "scatterpolargl"
           }
          ],
          "scatterternary": [
           {
            "marker": {
             "colorbar": {
              "outlinewidth": 0,
              "ticks": ""
             }
            },
            "type": "scatterternary"
           }
          ],
          "surface": [
           {
            "colorbar": {
             "outlinewidth": 0,
             "ticks": ""
            },
            "colorscale": [
             [
              0,
              "#0d0887"
             ],
             [
              0.1111111111111111,
              "#46039f"
             ],
             [
              0.2222222222222222,
              "#7201a8"
             ],
             [
              0.3333333333333333,
              "#9c179e"
             ],
             [
              0.4444444444444444,
              "#bd3786"
             ],
             [
              0.5555555555555556,
              "#d8576b"
             ],
             [
              0.6666666666666666,
              "#ed7953"
             ],
             [
              0.7777777777777778,
              "#fb9f3a"
             ],
             [
              0.8888888888888888,
              "#fdca26"
             ],
             [
              1,
              "#f0f921"
             ]
            ],
            "type": "surface"
           }
          ],
          "table": [
           {
            "cells": {
             "fill": {
              "color": "#EBF0F8"
             },
             "line": {
              "color": "white"
             }
            },
            "header": {
             "fill": {
              "color": "#C8D4E3"
             },
             "line": {
              "color": "white"
             }
            },
            "type": "table"
           }
          ]
         },
         "layout": {
          "annotationdefaults": {
           "arrowcolor": "#2a3f5f",
           "arrowhead": 0,
           "arrowwidth": 1
          },
          "autotypenumbers": "strict",
          "coloraxis": {
           "colorbar": {
            "outlinewidth": 0,
            "ticks": ""
           }
          },
          "colorscale": {
           "diverging": [
            [
             0,
             "#8e0152"
            ],
            [
             0.1,
             "#c51b7d"
            ],
            [
             0.2,
             "#de77ae"
            ],
            [
             0.3,
             "#f1b6da"
            ],
            [
             0.4,
             "#fde0ef"
            ],
            [
             0.5,
             "#f7f7f7"
            ],
            [
             0.6,
             "#e6f5d0"
            ],
            [
             0.7,
             "#b8e186"
            ],
            [
             0.8,
             "#7fbc41"
            ],
            [
             0.9,
             "#4d9221"
            ],
            [
             1,
             "#276419"
            ]
           ],
           "sequential": [
            [
             0,
             "#0d0887"
            ],
            [
             0.1111111111111111,
             "#46039f"
            ],
            [
             0.2222222222222222,
             "#7201a8"
            ],
            [
             0.3333333333333333,
             "#9c179e"
            ],
            [
             0.4444444444444444,
             "#bd3786"
            ],
            [
             0.5555555555555556,
             "#d8576b"
            ],
            [
             0.6666666666666666,
             "#ed7953"
            ],
            [
             0.7777777777777778,
             "#fb9f3a"
            ],
            [
             0.8888888888888888,
             "#fdca26"
            ],
            [
             1,
             "#f0f921"
            ]
           ],
           "sequentialminus": [
            [
             0,
             "#0d0887"
            ],
            [
             0.1111111111111111,
             "#46039f"
            ],
            [
             0.2222222222222222,
             "#7201a8"
            ],
            [
             0.3333333333333333,
             "#9c179e"
            ],
            [
             0.4444444444444444,
             "#bd3786"
            ],
            [
             0.5555555555555556,
             "#d8576b"
            ],
            [
             0.6666666666666666,
             "#ed7953"
            ],
            [
             0.7777777777777778,
             "#fb9f3a"
            ],
            [
             0.8888888888888888,
             "#fdca26"
            ],
            [
             1,
             "#f0f921"
            ]
           ]
          },
          "colorway": [
           "#636efa",
           "#EF553B",
           "#00cc96",
           "#ab63fa",
           "#FFA15A",
           "#19d3f3",
           "#FF6692",
           "#B6E880",
           "#FF97FF",
           "#FECB52"
          ],
          "font": {
           "color": "#2a3f5f"
          },
          "geo": {
           "bgcolor": "white",
           "lakecolor": "white",
           "landcolor": "#E5ECF6",
           "showlakes": true,
           "showland": true,
           "subunitcolor": "white"
          },
          "hoverlabel": {
           "align": "left"
          },
          "hovermode": "closest",
          "mapbox": {
           "style": "light"
          },
          "paper_bgcolor": "white",
          "plot_bgcolor": "#E5ECF6",
          "polar": {
           "angularaxis": {
            "gridcolor": "white",
            "linecolor": "white",
            "ticks": ""
           },
           "bgcolor": "#E5ECF6",
           "radialaxis": {
            "gridcolor": "white",
            "linecolor": "white",
            "ticks": ""
           }
          },
          "scene": {
           "xaxis": {
            "backgroundcolor": "#E5ECF6",
            "gridcolor": "white",
            "gridwidth": 2,
            "linecolor": "white",
            "showbackground": true,
            "ticks": "",
            "zerolinecolor": "white"
           },
           "yaxis": {
            "backgroundcolor": "#E5ECF6",
            "gridcolor": "white",
            "gridwidth": 2,
            "linecolor": "white",
            "showbackground": true,
            "ticks": "",
            "zerolinecolor": "white"
           },
           "zaxis": {
            "backgroundcolor": "#E5ECF6",
            "gridcolor": "white",
            "gridwidth": 2,
            "linecolor": "white",
            "showbackground": true,
            "ticks": "",
            "zerolinecolor": "white"
           }
          },
          "shapedefaults": {
           "line": {
            "color": "#2a3f5f"
           }
          },
          "ternary": {
           "aaxis": {
            "gridcolor": "white",
            "linecolor": "white",
            "ticks": ""
           },
           "baxis": {
            "gridcolor": "white",
            "linecolor": "white",
            "ticks": ""
           },
           "bgcolor": "#E5ECF6",
           "caxis": {
            "gridcolor": "white",
            "linecolor": "white",
            "ticks": ""
           }
          },
          "title": {
           "x": 0.05
          },
          "xaxis": {
           "automargin": true,
           "gridcolor": "white",
           "linecolor": "white",
           "ticks": "",
           "title": {
            "standoff": 15
           },
           "zerolinecolor": "white",
           "zerolinewidth": 2
          },
          "yaxis": {
           "automargin": true,
           "gridcolor": "white",
           "linecolor": "white",
           "ticks": "",
           "title": {
            "standoff": 15
           },
           "zerolinecolor": "white",
           "zerolinewidth": 2
          }
         }
        },
        "title": {
         "text": "Распределение категорий семей по доходу и транспорту",
         "x": 0.5,
         "y": 0.95
        },
        "width": 1800,
        "xaxis": {
         "anchor": "y",
         "domain": [
          0,
          0.1257142857142857
         ],
         "showticklabels": true,
         "tickangle": -45,
         "title": {
          "text": ""
         },
         "visible": true
        },
        "xaxis2": {
         "anchor": "y2",
         "domain": [
          0.14571428571428569,
          0.27142857142857135
         ],
         "matches": "x",
         "showticklabels": true,
         "tickangle": -45,
         "title": {
          "text": ""
         }
        },
        "xaxis3": {
         "anchor": "y3",
         "domain": [
          0.29142857142857137,
          0.41714285714285704
         ],
         "matches": "x",
         "showticklabels": true,
         "tickangle": -45,
         "title": {
          "text": ""
         }
        },
        "xaxis4": {
         "anchor": "y4",
         "domain": [
          0.4371428571428571,
          0.5628571428571428
         ],
         "matches": "x",
         "showticklabels": true,
         "tickangle": -45,
         "title": {
          "text": ""
         }
        },
        "xaxis5": {
         "anchor": "y5",
         "domain": [
          0.5828571428571427,
          0.7085714285714284
         ],
         "matches": "x",
         "showticklabels": true,
         "tickangle": -45,
         "title": {
          "text": ""
         }
        },
        "xaxis6": {
         "anchor": "y6",
         "domain": [
          0.7285714285714284,
          0.8542857142857141
         ],
         "matches": "x",
         "showticklabels": true,
         "tickangle": -45,
         "title": {
          "text": ""
         }
        },
        "xaxis7": {
         "anchor": "y7",
         "domain": [
          0.8742857142857141,
          0.9999999999999998
         ],
         "matches": "x",
         "showticklabels": true,
         "tickangle": -45,
         "title": {
          "text": ""
         }
        },
        "yaxis": {
         "anchor": "x",
         "domain": [
          0,
          1
         ],
         "title": {
          "text": "Количество"
         }
        },
        "yaxis2": {
         "anchor": "x2",
         "domain": [
          0,
          1
         ],
         "matches": "y",
         "showticklabels": false
        },
        "yaxis3": {
         "anchor": "x3",
         "domain": [
          0,
          1
         ],
         "matches": "y",
         "showticklabels": false
        },
        "yaxis4": {
         "anchor": "x4",
         "domain": [
          0,
          1
         ],
         "matches": "y",
         "showticklabels": false
        },
        "yaxis5": {
         "anchor": "x5",
         "domain": [
          0,
          1
         ],
         "matches": "y",
         "showticklabels": false
        },
        "yaxis6": {
         "anchor": "x6",
         "domain": [
          0,
          1
         ],
         "matches": "y",
         "showticklabels": false
        },
        "yaxis7": {
         "anchor": "x7",
         "domain": [
          0,
          1
         ],
         "matches": "y",
         "showticklabels": false
        }
       }
      }
     },
     "metadata": {},
     "output_type": "display_data"
    }
   ],
   "source": [
    "# Группируем данные только ОДИН раз\n",
    "df62 = df6.groupby(['Доход семьи', 'Категория семьи', 'Средство передвижения']).size().reset_index()\n",
    "\n",
    "# 1. Сначала делаем замену символов\n",
    "df62['Доход семьи'] = df62['Доход семьи'].str.replace('[\\x80\\xad]', '€', regex=True)\n",
    "\n",
    "# 2. Затем применяем словарь замен\n",
    "income_mapping = {\n",
    "    'minimum (< € 13,700)': '<€13,700',\n",
    "    'below the national benchmark income (€ 13,700 - < € 28,600)': '€13,700 - <€28,600',\n",
    "    'national benchmark income (€ 28,600 - < € 42,400)': '€28,600 - <€42,400',\n",
    "    '1-2x the national benchmark income (€ 42,400 - < € 71,000)': '€42,400 - <€71,000',\n",
    "    '2x the national benchmark income (€ 71,000 - < € 84,700)': '€71,000 - <€84,700',\n",
    "    'more than 2x the national benchmark income (>= € 84,700)': '>€84,700',\n",
    "    'Do not know / do not want to say': 'Не захотел отвечать'\n",
    "}\n",
    "\n",
    "df62['Доход семьи'] = df62['Доход семьи'].replace(income_mapping)\n",
    "\n",
    "\n",
    "df62.rename(columns={0: 'Количество'}, inplace=True)\n",
    "\n",
    "df62 = df62.dropna(subset=['Доход семьи'])\n",
    "\n",
    "income_order = [\n",
    "    '<€13,700',\n",
    "    '€13,700 - <€28,600',\n",
    "    '€28,600 - <€42,400',\n",
    "    '€42,400 - <€71,000',\n",
    "    '€71,000 - <€84,700',\n",
    "    '>€84,700',\n",
    "    'Не захотел отвечать'\n",
    "]\n",
    "\n",
    "df62['Доход семьи'] = pd.Categorical(\n",
    "    df62['Доход семьи'], \n",
    "    categories=income_order,\n",
    "    ordered=True\n",
    ")\n",
    "\n",
    "# 6. Сортируем данные согласно категориям\n",
    "df62 = df62.sort_values('Доход семьи')\n",
    "\n",
    "fig6 = px.bar(\n",
    "    df62, \n",
    "    x='Категория семьи',\n",
    "    y='Количество',\n",
    "    facet_col='Доход семьи',\n",
    "    color='Средство передвижения',\n",
    "    text_auto=True,\n",
    "    height=600, \n",
    "    width=1800,\n",
    "    category_orders={'Доход семьи': income_order}\n",
    ")\n",
    "\n",
    "\n",
    "fig6.update_layout(\n",
    "    title={'text': 'Распределение категорий семей по доходу и транспорту', 'x': 0.5, 'y': 0.95},\n",
    "    margin=dict(t=150, b=20),  \n",
    "    legend=dict(\n",
    "        title='Транспорт',\n",
    "        orientation='h',\n",
    "        yanchor='bottom',\n",
    "        y=1.25,  # Опускаем легенду ниже\n",
    "        xanchor='center',\n",
    "        x=0.5\n",
    "    ),\n",
    "    xaxis={'visible': True, 'title': None}, \n",
    ")\n",
    "\n",
    "\n",
    "fig6.update_xaxes(\n",
    "    title_text='',  \n",
    "    showticklabels=True,  \n",
    "    tickangle=-45 \n",
    ")\n",
    "\n",
    "\n",
    "for annotation in fig6.layout.annotations:\n",
    "    annotation.text = annotation.text.split(\"=\")[1]\n",
    "\n",
    "fig6.show()"
   ]
  },
  {
   "cell_type": "markdown",
   "id": "1f8a2a36",
   "metadata": {},
   "source": [
    "### График 8 (матрица корреляции)"
   ]
  },
  {
   "cell_type": "markdown",
   "id": "07faafda",
   "metadata": {},
   "source": [
    "**1. Целевой признак:**\n",
    "- **`KHVM` — Основной транспорт.**  \n",
    "  - Основной фокус исследования. Цель — выявить факторы, влияющие на выбор транспорта.\n",
    "\n",
    "---\n",
    "\n",
    "**2. Характеристики поездок:**\n",
    "- **`AANTVPL` — Количество поездок.**  \n",
    "  - Частота поездок может быть связана с выбором основного транспорта.\n",
    "\n",
    "- **`KAFSTV` — Класс расстояния поездки.**  \n",
    "  - Дальние поездки могут стимулировать выбор более быстрого транспорта.\n",
    "\n",
    "- **`KMOTIEF` — Цель поездки.**  \n",
    "  - Цели поездок (работа, отдых, покупки и т.д.) влияют на выбор транспорта.\n",
    "\n",
    "- **`TOER` — Флаг круговой поездки.**  \n",
    "  - Особенности круговых поездок могут влиять на транспортные предпочтения.\n",
    "\n",
    "- **`ROLAUTO` — Роль в автомобиле (водитель/пассажир).**  \n",
    "  - Роль влияет на восприятие комфорта и затрат.\n",
    "\n",
    "- **`DAGSOORT` — Тип дня (будний/выходной).**  \n",
    "  - В выходные дни транспортные предпочтения могут отличаться.\n",
    "\n",
    "---\n",
    "\n",
    "**3. Оценки видов транспорта:**\n",
    "- **`OORDEEL_AUTO` — Оценка автомобиля.**  \n",
    "- **`OORDEEL_TREIN` — Оценка поезда.**  \n",
    "- **`OORDEEL_BTM` — Оценка общественного транспорта.**  \n",
    "- **`OORDEEL_FIETS` — Оценка велосипеда.**  \n",
    "- **`OORDEEL_BROMMER` — Оценка мопеда.**  \n",
    "- **`OORDEEL_LOPEN` — Оценка ходьбы.**  \n",
    "\n",
    "> Субъективные оценки различных видов транспорта помогают выявить предпочтения и потенциальные барьеры для использования.\n",
    "\n",
    "---\n",
    "\n",
    "**4. Восприятие транспорта:**\n",
    "- **`GEBRUIK_AUTO_STELLING3` / `GEBRUIK_AUTO_STELLING4` — Восприятие авто (экономия времени, безопасность).**  \n",
    "- **`GEBRUIK_TREIN_STELLING3` / `GEBRUIK_TREIN_STELLING4` — Восприятие поезда.**  \n",
    "- **`GEBRUIK_BTM_STELLING3` / `GEBRUIK_BTM_STELLING4` — Восприятие общественного транспорта.**  \n",
    "- **`GEBRUIK_FIETS_STELLING2` / `GEBRUIK_FIETS_STELLING3` — Восприятие велосипеда.**  \n",
    "- **`GEBRUIK_LOPEN_STELLING3` / `GEBRUIK_LOPEN_STELLING4` — Восприятие ходьбы.**  \n",
    "\n",
    "> Восприятие транспорта по ключевым параметрам (экономия времени, безопасность, удобство) напрямую связано с вероятностью его использования.\n",
    "\n",
    "---\n",
    "\n",
    "**5. Социально-экономические характеристики домохозяйства:**\n",
    "- **`HHBRUTOINK2_w5` — Класс дохода.**  \n",
    "  - Доход влияет на доступность и выбор транспорта.\n",
    "\n",
    "- **`HHPERS` — Количество людей в домохозяйстве.**  \n",
    "  - Большее количество людей может стимулировать использование более вместительных или экономичных транспортных средств.\n",
    "\n",
    "- **`HHAUTO`, `HHBESTEL`, `HHHYBRID`, `HHMOTOR`, `HHBROM`, `HHSNOR`, `HHFIETS`, `HHVOUWFIETS`, `HHEBIKE` — Наличие транспортных средств.**  \n",
    "  - Наличие автомобилей, велосипедов и других транспортных средств — это очевидные предикторы выбора основного вида транспорта.\n",
    "\n",
    "  "
   ]
  },
  {
   "cell_type": "code",
   "execution_count": null,
   "id": "4baae3c4",
   "metadata": {},
   "outputs": [
    {
     "data": {
      "application/vnd.plotly.v1+json": {
       "config": {
        "plotlyServerURL": "https://plotly.com"
       },
       "data": [
        {
         "coloraxis": "coloraxis",
         "hovertemplate": "x: %{x}<br>y: %{y}<br>color: %{z}<extra></extra>",
         "name": "0",
         "texttemplate": "%{z:.2f}",
         "type": "heatmap",
         "x": [
          "KHVM",
          "AANTVPL",
          "KAFSTV",
          "KMOTIEF",
          "TOER",
          "ROLAUTO",
          "DAGSOORT",
          "OORDEEL_AUTO",
          "OORDEEL_TREIN",
          "OORDEEL_BTM",
          "OORDEEL_FIETS",
          "OORDEEL_BROMMER",
          "OORDEEL_LOPEN",
          "GEBRUIK_AUTO_STELLING3",
          "GEBRUIK_AUTO_STELLING4",
          "GEBRUIK_TREIN_STELLING3",
          "GEBRUIK_TREIN_STELLING4",
          "GEBRUIK_BTM_STELLING3",
          "GEBRUIK_BTM_STELLING4",
          "GEBRUIK_FIETS_STELLING2",
          "GEBRUIK_FIETS_STELLING3",
          "GEBRUIK_LOPEN_STELLING3",
          "GEBRUIK_LOPEN_STELLING4",
          "HHBRUTOINK2_w5",
          "HHAUTO",
          "HHPERS",
          "HHBESTEL",
          "HHHYBRID",
          "HHMOTOR",
          "HHBROM",
          "HHSNOR",
          "HHFIETS",
          "HHVOUWFIETS",
          "HHEBIKE"
         ],
         "xaxis": "x",
         "y": [
          "KHVM",
          "AANTVPL",
          "KAFSTV",
          "KMOTIEF",
          "TOER",
          "ROLAUTO",
          "DAGSOORT",
          "OORDEEL_AUTO",
          "OORDEEL_TREIN",
          "OORDEEL_BTM",
          "OORDEEL_FIETS",
          "OORDEEL_BROMMER",
          "OORDEEL_LOPEN",
          "GEBRUIK_AUTO_STELLING3",
          "GEBRUIK_AUTO_STELLING4",
          "GEBRUIK_TREIN_STELLING3",
          "GEBRUIK_TREIN_STELLING4",
          "GEBRUIK_BTM_STELLING3",
          "GEBRUIK_BTM_STELLING4",
          "GEBRUIK_FIETS_STELLING2",
          "GEBRUIK_FIETS_STELLING3",
          "GEBRUIK_LOPEN_STELLING3",
          "GEBRUIK_LOPEN_STELLING4",
          "HHBRUTOINK2_w5",
          "HHAUTO",
          "HHPERS",
          "HHBESTEL",
          "HHHYBRID",
          "HHMOTOR",
          "HHBROM",
          "HHSNOR",
          "HHFIETS",
          "HHVOUWFIETS",
          "HHEBIKE"
         ],
         "yaxis": "y",
         "z": {
          "bdata": "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",
          "dtype": "f8",
          "shape": "34, 34"
         }
        }
       ],
       "layout": {
        "coloraxis": {
         "cmax": 1,
         "cmin": -1,
         "colorscale": [
          [
           0,
           "rgb(5,48,97)"
          ],
          [
           0.1,
           "rgb(33,102,172)"
          ],
          [
           0.2,
           "rgb(67,147,195)"
          ],
          [
           0.3,
           "rgb(146,197,222)"
          ],
          [
           0.4,
           "rgb(209,229,240)"
          ],
          [
           0.5,
           "rgb(247,247,247)"
          ],
          [
           0.6,
           "rgb(253,219,199)"
          ],
          [
           0.7,
           "rgb(244,165,130)"
          ],
          [
           0.8,
           "rgb(214,96,77)"
          ],
          [
           0.9,
           "rgb(178,24,43)"
          ],
          [
           1,
           "rgb(103,0,31)"
          ]
         ]
        },
        "font": {
         "size": 14
        },
        "height": 1000,
        "margin": {
         "b": 50,
         "l": 50,
         "r": 50,
         "t": 100
        },
        "template": {
         "data": {
          "bar": [
           {
            "error_x": {
             "color": "#2a3f5f"
            },
            "error_y": {
             "color": "#2a3f5f"
            },
            "marker": {
             "line": {
              "color": "#E5ECF6",
              "width": 0.5
             },
             "pattern": {
              "fillmode": "overlay",
              "size": 10,
              "solidity": 0.2
             }
            },
            "type": "bar"
           }
          ],
          "barpolar": [
           {
            "marker": {
             "line": {
              "color": "#E5ECF6",
              "width": 0.5
             },
             "pattern": {
              "fillmode": "overlay",
              "size": 10,
              "solidity": 0.2
             }
            },
            "type": "barpolar"
           }
          ],
          "carpet": [
           {
            "aaxis": {
             "endlinecolor": "#2a3f5f",
             "gridcolor": "white",
             "linecolor": "white",
             "minorgridcolor": "white",
             "startlinecolor": "#2a3f5f"
            },
            "baxis": {
             "endlinecolor": "#2a3f5f",
             "gridcolor": "white",
             "linecolor": "white",
             "minorgridcolor": "white",
             "startlinecolor": "#2a3f5f"
            },
            "type": "carpet"
           }
          ],
          "choropleth": [
           {
            "colorbar": {
             "outlinewidth": 0,
             "ticks": ""
            },
            "type": "choropleth"
           }
          ],
          "contour": [
           {
            "colorbar": {
             "outlinewidth": 0,
             "ticks": ""
            },
            "colorscale": [
             [
              0,
              "#0d0887"
             ],
             [
              0.1111111111111111,
              "#46039f"
             ],
             [
              0.2222222222222222,
              "#7201a8"
             ],
             [
              0.3333333333333333,
              "#9c179e"
             ],
             [
              0.4444444444444444,
              "#bd3786"
             ],
             [
              0.5555555555555556,
              "#d8576b"
             ],
             [
              0.6666666666666666,
              "#ed7953"
             ],
             [
              0.7777777777777778,
              "#fb9f3a"
             ],
             [
              0.8888888888888888,
              "#fdca26"
             ],
             [
              1,
              "#f0f921"
             ]
            ],
            "type": "contour"
           }
          ],
          "contourcarpet": [
           {
            "colorbar": {
             "outlinewidth": 0,
             "ticks": ""
            },
            "type": "contourcarpet"
           }
          ],
          "heatmap": [
           {
            "colorbar": {
             "outlinewidth": 0,
             "ticks": ""
            },
            "colorscale": [
             [
              0,
              "#0d0887"
             ],
             [
              0.1111111111111111,
              "#46039f"
             ],
             [
              0.2222222222222222,
              "#7201a8"
             ],
             [
              0.3333333333333333,
              "#9c179e"
             ],
             [
              0.4444444444444444,
              "#bd3786"
             ],
             [
              0.5555555555555556,
              "#d8576b"
             ],
             [
              0.6666666666666666,
              "#ed7953"
             ],
             [
              0.7777777777777778,
              "#fb9f3a"
             ],
             [
              0.8888888888888888,
              "#fdca26"
             ],
             [
              1,
              "#f0f921"
             ]
            ],
            "type": "heatmap"
           }
          ],
          "histogram": [
           {
            "marker": {
             "pattern": {
              "fillmode": "overlay",
              "size": 10,
              "solidity": 0.2
             }
            },
            "type": "histogram"
           }
          ],
          "histogram2d": [
           {
            "colorbar": {
             "outlinewidth": 0,
             "ticks": ""
            },
            "colorscale": [
             [
              0,
              "#0d0887"
             ],
             [
              0.1111111111111111,
              "#46039f"
             ],
             [
              0.2222222222222222,
              "#7201a8"
             ],
             [
              0.3333333333333333,
              "#9c179e"
             ],
             [
              0.4444444444444444,
              "#bd3786"
             ],
             [
              0.5555555555555556,
              "#d8576b"
             ],
             [
              0.6666666666666666,
              "#ed7953"
             ],
             [
              0.7777777777777778,
              "#fb9f3a"
             ],
             [
              0.8888888888888888,
              "#fdca26"
             ],
             [
              1,
              "#f0f921"
             ]
            ],
            "type": "histogram2d"
           }
          ],
          "histogram2dcontour": [
           {
            "colorbar": {
             "outlinewidth": 0,
             "ticks": ""
            },
            "colorscale": [
             [
              0,
              "#0d0887"
             ],
             [
              0.1111111111111111,
              "#46039f"
             ],
             [
              0.2222222222222222,
              "#7201a8"
             ],
             [
              0.3333333333333333,
              "#9c179e"
             ],
             [
              0.4444444444444444,
              "#bd3786"
             ],
             [
              0.5555555555555556,
              "#d8576b"
             ],
             [
              0.6666666666666666,
              "#ed7953"
             ],
             [
              0.7777777777777778,
              "#fb9f3a"
             ],
             [
              0.8888888888888888,
              "#fdca26"
             ],
             [
              1,
              "#f0f921"
             ]
            ],
            "type": "histogram2dcontour"
           }
          ],
          "mesh3d": [
           {
            "colorbar": {
             "outlinewidth": 0,
             "ticks": ""
            },
            "type": "mesh3d"
           }
          ],
          "parcoords": [
           {
            "line": {
             "colorbar": {
              "outlinewidth": 0,
              "ticks": ""
             }
            },
            "type": "parcoords"
           }
          ],
          "pie": [
           {
            "automargin": true,
            "type": "pie"
           }
          ],
          "scatter": [
           {
            "fillpattern": {
             "fillmode": "overlay",
             "size": 10,
             "solidity": 0.2
            },
            "type": "scatter"
           }
          ],
          "scatter3d": [
           {
            "line": {
             "colorbar": {
              "outlinewidth": 0,
              "ticks": ""
             }
            },
            "marker": {
             "colorbar": {
              "outlinewidth": 0,
              "ticks": ""
             }
            },
            "type": "scatter3d"
           }
          ],
          "scattercarpet": [
           {
            "marker": {
             "colorbar": {
              "outlinewidth": 0,
              "ticks": ""
             }
            },
            "type": "scattercarpet"
           }
          ],
          "scattergeo": [
           {
            "marker": {
             "colorbar": {
              "outlinewidth": 0,
              "ticks": ""
             }
            },
            "type": "scattergeo"
           }
          ],
          "scattergl": [
           {
            "marker": {
             "colorbar": {
              "outlinewidth": 0,
              "ticks": ""
             }
            },
            "type": "scattergl"
           }
          ],
          "scattermap": [
           {
            "marker": {
             "colorbar": {
              "outlinewidth": 0,
              "ticks": ""
             }
            },
            "type": "scattermap"
           }
          ],
          "scattermapbox": [
           {
            "marker": {
             "colorbar": {
              "outlinewidth": 0,
              "ticks": ""
             }
            },
            "type": "scattermapbox"
           }
          ],
          "scatterpolar": [
           {
            "marker": {
             "colorbar": {
              "outlinewidth": 0,
              "ticks": ""
             }
            },
            "type": "scatterpolar"
           }
          ],
          "scatterpolargl": [
           {
            "marker": {
             "colorbar": {
              "outlinewidth": 0,
              "ticks": ""
             }
            },
            "type": "scatterpolargl"
           }
          ],
          "scatterternary": [
           {
            "marker": {
             "colorbar": {
              "outlinewidth": 0,
              "ticks": ""
             }
            },
            "type": "scatterternary"
           }
          ],
          "surface": [
           {
            "colorbar": {
             "outlinewidth": 0,
             "ticks": ""
            },
            "colorscale": [
             [
              0,
              "#0d0887"
             ],
             [
              0.1111111111111111,
              "#46039f"
             ],
             [
              0.2222222222222222,
              "#7201a8"
             ],
             [
              0.3333333333333333,
              "#9c179e"
             ],
             [
              0.4444444444444444,
              "#bd3786"
             ],
             [
              0.5555555555555556,
              "#d8576b"
             ],
             [
              0.6666666666666666,
              "#ed7953"
             ],
             [
              0.7777777777777778,
              "#fb9f3a"
             ],
             [
              0.8888888888888888,
              "#fdca26"
             ],
             [
              1,
              "#f0f921"
             ]
            ],
            "type": "surface"
           }
          ],
          "table": [
           {
            "cells": {
             "fill": {
              "color": "#EBF0F8"
             },
             "line": {
              "color": "white"
             }
            },
            "header": {
             "fill": {
              "color": "#C8D4E3"
             },
             "line": {
              "color": "white"
             }
            },
            "type": "table"
           }
          ]
         },
         "layout": {
          "annotationdefaults": {
           "arrowcolor": "#2a3f5f",
           "arrowhead": 0,
           "arrowwidth": 1
          },
          "autotypenumbers": "strict",
          "coloraxis": {
           "colorbar": {
            "outlinewidth": 0,
            "ticks": ""
           }
          },
          "colorscale": {
           "diverging": [
            [
             0,
             "#8e0152"
            ],
            [
             0.1,
             "#c51b7d"
            ],
            [
             0.2,
             "#de77ae"
            ],
            [
             0.3,
             "#f1b6da"
            ],
            [
             0.4,
             "#fde0ef"
            ],
            [
             0.5,
             "#f7f7f7"
            ],
            [
             0.6,
             "#e6f5d0"
            ],
            [
             0.7,
             "#b8e186"
            ],
            [
             0.8,
             "#7fbc41"
            ],
            [
             0.9,
             "#4d9221"
            ],
            [
             1,
             "#276419"
            ]
           ],
           "sequential": [
            [
             0,
             "#0d0887"
            ],
            [
             0.1111111111111111,
             "#46039f"
            ],
            [
             0.2222222222222222,
             "#7201a8"
            ],
            [
             0.3333333333333333,
             "#9c179e"
            ],
            [
             0.4444444444444444,
             "#bd3786"
            ],
            [
             0.5555555555555556,
             "#d8576b"
            ],
            [
             0.6666666666666666,
             "#ed7953"
            ],
            [
             0.7777777777777778,
             "#fb9f3a"
            ],
            [
             0.8888888888888888,
             "#fdca26"
            ],
            [
             1,
             "#f0f921"
            ]
           ],
           "sequentialminus": [
            [
             0,
             "#0d0887"
            ],
            [
             0.1111111111111111,
             "#46039f"
            ],
            [
             0.2222222222222222,
             "#7201a8"
            ],
            [
             0.3333333333333333,
             "#9c179e"
            ],
            [
             0.4444444444444444,
             "#bd3786"
            ],
            [
             0.5555555555555556,
             "#d8576b"
            ],
            [
             0.6666666666666666,
             "#ed7953"
            ],
            [
             0.7777777777777778,
             "#fb9f3a"
            ],
            [
             0.8888888888888888,
             "#fdca26"
            ],
            [
             1,
             "#f0f921"
            ]
           ]
          },
          "colorway": [
           "#636efa",
           "#EF553B",
           "#00cc96",
           "#ab63fa",
           "#FFA15A",
           "#19d3f3",
           "#FF6692",
           "#B6E880",
           "#FF97FF",
           "#FECB52"
          ],
          "font": {
           "color": "#2a3f5f"
          },
          "geo": {
           "bgcolor": "white",
           "lakecolor": "white",
           "landcolor": "#E5ECF6",
           "showlakes": true,
           "showland": true,
           "subunitcolor": "white"
          },
          "hoverlabel": {
           "align": "left"
          },
          "hovermode": "closest",
          "mapbox": {
           "style": "light"
          },
          "paper_bgcolor": "white",
          "plot_bgcolor": "#E5ECF6",
          "polar": {
           "angularaxis": {
            "gridcolor": "white",
            "linecolor": "white",
            "ticks": ""
           },
           "bgcolor": "#E5ECF6",
           "radialaxis": {
            "gridcolor": "white",
            "linecolor": "white",
            "ticks": ""
           }
          },
          "scene": {
           "xaxis": {
            "backgroundcolor": "#E5ECF6",
            "gridcolor": "white",
            "gridwidth": 2,
            "linecolor": "white",
            "showbackground": true,
            "ticks": "",
            "zerolinecolor": "white"
           },
           "yaxis": {
            "backgroundcolor": "#E5ECF6",
            "gridcolor": "white",
            "gridwidth": 2,
            "linecolor": "white",
            "showbackground": true,
            "ticks": "",
            "zerolinecolor": "white"
           },
           "zaxis": {
            "backgroundcolor": "#E5ECF6",
            "gridcolor": "white",
            "gridwidth": 2,
            "linecolor": "white",
            "showbackground": true,
            "ticks": "",
            "zerolinecolor": "white"
           }
          },
          "shapedefaults": {
           "line": {
            "color": "#2a3f5f"
           }
          },
          "ternary": {
           "aaxis": {
            "gridcolor": "white",
            "linecolor": "white",
            "ticks": ""
           },
           "baxis": {
            "gridcolor": "white",
            "linecolor": "white",
            "ticks": ""
           },
           "bgcolor": "#E5ECF6",
           "caxis": {
            "gridcolor": "white",
            "linecolor": "white",
            "ticks": ""
           }
          },
          "title": {
           "x": 0.05
          },
          "xaxis": {
           "automargin": true,
           "gridcolor": "white",
           "linecolor": "white",
           "ticks": "",
           "title": {
            "standoff": 15
           },
           "zerolinecolor": "white",
           "zerolinewidth": 2
          },
          "yaxis": {
           "automargin": true,
           "gridcolor": "white",
           "linecolor": "white",
           "ticks": "",
           "title": {
            "standoff": 15
           },
           "zerolinecolor": "white",
           "zerolinewidth": 2
          }
         }
        },
        "title": {
         "text": "Матрица корреляций признаков, связанных с основным видом транспорта (KHVM)"
        },
        "width": 1000,
        "xaxis": {
         "anchor": "y",
         "constrain": "domain",
         "domain": [
          0,
          1
         ],
         "scaleanchor": "y"
        },
        "yaxis": {
         "anchor": "x",
         "autorange": "reversed",
         "constrain": "domain",
         "domain": [
          0,
          1
         ]
        }
       }
      }
     },
     "metadata": {},
     "output_type": "display_data"
    }
   ],
   "source": [
    "# Выбираем только те признаки, которые могут быть связаны с KHVM\n",
    "columns_of_interest = [\n",
    "    'KHVM', 'AANTVPL', 'KAFSTV', 'KMOTIEF', 'TOER', 'ROLAUTO',\n",
    "    'DAGSOORT', 'OORDEEL_AUTO', 'OORDEEL_TREIN', 'OORDEEL_BTM', 'OORDEEL_FIETS', 'OORDEEL_BROMMER', 'OORDEEL_LOPEN',\n",
    "    'GEBRUIK_AUTO_STELLING3', 'GEBRUIK_AUTO_STELLING4',\n",
    "    'GEBRUIK_TREIN_STELLING3', 'GEBRUIK_TREIN_STELLING4',\n",
    "    'GEBRUIK_BTM_STELLING3', 'GEBRUIK_BTM_STELLING4',\n",
    "    'GEBRUIK_FIETS_STELLING2', 'GEBRUIK_FIETS_STELLING3',\n",
    "    'GEBRUIK_LOPEN_STELLING3', 'GEBRUIK_LOPEN_STELLING4',\n",
    "    'HHBRUTOINK2_w5', 'HHAUTO', 'HHPERS', 'HHBESTEL', \n",
    "    'HHHYBRID',\n",
    "    'HHMOTOR',\n",
    "    'HHBROM',\n",
    "    'HHSNOR',\n",
    "    'HHFIETS',\n",
    "    'HHVOUWFIETS',\n",
    "    'HHEBIKE'\n",
    "]\n",
    "\n",
    "\n",
    "df_corr = df[columns_of_interest]\n",
    "\n",
    "corr_matrix = df_corr.corr()\n",
    "\n",
    "\n",
    "fig = px.imshow(\n",
    "    corr_matrix, \n",
    "    height=1000, \n",
    "    width=1000, \n",
    "    text_auto='.2f',  \n",
    "    title=\"Матрица корреляций признаков, связанных с основным видом транспорта (KHVM)\",\n",
    "    color_continuous_scale='RdBu_r',\n",
    "    zmin=-1, zmax=1\n",
    ")\n",
    "\n",
    "fig.update_layout(\n",
    "    margin=dict(t=100, b=50, l=50, r=50),\n",
    "    font=dict(size=14) \n",
    ")\n",
    "\n",
    "fig.show()\n"
   ]
  },
  {
   "cell_type": "markdown",
   "id": "957022d3",
   "metadata": {},
   "source": [
    "# Подготовка данных"
   ]
  }
 ],
 "metadata": {
  "kernelspec": {
   "display_name": ".venv",
   "language": "python",
   "name": "python3"
  },
  "language_info": {
   "codemirror_mode": {
    "name": "ipython",
    "version": 3
   },
   "file_extension": ".py",
   "mimetype": "text/x-python",
   "name": "python",
   "nbconvert_exporter": "python",
   "pygments_lexer": "ipython3",
   "version": "3.11.5"
  }
 },
 "nbformat": 4,
 "nbformat_minor": 5
}
