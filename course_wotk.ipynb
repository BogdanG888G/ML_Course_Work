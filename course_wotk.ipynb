{
 "cells": [
  {
   "cell_type": "markdown",
   "id": "9d159816",
   "metadata": {},
   "source": [
    "# Импорт библиотек"
   ]
  },
  {
   "cell_type": "code",
   "execution_count": 140,
   "id": "b8c671a4",
   "metadata": {},
   "outputs": [],
   "source": [
    "import pandas as pd\n",
    "import numpy as np\n",
    "import matplotlib.pyplot as plt\n",
    "import seaborn as sns\n",
    "import warnings\n",
    "import plotly.express as px\n",
    "warnings.filterwarnings('ignore')\n",
    "\n",
    "\n"
   ]
  },
  {
   "cell_type": "markdown",
   "id": "3529a8c5",
   "metadata": {},
   "source": [
    "## Начало анализа"
   ]
  },
  {
   "cell_type": "markdown",
   "id": "37cfef96",
   "metadata": {},
   "source": [
    "В этом датасете содержится комплексное исследование по поведению во время ежедневных поездок. Целью этого проекта является прогнозирование предпочтительного способа передвижения (например, автомобиль, велосипед, общественный транспорт) на основе личных и бытовых характеристик, включая местоположение рабочего места и дома."
   ]
  },
  {
   "cell_type": "code",
   "execution_count": 141,
   "metadata": {},
   "outputs": [
    {
     "data": {
      "text/html": [
       "<div>\n",
       "<style scoped>\n",
       "    .dataframe tbody tr th:only-of-type {\n",
       "        vertical-align: middle;\n",
       "    }\n",
       "\n",
       "    .dataframe tbody tr th {\n",
       "        vertical-align: top;\n",
       "    }\n",
       "\n",
       "    .dataframe thead th {\n",
       "        text-align: right;\n",
       "    }\n",
       "</style>\n",
       "<table border=\"1\" class=\"dataframe\">\n",
       "  <thead>\n",
       "    <tr style=\"text-align: right;\">\n",
       "      <th></th>\n",
       "      <th>HHID</th>\n",
       "      <th>PERSID</th>\n",
       "      <th>VPLID</th>\n",
       "      <th>RitID</th>\n",
       "      <th>HH_VALID</th>\n",
       "      <th>P_VALID</th>\n",
       "      <th>KHVM</th>\n",
       "      <th>WEGGEWEEST</th>\n",
       "      <th>VERTREKP</th>\n",
       "      <th>AANTVPL</th>\n",
       "      <th>...</th>\n",
       "      <th>HHAUTO_N</th>\n",
       "      <th>HHAUTO</th>\n",
       "      <th>HHBESTEL</th>\n",
       "      <th>HHHYBRID</th>\n",
       "      <th>HHMOTOR</th>\n",
       "      <th>HHBROM</th>\n",
       "      <th>HHSNOR</th>\n",
       "      <th>HHFIETS</th>\n",
       "      <th>HHVOUWFIETS</th>\n",
       "      <th>HHEBIKE</th>\n",
       "    </tr>\n",
       "  </thead>\n",
       "  <tbody>\n",
       "    <tr>\n",
       "      <th>0</th>\n",
       "      <td>30055622</td>\n",
       "      <td>3005562201</td>\n",
       "      <td>13957101</td>\n",
       "      <td>1395710101</td>\n",
       "      <td>2</td>\n",
       "      <td>3</td>\n",
       "      <td>2</td>\n",
       "      <td>1</td>\n",
       "      <td>2</td>\n",
       "      <td>2</td>\n",
       "      <td>...</td>\n",
       "      <td>3</td>\n",
       "      <td>1</td>\n",
       "      <td>0</td>\n",
       "      <td>0</td>\n",
       "      <td>1</td>\n",
       "      <td>0</td>\n",
       "      <td>0</td>\n",
       "      <td>1</td>\n",
       "      <td>0</td>\n",
       "      <td>1</td>\n",
       "    </tr>\n",
       "    <tr>\n",
       "      <th>1</th>\n",
       "      <td>30055622</td>\n",
       "      <td>3005562201</td>\n",
       "      <td>13957102</td>\n",
       "      <td>1395710201</td>\n",
       "      <td>2</td>\n",
       "      <td>3</td>\n",
       "      <td>2</td>\n",
       "      <td>1</td>\n",
       "      <td>2</td>\n",
       "      <td>2</td>\n",
       "      <td>...</td>\n",
       "      <td>3</td>\n",
       "      <td>1</td>\n",
       "      <td>0</td>\n",
       "      <td>0</td>\n",
       "      <td>1</td>\n",
       "      <td>0</td>\n",
       "      <td>0</td>\n",
       "      <td>1</td>\n",
       "      <td>0</td>\n",
       "      <td>1</td>\n",
       "    </tr>\n",
       "    <tr>\n",
       "      <th>2</th>\n",
       "      <td>30055622</td>\n",
       "      <td>3005562201</td>\n",
       "      <td>13957201</td>\n",
       "      <td>1395720101</td>\n",
       "      <td>2</td>\n",
       "      <td>3</td>\n",
       "      <td>1</td>\n",
       "      <td>1</td>\n",
       "      <td>2</td>\n",
       "      <td>4</td>\n",
       "      <td>...</td>\n",
       "      <td>3</td>\n",
       "      <td>1</td>\n",
       "      <td>0</td>\n",
       "      <td>0</td>\n",
       "      <td>1</td>\n",
       "      <td>0</td>\n",
       "      <td>0</td>\n",
       "      <td>1</td>\n",
       "      <td>0</td>\n",
       "      <td>1</td>\n",
       "    </tr>\n",
       "    <tr>\n",
       "      <th>3</th>\n",
       "      <td>30055622</td>\n",
       "      <td>3005562201</td>\n",
       "      <td>13957202</td>\n",
       "      <td>1395720201</td>\n",
       "      <td>2</td>\n",
       "      <td>3</td>\n",
       "      <td>1</td>\n",
       "      <td>1</td>\n",
       "      <td>2</td>\n",
       "      <td>4</td>\n",
       "      <td>...</td>\n",
       "      <td>3</td>\n",
       "      <td>1</td>\n",
       "      <td>0</td>\n",
       "      <td>0</td>\n",
       "      <td>1</td>\n",
       "      <td>0</td>\n",
       "      <td>0</td>\n",
       "      <td>1</td>\n",
       "      <td>0</td>\n",
       "      <td>1</td>\n",
       "    </tr>\n",
       "    <tr>\n",
       "      <th>4</th>\n",
       "      <td>30204076</td>\n",
       "      <td>3020407601</td>\n",
       "      <td>14445303</td>\n",
       "      <td>1444530301</td>\n",
       "      <td>2</td>\n",
       "      <td>3</td>\n",
       "      <td>8</td>\n",
       "      <td>1</td>\n",
       "      <td>1</td>\n",
       "      <td>3</td>\n",
       "      <td>...</td>\n",
       "      <td>2</td>\n",
       "      <td>1</td>\n",
       "      <td>1</td>\n",
       "      <td>0</td>\n",
       "      <td>1</td>\n",
       "      <td>0</td>\n",
       "      <td>0</td>\n",
       "      <td>1</td>\n",
       "      <td>0</td>\n",
       "      <td>1</td>\n",
       "    </tr>\n",
       "    <tr>\n",
       "      <th>...</th>\n",
       "      <td>...</td>\n",
       "      <td>...</td>\n",
       "      <td>...</td>\n",
       "      <td>...</td>\n",
       "      <td>...</td>\n",
       "      <td>...</td>\n",
       "      <td>...</td>\n",
       "      <td>...</td>\n",
       "      <td>...</td>\n",
       "      <td>...</td>\n",
       "      <td>...</td>\n",
       "      <td>...</td>\n",
       "      <td>...</td>\n",
       "      <td>...</td>\n",
       "      <td>...</td>\n",
       "      <td>...</td>\n",
       "      <td>...</td>\n",
       "      <td>...</td>\n",
       "      <td>...</td>\n",
       "      <td>...</td>\n",
       "      <td>...</td>\n",
       "    </tr>\n",
       "    <tr>\n",
       "      <th>7305</th>\n",
       "      <td>30862294</td>\n",
       "      <td>3086229401</td>\n",
       "      <td>19042304</td>\n",
       "      <td>1904230401</td>\n",
       "      <td>2</td>\n",
       "      <td>3</td>\n",
       "      <td>2</td>\n",
       "      <td>1</td>\n",
       "      <td>2</td>\n",
       "      <td>12</td>\n",
       "      <td>...</td>\n",
       "      <td>1</td>\n",
       "      <td>1</td>\n",
       "      <td>0</td>\n",
       "      <td>0</td>\n",
       "      <td>0</td>\n",
       "      <td>0</td>\n",
       "      <td>0</td>\n",
       "      <td>1</td>\n",
       "      <td>0</td>\n",
       "      <td>0</td>\n",
       "    </tr>\n",
       "    <tr>\n",
       "      <th>7306</th>\n",
       "      <td>30862294</td>\n",
       "      <td>3086229401</td>\n",
       "      <td>19042103</td>\n",
       "      <td>1904210301</td>\n",
       "      <td>2</td>\n",
       "      <td>3</td>\n",
       "      <td>7</td>\n",
       "      <td>1</td>\n",
       "      <td>2</td>\n",
       "      <td>5</td>\n",
       "      <td>...</td>\n",
       "      <td>1</td>\n",
       "      <td>1</td>\n",
       "      <td>0</td>\n",
       "      <td>0</td>\n",
       "      <td>0</td>\n",
       "      <td>0</td>\n",
       "      <td>0</td>\n",
       "      <td>1</td>\n",
       "      <td>0</td>\n",
       "      <td>0</td>\n",
       "    </tr>\n",
       "    <tr>\n",
       "      <th>7307</th>\n",
       "      <td>30862294</td>\n",
       "      <td>3086229401</td>\n",
       "      <td>19042104</td>\n",
       "      <td>1904210401</td>\n",
       "      <td>2</td>\n",
       "      <td>3</td>\n",
       "      <td>7</td>\n",
       "      <td>1</td>\n",
       "      <td>2</td>\n",
       "      <td>5</td>\n",
       "      <td>...</td>\n",
       "      <td>1</td>\n",
       "      <td>1</td>\n",
       "      <td>0</td>\n",
       "      <td>0</td>\n",
       "      <td>0</td>\n",
       "      <td>0</td>\n",
       "      <td>0</td>\n",
       "      <td>1</td>\n",
       "      <td>0</td>\n",
       "      <td>0</td>\n",
       "    </tr>\n",
       "    <tr>\n",
       "      <th>7308</th>\n",
       "      <td>30862294</td>\n",
       "      <td>3086229401</td>\n",
       "      <td>19042201</td>\n",
       "      <td>1904220101</td>\n",
       "      <td>2</td>\n",
       "      <td>3</td>\n",
       "      <td>1</td>\n",
       "      <td>1</td>\n",
       "      <td>2</td>\n",
       "      <td>3</td>\n",
       "      <td>...</td>\n",
       "      <td>1</td>\n",
       "      <td>1</td>\n",
       "      <td>0</td>\n",
       "      <td>0</td>\n",
       "      <td>0</td>\n",
       "      <td>0</td>\n",
       "      <td>0</td>\n",
       "      <td>1</td>\n",
       "      <td>0</td>\n",
       "      <td>0</td>\n",
       "    </tr>\n",
       "    <tr>\n",
       "      <th>7309</th>\n",
       "      <td>30862294</td>\n",
       "      <td>3086229401</td>\n",
       "      <td>19042105</td>\n",
       "      <td>1904210501</td>\n",
       "      <td>2</td>\n",
       "      <td>3</td>\n",
       "      <td>1</td>\n",
       "      <td>1</td>\n",
       "      <td>2</td>\n",
       "      <td>5</td>\n",
       "      <td>...</td>\n",
       "      <td>1</td>\n",
       "      <td>1</td>\n",
       "      <td>0</td>\n",
       "      <td>0</td>\n",
       "      <td>0</td>\n",
       "      <td>0</td>\n",
       "      <td>0</td>\n",
       "      <td>1</td>\n",
       "      <td>0</td>\n",
       "      <td>0</td>\n",
       "    </tr>\n",
       "  </tbody>\n",
       "</table>\n",
       "<p>7310 rows × 56 columns</p>\n",
       "</div>"
      ],
      "text/plain": [
       "          HHID      PERSID     VPLID       RitID  HH_VALID  P_VALID  KHVM  \\\n",
       "0     30055622  3005562201  13957101  1395710101         2        3     2   \n",
       "1     30055622  3005562201  13957102  1395710201         2        3     2   \n",
       "2     30055622  3005562201  13957201  1395720101         2        3     1   \n",
       "3     30055622  3005562201  13957202  1395720201         2        3     1   \n",
       "4     30204076  3020407601  14445303  1444530301         2        3     8   \n",
       "...        ...         ...       ...         ...       ...      ...   ...   \n",
       "7305  30862294  3086229401  19042304  1904230401         2        3     2   \n",
       "7306  30862294  3086229401  19042103  1904210301         2        3     7   \n",
       "7307  30862294  3086229401  19042104  1904210401         2        3     7   \n",
       "7308  30862294  3086229401  19042201  1904220101         2        3     1   \n",
       "7309  30862294  3086229401  19042105  1904210501         2        3     1   \n",
       "\n",
       "      WEGGEWEEST  VERTREKP  AANTVPL  ...  HHAUTO_N  HHAUTO  HHBESTEL  \\\n",
       "0              1         2        2  ...         3       1         0   \n",
       "1              1         2        2  ...         3       1         0   \n",
       "2              1         2        4  ...         3       1         0   \n",
       "3              1         2        4  ...         3       1         0   \n",
       "4              1         1        3  ...         2       1         1   \n",
       "...          ...       ...      ...  ...       ...     ...       ...   \n",
       "7305           1         2       12  ...         1       1         0   \n",
       "7306           1         2        5  ...         1       1         0   \n",
       "7307           1         2        5  ...         1       1         0   \n",
       "7308           1         2        3  ...         1       1         0   \n",
       "7309           1         2        5  ...         1       1         0   \n",
       "\n",
       "      HHHYBRID  HHMOTOR  HHBROM  HHSNOR  HHFIETS  HHVOUWFIETS  HHEBIKE  \n",
       "0            0        1       0       0        1            0        1  \n",
       "1            0        1       0       0        1            0        1  \n",
       "2            0        1       0       0        1            0        1  \n",
       "3            0        1       0       0        1            0        1  \n",
       "4            0        1       0       0        1            0        1  \n",
       "...        ...      ...     ...     ...      ...          ...      ...  \n",
       "7305         0        0       0       0        1            0        0  \n",
       "7306         0        0       0       0        1            0        0  \n",
       "7307         0        0       0       0        1            0        0  \n",
       "7308         0        0       0       0        1            0        0  \n",
       "7309         0        0       0       0        1            0        0  \n",
       "\n",
       "[7310 rows x 56 columns]"
      ]
     },
     "metadata": {},
     "output_type": "display_data"
    },
    {
     "name": "stdout",
     "output_type": "stream",
     "text": [
      "HHID                         30055622\n",
      "PERSID                     3005562201\n",
      "VPLID                        13957101\n",
      "RitID                      1395710101\n",
      "HH_VALID                            2\n",
      "P_VALID                             3\n",
      "KHVM                                2\n",
      "WEGGEWEEST                          1\n",
      "VERTREKP                            2\n",
      "AANTVPL                             2\n",
      "VPLDAGNR                            1\n",
      "VERPL                               3\n",
      "VERPLNR                             1\n",
      "TOER                                0\n",
      "TOER_TYPE                           9\n",
      "AANTRIT                             1\n",
      "KMOTIEF                             2\n",
      "VERTPROV                            0\n",
      "AANKPROV                            0\n",
      "KAFSTV                             13\n",
      "KVERTTIJD                           8\n",
      "KREISDUUR                          11\n",
      "ROLAUTO                             2\n",
      "PARKEERKOSTEN                       0\n",
      "VERTRAGING                          0\n",
      "DAGSOORT                            1\n",
      "OORDEEL_AUTO                        4\n",
      "OORDEEL_TREIN                       3\n",
      "OORDEEL_BTM                         3\n",
      "OORDEEL_FIETS                       4\n",
      "OORDEEL_BROMMER                     4\n",
      "OORDEEL_LOPEN                       4\n",
      "GEBRUIK_AUTO_STELLING3              4\n",
      "GEBRUIK_AUTO_STELLING4              4\n",
      "GEBRUIK_TREIN_STELLING3             3\n",
      "GEBRUIK_TREIN_STELLING4             4\n",
      "GEBRUIK_BTM_STELLING3               3\n",
      "GEBRUIK_BTM_STELLING4               4\n",
      "GEBRUIK_FIETS_STELLING2             4\n",
      "GEBRUIK_FIETS_STELLING3             3\n",
      "GEBRUIK_LOPEN_STELLING3             2\n",
      "GEBRUIK_LOPEN_STELLING4             4\n",
      "HHPERS                              3\n",
      "HHSAM                               3\n",
      "N_KIND                              0\n",
      "HHBRUTOINK2_w5                      2\n",
      "HHAUTO_N                            3\n",
      "HHAUTO                              1\n",
      "HHBESTEL                            0\n",
      "HHHYBRID                            0\n",
      "HHMOTOR                             1\n",
      "HHBROM                              0\n",
      "HHSNOR                              0\n",
      "HHFIETS                             1\n",
      "HHVOUWFIETS                         0\n",
      "HHEBIKE                             1\n",
      "Name: 0, dtype: object\n"
     ]
    }
   ],
   "source": [
    "df = pd.read_csv(\"Dataset_2_DATA.csv\")\n",
    "display(df)\n",
    "print(df.iloc[0, :])"
   ]
  },
  {
   "cell_type": "code",
   "execution_count": 142,
   "id": "e23e531f",
   "metadata": {},
   "outputs": [
    {
     "name": "stdout",
     "output_type": "stream",
     "text": [
      "<class 'pandas.core.frame.DataFrame'>\n",
      "Index: 4465 entries, 0 to 7309\n",
      "Data columns (total 56 columns):\n",
      " #   Column                   Non-Null Count  Dtype \n",
      "---  ------                   --------------  ----- \n",
      " 0   HHID                     4465 non-null   int64 \n",
      " 1   PERSID                   4465 non-null   int64 \n",
      " 2   VPLID                    4465 non-null   int64 \n",
      " 3   RitID                    4465 non-null   int64 \n",
      " 4   HH_VALID                 4465 non-null   int64 \n",
      " 5   P_VALID                  4465 non-null   int64 \n",
      " 6   KHVM                     4465 non-null   int64 \n",
      " 7   WEGGEWEEST               4465 non-null   int64 \n",
      " 8   VERTREKP                 4465 non-null   int64 \n",
      " 9   AANTVPL                  4465 non-null   int64 \n",
      " 10  VPLDAGNR                 4465 non-null   int64 \n",
      " 11  VERPL                    4465 non-null   int64 \n",
      " 12  VERPLNR                  4465 non-null   int64 \n",
      " 13  TOER                     4465 non-null   int64 \n",
      " 14  TOER_TYPE                4465 non-null   int64 \n",
      " 15  AANTRIT                  4465 non-null   int64 \n",
      " 16  KMOTIEF                  4465 non-null   int64 \n",
      " 17  VERTPROV                 4465 non-null   int64 \n",
      " 18  AANKPROV                 4465 non-null   int64 \n",
      " 19  KAFSTV                   4465 non-null   int64 \n",
      " 20  KVERTTIJD                4465 non-null   int64 \n",
      " 21  KREISDUUR                4465 non-null   object\n",
      " 22  ROLAUTO                  4465 non-null   int64 \n",
      " 23  PARKEERKOSTEN            4465 non-null   object\n",
      " 24  VERTRAGING               4465 non-null   int64 \n",
      " 25  DAGSOORT                 4465 non-null   int64 \n",
      " 26  OORDEEL_AUTO             4465 non-null   int64 \n",
      " 27  OORDEEL_TREIN            4465 non-null   int64 \n",
      " 28  OORDEEL_BTM              4465 non-null   int64 \n",
      " 29  OORDEEL_FIETS            4465 non-null   int64 \n",
      " 30  OORDEEL_BROMMER          4465 non-null   int64 \n",
      " 31  OORDEEL_LOPEN            4465 non-null   int64 \n",
      " 32  GEBRUIK_AUTO_STELLING3   4465 non-null   int64 \n",
      " 33  GEBRUIK_AUTO_STELLING4   4465 non-null   int64 \n",
      " 34  GEBRUIK_TREIN_STELLING3  4465 non-null   int64 \n",
      " 35  GEBRUIK_TREIN_STELLING4  4465 non-null   int64 \n",
      " 36  GEBRUIK_BTM_STELLING3    4465 non-null   int64 \n",
      " 37  GEBRUIK_BTM_STELLING4    4465 non-null   int64 \n",
      " 38  GEBRUIK_FIETS_STELLING2  4465 non-null   int64 \n",
      " 39  GEBRUIK_FIETS_STELLING3  4465 non-null   int64 \n",
      " 40  GEBRUIK_LOPEN_STELLING3  4465 non-null   int64 \n",
      " 41  GEBRUIK_LOPEN_STELLING4  4465 non-null   int64 \n",
      " 42  HHPERS                   4465 non-null   int64 \n",
      " 43  HHSAM                    4465 non-null   int64 \n",
      " 44  N_KIND                   4465 non-null   int64 \n",
      " 45  HHBRUTOINK2_w5           4465 non-null   int64 \n",
      " 46  HHAUTO_N                 4465 non-null   int64 \n",
      " 47  HHAUTO                   4465 non-null   int64 \n",
      " 48  HHBESTEL                 4465 non-null   int64 \n",
      " 49  HHHYBRID                 4465 non-null   int64 \n",
      " 50  HHMOTOR                  4465 non-null   int64 \n",
      " 51  HHBROM                   4465 non-null   int64 \n",
      " 52  HHSNOR                   4465 non-null   int64 \n",
      " 53  HHFIETS                  4465 non-null   int64 \n",
      " 54  HHVOUWFIETS              4465 non-null   int64 \n",
      " 55  HHEBIKE                  4465 non-null   int64 \n",
      "dtypes: int64(54), object(2)\n",
      "memory usage: 1.9+ MB\n"
     ]
    },
    {
     "data": {
      "text/plain": [
       "None"
      ]
     },
     "metadata": {},
     "output_type": "display_data"
    }
   ],
   "source": [
    "df = df.replace({' ': np.nan})\n",
    "df = df.dropna()\n",
    "\n",
    "df = df[df['KAFSTV'] >= 4] # по условию 7 варианта \"Дополнительные условия:KAFSTV(Distance class trip) больше 3.5 км\"\n",
    "display(df.info())"
   ]
  },
  {
   "cell_type": "code",
   "execution_count": 143,
   "id": "9c79b125",
   "metadata": {},
   "outputs": [
    {
     "data": {
      "text/html": [
       "<div>\n",
       "<style scoped>\n",
       "    .dataframe tbody tr th:only-of-type {\n",
       "        vertical-align: middle;\n",
       "    }\n",
       "\n",
       "    .dataframe tbody tr th {\n",
       "        vertical-align: top;\n",
       "    }\n",
       "\n",
       "    .dataframe thead th {\n",
       "        text-align: right;\n",
       "    }\n",
       "</style>\n",
       "<table border=\"1\" class=\"dataframe\">\n",
       "  <thead>\n",
       "    <tr style=\"text-align: right;\">\n",
       "      <th></th>\n",
       "      <th>Variable</th>\n",
       "      <th>Var_description</th>\n",
       "      <th>Value</th>\n",
       "      <th>Label</th>\n",
       "      <th>Measurement_level</th>\n",
       "      <th>BaseData_Type</th>\n",
       "      <th>Name_BaseData</th>\n",
       "      <th>Filter_Variables</th>\n",
       "    </tr>\n",
       "  </thead>\n",
       "  <tbody>\n",
       "    <tr>\n",
       "      <th>0</th>\n",
       "      <td>PERSOON</td>\n",
       "      <td>new person</td>\n",
       "      <td>0</td>\n",
       "      <td>no new person</td>\n",
       "      <td>Nominal</td>\n",
       "      <td>Mobility</td>\n",
       "      <td>MPNWAVE6_DAGBOEKdata</td>\n",
       "      <td>1</td>\n",
       "    </tr>\n",
       "    <tr>\n",
       "      <th>1</th>\n",
       "      <td>PERSOON</td>\n",
       "      <td>new person</td>\n",
       "      <td>1</td>\n",
       "      <td>new person</td>\n",
       "      <td>Nominal</td>\n",
       "      <td>Mobility</td>\n",
       "      <td>MPNWAVE6_DAGBOEKdata</td>\n",
       "      <td>1</td>\n",
       "    </tr>\n",
       "    <tr>\n",
       "      <th>2</th>\n",
       "      <td>HHID</td>\n",
       "      <td>Unique Household ID</td>\n",
       "      <td>999999999</td>\n",
       "      <td>Input</td>\n",
       "      <td>Scale</td>\n",
       "      <td>Mobility</td>\n",
       "      <td>MPNWAVE6_DAGBOEKdata</td>\n",
       "      <td>1</td>\n",
       "    </tr>\n",
       "    <tr>\n",
       "      <th>3</th>\n",
       "      <td>PERSID</td>\n",
       "      <td>Unique ID of Person</td>\n",
       "      <td>999999999</td>\n",
       "      <td>Unique ID of Person</td>\n",
       "      <td>Scale</td>\n",
       "      <td>Mobility</td>\n",
       "      <td>MPNWAVE6_DAGBOEKdata</td>\n",
       "      <td>1</td>\n",
       "    </tr>\n",
       "    <tr>\n",
       "      <th>4</th>\n",
       "      <td>HH_VALID</td>\n",
       "      <td>Complete household yes or no</td>\n",
       "      <td>0</td>\n",
       "      <td>Not a complete household, not all persons comp...</td>\n",
       "      <td>Nominal</td>\n",
       "      <td>Mobility</td>\n",
       "      <td>MPNWAVE6_DAGBOEKdata</td>\n",
       "      <td>1</td>\n",
       "    </tr>\n",
       "    <tr>\n",
       "      <th>...</th>\n",
       "      <td>...</td>\n",
       "      <td>...</td>\n",
       "      <td>...</td>\n",
       "      <td>...</td>\n",
       "      <td>...</td>\n",
       "      <td>...</td>\n",
       "      <td>...</td>\n",
       "      <td>...</td>\n",
       "    </tr>\n",
       "    <tr>\n",
       "      <th>1054</th>\n",
       "      <td>tramhalte</td>\n",
       "      <td>Straight line distance between nearest tram st...</td>\n",
       "      <td>999999999</td>\n",
       "      <td>Straight line distance between nearest tram st...</td>\n",
       "      <td>Scale</td>\n",
       "      <td>Data_HouseHold</td>\n",
       "      <td>MPNWAVE6_HHdata_North-Holland</td>\n",
       "      <td>0</td>\n",
       "    </tr>\n",
       "    <tr>\n",
       "      <th>1055</th>\n",
       "      <td>bushalte4xpu</td>\n",
       "      <td>Straight line distance between nearest bus sto...</td>\n",
       "      <td>999999999</td>\n",
       "      <td>Straight line distance between nearest bus sto...</td>\n",
       "      <td>Scale</td>\n",
       "      <td>Data_HouseHold</td>\n",
       "      <td>MPNWAVE6_HHdata_North-Holland</td>\n",
       "      <td>0</td>\n",
       "    </tr>\n",
       "    <tr>\n",
       "      <th>1056</th>\n",
       "      <td>bushalte2xpu</td>\n",
       "      <td>Straight line distance between nearest bus sto...</td>\n",
       "      <td>999999999</td>\n",
       "      <td>Straight line distance between nearest bus sto...</td>\n",
       "      <td>Scale</td>\n",
       "      <td>Data_HouseHold</td>\n",
       "      <td>MPNWAVE6_HHdata_North-Holland</td>\n",
       "      <td>0</td>\n",
       "    </tr>\n",
       "    <tr>\n",
       "      <th>1057</th>\n",
       "      <td>bushalte1xpu</td>\n",
       "      <td>Straight line distance between nearest bus sto...</td>\n",
       "      <td>999999999</td>\n",
       "      <td>Straight line distance between nearest bus sto...</td>\n",
       "      <td>Scale</td>\n",
       "      <td>Data_HouseHold</td>\n",
       "      <td>MPNWAVE6_HHdata_North-Holland</td>\n",
       "      <td>0</td>\n",
       "    </tr>\n",
       "    <tr>\n",
       "      <th>1058</th>\n",
       "      <td>bushalteminder1xpu</td>\n",
       "      <td>Straight line distance between nearest bus sto...</td>\n",
       "      <td>999999999</td>\n",
       "      <td>Straight line distance between nearest bus sto...</td>\n",
       "      <td>Scale</td>\n",
       "      <td>Data_HouseHold</td>\n",
       "      <td>MPNWAVE6_HHdata_North-Holland</td>\n",
       "      <td>0</td>\n",
       "    </tr>\n",
       "  </tbody>\n",
       "</table>\n",
       "<p>1059 rows × 8 columns</p>\n",
       "</div>"
      ],
      "text/plain": [
       "                Variable                                    Var_description  \\\n",
       "0                PERSOON                                         new person   \n",
       "1                PERSOON                                         new person   \n",
       "2                   HHID                                Unique Household ID   \n",
       "3                 PERSID                                Unique ID of Person   \n",
       "4               HH_VALID                       Complete household yes or no   \n",
       "...                  ...                                                ...   \n",
       "1054           tramhalte  Straight line distance between nearest tram st...   \n",
       "1055        bushalte4xpu  Straight line distance between nearest bus sto...   \n",
       "1056        bushalte2xpu  Straight line distance between nearest bus sto...   \n",
       "1057        bushalte1xpu  Straight line distance between nearest bus sto...   \n",
       "1058  bushalteminder1xpu  Straight line distance between nearest bus sto...   \n",
       "\n",
       "          Value                                              Label  \\\n",
       "0             0                                      no new person   \n",
       "1             1                                         new person   \n",
       "2     999999999                                              Input   \n",
       "3     999999999                                Unique ID of Person   \n",
       "4             0  Not a complete household, not all persons comp...   \n",
       "...         ...                                                ...   \n",
       "1054  999999999  Straight line distance between nearest tram st...   \n",
       "1055  999999999  Straight line distance between nearest bus sto...   \n",
       "1056  999999999  Straight line distance between nearest bus sto...   \n",
       "1057  999999999  Straight line distance between nearest bus sto...   \n",
       "1058  999999999  Straight line distance between nearest bus sto...   \n",
       "\n",
       "     Measurement_level   BaseData_Type                  Name_BaseData  \\\n",
       "0              Nominal        Mobility           MPNWAVE6_DAGBOEKdata   \n",
       "1              Nominal        Mobility           MPNWAVE6_DAGBOEKdata   \n",
       "2                Scale        Mobility           MPNWAVE6_DAGBOEKdata   \n",
       "3                Scale        Mobility           MPNWAVE6_DAGBOEKdata   \n",
       "4              Nominal        Mobility           MPNWAVE6_DAGBOEKdata   \n",
       "...                ...             ...                            ...   \n",
       "1054             Scale  Data_HouseHold  MPNWAVE6_HHdata_North-Holland   \n",
       "1055             Scale  Data_HouseHold  MPNWAVE6_HHdata_North-Holland   \n",
       "1056             Scale  Data_HouseHold  MPNWAVE6_HHdata_North-Holland   \n",
       "1057             Scale  Data_HouseHold  MPNWAVE6_HHdata_North-Holland   \n",
       "1058             Scale  Data_HouseHold  MPNWAVE6_HHdata_North-Holland   \n",
       "\n",
       "      Filter_Variables  \n",
       "0                    1  \n",
       "1                    1  \n",
       "2                    1  \n",
       "3                    1  \n",
       "4                    1  \n",
       "...                ...  \n",
       "1054                 0  \n",
       "1055                 0  \n",
       "1056                 0  \n",
       "1057                 0  \n",
       "1058                 0  \n",
       "\n",
       "[1059 rows x 8 columns]"
      ]
     },
     "metadata": {},
     "output_type": "display_data"
    }
   ],
   "source": [
    "desc = pd.read_csv('Dataset_2_DESCRIPTION.csv', encoding='latin1')\n",
    "display(desc) "
   ]
  },
  {
   "cell_type": "markdown",
   "id": "364eda5a",
   "metadata": {},
   "source": [
    "Расшифровка и интепретация написанного"
   ]
  },
  {
   "cell_type": "code",
   "execution_count": 144,
   "id": "b7256352",
   "metadata": {},
   "outputs": [
    {
     "data": {
      "text/html": [
       "<div>\n",
       "<style scoped>\n",
       "    .dataframe tbody tr th:only-of-type {\n",
       "        vertical-align: middle;\n",
       "    }\n",
       "\n",
       "    .dataframe tbody tr th {\n",
       "        vertical-align: top;\n",
       "    }\n",
       "\n",
       "    .dataframe thead th {\n",
       "        text-align: right;\n",
       "    }\n",
       "</style>\n",
       "<table border=\"1\" class=\"dataframe\">\n",
       "  <thead>\n",
       "    <tr style=\"text-align: right;\">\n",
       "      <th></th>\n",
       "      <th>Variable</th>\n",
       "      <th>Var_description</th>\n",
       "      <th>Value</th>\n",
       "      <th>Label</th>\n",
       "      <th>Measurement_level</th>\n",
       "      <th>BaseData_Type</th>\n",
       "      <th>Name_BaseData</th>\n",
       "      <th>Filter_Variables</th>\n",
       "      <th>0</th>\n",
       "    </tr>\n",
       "  </thead>\n",
       "  <tbody>\n",
       "    <tr>\n",
       "      <th>0</th>\n",
       "      <td>HHID</td>\n",
       "      <td>Unique Household ID</td>\n",
       "      <td>999999999</td>\n",
       "      <td>Input</td>\n",
       "      <td>Scale</td>\n",
       "      <td>Mobility</td>\n",
       "      <td>MPNWAVE6_DAGBOEKdata</td>\n",
       "      <td>1</td>\n",
       "      <td>HHID</td>\n",
       "    </tr>\n",
       "    <tr>\n",
       "      <th>1</th>\n",
       "      <td>PERSID</td>\n",
       "      <td>Unique ID of Person</td>\n",
       "      <td>999999999</td>\n",
       "      <td>Unique ID of Person</td>\n",
       "      <td>Scale</td>\n",
       "      <td>Mobility</td>\n",
       "      <td>MPNWAVE6_DAGBOEKdata</td>\n",
       "      <td>1</td>\n",
       "      <td>PERSID</td>\n",
       "    </tr>\n",
       "    <tr>\n",
       "      <th>2</th>\n",
       "      <td>HH_VALID</td>\n",
       "      <td>Complete household yes or no</td>\n",
       "      <td>0</td>\n",
       "      <td>Not a complete household, not all persons comp...</td>\n",
       "      <td>Nominal</td>\n",
       "      <td>Mobility</td>\n",
       "      <td>MPNWAVE6_DAGBOEKdata</td>\n",
       "      <td>1</td>\n",
       "      <td>HH_VALID</td>\n",
       "    </tr>\n",
       "    <tr>\n",
       "      <th>3</th>\n",
       "      <td>HH_VALID</td>\n",
       "      <td>Complete household yes or no</td>\n",
       "      <td>1</td>\n",
       "      <td>Not a complete household, but all persons comp...</td>\n",
       "      <td>Nominal</td>\n",
       "      <td>Mobility</td>\n",
       "      <td>MPNWAVE6_DAGBOEKdata</td>\n",
       "      <td>1</td>\n",
       "      <td>HH_VALID</td>\n",
       "    </tr>\n",
       "    <tr>\n",
       "      <th>4</th>\n",
       "      <td>HH_VALID</td>\n",
       "      <td>Complete household yes or no</td>\n",
       "      <td>2</td>\n",
       "      <td>Yes a complete household</td>\n",
       "      <td>Nominal</td>\n",
       "      <td>Mobility</td>\n",
       "      <td>MPNWAVE6_DAGBOEKdata</td>\n",
       "      <td>1</td>\n",
       "      <td>HH_VALID</td>\n",
       "    </tr>\n",
       "    <tr>\n",
       "      <th>...</th>\n",
       "      <td>...</td>\n",
       "      <td>...</td>\n",
       "      <td>...</td>\n",
       "      <td>...</td>\n",
       "      <td>...</td>\n",
       "      <td>...</td>\n",
       "      <td>...</td>\n",
       "      <td>...</td>\n",
       "      <td>...</td>\n",
       "    </tr>\n",
       "    <tr>\n",
       "      <th>303</th>\n",
       "      <td>HHEBIKE</td>\n",
       "      <td>Yes or no electric bicycle, e-bike in the hous...</td>\n",
       "      <td>0</td>\n",
       "      <td>No</td>\n",
       "      <td>Nominal</td>\n",
       "      <td>Data_HouseHold</td>\n",
       "      <td>MPNWAVE6_HHdata_North-Holland</td>\n",
       "      <td>1</td>\n",
       "      <td>HHEBIKE</td>\n",
       "    </tr>\n",
       "    <tr>\n",
       "      <th>304</th>\n",
       "      <td>HHEBIKE</td>\n",
       "      <td>Yes or no electric bicycle, e-bike in the hous...</td>\n",
       "      <td>1</td>\n",
       "      <td>Yes</td>\n",
       "      <td>Nominal</td>\n",
       "      <td>Data_HouseHold</td>\n",
       "      <td>MPNWAVE6_HHdata_North-Holland</td>\n",
       "      <td>1</td>\n",
       "      <td>HHEBIKE</td>\n",
       "    </tr>\n",
       "    <tr>\n",
       "      <th>305</th>\n",
       "      <td>HHEBIKE</td>\n",
       "      <td>Yes or no electric bicycle, e-bike in the hous...</td>\n",
       "      <td>99</td>\n",
       "      <td>no household questionnaire, no imputation from...</td>\n",
       "      <td>Nominal</td>\n",
       "      <td>Data_HouseHold</td>\n",
       "      <td>MPNWAVE6_HHdata_North-Holland</td>\n",
       "      <td>1</td>\n",
       "      <td>HHEBIKE</td>\n",
       "    </tr>\n",
       "    <tr>\n",
       "      <th>306</th>\n",
       "      <td>HHPERS</td>\n",
       "      <td>Number of people in the household</td>\n",
       "      <td>999999999</td>\n",
       "      <td>Number of people in the household</td>\n",
       "      <td>Nominal</td>\n",
       "      <td>Data_HouseHold</td>\n",
       "      <td>MPNWAVE6_HHdata_North-Holland</td>\n",
       "      <td>1</td>\n",
       "      <td>HHPERS</td>\n",
       "    </tr>\n",
       "    <tr>\n",
       "      <th>307</th>\n",
       "      <td>N_KIND</td>\n",
       "      <td>Number of children &lt;12 years old in the household</td>\n",
       "      <td>999999999</td>\n",
       "      <td>Number of children &lt;12 years old in the household</td>\n",
       "      <td>Nominal</td>\n",
       "      <td>Data_HouseHold</td>\n",
       "      <td>MPNWAVE6_HHdata_North-Holland</td>\n",
       "      <td>1</td>\n",
       "      <td>N_KIND</td>\n",
       "    </tr>\n",
       "  </tbody>\n",
       "</table>\n",
       "<p>308 rows × 9 columns</p>\n",
       "</div>"
      ],
      "text/plain": [
       "     Variable                                    Var_description      Value  \\\n",
       "0        HHID                                Unique Household ID  999999999   \n",
       "1      PERSID                                Unique ID of Person  999999999   \n",
       "2    HH_VALID                       Complete household yes or no          0   \n",
       "3    HH_VALID                       Complete household yes or no          1   \n",
       "4    HH_VALID                       Complete household yes or no          2   \n",
       "..        ...                                                ...        ...   \n",
       "303   HHEBIKE  Yes or no electric bicycle, e-bike in the hous...          0   \n",
       "304   HHEBIKE  Yes or no electric bicycle, e-bike in the hous...          1   \n",
       "305   HHEBIKE  Yes or no electric bicycle, e-bike in the hous...         99   \n",
       "306    HHPERS                  Number of people in the household  999999999   \n",
       "307    N_KIND  Number of children <12 years old in the household  999999999   \n",
       "\n",
       "                                                 Label Measurement_level  \\\n",
       "0                                                Input             Scale   \n",
       "1                                  Unique ID of Person             Scale   \n",
       "2    Not a complete household, not all persons comp...           Nominal   \n",
       "3    Not a complete household, but all persons comp...           Nominal   \n",
       "4                             Yes a complete household           Nominal   \n",
       "..                                                 ...               ...   \n",
       "303                                                 No           Nominal   \n",
       "304                                                Yes           Nominal   \n",
       "305  no household questionnaire, no imputation from...           Nominal   \n",
       "306                  Number of people in the household           Nominal   \n",
       "307  Number of children <12 years old in the household           Nominal   \n",
       "\n",
       "      BaseData_Type                  Name_BaseData  Filter_Variables         0  \n",
       "0          Mobility           MPNWAVE6_DAGBOEKdata                 1      HHID  \n",
       "1          Mobility           MPNWAVE6_DAGBOEKdata                 1    PERSID  \n",
       "2          Mobility           MPNWAVE6_DAGBOEKdata                 1  HH_VALID  \n",
       "3          Mobility           MPNWAVE6_DAGBOEKdata                 1  HH_VALID  \n",
       "4          Mobility           MPNWAVE6_DAGBOEKdata                 1  HH_VALID  \n",
       "..              ...                            ...               ...       ...  \n",
       "303  Data_HouseHold  MPNWAVE6_HHdata_North-Holland                 1   HHEBIKE  \n",
       "304  Data_HouseHold  MPNWAVE6_HHdata_North-Holland                 1   HHEBIKE  \n",
       "305  Data_HouseHold  MPNWAVE6_HHdata_North-Holland                 1   HHEBIKE  \n",
       "306  Data_HouseHold  MPNWAVE6_HHdata_North-Holland                 1    HHPERS  \n",
       "307  Data_HouseHold  MPNWAVE6_HHdata_North-Holland                 1    N_KIND  \n",
       "\n",
       "[308 rows x 9 columns]"
      ]
     },
     "metadata": {},
     "output_type": "display_data"
    }
   ],
   "source": [
    "needed_description = pd.merge(desc, pd.DataFrame(df.columns), left_on='Variable', right_on=0)\n",
    "display(needed_description)"
   ]
  },
  {
   "cell_type": "markdown",
   "id": "69dd5129",
   "metadata": {},
   "source": [
    "Создание понятных значений и ренейм столбцов для понимания"
   ]
  },
  {
   "cell_type": "code",
   "execution_count": 145,
   "id": "350e2c9a",
   "metadata": {},
   "outputs": [],
   "source": [
    "df_map = df.copy()\n",
    "\n",
    "# Создаем словарь вида {колонка: {значение: метка}}\n",
    "mapping = {}\n",
    "for var in needed_description['Variable'].unique():\n",
    "    subset = needed_description[needed_description['Variable'] == var]\n",
    "    mapping[var] = dict(zip(subset['Value'], subset['Label']))\n",
    "\n",
    "for column in df.columns:\n",
    "    if column in mapping:\n",
    "        # Конвертируем ключи маппинга в строки для совместимости с разными типами данных\n",
    "        str_map = {str(k): v for k, v in mapping[column].items()}\n",
    "        df_map[column] = df_map[column].astype(str).replace(str_map)\n",
    "\n",
    "id_columns = ['HHID', 'PERSID', 'VPLID', 'RitID']\n",
    "for col in id_columns:\n",
    "    if col in df.columns:\n",
    "        df[col] = pd.to_numeric(df_map[col], errors='coerce')"
   ]
  },
  {
   "cell_type": "code",
   "execution_count": 146,
   "id": "480b57e5",
   "metadata": {},
   "outputs": [
    {
     "data": {
      "text/plain": [
       "HHID                                                                30055622\n",
       "PERSID                                                            3005562201\n",
       "VPLID                                                               13957101\n",
       "RitID                                                             1395710101\n",
       "HH_VALID                                            Yes a complete household\n",
       "P_VALID                    person completed the questionnaire and complet...\n",
       "KHVM                                                        Car as passenger\n",
       "WEGGEWEEST                           On this day the person did go somewhere\n",
       "VERTREKP                                                     Another address\n",
       "AANTVPL                                                                    2\n",
       "VPLDAGNR                                         first day of recorded trips\n",
       "VERPL                                                            trip abroad\n",
       "VERPLNR                                                                    1\n",
       "TOER                                                                      No\n",
       "TOER_TYPE                                            Did not make round trip\n",
       "AANTRIT                                                                    1\n",
       "KMOTIEF                               Business-related visit in work context\n",
       "VERTPROV                               No departure point in the Netherlands\n",
       "AANKPROV                                 No arrival point in the Netherlands\n",
       "KAFSTV                                                                >50 km\n",
       "KVERTTIJD                                                     14:00 to 16:00\n",
       "KREISDUUR                                                120 minutes or more\n",
       "ROLAUTO                                                     Passenger in car\n",
       "PARKEERKOSTEN                                                         <none>\n",
       "VERTRAGING                                                          No delay\n",
       "DAGSOORT                                                             weekday\n",
       "OORDEEL_AUTO                                                        Positive\n",
       "OORDEEL_TREIN                                    Not positive / not negative\n",
       "OORDEEL_BTM                                      Not positive / not negative\n",
       "OORDEEL_FIETS                                                       Positive\n",
       "OORDEEL_BROMMER                                                     Positive\n",
       "OORDEEL_LOPEN                                                       Positive\n",
       "GEBRUIK_AUTO_STELLING3                                                 agree\n",
       "GEBRUIK_AUTO_STELLING4                                                 agree\n",
       "GEBRUIK_TREIN_STELLING3                        do not agree, do not disagree\n",
       "GEBRUIK_TREIN_STELLING4                                                agree\n",
       "GEBRUIK_BTM_STELLING3                          do not agree, do not disagree\n",
       "GEBRUIK_BTM_STELLING4                                                  agree\n",
       "GEBRUIK_FIETS_STELLING2                                                agree\n",
       "GEBRUIK_FIETS_STELLING3                        do not agree, do not disagree\n",
       "GEBRUIK_LOPEN_STELLING3                                             disagree\n",
       "GEBRUIK_LOPEN_STELLING4                                                agree\n",
       "HHPERS                                                                     3\n",
       "HHSAM                                                    Couple + child(ren)\n",
       "N_KIND                                                                     0\n",
       "HHBRUTOINK2_w5             below the national benchmark income ( 13,700 ...\n",
       "HHAUTO_N                                                                   3\n",
       "HHAUTO                                                                   Yes\n",
       "HHBESTEL                                                                  No\n",
       "HHHYBRID                                                                  No\n",
       "HHMOTOR                                                                  Yes\n",
       "HHBROM                                                                    No\n",
       "HHSNOR                                                                    No\n",
       "HHFIETS                                                                  Yes\n",
       "HHVOUWFIETS                                                               No\n",
       "HHEBIKE                                                                  Yes\n",
       "Name: 0, dtype: object"
      ]
     },
     "metadata": {},
     "output_type": "display_data"
    },
    {
     "name": "stdout",
     "output_type": "stream",
     "text": [
      "----------------------------------------------------------------------------------------------------\n"
     ]
    },
    {
     "data": {
      "text/plain": [
       "HHID                         30055622\n",
       "PERSID                     3005562201\n",
       "VPLID                        13957101\n",
       "RitID                      1395710101\n",
       "HH_VALID                            2\n",
       "P_VALID                             3\n",
       "KHVM                                2\n",
       "WEGGEWEEST                          1\n",
       "VERTREKP                            2\n",
       "AANTVPL                             2\n",
       "VPLDAGNR                            1\n",
       "VERPL                               3\n",
       "VERPLNR                             1\n",
       "TOER                                0\n",
       "TOER_TYPE                           9\n",
       "AANTRIT                             1\n",
       "KMOTIEF                             2\n",
       "VERTPROV                            0\n",
       "AANKPROV                            0\n",
       "KAFSTV                             13\n",
       "KVERTTIJD                           8\n",
       "KREISDUUR                          11\n",
       "ROLAUTO                             2\n",
       "PARKEERKOSTEN                       0\n",
       "VERTRAGING                          0\n",
       "DAGSOORT                            1\n",
       "OORDEEL_AUTO                        4\n",
       "OORDEEL_TREIN                       3\n",
       "OORDEEL_BTM                         3\n",
       "OORDEEL_FIETS                       4\n",
       "OORDEEL_BROMMER                     4\n",
       "OORDEEL_LOPEN                       4\n",
       "GEBRUIK_AUTO_STELLING3              4\n",
       "GEBRUIK_AUTO_STELLING4              4\n",
       "GEBRUIK_TREIN_STELLING3             3\n",
       "GEBRUIK_TREIN_STELLING4             4\n",
       "GEBRUIK_BTM_STELLING3               3\n",
       "GEBRUIK_BTM_STELLING4               4\n",
       "GEBRUIK_FIETS_STELLING2             4\n",
       "GEBRUIK_FIETS_STELLING3             3\n",
       "GEBRUIK_LOPEN_STELLING3             2\n",
       "GEBRUIK_LOPEN_STELLING4             4\n",
       "HHPERS                              3\n",
       "HHSAM                               3\n",
       "N_KIND                              0\n",
       "HHBRUTOINK2_w5                      2\n",
       "HHAUTO_N                            3\n",
       "HHAUTO                              1\n",
       "HHBESTEL                            0\n",
       "HHHYBRID                            0\n",
       "HHMOTOR                             1\n",
       "HHBROM                              0\n",
       "HHSNOR                              0\n",
       "HHFIETS                             1\n",
       "HHVOUWFIETS                         0\n",
       "HHEBIKE                             1\n",
       "Name: 0, dtype: object"
      ]
     },
     "metadata": {},
     "output_type": "display_data"
    }
   ],
   "source": [
    "display(df_map.iloc[0, :])\n",
    "print('-' * 100)\n",
    "display(df.iloc[0, :])"
   ]
  },
  {
   "cell_type": "code",
   "execution_count": 147,
   "id": "0b1b1500",
   "metadata": {},
   "outputs": [
    {
     "name": "stdout",
     "output_type": "stream",
     "text": [
      "Index(['HHID', 'PERSID', 'VPLID', 'RitID', 'HH_VALID', 'P_VALID', 'KHVM',\n",
      "       'WEGGEWEEST', 'VERTREKP', 'AANTVPL', 'VPLDAGNR', 'VERPL', 'VERPLNR',\n",
      "       'TOER', 'TOER_TYPE', 'AANTRIT', 'KMOTIEF', 'VERTPROV', 'AANKPROV',\n",
      "       'KAFSTV', 'KVERTTIJD', 'KREISDUUR', 'ROLAUTO', 'PARKEERKOSTEN',\n",
      "       'VERTRAGING', 'DAGSOORT', 'OORDEEL_AUTO', 'OORDEEL_TREIN',\n",
      "       'OORDEEL_BTM', 'OORDEEL_FIETS', 'OORDEEL_BROMMER', 'OORDEEL_LOPEN',\n",
      "       'GEBRUIK_AUTO_STELLING3', 'GEBRUIK_AUTO_STELLING4',\n",
      "       'GEBRUIK_TREIN_STELLING3', 'GEBRUIK_TREIN_STELLING4',\n",
      "       'GEBRUIK_BTM_STELLING3', 'GEBRUIK_BTM_STELLING4',\n",
      "       'GEBRUIK_FIETS_STELLING2', 'GEBRUIK_FIETS_STELLING3',\n",
      "       'GEBRUIK_LOPEN_STELLING3', 'GEBRUIK_LOPEN_STELLING4', 'HHPERS', 'HHSAM',\n",
      "       'N_KIND', 'HHBRUTOINK2_w5', 'HHAUTO_N', 'HHAUTO', 'HHBESTEL',\n",
      "       'HHHYBRID', 'HHMOTOR', 'HHBROM', 'HHSNOR', 'HHFIETS', 'HHVOUWFIETS',\n",
      "       'HHEBIKE'],\n",
      "      dtype='object')\n"
     ]
    }
   ],
   "source": [
    "print(df.columns)"
   ]
  },
  {
   "cell_type": "markdown",
   "id": "8e5f6c90",
   "metadata": {},
   "source": [
    "\n",
    "    # Базовые идентификаторы\n",
    "    'HHID': 'id_домохозяйства',\n",
    "    'PERSID': 'id_человека',\n",
    "    'VPLID': 'id_поездки',\n",
    "    'RitID': 'id_участка_поездки',\n",
    "    \n",
    "    # Валидация данных\n",
    "    'HH_VALID': 'статус_валидации_домохозяйства',\n",
    "    'P_VALID': 'статус_валидации_человека',\n",
    "    \n",
    "    # Характеристики поездок (основной фокус исследования)\n",
    "    'KHVM': 'основной_транспорт',\n",
    "    'WEGGEWEEST': 'факт_поездки_в_день',\n",
    "    'VERTREKP': 'точка_отправления_первой_поездки',\n",
    "    'AANTVPL': 'количество_поездок',\n",
    "    'VPLDAGNR': 'номер_дня_поездки',\n",
    "    'VERPL': 'тип_поездки',\n",
    "    'VERPLNR': 'порядковый_номер_поездки',\n",
    "    'TOER': 'флаг_круговой_поездки',\n",
    "    'TOER_TYPE': 'тип_круговой_поездки',\n",
    "    'AANTRIT': 'количество_сегментов_поездки',\n",
    "    \n",
    "    # Цели поездок\n",
    "    'KMOTIEF': 'цель_поездки',\n",
    "    \n",
    "    # География\n",
    "    'VERTPROV': 'провинция_отправления',\n",
    "    'AANKPROV': 'провинция_прибытия',\n",
    "    \n",
    "    # Характеристики маршрута (важно для условия >3.5 км)\n",
    "    'KAFSTV': 'класс_расстояния_поездки',\n",
    "    'KVERTTIJD': 'класс_времени_отправления',\n",
    "    'KREISDUUR': 'класс_длительности_поездки',\n",
    "    \n",
    "    # Использование автомобиля\n",
    "    'ROLAUTO': 'роль_в_автомобиле',\n",
    "    'PARKEERKOSTEN': 'класс_стоимости_парковки',\n",
    "    'VERTRAGING': 'класс_задержки_поездки',\n",
    "    \n",
    "    # Временные характеристики\n",
    "    'DAGSOORT': 'тип_дня',\n",
    "    \n",
    "    # Оценки видов транспорта (ключевой контекст)\n",
    "    'OORDEEL_AUTO': 'оценка_автомобиля',\n",
    "    'OORDEEL_TREIN': 'оценка_поезда',\n",
    "    'OORDEEL_BTM': 'оценка_общественного_транспорта',\n",
    "    'OORDEEL_FIETS': 'оценка_велосипеда',\n",
    "    'OORDEEL_BROMMER': 'оценка_мопеда',\n",
    "    'OORDEEL_LOPEN': 'оценка_передвижения_пешком',\n",
    "    \n",
    "    # Восприятие транспорта (важно для моделирования предпочтений)\n",
    "    'GEBRUIK_AUTO_STELLING3': 'восприятие_экономии_времени_авто',\n",
    "    'GEBRUIK_AUTO_STELLING4': 'восприятие_безопасности_авто',\n",
    "    'GEBRUIK_TREIN_STELLING3': 'восприятие_экономии_времени_поезда',\n",
    "    'GEBRUIK_TREIN_STELLING4': 'восприятие_безопасности_поезда',\n",
    "    'GEBRUIK_BTM_STELLING3': 'восприятие_экономии_времени_общественного_транспорта',\n",
    "    'GEBRUIK_BTM_STELLING4': 'восприятие_безопасности_общественного_транспорта',\n",
    "    'GEBRUIK_FIETS_STELLING2': 'восприятие_релаксации_на_велосипеде',\n",
    "    'GEBRUIK_FIETS_STELLING3': 'восприятие_экономии_времени_велосипеда',\n",
    "    'GEBRUIK_LOPEN_STELLING3': 'восприятие_экономии_времени_ходьбы',\n",
    "    'GEBRUIK_LOPEN_STELLING4': 'восприятие_безопасности_ходьбы',\n",
    "    \n",
    "    # Характеристики домохозяйства (ключевые предикторы)\n",
    "    'HHPERS': 'количество_в_домохозяйстве',\n",
    "    'HHSAM': 'состав_домохозяйства',\n",
    "    'N_KIND': 'дети_до12_в_домохозяйстве',\n",
    "    'HHBRUTOINK2_w5': 'класс_дохода_домохозяйства',\n",
    "    'HHAUTO_N': 'количество_автомобилей',\n",
    "    'HHAUTO': 'наличие_автомобиля',\n",
    "    'HHBESTEL': 'наличие_фургона',\n",
    "    'HHHYBRID': 'наличие_гибридного_авто',\n",
    "    'HHMOTOR': 'наличие_мотоцикла',\n",
    "    'HHBROM': 'наличие_мопеда',\n",
    "    'HHSNOR': 'наличие_скутера',\n",
    "    'HHFIETS': 'наличие_велосипеда',\n",
    "    'HHVOUWFIETS': 'наличие_складного_велосипеда',\n",
    "    'HHEBIKE': 'наличие_электровелосипеда'\n",
    "\n"
   ]
  },
  {
   "cell_type": "markdown",
   "id": "d75683cb",
   "metadata": {},
   "source": [
    "# Таргет -- KHVM, задача классфикации, всего кклассов 7"
   ]
  },
  {
   "cell_type": "markdown",
   "id": "1fdb0829",
   "metadata": {},
   "source": [
    "## Анализ (EDA)"
   ]
  },
  {
   "cell_type": "markdown",
   "id": "6f774a17",
   "metadata": {},
   "source": [
    "### График 1 (Целевая переменная (KHVM))"
   ]
  },
  {
   "cell_type": "code",
   "execution_count": 148,
   "id": "749a21d3",
   "metadata": {},
   "outputs": [
    {
     "name": "stdout",
     "output_type": "stream",
     "text": [
      "          Транспорт  Количество поездок\n",
      "2     Car as driver                1479\n",
      "6             Train                 831\n",
      "1    Bus/tram/metro                 729\n",
      "0           Bicycle                 610\n",
      "3  Car as passenger                 416\n",
      "4             Other                 190\n",
      "7           Walking                 128\n",
      "5     Scooter/moped                  82\n"
     ]
    },
    {
     "data": {
      "application/vnd.plotly.v1+json": {
       "config": {
        "plotlyServerURL": "https://plotly.com"
       },
       "data": [
        {
         "hovertemplate": "Транспорт=%{x}<br>Количество поездок=%{y}<extra></extra>",
         "legendgroup": "",
         "marker": {
          "color": "#636efa",
          "pattern": {
           "shape": ""
          }
         },
         "name": "",
         "orientation": "v",
         "showlegend": false,
         "textposition": "auto",
         "texttemplate": "%{y}",
         "type": "bar",
         "x": [
          "Car as driver",
          "Train",
          "Bus/tram/metro",
          "Bicycle",
          "Car as passenger",
          "Other",
          "Walking",
          "Scooter/moped"
         ],
         "xaxis": "x",
         "y": {
          "bdata": "xwU/A9kCYgKgAb4AgABSAA==",
          "dtype": "i2"
         },
         "yaxis": "y"
        }
       ],
       "layout": {
        "barmode": "relative",
        "legend": {
         "tracegroupgap": 0
        },
        "margin": {
         "t": 60
        },
        "template": {
         "data": {
          "bar": [
           {
            "error_x": {
             "color": "#2a3f5f"
            },
            "error_y": {
             "color": "#2a3f5f"
            },
            "marker": {
             "line": {
              "color": "#E5ECF6",
              "width": 0.5
             },
             "pattern": {
              "fillmode": "overlay",
              "size": 10,
              "solidity": 0.2
             }
            },
            "type": "bar"
           }
          ],
          "barpolar": [
           {
            "marker": {
             "line": {
              "color": "#E5ECF6",
              "width": 0.5
             },
             "pattern": {
              "fillmode": "overlay",
              "size": 10,
              "solidity": 0.2
             }
            },
            "type": "barpolar"
           }
          ],
          "carpet": [
           {
            "aaxis": {
             "endlinecolor": "#2a3f5f",
             "gridcolor": "white",
             "linecolor": "white",
             "minorgridcolor": "white",
             "startlinecolor": "#2a3f5f"
            },
            "baxis": {
             "endlinecolor": "#2a3f5f",
             "gridcolor": "white",
             "linecolor": "white",
             "minorgridcolor": "white",
             "startlinecolor": "#2a3f5f"
            },
            "type": "carpet"
           }
          ],
          "choropleth": [
           {
            "colorbar": {
             "outlinewidth": 0,
             "ticks": ""
            },
            "type": "choropleth"
           }
          ],
          "contour": [
           {
            "colorbar": {
             "outlinewidth": 0,
             "ticks": ""
            },
            "colorscale": [
             [
              0,
              "#0d0887"
             ],
             [
              0.1111111111111111,
              "#46039f"
             ],
             [
              0.2222222222222222,
              "#7201a8"
             ],
             [
              0.3333333333333333,
              "#9c179e"
             ],
             [
              0.4444444444444444,
              "#bd3786"
             ],
             [
              0.5555555555555556,
              "#d8576b"
             ],
             [
              0.6666666666666666,
              "#ed7953"
             ],
             [
              0.7777777777777778,
              "#fb9f3a"
             ],
             [
              0.8888888888888888,
              "#fdca26"
             ],
             [
              1,
              "#f0f921"
             ]
            ],
            "type": "contour"
           }
          ],
          "contourcarpet": [
           {
            "colorbar": {
             "outlinewidth": 0,
             "ticks": ""
            },
            "type": "contourcarpet"
           }
          ],
          "heatmap": [
           {
            "colorbar": {
             "outlinewidth": 0,
             "ticks": ""
            },
            "colorscale": [
             [
              0,
              "#0d0887"
             ],
             [
              0.1111111111111111,
              "#46039f"
             ],
             [
              0.2222222222222222,
              "#7201a8"
             ],
             [
              0.3333333333333333,
              "#9c179e"
             ],
             [
              0.4444444444444444,
              "#bd3786"
             ],
             [
              0.5555555555555556,
              "#d8576b"
             ],
             [
              0.6666666666666666,
              "#ed7953"
             ],
             [
              0.7777777777777778,
              "#fb9f3a"
             ],
             [
              0.8888888888888888,
              "#fdca26"
             ],
             [
              1,
              "#f0f921"
             ]
            ],
            "type": "heatmap"
           }
          ],
          "histogram": [
           {
            "marker": {
             "pattern": {
              "fillmode": "overlay",
              "size": 10,
              "solidity": 0.2
             }
            },
            "type": "histogram"
           }
          ],
          "histogram2d": [
           {
            "colorbar": {
             "outlinewidth": 0,
             "ticks": ""
            },
            "colorscale": [
             [
              0,
              "#0d0887"
             ],
             [
              0.1111111111111111,
              "#46039f"
             ],
             [
              0.2222222222222222,
              "#7201a8"
             ],
             [
              0.3333333333333333,
              "#9c179e"
             ],
             [
              0.4444444444444444,
              "#bd3786"
             ],
             [
              0.5555555555555556,
              "#d8576b"
             ],
             [
              0.6666666666666666,
              "#ed7953"
             ],
             [
              0.7777777777777778,
              "#fb9f3a"
             ],
             [
              0.8888888888888888,
              "#fdca26"
             ],
             [
              1,
              "#f0f921"
             ]
            ],
            "type": "histogram2d"
           }
          ],
          "histogram2dcontour": [
           {
            "colorbar": {
             "outlinewidth": 0,
             "ticks": ""
            },
            "colorscale": [
             [
              0,
              "#0d0887"
             ],
             [
              0.1111111111111111,
              "#46039f"
             ],
             [
              0.2222222222222222,
              "#7201a8"
             ],
             [
              0.3333333333333333,
              "#9c179e"
             ],
             [
              0.4444444444444444,
              "#bd3786"
             ],
             [
              0.5555555555555556,
              "#d8576b"
             ],
             [
              0.6666666666666666,
              "#ed7953"
             ],
             [
              0.7777777777777778,
              "#fb9f3a"
             ],
             [
              0.8888888888888888,
              "#fdca26"
             ],
             [
              1,
              "#f0f921"
             ]
            ],
            "type": "histogram2dcontour"
           }
          ],
          "mesh3d": [
           {
            "colorbar": {
             "outlinewidth": 0,
             "ticks": ""
            },
            "type": "mesh3d"
           }
          ],
          "parcoords": [
           {
            "line": {
             "colorbar": {
              "outlinewidth": 0,
              "ticks": ""
             }
            },
            "type": "parcoords"
           }
          ],
          "pie": [
           {
            "automargin": true,
            "type": "pie"
           }
          ],
          "scatter": [
           {
            "fillpattern": {
             "fillmode": "overlay",
             "size": 10,
             "solidity": 0.2
            },
            "type": "scatter"
           }
          ],
          "scatter3d": [
           {
            "line": {
             "colorbar": {
              "outlinewidth": 0,
              "ticks": ""
             }
            },
            "marker": {
             "colorbar": {
              "outlinewidth": 0,
              "ticks": ""
             }
            },
            "type": "scatter3d"
           }
          ],
          "scattercarpet": [
           {
            "marker": {
             "colorbar": {
              "outlinewidth": 0,
              "ticks": ""
             }
            },
            "type": "scattercarpet"
           }
          ],
          "scattergeo": [
           {
            "marker": {
             "colorbar": {
              "outlinewidth": 0,
              "ticks": ""
             }
            },
            "type": "scattergeo"
           }
          ],
          "scattergl": [
           {
            "marker": {
             "colorbar": {
              "outlinewidth": 0,
              "ticks": ""
             }
            },
            "type": "scattergl"
           }
          ],
          "scattermap": [
           {
            "marker": {
             "colorbar": {
              "outlinewidth": 0,
              "ticks": ""
             }
            },
            "type": "scattermap"
           }
          ],
          "scattermapbox": [
           {
            "marker": {
             "colorbar": {
              "outlinewidth": 0,
              "ticks": ""
             }
            },
            "type": "scattermapbox"
           }
          ],
          "scatterpolar": [
           {
            "marker": {
             "colorbar": {
              "outlinewidth": 0,
              "ticks": ""
             }
            },
            "type": "scatterpolar"
           }
          ],
          "scatterpolargl": [
           {
            "marker": {
             "colorbar": {
              "outlinewidth": 0,
              "ticks": ""
             }
            },
            "type": "scatterpolargl"
           }
          ],
          "scatterternary": [
           {
            "marker": {
             "colorbar": {
              "outlinewidth": 0,
              "ticks": ""
             }
            },
            "type": "scatterternary"
           }
          ],
          "surface": [
           {
            "colorbar": {
             "outlinewidth": 0,
             "ticks": ""
            },
            "colorscale": [
             [
              0,
              "#0d0887"
             ],
             [
              0.1111111111111111,
              "#46039f"
             ],
             [
              0.2222222222222222,
              "#7201a8"
             ],
             [
              0.3333333333333333,
              "#9c179e"
             ],
             [
              0.4444444444444444,
              "#bd3786"
             ],
             [
              0.5555555555555556,
              "#d8576b"
             ],
             [
              0.6666666666666666,
              "#ed7953"
             ],
             [
              0.7777777777777778,
              "#fb9f3a"
             ],
             [
              0.8888888888888888,
              "#fdca26"
             ],
             [
              1,
              "#f0f921"
             ]
            ],
            "type": "surface"
           }
          ],
          "table": [
           {
            "cells": {
             "fill": {
              "color": "#EBF0F8"
             },
             "line": {
              "color": "white"
             }
            },
            "header": {
             "fill": {
              "color": "#C8D4E3"
             },
             "line": {
              "color": "white"
             }
            },
            "type": "table"
           }
          ]
         },
         "layout": {
          "annotationdefaults": {
           "arrowcolor": "#2a3f5f",
           "arrowhead": 0,
           "arrowwidth": 1
          },
          "autotypenumbers": "strict",
          "coloraxis": {
           "colorbar": {
            "outlinewidth": 0,
            "ticks": ""
           }
          },
          "colorscale": {
           "diverging": [
            [
             0,
             "#8e0152"
            ],
            [
             0.1,
             "#c51b7d"
            ],
            [
             0.2,
             "#de77ae"
            ],
            [
             0.3,
             "#f1b6da"
            ],
            [
             0.4,
             "#fde0ef"
            ],
            [
             0.5,
             "#f7f7f7"
            ],
            [
             0.6,
             "#e6f5d0"
            ],
            [
             0.7,
             "#b8e186"
            ],
            [
             0.8,
             "#7fbc41"
            ],
            [
             0.9,
             "#4d9221"
            ],
            [
             1,
             "#276419"
            ]
           ],
           "sequential": [
            [
             0,
             "#0d0887"
            ],
            [
             0.1111111111111111,
             "#46039f"
            ],
            [
             0.2222222222222222,
             "#7201a8"
            ],
            [
             0.3333333333333333,
             "#9c179e"
            ],
            [
             0.4444444444444444,
             "#bd3786"
            ],
            [
             0.5555555555555556,
             "#d8576b"
            ],
            [
             0.6666666666666666,
             "#ed7953"
            ],
            [
             0.7777777777777778,
             "#fb9f3a"
            ],
            [
             0.8888888888888888,
             "#fdca26"
            ],
            [
             1,
             "#f0f921"
            ]
           ],
           "sequentialminus": [
            [
             0,
             "#0d0887"
            ],
            [
             0.1111111111111111,
             "#46039f"
            ],
            [
             0.2222222222222222,
             "#7201a8"
            ],
            [
             0.3333333333333333,
             "#9c179e"
            ],
            [
             0.4444444444444444,
             "#bd3786"
            ],
            [
             0.5555555555555556,
             "#d8576b"
            ],
            [
             0.6666666666666666,
             "#ed7953"
            ],
            [
             0.7777777777777778,
             "#fb9f3a"
            ],
            [
             0.8888888888888888,
             "#fdca26"
            ],
            [
             1,
             "#f0f921"
            ]
           ]
          },
          "colorway": [
           "#636efa",
           "#EF553B",
           "#00cc96",
           "#ab63fa",
           "#FFA15A",
           "#19d3f3",
           "#FF6692",
           "#B6E880",
           "#FF97FF",
           "#FECB52"
          ],
          "font": {
           "color": "#2a3f5f"
          },
          "geo": {
           "bgcolor": "white",
           "lakecolor": "white",
           "landcolor": "#E5ECF6",
           "showlakes": true,
           "showland": true,
           "subunitcolor": "white"
          },
          "hoverlabel": {
           "align": "left"
          },
          "hovermode": "closest",
          "mapbox": {
           "style": "light"
          },
          "paper_bgcolor": "white",
          "plot_bgcolor": "#E5ECF6",
          "polar": {
           "angularaxis": {
            "gridcolor": "white",
            "linecolor": "white",
            "ticks": ""
           },
           "bgcolor": "#E5ECF6",
           "radialaxis": {
            "gridcolor": "white",
            "linecolor": "white",
            "ticks": ""
           }
          },
          "scene": {
           "xaxis": {
            "backgroundcolor": "#E5ECF6",
            "gridcolor": "white",
            "gridwidth": 2,
            "linecolor": "white",
            "showbackground": true,
            "ticks": "",
            "zerolinecolor": "white"
           },
           "yaxis": {
            "backgroundcolor": "#E5ECF6",
            "gridcolor": "white",
            "gridwidth": 2,
            "linecolor": "white",
            "showbackground": true,
            "ticks": "",
            "zerolinecolor": "white"
           },
           "zaxis": {
            "backgroundcolor": "#E5ECF6",
            "gridcolor": "white",
            "gridwidth": 2,
            "linecolor": "white",
            "showbackground": true,
            "ticks": "",
            "zerolinecolor": "white"
           }
          },
          "shapedefaults": {
           "line": {
            "color": "#2a3f5f"
           }
          },
          "ternary": {
           "aaxis": {
            "gridcolor": "white",
            "linecolor": "white",
            "ticks": ""
           },
           "baxis": {
            "gridcolor": "white",
            "linecolor": "white",
            "ticks": ""
           },
           "bgcolor": "#E5ECF6",
           "caxis": {
            "gridcolor": "white",
            "linecolor": "white",
            "ticks": ""
           }
          },
          "title": {
           "x": 0.05
          },
          "xaxis": {
           "automargin": true,
           "gridcolor": "white",
           "linecolor": "white",
           "ticks": "",
           "title": {
            "standoff": 15
           },
           "zerolinecolor": "white",
           "zerolinewidth": 2
          },
          "yaxis": {
           "automargin": true,
           "gridcolor": "white",
           "linecolor": "white",
           "ticks": "",
           "title": {
            "standoff": 15
           },
           "zerolinecolor": "white",
           "zerolinewidth": 2
          }
         }
        },
        "title": {
         "text": "Распределение количества использования конкретного транспортного средства",
         "x": 0.5
        },
        "xaxis": {
         "anchor": "y",
         "domain": [
          0,
          1
         ],
         "title": {
          "text": "Транспорт"
         }
        },
        "yaxis": {
         "anchor": "x",
         "domain": [
          0,
          1
         ],
         "title": {
          "text": "Количество поездок"
         }
        }
       }
      }
     },
     "metadata": {},
     "output_type": "display_data"
    }
   ],
   "source": [
    "df2 = df_map.groupby('KHVM').size().reset_index().rename(columns = {'KHVM': 'Транспорт', 0: 'Количество поездок'}).sort_values('Количество поездок', ascending=False)\n",
    "print(df2)\n",
    "\n",
    "fig2 = px.bar(df2, x='Транспорт', y = 'Количество поездок', text_auto=True)\n",
    "fig2.update_layout(title = {'text': 'Распределение количества использования конкретного транспортного средства', 'x': 0.5})\n",
    "fig2.show()"
   ]
  },
  {
   "cell_type": "markdown",
   "id": "05c3deb5",
   "metadata": {},
   "source": [
    "## График 2 (Основные характеристики поездок)"
   ]
  },
  {
   "cell_type": "code",
   "execution_count": 149,
   "id": "9fb3bb5e",
   "metadata": {},
   "outputs": [
    {
     "name": "stdout",
     "output_type": "stream",
     "text": [
      "   Расстояние поездки Транспортное средство  Количество поездок\n",
      "0            10-15 km               Bicycle                  49\n",
      "1            10-15 km        Bus/tram/metro                 127\n",
      "2            10-15 km         Car as driver                 177\n",
      "3            10-15 km      Car as passenger                  65\n",
      "4            10-15 km                 Other                  19\n",
      "..                ...                   ...                 ...\n",
      "69             >50 km        Bus/tram/metro                  28\n",
      "70             >50 km         Car as driver                 125\n",
      "71             >50 km      Car as passenger                  63\n",
      "72             >50 km                 Other                  48\n",
      "73             >50 km                 Train                 351\n",
      "\n",
      "[74 rows x 3 columns]\n"
     ]
    },
    {
     "data": {
      "application/vnd.plotly.v1+json": {
       "config": {
        "plotlyServerURL": "https://plotly.com"
       },
       "data": [
        {
         "hovertemplate": "Транспортное средство=Bicycle<br>Расстояние поездки=%{x}<br>Количество поездок=%{y}<extra></extra>",
         "legendgroup": "Bicycle",
         "marker": {
          "color": "#636efa",
          "pattern": {
           "shape": ""
          }
         },
         "name": "Bicycle",
         "orientation": "v",
         "showlegend": true,
         "textposition": "auto",
         "texttemplate": "%{y}",
         "type": "bar",
         "x": [
          "10-15 km",
          "15-20 km",
          "2.5-3.7 km",
          "20-30 km",
          "3.7-5.0 km",
          "30-40 km",
          "40-50 km",
          "5.0-7.5 km",
          "7.5-10 km",
          ">50 km"
         ],
         "xaxis": "x",
         "y": {
          "bdata": "MQANAKUADACbAAcACQB1AEoACQA=",
          "dtype": "i2"
         },
         "yaxis": "y"
        },
        {
         "hovertemplate": "Транспортное средство=Bus/tram/metro<br>Расстояние поездки=%{x}<br>Количество поездок=%{y}<extra></extra>",
         "legendgroup": "Bus/tram/metro",
         "marker": {
          "color": "#EF553B",
          "pattern": {
           "shape": ""
          }
         },
         "name": "Bus/tram/metro",
         "orientation": "v",
         "showlegend": true,
         "textposition": "auto",
         "texttemplate": "%{y}",
         "type": "bar",
         "x": [
          "10-15 km",
          "15-20 km",
          "2.5-3.7 km",
          "20-30 km",
          "3.7-5.0 km",
          "30-40 km",
          "40-50 km",
          "5.0-7.5 km",
          "7.5-10 km",
          ">50 km"
         ],
         "xaxis": "x",
         "y": {
          "bdata": "fwA0AD4ASQBVAAwAGABbAK8AHAA=",
          "dtype": "i2"
         },
         "yaxis": "y"
        },
        {
         "hovertemplate": "Транспортное средство=Car as driver<br>Расстояние поездки=%{x}<br>Количество поездок=%{y}<extra></extra>",
         "legendgroup": "Car as driver",
         "marker": {
          "color": "#00cc96",
          "pattern": {
           "shape": ""
          }
         },
         "name": "Car as driver",
         "orientation": "v",
         "showlegend": true,
         "textposition": "auto",
         "texttemplate": "%{y}",
         "type": "bar",
         "x": [
          "10-15 km",
          "15-20 km",
          "2.5-3.7 km",
          "20-30 km",
          "3.7-5.0 km",
          "30-40 km",
          "40-50 km",
          "5.0-7.5 km",
          "7.5-10 km",
          ">50 km"
         ],
         "xaxis": "x",
         "y": {
          "bdata": "sQCYALwAkADEAHQAVgCMAJsAfQA=",
          "dtype": "i2"
         },
         "yaxis": "y"
        },
        {
         "hovertemplate": "Транспортное средство=Car as passenger<br>Расстояние поездки=%{x}<br>Количество поездок=%{y}<extra></extra>",
         "legendgroup": "Car as passenger",
         "marker": {
          "color": "#ab63fa",
          "pattern": {
           "shape": ""
          }
         },
         "name": "Car as passenger",
         "orientation": "v",
         "showlegend": true,
         "textposition": "auto",
         "texttemplate": "%{y}",
         "type": "bar",
         "x": [
          "10-15 km",
          "15-20 km",
          "2.5-3.7 km",
          "20-30 km",
          "3.7-5.0 km",
          "30-40 km",
          "40-50 km",
          "5.0-7.5 km",
          "7.5-10 km",
          ">50 km"
         ],
         "xaxis": "x",
         "y": {
          "bdata": "QR8uJzQTEysnPw==",
          "dtype": "i1"
         },
         "yaxis": "y"
        },
        {
         "hovertemplate": "Транспортное средство=Other<br>Расстояние поездки=%{x}<br>Количество поездок=%{y}<extra></extra>",
         "legendgroup": "Other",
         "marker": {
          "color": "#FFA15A",
          "pattern": {
           "shape": ""
          }
         },
         "name": "Other",
         "orientation": "v",
         "showlegend": true,
         "textposition": "auto",
         "texttemplate": "%{y}",
         "type": "bar",
         "x": [
          "10-15 km",
          "15-20 km",
          "2.5-3.7 km",
          "20-30 km",
          "3.7-5.0 km",
          "30-40 km",
          "40-50 km",
          "5.0-7.5 km",
          "7.5-10 km",
          ">50 km"
         ],
         "xaxis": "x",
         "y": {
          "bdata": "EwEMHwwOCQ8dMA==",
          "dtype": "i1"
         },
         "yaxis": "y"
        },
        {
         "hovertemplate": "Транспортное средство=Scooter/moped<br>Расстояние поездки=%{x}<br>Количество поездок=%{y}<extra></extra>",
         "legendgroup": "Scooter/moped",
         "marker": {
          "color": "#19d3f3",
          "pattern": {
           "shape": ""
          }
         },
         "name": "Scooter/moped",
         "orientation": "v",
         "showlegend": true,
         "textposition": "auto",
         "texttemplate": "%{y}",
         "type": "bar",
         "x": [
          "10-15 km",
          "15-20 km",
          "2.5-3.7 km",
          "20-30 km",
          "3.7-5.0 km",
          "5.0-7.5 km",
          "7.5-10 km"
         ],
         "xaxis": "x",
         "y": {
          "bdata": "BwUKCAoRGQ==",
          "dtype": "i1"
         },
         "yaxis": "y"
        },
        {
         "hovertemplate": "Транспортное средство=Train<br>Расстояние поездки=%{x}<br>Количество поездок=%{y}<extra></extra>",
         "legendgroup": "Train",
         "marker": {
          "color": "#FF6692",
          "pattern": {
           "shape": ""
          }
         },
         "name": "Train",
         "orientation": "v",
         "showlegend": true,
         "textposition": "auto",
         "texttemplate": "%{y}",
         "type": "bar",
         "x": [
          "10-15 km",
          "15-20 km",
          "20-30 km",
          "3.7-5.0 km",
          "30-40 km",
          "40-50 km",
          "5.0-7.5 km",
          "7.5-10 km",
          ">50 km"
         ],
         "xaxis": "x",
         "y": {
          "bdata": "KgBgAIMABQBeAEQADAAgAF8B",
          "dtype": "i2"
         },
         "yaxis": "y"
        },
        {
         "hovertemplate": "Транспортное средство=Walking<br>Расстояние поездки=%{x}<br>Количество поездок=%{y}<extra></extra>",
         "legendgroup": "Walking",
         "marker": {
          "color": "#B6E880",
          "pattern": {
           "shape": ""
          }
         },
         "name": "Walking",
         "orientation": "v",
         "showlegend": true,
         "textposition": "auto",
         "texttemplate": "%{y}",
         "type": "bar",
         "x": [
          "10-15 km",
          "15-20 km",
          "2.5-3.7 km",
          "20-30 km",
          "3.7-5.0 km",
          "40-50 km",
          "5.0-7.5 km",
          "7.5-10 km"
         ],
         "xaxis": "x",
         "y": {
          "bdata": "CAQkBS0CEAw=",
          "dtype": "i1"
         },
         "yaxis": "y"
        }
       ],
       "layout": {
        "barmode": "relative",
        "height": 800,
        "legend": {
         "title": {
          "text": "Транспортное средство"
         },
         "tracegroupgap": 0
        },
        "margin": {
         "t": 60
        },
        "template": {
         "data": {
          "bar": [
           {
            "error_x": {
             "color": "#2a3f5f"
            },
            "error_y": {
             "color": "#2a3f5f"
            },
            "marker": {
             "line": {
              "color": "#E5ECF6",
              "width": 0.5
             },
             "pattern": {
              "fillmode": "overlay",
              "size": 10,
              "solidity": 0.2
             }
            },
            "type": "bar"
           }
          ],
          "barpolar": [
           {
            "marker": {
             "line": {
              "color": "#E5ECF6",
              "width": 0.5
             },
             "pattern": {
              "fillmode": "overlay",
              "size": 10,
              "solidity": 0.2
             }
            },
            "type": "barpolar"
           }
          ],
          "carpet": [
           {
            "aaxis": {
             "endlinecolor": "#2a3f5f",
             "gridcolor": "white",
             "linecolor": "white",
             "minorgridcolor": "white",
             "startlinecolor": "#2a3f5f"
            },
            "baxis": {
             "endlinecolor": "#2a3f5f",
             "gridcolor": "white",
             "linecolor": "white",
             "minorgridcolor": "white",
             "startlinecolor": "#2a3f5f"
            },
            "type": "carpet"
           }
          ],
          "choropleth": [
           {
            "colorbar": {
             "outlinewidth": 0,
             "ticks": ""
            },
            "type": "choropleth"
           }
          ],
          "contour": [
           {
            "colorbar": {
             "outlinewidth": 0,
             "ticks": ""
            },
            "colorscale": [
             [
              0,
              "#0d0887"
             ],
             [
              0.1111111111111111,
              "#46039f"
             ],
             [
              0.2222222222222222,
              "#7201a8"
             ],
             [
              0.3333333333333333,
              "#9c179e"
             ],
             [
              0.4444444444444444,
              "#bd3786"
             ],
             [
              0.5555555555555556,
              "#d8576b"
             ],
             [
              0.6666666666666666,
              "#ed7953"
             ],
             [
              0.7777777777777778,
              "#fb9f3a"
             ],
             [
              0.8888888888888888,
              "#fdca26"
             ],
             [
              1,
              "#f0f921"
             ]
            ],
            "type": "contour"
           }
          ],
          "contourcarpet": [
           {
            "colorbar": {
             "outlinewidth": 0,
             "ticks": ""
            },
            "type": "contourcarpet"
           }
          ],
          "heatmap": [
           {
            "colorbar": {
             "outlinewidth": 0,
             "ticks": ""
            },
            "colorscale": [
             [
              0,
              "#0d0887"
             ],
             [
              0.1111111111111111,
              "#46039f"
             ],
             [
              0.2222222222222222,
              "#7201a8"
             ],
             [
              0.3333333333333333,
              "#9c179e"
             ],
             [
              0.4444444444444444,
              "#bd3786"
             ],
             [
              0.5555555555555556,
              "#d8576b"
             ],
             [
              0.6666666666666666,
              "#ed7953"
             ],
             [
              0.7777777777777778,
              "#fb9f3a"
             ],
             [
              0.8888888888888888,
              "#fdca26"
             ],
             [
              1,
              "#f0f921"
             ]
            ],
            "type": "heatmap"
           }
          ],
          "histogram": [
           {
            "marker": {
             "pattern": {
              "fillmode": "overlay",
              "size": 10,
              "solidity": 0.2
             }
            },
            "type": "histogram"
           }
          ],
          "histogram2d": [
           {
            "colorbar": {
             "outlinewidth": 0,
             "ticks": ""
            },
            "colorscale": [
             [
              0,
              "#0d0887"
             ],
             [
              0.1111111111111111,
              "#46039f"
             ],
             [
              0.2222222222222222,
              "#7201a8"
             ],
             [
              0.3333333333333333,
              "#9c179e"
             ],
             [
              0.4444444444444444,
              "#bd3786"
             ],
             [
              0.5555555555555556,
              "#d8576b"
             ],
             [
              0.6666666666666666,
              "#ed7953"
             ],
             [
              0.7777777777777778,
              "#fb9f3a"
             ],
             [
              0.8888888888888888,
              "#fdca26"
             ],
             [
              1,
              "#f0f921"
             ]
            ],
            "type": "histogram2d"
           }
          ],
          "histogram2dcontour": [
           {
            "colorbar": {
             "outlinewidth": 0,
             "ticks": ""
            },
            "colorscale": [
             [
              0,
              "#0d0887"
             ],
             [
              0.1111111111111111,
              "#46039f"
             ],
             [
              0.2222222222222222,
              "#7201a8"
             ],
             [
              0.3333333333333333,
              "#9c179e"
             ],
             [
              0.4444444444444444,
              "#bd3786"
             ],
             [
              0.5555555555555556,
              "#d8576b"
             ],
             [
              0.6666666666666666,
              "#ed7953"
             ],
             [
              0.7777777777777778,
              "#fb9f3a"
             ],
             [
              0.8888888888888888,
              "#fdca26"
             ],
             [
              1,
              "#f0f921"
             ]
            ],
            "type": "histogram2dcontour"
           }
          ],
          "mesh3d": [
           {
            "colorbar": {
             "outlinewidth": 0,
             "ticks": ""
            },
            "type": "mesh3d"
           }
          ],
          "parcoords": [
           {
            "line": {
             "colorbar": {
              "outlinewidth": 0,
              "ticks": ""
             }
            },
            "type": "parcoords"
           }
          ],
          "pie": [
           {
            "automargin": true,
            "type": "pie"
           }
          ],
          "scatter": [
           {
            "fillpattern": {
             "fillmode": "overlay",
             "size": 10,
             "solidity": 0.2
            },
            "type": "scatter"
           }
          ],
          "scatter3d": [
           {
            "line": {
             "colorbar": {
              "outlinewidth": 0,
              "ticks": ""
             }
            },
            "marker": {
             "colorbar": {
              "outlinewidth": 0,
              "ticks": ""
             }
            },
            "type": "scatter3d"
           }
          ],
          "scattercarpet": [
           {
            "marker": {
             "colorbar": {
              "outlinewidth": 0,
              "ticks": ""
             }
            },
            "type": "scattercarpet"
           }
          ],
          "scattergeo": [
           {
            "marker": {
             "colorbar": {
              "outlinewidth": 0,
              "ticks": ""
             }
            },
            "type": "scattergeo"
           }
          ],
          "scattergl": [
           {
            "marker": {
             "colorbar": {
              "outlinewidth": 0,
              "ticks": ""
             }
            },
            "type": "scattergl"
           }
          ],
          "scattermap": [
           {
            "marker": {
             "colorbar": {
              "outlinewidth": 0,
              "ticks": ""
             }
            },
            "type": "scattermap"
           }
          ],
          "scattermapbox": [
           {
            "marker": {
             "colorbar": {
              "outlinewidth": 0,
              "ticks": ""
             }
            },
            "type": "scattermapbox"
           }
          ],
          "scatterpolar": [
           {
            "marker": {
             "colorbar": {
              "outlinewidth": 0,
              "ticks": ""
             }
            },
            "type": "scatterpolar"
           }
          ],
          "scatterpolargl": [
           {
            "marker": {
             "colorbar": {
              "outlinewidth": 0,
              "ticks": ""
             }
            },
            "type": "scatterpolargl"
           }
          ],
          "scatterternary": [
           {
            "marker": {
             "colorbar": {
              "outlinewidth": 0,
              "ticks": ""
             }
            },
            "type": "scatterternary"
           }
          ],
          "surface": [
           {
            "colorbar": {
             "outlinewidth": 0,
             "ticks": ""
            },
            "colorscale": [
             [
              0,
              "#0d0887"
             ],
             [
              0.1111111111111111,
              "#46039f"
             ],
             [
              0.2222222222222222,
              "#7201a8"
             ],
             [
              0.3333333333333333,
              "#9c179e"
             ],
             [
              0.4444444444444444,
              "#bd3786"
             ],
             [
              0.5555555555555556,
              "#d8576b"
             ],
             [
              0.6666666666666666,
              "#ed7953"
             ],
             [
              0.7777777777777778,
              "#fb9f3a"
             ],
             [
              0.8888888888888888,
              "#fdca26"
             ],
             [
              1,
              "#f0f921"
             ]
            ],
            "type": "surface"
           }
          ],
          "table": [
           {
            "cells": {
             "fill": {
              "color": "#EBF0F8"
             },
             "line": {
              "color": "white"
             }
            },
            "header": {
             "fill": {
              "color": "#C8D4E3"
             },
             "line": {
              "color": "white"
             }
            },
            "type": "table"
           }
          ]
         },
         "layout": {
          "annotationdefaults": {
           "arrowcolor": "#2a3f5f",
           "arrowhead": 0,
           "arrowwidth": 1
          },
          "autotypenumbers": "strict",
          "coloraxis": {
           "colorbar": {
            "outlinewidth": 0,
            "ticks": ""
           }
          },
          "colorscale": {
           "diverging": [
            [
             0,
             "#8e0152"
            ],
            [
             0.1,
             "#c51b7d"
            ],
            [
             0.2,
             "#de77ae"
            ],
            [
             0.3,
             "#f1b6da"
            ],
            [
             0.4,
             "#fde0ef"
            ],
            [
             0.5,
             "#f7f7f7"
            ],
            [
             0.6,
             "#e6f5d0"
            ],
            [
             0.7,
             "#b8e186"
            ],
            [
             0.8,
             "#7fbc41"
            ],
            [
             0.9,
             "#4d9221"
            ],
            [
             1,
             "#276419"
            ]
           ],
           "sequential": [
            [
             0,
             "#0d0887"
            ],
            [
             0.1111111111111111,
             "#46039f"
            ],
            [
             0.2222222222222222,
             "#7201a8"
            ],
            [
             0.3333333333333333,
             "#9c179e"
            ],
            [
             0.4444444444444444,
             "#bd3786"
            ],
            [
             0.5555555555555556,
             "#d8576b"
            ],
            [
             0.6666666666666666,
             "#ed7953"
            ],
            [
             0.7777777777777778,
             "#fb9f3a"
            ],
            [
             0.8888888888888888,
             "#fdca26"
            ],
            [
             1,
             "#f0f921"
            ]
           ],
           "sequentialminus": [
            [
             0,
             "#0d0887"
            ],
            [
             0.1111111111111111,
             "#46039f"
            ],
            [
             0.2222222222222222,
             "#7201a8"
            ],
            [
             0.3333333333333333,
             "#9c179e"
            ],
            [
             0.4444444444444444,
             "#bd3786"
            ],
            [
             0.5555555555555556,
             "#d8576b"
            ],
            [
             0.6666666666666666,
             "#ed7953"
            ],
            [
             0.7777777777777778,
             "#fb9f3a"
            ],
            [
             0.8888888888888888,
             "#fdca26"
            ],
            [
             1,
             "#f0f921"
            ]
           ]
          },
          "colorway": [
           "#636efa",
           "#EF553B",
           "#00cc96",
           "#ab63fa",
           "#FFA15A",
           "#19d3f3",
           "#FF6692",
           "#B6E880",
           "#FF97FF",
           "#FECB52"
          ],
          "font": {
           "color": "#2a3f5f"
          },
          "geo": {
           "bgcolor": "white",
           "lakecolor": "white",
           "landcolor": "#E5ECF6",
           "showlakes": true,
           "showland": true,
           "subunitcolor": "white"
          },
          "hoverlabel": {
           "align": "left"
          },
          "hovermode": "closest",
          "mapbox": {
           "style": "light"
          },
          "paper_bgcolor": "white",
          "plot_bgcolor": "#E5ECF6",
          "polar": {
           "angularaxis": {
            "gridcolor": "white",
            "linecolor": "white",
            "ticks": ""
           },
           "bgcolor": "#E5ECF6",
           "radialaxis": {
            "gridcolor": "white",
            "linecolor": "white",
            "ticks": ""
           }
          },
          "scene": {
           "xaxis": {
            "backgroundcolor": "#E5ECF6",
            "gridcolor": "white",
            "gridwidth": 2,
            "linecolor": "white",
            "showbackground": true,
            "ticks": "",
            "zerolinecolor": "white"
           },
           "yaxis": {
            "backgroundcolor": "#E5ECF6",
            "gridcolor": "white",
            "gridwidth": 2,
            "linecolor": "white",
            "showbackground": true,
            "ticks": "",
            "zerolinecolor": "white"
           },
           "zaxis": {
            "backgroundcolor": "#E5ECF6",
            "gridcolor": "white",
            "gridwidth": 2,
            "linecolor": "white",
            "showbackground": true,
            "ticks": "",
            "zerolinecolor": "white"
           }
          },
          "shapedefaults": {
           "line": {
            "color": "#2a3f5f"
           }
          },
          "ternary": {
           "aaxis": {
            "gridcolor": "white",
            "linecolor": "white",
            "ticks": ""
           },
           "baxis": {
            "gridcolor": "white",
            "linecolor": "white",
            "ticks": ""
           },
           "bgcolor": "#E5ECF6",
           "caxis": {
            "gridcolor": "white",
            "linecolor": "white",
            "ticks": ""
           }
          },
          "title": {
           "x": 0.05
          },
          "xaxis": {
           "automargin": true,
           "gridcolor": "white",
           "linecolor": "white",
           "ticks": "",
           "title": {
            "standoff": 15
           },
           "zerolinecolor": "white",
           "zerolinewidth": 2
          },
          "yaxis": {
           "automargin": true,
           "gridcolor": "white",
           "linecolor": "white",
           "ticks": "",
           "title": {
            "standoff": 15
           },
           "zerolinecolor": "white",
           "zerolinewidth": 2
          }
         }
        },
        "title": {
         "text": "Распределение количества поездок по расстоянию и используемому виду транспорта",
         "x": 0.5
        },
        "width": 1200,
        "xaxis": {
         "anchor": "y",
         "domain": [
          0,
          1
         ],
         "title": {
          "text": "Расстояние поездки"
         }
        },
        "yaxis": {
         "anchor": "x",
         "domain": [
          0,
          1
         ],
         "title": {
          "text": "Количество поездок"
         }
        }
       }
      }
     },
     "metadata": {},
     "output_type": "display_data"
    }
   ],
   "source": [
    "df1 = df_map.groupby(['KAFSTV', 'KHVM']).size().reset_index().rename(columns = {'KAFSTV': 'Расстояние поездки', 0: 'Количество поездок', 'KHVM': 'Транспортное средство'})\n",
    "print(df1)\n",
    "\n",
    "fig1 = px.bar(df1, \n",
    "              x='Расстояние поездки', \n",
    "              y = 'Количество поездок',\n",
    "              color='Транспортное средство', \n",
    "              text_auto=True,\n",
    "              width=1200,\n",
    "              height=800)\n",
    "fig1.update_layout(title = {'text': 'Распределение количества поездок по расстоянию и используемому виду транспорта', 'x': 0.5})\n",
    "fig1.show()"
   ]
  },
  {
   "cell_type": "markdown",
   "id": "aae323bf",
   "metadata": {},
   "source": [
    "**вывод для графика** ----"
   ]
  },
  {
   "cell_type": "markdown",
   "id": "3386550e",
   "metadata": {},
   "source": [
    "### График 3 (Влияние оценки транспорта (OORDEEL_*) на предпочтение (KHVM))"
   ]
  },
  {
   "cell_type": "markdown",
   "id": "2d1f3ee6",
   "metadata": {},
   "source": [
    "'OORDEEL_AUTO': 'оценка_автомобиля',\n",
    "'OORDEEL_TREIN': 'оценка_поезда',\n",
    "'OORDEEL_BTM': 'оценка_общественного_транспорта',\n",
    "'OORDEEL_FIETS': 'оценка_велосипеда',\n",
    "'OORDEEL_BROMMER': 'оценка_мопеда',\n",
    "'OORDEEL_LOPEN': 'оценка_передвижения_пешком',"
   ]
  },
  {
   "cell_type": "code",
   "execution_count": 169,
   "id": "6932c289",
   "metadata": {},
   "outputs": [
    {
     "data": {
      "application/vnd.plotly.v1+json": {
       "config": {
        "plotlyServerURL": "https://plotly.com"
       },
       "data": [
        {
         "cliponaxis": false,
         "hovertemplate": "Оценка=Очень позитивно<br>Тип передвижения=%{x}<br>Количество ответивших=%{text}<extra></extra>",
         "legendgroup": "",
         "marker": {
          "color": "#636efa",
          "pattern": {
           "shape": ""
          }
         },
         "name": "",
         "orientation": "v",
         "showlegend": false,
         "text": {
          "bdata": "AAAAAAC8mEAAAAAAADiAQAAAAAAAgHpAAAAAAACIm0AAAAAAAGBmQAAAAAAAiJ5A",
          "dtype": "f8"
         },
         "textfont": {
          "size": 10
         },
         "textposition": "outside",
         "type": "bar",
         "x": [
          "Автомобиль",
          "Поезд",
          "Общественный транспорт",
          "Велосипед",
          "Мотоцикл",
          "Пешая прогулка"
         ],
         "xaxis": "x4",
         "y": {
          "bdata": "LwYHAqgB4gazAKIH",
          "dtype": "i2"
         },
         "yaxis": "y4"
        },
        {
         "cliponaxis": false,
         "hovertemplate": "Оценка=Позитивно<br>Тип передвижения=%{x}<br>Количество ответивших=%{text}<extra></extra>",
         "legendgroup": "",
         "marker": {
          "color": "#636efa",
          "pattern": {
           "shape": ""
          }
         },
         "name": "",
         "orientation": "v",
         "showlegend": false,
         "text": {
          "bdata": "AAAAAABknkAAAAAAAHihQAAAAAAA6J9AAAAAAABwn0AAAAAAAJiKQAAAAAAACJ9A",
          "dtype": "f8"
         },
         "textfont": {
          "size": 10
         },
         "textposition": "outside",
         "type": "bar",
         "x": [
          "Автомобиль",
          "Поезд",
          "Общественный транспорт",
          "Велосипед",
          "Мотоцикл",
          "Пешая прогулка"
         ],
         "xaxis": "x5",
         "y": {
          "bdata": "mQe8CPoH3AdTA8IH",
          "dtype": "i2"
         },
         "yaxis": "y5"
        },
        {
         "cliponaxis": false,
         "hovertemplate": "Оценка=Нейтрально<br>Тип передвижения=%{x}<br>Количество ответивших=%{text}<extra></extra>",
         "legendgroup": "",
         "marker": {
          "color": "#636efa",
          "pattern": {
           "shape": ""
          }
         },
         "name": "",
         "orientation": "v",
         "showlegend": false,
         "text": {
          "bdata": "AAAAAABYhEAAAAAAABCVQAAAAAAAXJVAAAAAAAAgeUAAAAAAAGyTQAAAAAAA0HlA",
          "dtype": "f8"
         },
         "textfont": {
          "size": 10
         },
         "textposition": "outside",
         "type": "bar",
         "x": [
          "Автомобиль",
          "Поезд",
          "Общественный транспорт",
          "Велосипед",
          "Мотоцикл",
          "Пешая прогулка"
         ],
         "xaxis": "x6",
         "y": {
          "bdata": "iwJEBVcFkgHbBJ0B",
          "dtype": "i2"
         },
         "yaxis": "y6"
        },
        {
         "cliponaxis": false,
         "hovertemplate": "Оценка=Очень негативно<br>Тип передвижения=%{x}<br>Количество ответивших=%{text}<extra></extra>",
         "legendgroup": "",
         "marker": {
          "color": "#636efa",
          "pattern": {
           "shape": ""
          }
         },
         "name": "",
         "orientation": "v",
         "showlegend": false,
         "text": {
          "bdata": "AAAAAABAYUAAAAAAAIBEQAAAAAAAgE1AAAAAAAAAM0AAAAAAAKB4QAAAAAAAACJA",
          "dtype": "f8"
         },
         "textfont": {
          "size": 10
         },
         "textposition": "outside",
         "type": "bar",
         "x": [
          "Автомобиль",
          "Поезд",
          "Общественный транспорт",
          "Велосипед",
          "Мотоцикл",
          "Пешая прогулка"
         ],
         "xaxis": "x",
         "y": {
          "bdata": "igApADsAEwCKAQkA",
          "dtype": "i2"
         },
         "yaxis": "y"
        },
        {
         "cliponaxis": false,
         "hovertemplate": "Оценка=Негативно<br>Тип передвижения=%{x}<br>Количество ответивших=%{text}<extra></extra>",
         "legendgroup": "",
         "marker": {
          "color": "#636efa",
          "pattern": {
           "shape": ""
          }
         },
         "name": "",
         "orientation": "v",
         "showlegend": false,
         "text": {
          "bdata": "AAAAAADAWkAAAAAAAGBwQAAAAAAAoHtAAAAAAABAW0AAAAAAAHiPQAAAAAAAQFZA",
          "dtype": "f8"
         },
         "textfont": {
          "size": 10
         },
         "textposition": "outside",
         "type": "bar",
         "x": [
          "Автомобиль",
          "Поезд",
          "Общественный транспорт",
          "Велосипед",
          "Мотоцикл",
          "Пешая прогулка"
         ],
         "xaxis": "x2",
         "y": {
          "bdata": "awAGAboBbQDvA1kA",
          "dtype": "i2"
         },
         "yaxis": "y2"
        },
        {
         "cliponaxis": false,
         "hovertemplate": "Оценка=Нет оценки<br>Тип передвижения=%{x}<br>Количество ответивших=%{text}<extra></extra>",
         "legendgroup": "",
         "marker": {
          "color": "#636efa",
          "pattern": {
           "shape": ""
          }
         },
         "name": "",
         "orientation": "v",
         "showlegend": false,
         "text": {
          "bdata": "AAAAAACAREAAAAAAAIBNQAAAAAAAYGBAAAAAAAAgZEAAAAAAALiIQAAAAAAAACxA",
          "dtype": "f8"
         },
         "textfont": {
          "size": 10
         },
         "textposition": "outside",
         "type": "bar",
         "x": [
          "Автомобиль",
          "Поезд",
          "Общественный транспорт",
          "Велосипед",
          "Мотоцикл",
          "Пешая прогулка"
         ],
         "xaxis": "x3",
         "y": {
          "bdata": "KQA7AIMAoQAXAw4A",
          "dtype": "i2"
         },
         "yaxis": "y3"
        }
       ],
       "layout": {
        "annotations": [
         {
          "font": {},
          "showarrow": false,
          "text": "Оценка=Очень негативно",
          "x": 0.15999999999999998,
          "xanchor": "center",
          "xref": "paper",
          "y": 0.46499999999999997,
          "yanchor": "bottom",
          "yref": "paper"
         },
         {
          "font": {},
          "showarrow": false,
          "text": "Оценка=Негативно",
          "x": 0.49999999999999994,
          "xanchor": "center",
          "xref": "paper",
          "y": 0.46499999999999997,
          "yanchor": "bottom",
          "yref": "paper"
         },
         {
          "font": {},
          "showarrow": false,
          "text": "Оценка=Нет оценки",
          "x": 0.8399999999999999,
          "xanchor": "center",
          "xref": "paper",
          "y": 0.46499999999999997,
          "yanchor": "bottom",
          "yref": "paper"
         },
         {
          "font": {},
          "showarrow": false,
          "text": "Оценка=Очень позитивно",
          "x": 0.15999999999999998,
          "xanchor": "center",
          "xref": "paper",
          "y": 0.9999999999999999,
          "yanchor": "bottom",
          "yref": "paper"
         },
         {
          "font": {},
          "showarrow": false,
          "text": "Оценка=Позитивно",
          "x": 0.49999999999999994,
          "xanchor": "center",
          "xref": "paper",
          "y": 0.9999999999999999,
          "yanchor": "bottom",
          "yref": "paper"
         },
         {
          "font": {},
          "showarrow": false,
          "text": "Оценка=Нейтрально",
          "x": 0.8399999999999999,
          "xanchor": "center",
          "xref": "paper",
          "y": 0.9999999999999999,
          "yanchor": "bottom",
          "yref": "paper"
         }
        ],
        "barmode": "relative",
        "height": 600,
        "legend": {
         "orientation": "h",
         "title": {
          "text": "Тип передвижения"
         },
         "tracegroupgap": 0,
         "x": 0.5,
         "xanchor": "center",
         "y": -0.2,
         "yanchor": "bottom"
        },
        "margin": {
         "b": 40,
         "l": 40,
         "r": 40,
         "t": 60
        },
        "template": {
         "data": {
          "bar": [
           {
            "error_x": {
             "color": "#2a3f5f"
            },
            "error_y": {
             "color": "#2a3f5f"
            },
            "marker": {
             "line": {
              "color": "#E5ECF6",
              "width": 0.5
             },
             "pattern": {
              "fillmode": "overlay",
              "size": 10,
              "solidity": 0.2
             }
            },
            "type": "bar"
           }
          ],
          "barpolar": [
           {
            "marker": {
             "line": {
              "color": "#E5ECF6",
              "width": 0.5
             },
             "pattern": {
              "fillmode": "overlay",
              "size": 10,
              "solidity": 0.2
             }
            },
            "type": "barpolar"
           }
          ],
          "carpet": [
           {
            "aaxis": {
             "endlinecolor": "#2a3f5f",
             "gridcolor": "white",
             "linecolor": "white",
             "minorgridcolor": "white",
             "startlinecolor": "#2a3f5f"
            },
            "baxis": {
             "endlinecolor": "#2a3f5f",
             "gridcolor": "white",
             "linecolor": "white",
             "minorgridcolor": "white",
             "startlinecolor": "#2a3f5f"
            },
            "type": "carpet"
           }
          ],
          "choropleth": [
           {
            "colorbar": {
             "outlinewidth": 0,
             "ticks": ""
            },
            "type": "choropleth"
           }
          ],
          "contour": [
           {
            "colorbar": {
             "outlinewidth": 0,
             "ticks": ""
            },
            "colorscale": [
             [
              0,
              "#0d0887"
             ],
             [
              0.1111111111111111,
              "#46039f"
             ],
             [
              0.2222222222222222,
              "#7201a8"
             ],
             [
              0.3333333333333333,
              "#9c179e"
             ],
             [
              0.4444444444444444,
              "#bd3786"
             ],
             [
              0.5555555555555556,
              "#d8576b"
             ],
             [
              0.6666666666666666,
              "#ed7953"
             ],
             [
              0.7777777777777778,
              "#fb9f3a"
             ],
             [
              0.8888888888888888,
              "#fdca26"
             ],
             [
              1,
              "#f0f921"
             ]
            ],
            "type": "contour"
           }
          ],
          "contourcarpet": [
           {
            "colorbar": {
             "outlinewidth": 0,
             "ticks": ""
            },
            "type": "contourcarpet"
           }
          ],
          "heatmap": [
           {
            "colorbar": {
             "outlinewidth": 0,
             "ticks": ""
            },
            "colorscale": [
             [
              0,
              "#0d0887"
             ],
             [
              0.1111111111111111,
              "#46039f"
             ],
             [
              0.2222222222222222,
              "#7201a8"
             ],
             [
              0.3333333333333333,
              "#9c179e"
             ],
             [
              0.4444444444444444,
              "#bd3786"
             ],
             [
              0.5555555555555556,
              "#d8576b"
             ],
             [
              0.6666666666666666,
              "#ed7953"
             ],
             [
              0.7777777777777778,
              "#fb9f3a"
             ],
             [
              0.8888888888888888,
              "#fdca26"
             ],
             [
              1,
              "#f0f921"
             ]
            ],
            "type": "heatmap"
           }
          ],
          "histogram": [
           {
            "marker": {
             "pattern": {
              "fillmode": "overlay",
              "size": 10,
              "solidity": 0.2
             }
            },
            "type": "histogram"
           }
          ],
          "histogram2d": [
           {
            "colorbar": {
             "outlinewidth": 0,
             "ticks": ""
            },
            "colorscale": [
             [
              0,
              "#0d0887"
             ],
             [
              0.1111111111111111,
              "#46039f"
             ],
             [
              0.2222222222222222,
              "#7201a8"
             ],
             [
              0.3333333333333333,
              "#9c179e"
             ],
             [
              0.4444444444444444,
              "#bd3786"
             ],
             [
              0.5555555555555556,
              "#d8576b"
             ],
             [
              0.6666666666666666,
              "#ed7953"
             ],
             [
              0.7777777777777778,
              "#fb9f3a"
             ],
             [
              0.8888888888888888,
              "#fdca26"
             ],
             [
              1,
              "#f0f921"
             ]
            ],
            "type": "histogram2d"
           }
          ],
          "histogram2dcontour": [
           {
            "colorbar": {
             "outlinewidth": 0,
             "ticks": ""
            },
            "colorscale": [
             [
              0,
              "#0d0887"
             ],
             [
              0.1111111111111111,
              "#46039f"
             ],
             [
              0.2222222222222222,
              "#7201a8"
             ],
             [
              0.3333333333333333,
              "#9c179e"
             ],
             [
              0.4444444444444444,
              "#bd3786"
             ],
             [
              0.5555555555555556,
              "#d8576b"
             ],
             [
              0.6666666666666666,
              "#ed7953"
             ],
             [
              0.7777777777777778,
              "#fb9f3a"
             ],
             [
              0.8888888888888888,
              "#fdca26"
             ],
             [
              1,
              "#f0f921"
             ]
            ],
            "type": "histogram2dcontour"
           }
          ],
          "mesh3d": [
           {
            "colorbar": {
             "outlinewidth": 0,
             "ticks": ""
            },
            "type": "mesh3d"
           }
          ],
          "parcoords": [
           {
            "line": {
             "colorbar": {
              "outlinewidth": 0,
              "ticks": ""
             }
            },
            "type": "parcoords"
           }
          ],
          "pie": [
           {
            "automargin": true,
            "type": "pie"
           }
          ],
          "scatter": [
           {
            "fillpattern": {
             "fillmode": "overlay",
             "size": 10,
             "solidity": 0.2
            },
            "type": "scatter"
           }
          ],
          "scatter3d": [
           {
            "line": {
             "colorbar": {
              "outlinewidth": 0,
              "ticks": ""
             }
            },
            "marker": {
             "colorbar": {
              "outlinewidth": 0,
              "ticks": ""
             }
            },
            "type": "scatter3d"
           }
          ],
          "scattercarpet": [
           {
            "marker": {
             "colorbar": {
              "outlinewidth": 0,
              "ticks": ""
             }
            },
            "type": "scattercarpet"
           }
          ],
          "scattergeo": [
           {
            "marker": {
             "colorbar": {
              "outlinewidth": 0,
              "ticks": ""
             }
            },
            "type": "scattergeo"
           }
          ],
          "scattergl": [
           {
            "marker": {
             "colorbar": {
              "outlinewidth": 0,
              "ticks": ""
             }
            },
            "type": "scattergl"
           }
          ],
          "scattermap": [
           {
            "marker": {
             "colorbar": {
              "outlinewidth": 0,
              "ticks": ""
             }
            },
            "type": "scattermap"
           }
          ],
          "scattermapbox": [
           {
            "marker": {
             "colorbar": {
              "outlinewidth": 0,
              "ticks": ""
             }
            },
            "type": "scattermapbox"
           }
          ],
          "scatterpolar": [
           {
            "marker": {
             "colorbar": {
              "outlinewidth": 0,
              "ticks": ""
             }
            },
            "type": "scatterpolar"
           }
          ],
          "scatterpolargl": [
           {
            "marker": {
             "colorbar": {
              "outlinewidth": 0,
              "ticks": ""
             }
            },
            "type": "scatterpolargl"
           }
          ],
          "scatterternary": [
           {
            "marker": {
             "colorbar": {
              "outlinewidth": 0,
              "ticks": ""
             }
            },
            "type": "scatterternary"
           }
          ],
          "surface": [
           {
            "colorbar": {
             "outlinewidth": 0,
             "ticks": ""
            },
            "colorscale": [
             [
              0,
              "#0d0887"
             ],
             [
              0.1111111111111111,
              "#46039f"
             ],
             [
              0.2222222222222222,
              "#7201a8"
             ],
             [
              0.3333333333333333,
              "#9c179e"
             ],
             [
              0.4444444444444444,
              "#bd3786"
             ],
             [
              0.5555555555555556,
              "#d8576b"
             ],
             [
              0.6666666666666666,
              "#ed7953"
             ],
             [
              0.7777777777777778,
              "#fb9f3a"
             ],
             [
              0.8888888888888888,
              "#fdca26"
             ],
             [
              1,
              "#f0f921"
             ]
            ],
            "type": "surface"
           }
          ],
          "table": [
           {
            "cells": {
             "fill": {
              "color": "#EBF0F8"
             },
             "line": {
              "color": "white"
             }
            },
            "header": {
             "fill": {
              "color": "#C8D4E3"
             },
             "line": {
              "color": "white"
             }
            },
            "type": "table"
           }
          ]
         },
         "layout": {
          "annotationdefaults": {
           "arrowcolor": "#2a3f5f",
           "arrowhead": 0,
           "arrowwidth": 1
          },
          "autotypenumbers": "strict",
          "coloraxis": {
           "colorbar": {
            "outlinewidth": 0,
            "ticks": ""
           }
          },
          "colorscale": {
           "diverging": [
            [
             0,
             "#8e0152"
            ],
            [
             0.1,
             "#c51b7d"
            ],
            [
             0.2,
             "#de77ae"
            ],
            [
             0.3,
             "#f1b6da"
            ],
            [
             0.4,
             "#fde0ef"
            ],
            [
             0.5,
             "#f7f7f7"
            ],
            [
             0.6,
             "#e6f5d0"
            ],
            [
             0.7,
             "#b8e186"
            ],
            [
             0.8,
             "#7fbc41"
            ],
            [
             0.9,
             "#4d9221"
            ],
            [
             1,
             "#276419"
            ]
           ],
           "sequential": [
            [
             0,
             "#0d0887"
            ],
            [
             0.1111111111111111,
             "#46039f"
            ],
            [
             0.2222222222222222,
             "#7201a8"
            ],
            [
             0.3333333333333333,
             "#9c179e"
            ],
            [
             0.4444444444444444,
             "#bd3786"
            ],
            [
             0.5555555555555556,
             "#d8576b"
            ],
            [
             0.6666666666666666,
             "#ed7953"
            ],
            [
             0.7777777777777778,
             "#fb9f3a"
            ],
            [
             0.8888888888888888,
             "#fdca26"
            ],
            [
             1,
             "#f0f921"
            ]
           ],
           "sequentialminus": [
            [
             0,
             "#0d0887"
            ],
            [
             0.1111111111111111,
             "#46039f"
            ],
            [
             0.2222222222222222,
             "#7201a8"
            ],
            [
             0.3333333333333333,
             "#9c179e"
            ],
            [
             0.4444444444444444,
             "#bd3786"
            ],
            [
             0.5555555555555556,
             "#d8576b"
            ],
            [
             0.6666666666666666,
             "#ed7953"
            ],
            [
             0.7777777777777778,
             "#fb9f3a"
            ],
            [
             0.8888888888888888,
             "#fdca26"
            ],
            [
             1,
             "#f0f921"
            ]
           ]
          },
          "colorway": [
           "#636efa",
           "#EF553B",
           "#00cc96",
           "#ab63fa",
           "#FFA15A",
           "#19d3f3",
           "#FF6692",
           "#B6E880",
           "#FF97FF",
           "#FECB52"
          ],
          "font": {
           "color": "#2a3f5f"
          },
          "geo": {
           "bgcolor": "white",
           "lakecolor": "white",
           "landcolor": "#E5ECF6",
           "showlakes": true,
           "showland": true,
           "subunitcolor": "white"
          },
          "hoverlabel": {
           "align": "left"
          },
          "hovermode": "closest",
          "mapbox": {
           "style": "light"
          },
          "paper_bgcolor": "white",
          "plot_bgcolor": "#E5ECF6",
          "polar": {
           "angularaxis": {
            "gridcolor": "white",
            "linecolor": "white",
            "ticks": ""
           },
           "bgcolor": "#E5ECF6",
           "radialaxis": {
            "gridcolor": "white",
            "linecolor": "white",
            "ticks": ""
           }
          },
          "scene": {
           "xaxis": {
            "backgroundcolor": "#E5ECF6",
            "gridcolor": "white",
            "gridwidth": 2,
            "linecolor": "white",
            "showbackground": true,
            "ticks": "",
            "zerolinecolor": "white"
           },
           "yaxis": {
            "backgroundcolor": "#E5ECF6",
            "gridcolor": "white",
            "gridwidth": 2,
            "linecolor": "white",
            "showbackground": true,
            "ticks": "",
            "zerolinecolor": "white"
           },
           "zaxis": {
            "backgroundcolor": "#E5ECF6",
            "gridcolor": "white",
            "gridwidth": 2,
            "linecolor": "white",
            "showbackground": true,
            "ticks": "",
            "zerolinecolor": "white"
           }
          },
          "shapedefaults": {
           "line": {
            "color": "#2a3f5f"
           }
          },
          "ternary": {
           "aaxis": {
            "gridcolor": "white",
            "linecolor": "white",
            "ticks": ""
           },
           "baxis": {
            "gridcolor": "white",
            "linecolor": "white",
            "ticks": ""
           },
           "bgcolor": "#E5ECF6",
           "caxis": {
            "gridcolor": "white",
            "linecolor": "white",
            "ticks": ""
           }
          },
          "title": {
           "x": 0.05
          },
          "xaxis": {
           "automargin": true,
           "gridcolor": "white",
           "linecolor": "white",
           "ticks": "",
           "title": {
            "standoff": 15
           },
           "zerolinecolor": "white",
           "zerolinewidth": 2
          },
          "yaxis": {
           "automargin": true,
           "gridcolor": "white",
           "linecolor": "white",
           "ticks": "",
           "title": {
            "standoff": 15
           },
           "zerolinecolor": "white",
           "zerolinewidth": 2
          }
         }
        },
        "title": {
         "text": "Распределение количества мнений респондентов по поводу использования транспорта по оценкам",
         "x": 0.5
        },
        "width": 1400,
        "xaxis": {
         "anchor": "y",
         "domain": [
          0,
          0.31999999999999995
         ],
         "title": {
          "text": "Тип передвижения"
         }
        },
        "xaxis2": {
         "anchor": "y2",
         "domain": [
          0.33999999999999997,
          0.6599999999999999
         ],
         "matches": "x",
         "title": {
          "text": "Тип передвижения"
         }
        },
        "xaxis3": {
         "anchor": "y3",
         "domain": [
          0.6799999999999999,
          0.9999999999999999
         ],
         "matches": "x",
         "title": {
          "text": "Тип передвижения"
         }
        },
        "xaxis4": {
         "anchor": "y4",
         "domain": [
          0,
          0.31999999999999995
         ],
         "matches": "x",
         "showticklabels": false
        },
        "xaxis5": {
         "anchor": "y5",
         "domain": [
          0.33999999999999997,
          0.6599999999999999
         ],
         "matches": "x",
         "showticklabels": false
        },
        "xaxis6": {
         "anchor": "y6",
         "domain": [
          0.6799999999999999,
          0.9999999999999999
         ],
         "matches": "x",
         "showticklabels": false
        },
        "yaxis": {
         "anchor": "x",
         "domain": [
          0,
          0.46499999999999997
         ],
         "title": {
          "text": "Количество ответивших"
         }
        },
        "yaxis2": {
         "anchor": "x2",
         "domain": [
          0,
          0.46499999999999997
         ],
         "matches": "y",
         "showticklabels": false
        },
        "yaxis3": {
         "anchor": "x3",
         "domain": [
          0,
          0.46499999999999997
         ],
         "matches": "y",
         "showticklabels": false
        },
        "yaxis4": {
         "anchor": "x4",
         "domain": [
          0.5349999999999999,
          0.9999999999999999
         ],
         "matches": "y",
         "title": {
          "text": "Количество ответивших"
         }
        },
        "yaxis5": {
         "anchor": "x5",
         "domain": [
          0.5349999999999999,
          0.9999999999999999
         ],
         "matches": "y",
         "showticklabels": false
        },
        "yaxis6": {
         "anchor": "x6",
         "domain": [
          0.5349999999999999,
          0.9999999999999999
         ],
         "matches": "y",
         "showticklabels": false
        }
       }
      }
     },
     "metadata": {},
     "output_type": "display_data"
    },
    {
     "data": {
      "application/vnd.plotly.v1+json": {
       "config": {
        "plotlyServerURL": "https://plotly.com"
       },
       "data": [
        {
         "cliponaxis": false,
         "hovertemplate": "Оценка=Очень позитивно<br>Тип передвижения=%{x}<br>Доля=%{text}<extra></extra>",
         "legendgroup": "",
         "marker": {
          "color": "#636efa",
          "pattern": {
           "shape": ""
          }
         },
         "name": "",
         "offsetgroup": "1",
         "orientation": "v",
         "showlegend": false,
         "text": {
          "bdata": "mpmZmZm5QUA9CtejcD0nQAAAAAAAACNAexSuR+G6Q0AK16NwPQoQQOF6FK5H4UVA",
          "dtype": "f8"
         },
         "textfont": {
          "size": 12
         },
         "textposition": "outside",
         "texttemplate": "%{text}%",
         "type": "bar",
         "x": [
          "Автомобиль",
          "Поезд",
          "Общественный транспорт",
          "Велосипед",
          "Мотоцикл",
          "Пешая прогулка"
         ],
         "xaxis": "x4",
         "y": {
          "bdata": "mpmZmZm5QUA9CtejcD0nQAAAAAAAACNAexSuR+G6Q0AK16NwPQoQQOF6FK5H4UVA",
          "dtype": "f8"
         },
         "yaxis": "y4"
        },
        {
         "cliponaxis": false,
         "hovertemplate": "Оценка=Позитивно<br>Тип передвижения=%{x}<br>Доля=%{text}<extra></extra>",
         "legendgroup": "",
         "marker": {
          "color": "#636efa",
          "pattern": {
           "shape": ""
          }
         },
         "name": "",
         "offsetgroup": "1",
         "orientation": "v",
         "showlegend": false,
         "text": {
          "bdata": "SOF6FK7HRUAK16NwPQpJQD0K16Nw3UZASOF6FK6HRkCPwvUoXA8zQD0K16NwPUZA",
          "dtype": "f8"
         },
         "textfont": {
          "size": 12
         },
         "textposition": "outside",
         "texttemplate": "%{text}%",
         "type": "bar",
         "x": [
          "Автомобиль",
          "Поезд",
          "Общественный транспорт",
          "Велосипед",
          "Мотоцикл",
          "Пешая прогулка"
         ],
         "xaxis": "x5",
         "y": {
          "bdata": "SOF6FK7HRUAK16NwPQpJQD0K16Nw3UZASOF6FK6HRkCPwvUoXA8zQD0K16NwPUZA",
          "dtype": "f8"
         },
         "yaxis": "y5"
        },
        {
         "cliponaxis": false,
         "hovertemplate": "Оценка=Нейтрально<br>Тип передвижения=%{x}<br>Доля=%{text}<extra></extra>",
         "legendgroup": "",
         "marker": {
          "color": "#636efa",
          "pattern": {
           "shape": ""
          }
         },
         "name": "",
         "offsetgroup": "1",
         "orientation": "v",
         "showlegend": false,
         "text": {
          "bdata": "KVyPwvUoLUBxPQrXozA+QB+F61G4nj5AAAAAAAAAIkDXo3A9Ctc7QAAAAAAAgCJA",
          "dtype": "f8"
         },
         "textfont": {
          "size": 12
         },
         "textposition": "outside",
         "texttemplate": "%{text}%",
         "type": "bar",
         "x": [
          "Автомобиль",
          "Поезд",
          "Общественный транспорт",
          "Велосипед",
          "Мотоцикл",
          "Пешая прогулка"
         ],
         "xaxis": "x6",
         "y": {
          "bdata": "KVyPwvUoLUBxPQrXozA+QB+F61G4nj5AAAAAAAAAIkDXo3A9Ctc7QAAAAAAAgCJA",
          "dtype": "f8"
         },
         "yaxis": "y6"
        },
        {
         "cliponaxis": false,
         "hovertemplate": "Оценка=Очень негативно<br>Тип передвижения=%{x}<br>Доля=%{text}<extra></extra>",
         "legendgroup": "",
         "marker": {
          "color": "#636efa",
          "pattern": {
           "shape": ""
          }
         },
         "name": "",
         "offsetgroup": "1",
         "orientation": "v",
         "showlegend": false,
         "text": {
          "bdata": "uB6F61G4CEBxPQrXo3DtPx+F61G4HvU/hetRuB6F2z+kcD0K16MhQJqZmZmZmck/",
          "dtype": "f8"
         },
         "textfont": {
          "size": 12
         },
         "textposition": "outside",
         "texttemplate": "%{text}%",
         "type": "bar",
         "x": [
          "Автомобиль",
          "Поезд",
          "Общественный транспорт",
          "Велосипед",
          "Мотоцикл",
          "Пешая прогулка"
         ],
         "xaxis": "x",
         "y": {
          "bdata": "uB6F61G4CEBxPQrXo3DtPx+F61G4HvU/hetRuB6F2z+kcD0K16MhQJqZmZmZmck/",
          "dtype": "f8"
         },
         "yaxis": "y"
        },
        {
         "cliponaxis": false,
         "hovertemplate": "Оценка=Негативно<br>Тип передвижения=%{x}<br>Доля=%{text}<extra></extra>",
         "legendgroup": "",
         "marker": {
          "color": "#636efa",
          "pattern": {
           "shape": ""
          }
         },
         "name": "",
         "offsetgroup": "1",
         "orientation": "v",
         "showlegend": false,
         "text": {
          "bdata": "MzMzMzMzA0B7FK5H4XoXQM3MzMzMzCNAhetRuB6FA0DNzMzMzIw2QNejcD0K1/8/",
          "dtype": "f8"
         },
         "textfont": {
          "size": 12
         },
         "textposition": "outside",
         "texttemplate": "%{text}%",
         "type": "bar",
         "x": [
          "Автомобиль",
          "Поезд",
          "Общественный транспорт",
          "Велосипед",
          "Мотоцикл",
          "Пешая прогулка"
         ],
         "xaxis": "x2",
         "y": {
          "bdata": "MzMzMzMzA0B7FK5H4XoXQM3MzMzMzCNAhetRuB6FA0DNzMzMzIw2QNejcD0K1/8/",
          "dtype": "f8"
         },
         "yaxis": "y2"
        },
        {
         "cliponaxis": false,
         "hovertemplate": "Оценка=Нет оценки<br>Тип передвижения=%{x}<br>Доля=%{text}<extra></extra>",
         "legendgroup": "",
         "marker": {
          "color": "#636efa",
          "pattern": {
           "shape": ""
          }
         },
         "name": "",
         "offsetgroup": "1",
         "orientation": "v",
         "showlegend": false,
         "text": {
          "bdata": "cT0K16Nw7T8fhetRuB71P3E9CtejcAdA4XoUrkfhDEC4HoXrUbgxQNejcD0K19M/",
          "dtype": "f8"
         },
         "textfont": {
          "size": 12
         },
         "textposition": "outside",
         "texttemplate": "%{text}%",
         "type": "bar",
         "x": [
          "Автомобиль",
          "Поезд",
          "Общественный транспорт",
          "Велосипед",
          "Мотоцикл",
          "Пешая прогулка"
         ],
         "xaxis": "x3",
         "y": {
          "bdata": "cT0K16Nw7T8fhetRuB71P3E9CtejcAdA4XoUrkfhDEC4HoXrUbgxQNejcD0K19M/",
          "dtype": "f8"
         },
         "yaxis": "y3"
        }
       ],
       "layout": {
        "annotations": [
         {
          "font": {},
          "showarrow": false,
          "text": "Оценка=Очень негативно",
          "x": 0.15999999999999998,
          "xanchor": "center",
          "xref": "paper",
          "y": 0.46499999999999997,
          "yanchor": "bottom",
          "yref": "paper"
         },
         {
          "font": {},
          "showarrow": false,
          "text": "Оценка=Негативно",
          "x": 0.49999999999999994,
          "xanchor": "center",
          "xref": "paper",
          "y": 0.46499999999999997,
          "yanchor": "bottom",
          "yref": "paper"
         },
         {
          "font": {},
          "showarrow": false,
          "text": "Оценка=Нет оценки",
          "x": 0.8399999999999999,
          "xanchor": "center",
          "xref": "paper",
          "y": 0.46499999999999997,
          "yanchor": "bottom",
          "yref": "paper"
         },
         {
          "font": {},
          "showarrow": false,
          "text": "Оценка=Очень позитивно",
          "x": 0.15999999999999998,
          "xanchor": "center",
          "xref": "paper",
          "y": 0.9999999999999999,
          "yanchor": "bottom",
          "yref": "paper"
         },
         {
          "font": {},
          "showarrow": false,
          "text": "Оценка=Позитивно",
          "x": 0.49999999999999994,
          "xanchor": "center",
          "xref": "paper",
          "y": 0.9999999999999999,
          "yanchor": "bottom",
          "yref": "paper"
         },
         {
          "font": {},
          "showarrow": false,
          "text": "Оценка=Нейтрально",
          "x": 0.8399999999999999,
          "xanchor": "center",
          "xref": "paper",
          "y": 0.9999999999999999,
          "yanchor": "bottom",
          "yref": "paper"
         }
        ],
        "barmode": "relative",
        "height": 600,
        "legend": {
         "tracegroupgap": 0
        },
        "margin": {
         "b": 40,
         "l": 40,
         "r": 40,
         "t": 60
        },
        "template": {
         "data": {
          "bar": [
           {
            "error_x": {
             "color": "#2a3f5f"
            },
            "error_y": {
             "color": "#2a3f5f"
            },
            "marker": {
             "line": {
              "color": "#E5ECF6",
              "width": 0.5
             },
             "pattern": {
              "fillmode": "overlay",
              "size": 10,
              "solidity": 0.2
             }
            },
            "type": "bar"
           }
          ],
          "barpolar": [
           {
            "marker": {
             "line": {
              "color": "#E5ECF6",
              "width": 0.5
             },
             "pattern": {
              "fillmode": "overlay",
              "size": 10,
              "solidity": 0.2
             }
            },
            "type": "barpolar"
           }
          ],
          "carpet": [
           {
            "aaxis": {
             "endlinecolor": "#2a3f5f",
             "gridcolor": "white",
             "linecolor": "white",
             "minorgridcolor": "white",
             "startlinecolor": "#2a3f5f"
            },
            "baxis": {
             "endlinecolor": "#2a3f5f",
             "gridcolor": "white",
             "linecolor": "white",
             "minorgridcolor": "white",
             "startlinecolor": "#2a3f5f"
            },
            "type": "carpet"
           }
          ],
          "choropleth": [
           {
            "colorbar": {
             "outlinewidth": 0,
             "ticks": ""
            },
            "type": "choropleth"
           }
          ],
          "contour": [
           {
            "colorbar": {
             "outlinewidth": 0,
             "ticks": ""
            },
            "colorscale": [
             [
              0,
              "#0d0887"
             ],
             [
              0.1111111111111111,
              "#46039f"
             ],
             [
              0.2222222222222222,
              "#7201a8"
             ],
             [
              0.3333333333333333,
              "#9c179e"
             ],
             [
              0.4444444444444444,
              "#bd3786"
             ],
             [
              0.5555555555555556,
              "#d8576b"
             ],
             [
              0.6666666666666666,
              "#ed7953"
             ],
             [
              0.7777777777777778,
              "#fb9f3a"
             ],
             [
              0.8888888888888888,
              "#fdca26"
             ],
             [
              1,
              "#f0f921"
             ]
            ],
            "type": "contour"
           }
          ],
          "contourcarpet": [
           {
            "colorbar": {
             "outlinewidth": 0,
             "ticks": ""
            },
            "type": "contourcarpet"
           }
          ],
          "heatmap": [
           {
            "colorbar": {
             "outlinewidth": 0,
             "ticks": ""
            },
            "colorscale": [
             [
              0,
              "#0d0887"
             ],
             [
              0.1111111111111111,
              "#46039f"
             ],
             [
              0.2222222222222222,
              "#7201a8"
             ],
             [
              0.3333333333333333,
              "#9c179e"
             ],
             [
              0.4444444444444444,
              "#bd3786"
             ],
             [
              0.5555555555555556,
              "#d8576b"
             ],
             [
              0.6666666666666666,
              "#ed7953"
             ],
             [
              0.7777777777777778,
              "#fb9f3a"
             ],
             [
              0.8888888888888888,
              "#fdca26"
             ],
             [
              1,
              "#f0f921"
             ]
            ],
            "type": "heatmap"
           }
          ],
          "histogram": [
           {
            "marker": {
             "pattern": {
              "fillmode": "overlay",
              "size": 10,
              "solidity": 0.2
             }
            },
            "type": "histogram"
           }
          ],
          "histogram2d": [
           {
            "colorbar": {
             "outlinewidth": 0,
             "ticks": ""
            },
            "colorscale": [
             [
              0,
              "#0d0887"
             ],
             [
              0.1111111111111111,
              "#46039f"
             ],
             [
              0.2222222222222222,
              "#7201a8"
             ],
             [
              0.3333333333333333,
              "#9c179e"
             ],
             [
              0.4444444444444444,
              "#bd3786"
             ],
             [
              0.5555555555555556,
              "#d8576b"
             ],
             [
              0.6666666666666666,
              "#ed7953"
             ],
             [
              0.7777777777777778,
              "#fb9f3a"
             ],
             [
              0.8888888888888888,
              "#fdca26"
             ],
             [
              1,
              "#f0f921"
             ]
            ],
            "type": "histogram2d"
           }
          ],
          "histogram2dcontour": [
           {
            "colorbar": {
             "outlinewidth": 0,
             "ticks": ""
            },
            "colorscale": [
             [
              0,
              "#0d0887"
             ],
             [
              0.1111111111111111,
              "#46039f"
             ],
             [
              0.2222222222222222,
              "#7201a8"
             ],
             [
              0.3333333333333333,
              "#9c179e"
             ],
             [
              0.4444444444444444,
              "#bd3786"
             ],
             [
              0.5555555555555556,
              "#d8576b"
             ],
             [
              0.6666666666666666,
              "#ed7953"
             ],
             [
              0.7777777777777778,
              "#fb9f3a"
             ],
             [
              0.8888888888888888,
              "#fdca26"
             ],
             [
              1,
              "#f0f921"
             ]
            ],
            "type": "histogram2dcontour"
           }
          ],
          "mesh3d": [
           {
            "colorbar": {
             "outlinewidth": 0,
             "ticks": ""
            },
            "type": "mesh3d"
           }
          ],
          "parcoords": [
           {
            "line": {
             "colorbar": {
              "outlinewidth": 0,
              "ticks": ""
             }
            },
            "type": "parcoords"
           }
          ],
          "pie": [
           {
            "automargin": true,
            "type": "pie"
           }
          ],
          "scatter": [
           {
            "fillpattern": {
             "fillmode": "overlay",
             "size": 10,
             "solidity": 0.2
            },
            "type": "scatter"
           }
          ],
          "scatter3d": [
           {
            "line": {
             "colorbar": {
              "outlinewidth": 0,
              "ticks": ""
             }
            },
            "marker": {
             "colorbar": {
              "outlinewidth": 0,
              "ticks": ""
             }
            },
            "type": "scatter3d"
           }
          ],
          "scattercarpet": [
           {
            "marker": {
             "colorbar": {
              "outlinewidth": 0,
              "ticks": ""
             }
            },
            "type": "scattercarpet"
           }
          ],
          "scattergeo": [
           {
            "marker": {
             "colorbar": {
              "outlinewidth": 0,
              "ticks": ""
             }
            },
            "type": "scattergeo"
           }
          ],
          "scattergl": [
           {
            "marker": {
             "colorbar": {
              "outlinewidth": 0,
              "ticks": ""
             }
            },
            "type": "scattergl"
           }
          ],
          "scattermap": [
           {
            "marker": {
             "colorbar": {
              "outlinewidth": 0,
              "ticks": ""
             }
            },
            "type": "scattermap"
           }
          ],
          "scattermapbox": [
           {
            "marker": {
             "colorbar": {
              "outlinewidth": 0,
              "ticks": ""
             }
            },
            "type": "scattermapbox"
           }
          ],
          "scatterpolar": [
           {
            "marker": {
             "colorbar": {
              "outlinewidth": 0,
              "ticks": ""
             }
            },
            "type": "scatterpolar"
           }
          ],
          "scatterpolargl": [
           {
            "marker": {
             "colorbar": {
              "outlinewidth": 0,
              "ticks": ""
             }
            },
            "type": "scatterpolargl"
           }
          ],
          "scatterternary": [
           {
            "marker": {
             "colorbar": {
              "outlinewidth": 0,
              "ticks": ""
             }
            },
            "type": "scatterternary"
           }
          ],
          "surface": [
           {
            "colorbar": {
             "outlinewidth": 0,
             "ticks": ""
            },
            "colorscale": [
             [
              0,
              "#0d0887"
             ],
             [
              0.1111111111111111,
              "#46039f"
             ],
             [
              0.2222222222222222,
              "#7201a8"
             ],
             [
              0.3333333333333333,
              "#9c179e"
             ],
             [
              0.4444444444444444,
              "#bd3786"
             ],
             [
              0.5555555555555556,
              "#d8576b"
             ],
             [
              0.6666666666666666,
              "#ed7953"
             ],
             [
              0.7777777777777778,
              "#fb9f3a"
             ],
             [
              0.8888888888888888,
              "#fdca26"
             ],
             [
              1,
              "#f0f921"
             ]
            ],
            "type": "surface"
           }
          ],
          "table": [
           {
            "cells": {
             "fill": {
              "color": "#EBF0F8"
             },
             "line": {
              "color": "white"
             }
            },
            "header": {
             "fill": {
              "color": "#C8D4E3"
             },
             "line": {
              "color": "white"
             }
            },
            "type": "table"
           }
          ]
         },
         "layout": {
          "annotationdefaults": {
           "arrowcolor": "#2a3f5f",
           "arrowhead": 0,
           "arrowwidth": 1
          },
          "autotypenumbers": "strict",
          "coloraxis": {
           "colorbar": {
            "outlinewidth": 0,
            "ticks": ""
           }
          },
          "colorscale": {
           "diverging": [
            [
             0,
             "#8e0152"
            ],
            [
             0.1,
             "#c51b7d"
            ],
            [
             0.2,
             "#de77ae"
            ],
            [
             0.3,
             "#f1b6da"
            ],
            [
             0.4,
             "#fde0ef"
            ],
            [
             0.5,
             "#f7f7f7"
            ],
            [
             0.6,
             "#e6f5d0"
            ],
            [
             0.7,
             "#b8e186"
            ],
            [
             0.8,
             "#7fbc41"
            ],
            [
             0.9,
             "#4d9221"
            ],
            [
             1,
             "#276419"
            ]
           ],
           "sequential": [
            [
             0,
             "#0d0887"
            ],
            [
             0.1111111111111111,
             "#46039f"
            ],
            [
             0.2222222222222222,
             "#7201a8"
            ],
            [
             0.3333333333333333,
             "#9c179e"
            ],
            [
             0.4444444444444444,
             "#bd3786"
            ],
            [
             0.5555555555555556,
             "#d8576b"
            ],
            [
             0.6666666666666666,
             "#ed7953"
            ],
            [
             0.7777777777777778,
             "#fb9f3a"
            ],
            [
             0.8888888888888888,
             "#fdca26"
            ],
            [
             1,
             "#f0f921"
            ]
           ],
           "sequentialminus": [
            [
             0,
             "#0d0887"
            ],
            [
             0.1111111111111111,
             "#46039f"
            ],
            [
             0.2222222222222222,
             "#7201a8"
            ],
            [
             0.3333333333333333,
             "#9c179e"
            ],
            [
             0.4444444444444444,
             "#bd3786"
            ],
            [
             0.5555555555555556,
             "#d8576b"
            ],
            [
             0.6666666666666666,
             "#ed7953"
            ],
            [
             0.7777777777777778,
             "#fb9f3a"
            ],
            [
             0.8888888888888888,
             "#fdca26"
            ],
            [
             1,
             "#f0f921"
            ]
           ]
          },
          "colorway": [
           "#636efa",
           "#EF553B",
           "#00cc96",
           "#ab63fa",
           "#FFA15A",
           "#19d3f3",
           "#FF6692",
           "#B6E880",
           "#FF97FF",
           "#FECB52"
          ],
          "font": {
           "color": "#2a3f5f"
          },
          "geo": {
           "bgcolor": "white",
           "lakecolor": "white",
           "landcolor": "#E5ECF6",
           "showlakes": true,
           "showland": true,
           "subunitcolor": "white"
          },
          "hoverlabel": {
           "align": "left"
          },
          "hovermode": "closest",
          "mapbox": {
           "style": "light"
          },
          "paper_bgcolor": "white",
          "plot_bgcolor": "#E5ECF6",
          "polar": {
           "angularaxis": {
            "gridcolor": "white",
            "linecolor": "white",
            "ticks": ""
           },
           "bgcolor": "#E5ECF6",
           "radialaxis": {
            "gridcolor": "white",
            "linecolor": "white",
            "ticks": ""
           }
          },
          "scene": {
           "xaxis": {
            "backgroundcolor": "#E5ECF6",
            "gridcolor": "white",
            "gridwidth": 2,
            "linecolor": "white",
            "showbackground": true,
            "ticks": "",
            "zerolinecolor": "white"
           },
           "yaxis": {
            "backgroundcolor": "#E5ECF6",
            "gridcolor": "white",
            "gridwidth": 2,
            "linecolor": "white",
            "showbackground": true,
            "ticks": "",
            "zerolinecolor": "white"
           },
           "zaxis": {
            "backgroundcolor": "#E5ECF6",
            "gridcolor": "white",
            "gridwidth": 2,
            "linecolor": "white",
            "showbackground": true,
            "ticks": "",
            "zerolinecolor": "white"
           }
          },
          "shapedefaults": {
           "line": {
            "color": "#2a3f5f"
           }
          },
          "ternary": {
           "aaxis": {
            "gridcolor": "white",
            "linecolor": "white",
            "ticks": ""
           },
           "baxis": {
            "gridcolor": "white",
            "linecolor": "white",
            "ticks": ""
           },
           "bgcolor": "#E5ECF6",
           "caxis": {
            "gridcolor": "white",
            "linecolor": "white",
            "ticks": ""
           }
          },
          "title": {
           "x": 0.05
          },
          "xaxis": {
           "automargin": true,
           "gridcolor": "white",
           "linecolor": "white",
           "ticks": "",
           "title": {
            "standoff": 15
           },
           "zerolinecolor": "white",
           "zerolinewidth": 2
          },
          "yaxis": {
           "automargin": true,
           "gridcolor": "white",
           "linecolor": "white",
           "ticks": "",
           "title": {
            "standoff": 15
           },
           "zerolinecolor": "white",
           "zerolinewidth": 2
          }
         }
        },
        "title": {
         "text": "Распределение количества мнений респондентов по поводу использования транспорта по оценкам (доли)",
         "x": 0.5
        },
        "uniformtext": {
         "minsize": 12,
         "mode": "show"
        },
        "width": 1400,
        "xaxis": {
         "anchor": "y",
         "domain": [
          0,
          0.31999999999999995
         ],
         "title": {
          "text": "Тип передвижения"
         }
        },
        "xaxis2": {
         "anchor": "y2",
         "domain": [
          0.33999999999999997,
          0.6599999999999999
         ],
         "matches": "x",
         "title": {
          "text": "Тип передвижения"
         }
        },
        "xaxis3": {
         "anchor": "y3",
         "domain": [
          0.6799999999999999,
          0.9999999999999999
         ],
         "matches": "x",
         "title": {
          "text": "Тип передвижения"
         }
        },
        "xaxis4": {
         "anchor": "y4",
         "domain": [
          0,
          0.31999999999999995
         ],
         "matches": "x",
         "showticklabels": false
        },
        "xaxis5": {
         "anchor": "y5",
         "domain": [
          0.33999999999999997,
          0.6599999999999999
         ],
         "matches": "x",
         "showticklabels": false
        },
        "xaxis6": {
         "anchor": "y6",
         "domain": [
          0.6799999999999999,
          0.9999999999999999
         ],
         "matches": "x",
         "showticklabels": false
        },
        "yaxis": {
         "anchor": "x",
         "domain": [
          0,
          0.46499999999999997
         ],
         "title": {
          "text": "Доля"
         }
        },
        "yaxis2": {
         "anchor": "x2",
         "domain": [
          0,
          0.46499999999999997
         ],
         "matches": "y",
         "showticklabels": false
        },
        "yaxis3": {
         "anchor": "x3",
         "domain": [
          0,
          0.46499999999999997
         ],
         "matches": "y",
         "showticklabels": false
        },
        "yaxis4": {
         "anchor": "x4",
         "domain": [
          0.5349999999999999,
          0.9999999999999999
         ],
         "matches": "y",
         "title": {
          "text": "Доля"
         }
        },
        "yaxis5": {
         "anchor": "x5",
         "domain": [
          0.5349999999999999,
          0.9999999999999999
         ],
         "matches": "y",
         "showticklabels": false
        },
        "yaxis6": {
         "anchor": "x6",
         "domain": [
          0.5349999999999999,
          0.9999999999999999
         ],
         "matches": "y",
         "showticklabels": false
        }
       }
      }
     },
     "metadata": {},
     "output_type": "display_data"
    }
   ],
   "source": [
    "df31 = df.groupby('OORDEEL_AUTO').size().reset_index().rename(columns = {'OORDEEL_AUTO': 'Оценка автомобиля', 0: 'Количество поездок'}).sort_values('Количество поездок', ascending=False)\n",
    "df31['Тип передвижения'] = 'Автомобиль'\n",
    "\n",
    "\n",
    "df32 = df.groupby('OORDEEL_TREIN').size().reset_index().rename(columns = {'OORDEEL_TREIN': 'Оценка поезда', 0: 'Количество поездок'}).sort_values('Количество поездок', ascending=False)\n",
    "df32['Тип передвижения'] = 'Поезд'\n",
    "\n",
    "\n",
    "df33 = df.groupby('OORDEEL_BTM').size().reset_index().rename(columns = {'OORDEEL_BTM': 'Оценка общественного транспорта', 0: 'Количество поездок'}).sort_values('Количество поездок', ascending=False)\n",
    "df33['Тип передвижения'] = 'Общественный транспорт'\n",
    "\n",
    "\n",
    "df34 = df.groupby('OORDEEL_FIETS').size().reset_index().rename(columns = {'OORDEEL_FIETS': 'Оценка велосипеда', 0: 'Количество поездок'}).sort_values('Количество поездок', ascending=False)\n",
    "df34['Тип передвижения'] = 'Велосипед'\n",
    "\n",
    "\n",
    "df35 = df.groupby('OORDEEL_BROMMER').size().reset_index().rename(columns = {'OORDEEL_BROMMER': 'Оценка мотоцикла', 0: 'Количество поездок'}).sort_values('Количество поездок', ascending=False)\n",
    "df35['Тип передвижения'] = 'Мотоцикл'\n",
    "\n",
    "\n",
    "df36 = df.groupby('OORDEEL_LOPEN').size().reset_index().rename(columns = {'OORDEEL_LOPEN': 'Оценка ходить пешком', 0: 'Количество поездок'}).sort_values('Количество поездок', ascending=False)\n",
    "df36['Тип передвижения'] = 'Пешая прогулка'\n",
    "\n",
    "\n",
    "df3 = pd.concat([df31, df32, df33, df34, df35, df36])\n",
    "\n",
    "overall = sum(df31['Количество поездок'])\n",
    "\n",
    "\n",
    "\n",
    "df_long = pd.melt(\n",
    "    df3,\n",
    "    id_vars=['Количество поездок', 'Тип передвижения'],\n",
    "    value_vars=['Оценка автомобиля', 'Оценка поезда', 'Оценка общественного транспорта',\n",
    "                'Оценка велосипеда', 'Оценка мотоцикла', 'Оценка ходить пешком'],\n",
    "    var_name='Тип оценки',\n",
    "    value_name='Оценка'\n",
    ")\n",
    "\n",
    "\n",
    "df_long.dropna(inplace=True)\n",
    "\n",
    "df_long['Доля'] = round((df_long['Количество поездок'] / overall) * 100, 2)\n",
    "\n",
    "\n",
    "df_long['Оценка'] = df_long['Оценка'].replace({1: 'Очень негативно',\n",
    "                                   2: 'Негативно',\n",
    "                                   3: 'Нейтрально',\n",
    "                                   4: 'Позитивно',\n",
    "                                   5: 'Очень позитивно',\n",
    "                                   6: 'Нет оценки',\n",
    "                                   })\n",
    "order = ['Очень позитивно', 'Позитивно', 'Нейтрально', 'Очень негативно', 'Негативно', 'Нет оценки']\n",
    "df_long['Оценка'] = pd.Categorical(df_long['Оценка'], categories=order, ordered=True)\n",
    "\n",
    "df_long = df_long.rename(columns={'Количество поездок': 'Количество ответивших'})\n",
    "\n",
    "#--------------ОТОБРАЗИМ ВСЕ В КОЛИЧЕСТВАХ----------------------\n",
    "\n",
    "fig3 = px.bar(\n",
    "    df_long, \n",
    "    x='Тип передвижения', \n",
    "    y='Количество ответивших', \n",
    "    text='Количество ответивших',\n",
    "    facet_col='Оценка',\n",
    "    facet_col_wrap=3,  # Создаем две строки по 3 графика\n",
    "    height=600, \n",
    "    width=1400,\n",
    "    category_orders={'Оценка': order}\n",
    ")\n",
    "\n",
    "fig3.update_traces(textfont_size=10, textposition='outside', cliponaxis=False)\n",
    "\n",
    "fig3.update_layout(\n",
    "    title={'text': 'Распределение количества мнений респондентов по поводу использования транспорта по оценкам', 'x': 0.5},\n",
    "    margin=dict(t=60, b=40, l=40, r=40),\n",
    "    legend=dict(title='Тип передвижения', orientation='h', yanchor='bottom', y=-0.2, xanchor='center', x=0.5)\n",
    ")\n",
    "\n",
    "fig3.show()\n",
    "\n",
    "\n",
    "#--------------ОТОБРАЗИМ ВСЕ В ДОЛЯХ----------------------\n",
    "fig4 = px.bar(\n",
    "    df_long, \n",
    "    x='Тип передвижения', \n",
    "    y='Доля', \n",
    "    text='Доля',\n",
    "    facet_col='Оценка',\n",
    "    facet_col_wrap=3,\n",
    "    height=600, \n",
    "    width=1400,\n",
    "    category_orders={'Оценка': order}\n",
    ")\n",
    "\n",
    "fig4.update_traces(\n",
    "    textposition='outside',\n",
    "    textfont=dict(size=12),  \n",
    "    cliponaxis=False,  \n",
    "    texttemplate='%{text}%', \n",
    "    offsetgroup=1 \n",
    ")\n",
    "\n",
    "fig4.update_layout(\n",
    "    title={'text': 'Распределение количества мнений респондентов по поводу использования транспорта по оценкам (доли)', 'x': 0.5},\n",
    "    margin=dict(t=60, b=40, l=40, r=40),\n",
    "    uniformtext_minsize=12,\n",
    "    uniformtext_mode='show'  \n",
    ")\n",
    "\n",
    "fig4.show()\n"
   ]
  },
  {
   "cell_type": "markdown",
   "id": "89885761",
   "metadata": {},
   "source": [
    "### График 4 (восприятие экономии времени разных видов транспорта)"
   ]
  },
  {
   "cell_type": "markdown",
   "id": "332bf583",
   "metadata": {},
   "source": [
    "    # Восприятие транспорта (важно для моделирования предпочтений)\n",
    "    'GEBRUIK_AUTO_STELLING3': 'восприятие_экономии_времени_авто',\n",
    "    'GEBRUIK_AUTO_STELLING4': 'восприятие_безопасности_авто',\n",
    "    'GEBRUIK_TREIN_STELLING3': 'восприятие_экономии_времени_поезда',\n",
    "    'GEBRUIK_TREIN_STELLING4': 'восприятие_безопасности_поезда',\n",
    "    'GEBRUIK_BTM_STELLING3': 'восприятие_экономии_времени_общественного_транспорта',\n",
    "    'GEBRUIK_BTM_STELLING4': 'восприятие_безопасности_общественного_транспорта',\n",
    "    'GEBRUIK_FIETS_STELLING2': 'восприятие_релаксации_на_велосипеде',\n",
    "    'GEBRUIK_FIETS_STELLING3': 'восприятие_экономии_времени_велосипеда',\n",
    "    'GEBRUIK_LOPEN_STELLING3': 'восприятие_экономии_времени_ходьбы',\n",
    "    'GEBRUIK_LOPEN_STELLING4': 'восприятие_безопасности_ходьбы',"
   ]
  },
  {
   "cell_type": "code",
   "execution_count": 177,
   "id": "d72a759c",
   "metadata": {},
   "outputs": [
    {
     "name": "stdout",
     "output_type": "stream",
     "text": [
      "4465\n"
     ]
    },
    {
     "data": {
      "application/vnd.plotly.v1+json": {
       "config": {
        "plotlyServerURL": "https://plotly.com"
       },
       "data": [
        {
         "cliponaxis": false,
         "hovertemplate": "Оценка=Абсолютно согласен<br>Тип передвижения=%{x}<br>Количество ответивших=%{text}<extra></extra>",
         "legendgroup": "",
         "marker": {
          "color": "#636efa",
          "pattern": {
           "shape": ""
          }
         },
         "name": "",
         "orientation": "v",
         "showlegend": false,
         "text": {
          "bdata": "AAAAAACsnEAAAAAAAKBtQAAAAAAAAGZAAAAAAAC4gUAAAAAAAMBmQA==",
          "dtype": "f8"
         },
         "textfont": {
          "size": 10
         },
         "textposition": "outside",
         "type": "bar",
         "x": [
          "Автомобиль",
          "Поезд",
          "Общественный транспорт",
          "Велосипед",
          "Ходьба"
         ],
         "xaxis": "x4",
         "y": {
          "bdata": "KwftALAANwK2AA==",
          "dtype": "i2"
         },
         "yaxis": "y4"
        },
        {
         "cliponaxis": false,
         "hovertemplate": "Оценка=Согласен<br>Тип передвижения=%{x}<br>Количество ответивших=%{text}<extra></extra>",
         "legendgroup": "",
         "marker": {
          "color": "#636efa",
          "pattern": {
           "shape": ""
          }
         },
         "name": "",
         "orientation": "v",
         "showlegend": false,
         "text": {
          "bdata": "AAAAAADEnUAAAAAAANCHQAAAAAAAQI9AAAAAAAB4nkAAAAAAAPiBQA==",
          "dtype": "f8"
         },
         "textfont": {
          "size": 10
         },
         "textposition": "outside",
         "type": "bar",
         "x": [
          "Автомобиль",
          "Поезд",
          "Общественный транспорт",
          "Велосипед",
          "Ходьба"
         ],
         "xaxis": "x5",
         "y": {
          "bdata": "cQf6AugDngc/Ag==",
          "dtype": "i2"
         },
         "yaxis": "y5"
        },
        {
         "cliponaxis": false,
         "hovertemplate": "Оценка=Не уверен<br>Тип передвижения=%{x}<br>Количество ответивших=%{text}<extra></extra>",
         "legendgroup": "",
         "marker": {
          "color": "#636efa",
          "pattern": {
           "shape": ""
          }
         },
         "name": "",
         "orientation": "v",
         "showlegend": false,
         "text": {
          "bdata": "AAAAAADAeEAAAAAAAICVQAAAAAAAZJNAAAAAAABskEAAAAAAADiTQA==",
          "dtype": "f8"
         },
         "textfont": {
          "size": 10
         },
         "textposition": "outside",
         "type": "bar",
         "x": [
          "Автомобиль",
          "Поезд",
          "Общественный транспорт",
          "Велосипед",
          "Ходьба"
         ],
         "xaxis": "x6",
         "y": {
          "bdata": "jAFgBdkEGwTOBA==",
          "dtype": "i2"
         },
         "yaxis": "y6"
        },
        {
         "cliponaxis": false,
         "hovertemplate": "Оценка=Абсолютно не согласен<br>Тип передвижения=%{x}<br>Количество ответивших=%{text}<extra></extra>",
         "legendgroup": "",
         "marker": {
          "color": "#636efa",
          "pattern": {
           "shape": ""
          }
         },
         "name": "",
         "orientation": "v",
         "showlegend": false,
         "text": {
          "bdata": "AAAAAAAAQkAAAAAAAPB5QAAAAAAAkHdAAAAAAACAXUAAAAAAAIB+QA==",
          "dtype": "f8"
         },
         "textfont": {
          "size": 10
         },
         "textposition": "outside",
         "type": "bar",
         "x": [
          "Автомобиль",
          "Поезд",
          "Общественный транспорт",
          "Велосипед",
          "Ходьба"
         ],
         "xaxis": "x",
         "y": {
          "bdata": "JACfAXkBdgDoAQ==",
          "dtype": "i2"
         },
         "yaxis": "y"
        },
        {
         "cliponaxis": false,
         "hovertemplate": "Оценка=Не согласен<br>Тип передвижения=%{x}<br>Количество ответивших=%{text}<extra></extra>",
         "legendgroup": "",
         "marker": {
          "color": "#636efa",
          "pattern": {
           "shape": ""
          }
         },
         "name": "",
         "orientation": "v",
         "showlegend": false,
         "text": {
          "bdata": "AAAAAAAAW0AAAAAAAMiWQAAAAAAARJZAAAAAAACYgkAAAAAAAGidQA==",
          "dtype": "f8"
         },
         "textfont": {
          "size": 10
         },
         "textposition": "outside",
         "type": "bar",
         "x": [
          "Автомобиль",
          "Поезд",
          "Общественный транспорт",
          "Велосипед",
          "Ходьба"
         ],
         "xaxis": "x2",
         "y": {
          "bdata": "bACyBZEFUwJaBw==",
          "dtype": "i2"
         },
         "yaxis": "y2"
        },
        {
         "cliponaxis": false,
         "hovertemplate": "Оценка=Нет оценки<br>Тип передвижения=%{x}<br>Количество ответивших=%{text}<extra></extra>",
         "legendgroup": "",
         "marker": {
          "color": "#636efa",
          "pattern": {
           "shape": ""
          }
         },
         "name": "",
         "orientation": "v",
         "showlegend": false,
         "text": {
          "bdata": "AAAAAAAgZ0AAAAAAACBrQAAAAAAAwG5AAAAAAAAAZ0AAAAAAAABbQA==",
          "dtype": "f8"
         },
         "textfont": {
          "size": 10
         },
         "textposition": "outside",
         "type": "bar",
         "x": [
          "Автомобиль",
          "Поезд",
          "Общественный транспорт",
          "Велосипед",
          "Ходьба"
         ],
         "xaxis": "x3",
         "y": {
          "bdata": "uQDZAPYAuABsAA==",
          "dtype": "i2"
         },
         "yaxis": "y3"
        }
       ],
       "layout": {
        "annotations": [
         {
          "font": {},
          "showarrow": false,
          "text": "Оценка=Абсолютно не согласен",
          "x": 0.15999999999999998,
          "xanchor": "center",
          "xref": "paper",
          "y": 0.46499999999999997,
          "yanchor": "bottom",
          "yref": "paper"
         },
         {
          "font": {},
          "showarrow": false,
          "text": "Оценка=Не согласен",
          "x": 0.49999999999999994,
          "xanchor": "center",
          "xref": "paper",
          "y": 0.46499999999999997,
          "yanchor": "bottom",
          "yref": "paper"
         },
         {
          "font": {},
          "showarrow": false,
          "text": "Оценка=Нет оценки",
          "x": 0.8399999999999999,
          "xanchor": "center",
          "xref": "paper",
          "y": 0.46499999999999997,
          "yanchor": "bottom",
          "yref": "paper"
         },
         {
          "font": {},
          "showarrow": false,
          "text": "Оценка=Абсолютно согласен",
          "x": 0.15999999999999998,
          "xanchor": "center",
          "xref": "paper",
          "y": 0.9999999999999999,
          "yanchor": "bottom",
          "yref": "paper"
         },
         {
          "font": {},
          "showarrow": false,
          "text": "Оценка=Согласен",
          "x": 0.49999999999999994,
          "xanchor": "center",
          "xref": "paper",
          "y": 0.9999999999999999,
          "yanchor": "bottom",
          "yref": "paper"
         },
         {
          "font": {},
          "showarrow": false,
          "text": "Оценка=Не уверен",
          "x": 0.8399999999999999,
          "xanchor": "center",
          "xref": "paper",
          "y": 0.9999999999999999,
          "yanchor": "bottom",
          "yref": "paper"
         }
        ],
        "barmode": "relative",
        "height": 600,
        "legend": {
         "orientation": "h",
         "title": {
          "text": "Тип передвижения"
         },
         "tracegroupgap": 0,
         "x": 0.5,
         "xanchor": "center",
         "y": -0.2,
         "yanchor": "bottom"
        },
        "margin": {
         "b": 40,
         "l": 40,
         "r": 40,
         "t": 60
        },
        "template": {
         "data": {
          "bar": [
           {
            "error_x": {
             "color": "#2a3f5f"
            },
            "error_y": {
             "color": "#2a3f5f"
            },
            "marker": {
             "line": {
              "color": "#E5ECF6",
              "width": 0.5
             },
             "pattern": {
              "fillmode": "overlay",
              "size": 10,
              "solidity": 0.2
             }
            },
            "type": "bar"
           }
          ],
          "barpolar": [
           {
            "marker": {
             "line": {
              "color": "#E5ECF6",
              "width": 0.5
             },
             "pattern": {
              "fillmode": "overlay",
              "size": 10,
              "solidity": 0.2
             }
            },
            "type": "barpolar"
           }
          ],
          "carpet": [
           {
            "aaxis": {
             "endlinecolor": "#2a3f5f",
             "gridcolor": "white",
             "linecolor": "white",
             "minorgridcolor": "white",
             "startlinecolor": "#2a3f5f"
            },
            "baxis": {
             "endlinecolor": "#2a3f5f",
             "gridcolor": "white",
             "linecolor": "white",
             "minorgridcolor": "white",
             "startlinecolor": "#2a3f5f"
            },
            "type": "carpet"
           }
          ],
          "choropleth": [
           {
            "colorbar": {
             "outlinewidth": 0,
             "ticks": ""
            },
            "type": "choropleth"
           }
          ],
          "contour": [
           {
            "colorbar": {
             "outlinewidth": 0,
             "ticks": ""
            },
            "colorscale": [
             [
              0,
              "#0d0887"
             ],
             [
              0.1111111111111111,
              "#46039f"
             ],
             [
              0.2222222222222222,
              "#7201a8"
             ],
             [
              0.3333333333333333,
              "#9c179e"
             ],
             [
              0.4444444444444444,
              "#bd3786"
             ],
             [
              0.5555555555555556,
              "#d8576b"
             ],
             [
              0.6666666666666666,
              "#ed7953"
             ],
             [
              0.7777777777777778,
              "#fb9f3a"
             ],
             [
              0.8888888888888888,
              "#fdca26"
             ],
             [
              1,
              "#f0f921"
             ]
            ],
            "type": "contour"
           }
          ],
          "contourcarpet": [
           {
            "colorbar": {
             "outlinewidth": 0,
             "ticks": ""
            },
            "type": "contourcarpet"
           }
          ],
          "heatmap": [
           {
            "colorbar": {
             "outlinewidth": 0,
             "ticks": ""
            },
            "colorscale": [
             [
              0,
              "#0d0887"
             ],
             [
              0.1111111111111111,
              "#46039f"
             ],
             [
              0.2222222222222222,
              "#7201a8"
             ],
             [
              0.3333333333333333,
              "#9c179e"
             ],
             [
              0.4444444444444444,
              "#bd3786"
             ],
             [
              0.5555555555555556,
              "#d8576b"
             ],
             [
              0.6666666666666666,
              "#ed7953"
             ],
             [
              0.7777777777777778,
              "#fb9f3a"
             ],
             [
              0.8888888888888888,
              "#fdca26"
             ],
             [
              1,
              "#f0f921"
             ]
            ],
            "type": "heatmap"
           }
          ],
          "histogram": [
           {
            "marker": {
             "pattern": {
              "fillmode": "overlay",
              "size": 10,
              "solidity": 0.2
             }
            },
            "type": "histogram"
           }
          ],
          "histogram2d": [
           {
            "colorbar": {
             "outlinewidth": 0,
             "ticks": ""
            },
            "colorscale": [
             [
              0,
              "#0d0887"
             ],
             [
              0.1111111111111111,
              "#46039f"
             ],
             [
              0.2222222222222222,
              "#7201a8"
             ],
             [
              0.3333333333333333,
              "#9c179e"
             ],
             [
              0.4444444444444444,
              "#bd3786"
             ],
             [
              0.5555555555555556,
              "#d8576b"
             ],
             [
              0.6666666666666666,
              "#ed7953"
             ],
             [
              0.7777777777777778,
              "#fb9f3a"
             ],
             [
              0.8888888888888888,
              "#fdca26"
             ],
             [
              1,
              "#f0f921"
             ]
            ],
            "type": "histogram2d"
           }
          ],
          "histogram2dcontour": [
           {
            "colorbar": {
             "outlinewidth": 0,
             "ticks": ""
            },
            "colorscale": [
             [
              0,
              "#0d0887"
             ],
             [
              0.1111111111111111,
              "#46039f"
             ],
             [
              0.2222222222222222,
              "#7201a8"
             ],
             [
              0.3333333333333333,
              "#9c179e"
             ],
             [
              0.4444444444444444,
              "#bd3786"
             ],
             [
              0.5555555555555556,
              "#d8576b"
             ],
             [
              0.6666666666666666,
              "#ed7953"
             ],
             [
              0.7777777777777778,
              "#fb9f3a"
             ],
             [
              0.8888888888888888,
              "#fdca26"
             ],
             [
              1,
              "#f0f921"
             ]
            ],
            "type": "histogram2dcontour"
           }
          ],
          "mesh3d": [
           {
            "colorbar": {
             "outlinewidth": 0,
             "ticks": ""
            },
            "type": "mesh3d"
           }
          ],
          "parcoords": [
           {
            "line": {
             "colorbar": {
              "outlinewidth": 0,
              "ticks": ""
             }
            },
            "type": "parcoords"
           }
          ],
          "pie": [
           {
            "automargin": true,
            "type": "pie"
           }
          ],
          "scatter": [
           {
            "fillpattern": {
             "fillmode": "overlay",
             "size": 10,
             "solidity": 0.2
            },
            "type": "scatter"
           }
          ],
          "scatter3d": [
           {
            "line": {
             "colorbar": {
              "outlinewidth": 0,
              "ticks": ""
             }
            },
            "marker": {
             "colorbar": {
              "outlinewidth": 0,
              "ticks": ""
             }
            },
            "type": "scatter3d"
           }
          ],
          "scattercarpet": [
           {
            "marker": {
             "colorbar": {
              "outlinewidth": 0,
              "ticks": ""
             }
            },
            "type": "scattercarpet"
           }
          ],
          "scattergeo": [
           {
            "marker": {
             "colorbar": {
              "outlinewidth": 0,
              "ticks": ""
             }
            },
            "type": "scattergeo"
           }
          ],
          "scattergl": [
           {
            "marker": {
             "colorbar": {
              "outlinewidth": 0,
              "ticks": ""
             }
            },
            "type": "scattergl"
           }
          ],
          "scattermap": [
           {
            "marker": {
             "colorbar": {
              "outlinewidth": 0,
              "ticks": ""
             }
            },
            "type": "scattermap"
           }
          ],
          "scattermapbox": [
           {
            "marker": {
             "colorbar": {
              "outlinewidth": 0,
              "ticks": ""
             }
            },
            "type": "scattermapbox"
           }
          ],
          "scatterpolar": [
           {
            "marker": {
             "colorbar": {
              "outlinewidth": 0,
              "ticks": ""
             }
            },
            "type": "scatterpolar"
           }
          ],
          "scatterpolargl": [
           {
            "marker": {
             "colorbar": {
              "outlinewidth": 0,
              "ticks": ""
             }
            },
            "type": "scatterpolargl"
           }
          ],
          "scatterternary": [
           {
            "marker": {
             "colorbar": {
              "outlinewidth": 0,
              "ticks": ""
             }
            },
            "type": "scatterternary"
           }
          ],
          "surface": [
           {
            "colorbar": {
             "outlinewidth": 0,
             "ticks": ""
            },
            "colorscale": [
             [
              0,
              "#0d0887"
             ],
             [
              0.1111111111111111,
              "#46039f"
             ],
             [
              0.2222222222222222,
              "#7201a8"
             ],
             [
              0.3333333333333333,
              "#9c179e"
             ],
             [
              0.4444444444444444,
              "#bd3786"
             ],
             [
              0.5555555555555556,
              "#d8576b"
             ],
             [
              0.6666666666666666,
              "#ed7953"
             ],
             [
              0.7777777777777778,
              "#fb9f3a"
             ],
             [
              0.8888888888888888,
              "#fdca26"
             ],
             [
              1,
              "#f0f921"
             ]
            ],
            "type": "surface"
           }
          ],
          "table": [
           {
            "cells": {
             "fill": {
              "color": "#EBF0F8"
             },
             "line": {
              "color": "white"
             }
            },
            "header": {
             "fill": {
              "color": "#C8D4E3"
             },
             "line": {
              "color": "white"
             }
            },
            "type": "table"
           }
          ]
         },
         "layout": {
          "annotationdefaults": {
           "arrowcolor": "#2a3f5f",
           "arrowhead": 0,
           "arrowwidth": 1
          },
          "autotypenumbers": "strict",
          "coloraxis": {
           "colorbar": {
            "outlinewidth": 0,
            "ticks": ""
           }
          },
          "colorscale": {
           "diverging": [
            [
             0,
             "#8e0152"
            ],
            [
             0.1,
             "#c51b7d"
            ],
            [
             0.2,
             "#de77ae"
            ],
            [
             0.3,
             "#f1b6da"
            ],
            [
             0.4,
             "#fde0ef"
            ],
            [
             0.5,
             "#f7f7f7"
            ],
            [
             0.6,
             "#e6f5d0"
            ],
            [
             0.7,
             "#b8e186"
            ],
            [
             0.8,
             "#7fbc41"
            ],
            [
             0.9,
             "#4d9221"
            ],
            [
             1,
             "#276419"
            ]
           ],
           "sequential": [
            [
             0,
             "#0d0887"
            ],
            [
             0.1111111111111111,
             "#46039f"
            ],
            [
             0.2222222222222222,
             "#7201a8"
            ],
            [
             0.3333333333333333,
             "#9c179e"
            ],
            [
             0.4444444444444444,
             "#bd3786"
            ],
            [
             0.5555555555555556,
             "#d8576b"
            ],
            [
             0.6666666666666666,
             "#ed7953"
            ],
            [
             0.7777777777777778,
             "#fb9f3a"
            ],
            [
             0.8888888888888888,
             "#fdca26"
            ],
            [
             1,
             "#f0f921"
            ]
           ],
           "sequentialminus": [
            [
             0,
             "#0d0887"
            ],
            [
             0.1111111111111111,
             "#46039f"
            ],
            [
             0.2222222222222222,
             "#7201a8"
            ],
            [
             0.3333333333333333,
             "#9c179e"
            ],
            [
             0.4444444444444444,
             "#bd3786"
            ],
            [
             0.5555555555555556,
             "#d8576b"
            ],
            [
             0.6666666666666666,
             "#ed7953"
            ],
            [
             0.7777777777777778,
             "#fb9f3a"
            ],
            [
             0.8888888888888888,
             "#fdca26"
            ],
            [
             1,
             "#f0f921"
            ]
           ]
          },
          "colorway": [
           "#636efa",
           "#EF553B",
           "#00cc96",
           "#ab63fa",
           "#FFA15A",
           "#19d3f3",
           "#FF6692",
           "#B6E880",
           "#FF97FF",
           "#FECB52"
          ],
          "font": {
           "color": "#2a3f5f"
          },
          "geo": {
           "bgcolor": "white",
           "lakecolor": "white",
           "landcolor": "#E5ECF6",
           "showlakes": true,
           "showland": true,
           "subunitcolor": "white"
          },
          "hoverlabel": {
           "align": "left"
          },
          "hovermode": "closest",
          "mapbox": {
           "style": "light"
          },
          "paper_bgcolor": "white",
          "plot_bgcolor": "#E5ECF6",
          "polar": {
           "angularaxis": {
            "gridcolor": "white",
            "linecolor": "white",
            "ticks": ""
           },
           "bgcolor": "#E5ECF6",
           "radialaxis": {
            "gridcolor": "white",
            "linecolor": "white",
            "ticks": ""
           }
          },
          "scene": {
           "xaxis": {
            "backgroundcolor": "#E5ECF6",
            "gridcolor": "white",
            "gridwidth": 2,
            "linecolor": "white",
            "showbackground": true,
            "ticks": "",
            "zerolinecolor": "white"
           },
           "yaxis": {
            "backgroundcolor": "#E5ECF6",
            "gridcolor": "white",
            "gridwidth": 2,
            "linecolor": "white",
            "showbackground": true,
            "ticks": "",
            "zerolinecolor": "white"
           },
           "zaxis": {
            "backgroundcolor": "#E5ECF6",
            "gridcolor": "white",
            "gridwidth": 2,
            "linecolor": "white",
            "showbackground": true,
            "ticks": "",
            "zerolinecolor": "white"
           }
          },
          "shapedefaults": {
           "line": {
            "color": "#2a3f5f"
           }
          },
          "ternary": {
           "aaxis": {
            "gridcolor": "white",
            "linecolor": "white",
            "ticks": ""
           },
           "baxis": {
            "gridcolor": "white",
            "linecolor": "white",
            "ticks": ""
           },
           "bgcolor": "#E5ECF6",
           "caxis": {
            "gridcolor": "white",
            "linecolor": "white",
            "ticks": ""
           }
          },
          "title": {
           "x": 0.05
          },
          "xaxis": {
           "automargin": true,
           "gridcolor": "white",
           "linecolor": "white",
           "ticks": "",
           "title": {
            "standoff": 15
           },
           "zerolinecolor": "white",
           "zerolinewidth": 2
          },
          "yaxis": {
           "automargin": true,
           "gridcolor": "white",
           "linecolor": "white",
           "ticks": "",
           "title": {
            "standoff": 15
           },
           "zerolinecolor": "white",
           "zerolinewidth": 2
          }
         }
        },
        "title": {
         "text": "Согласны ли вы, что этот вид транспорта экономит время?",
         "x": 0.5
        },
        "width": 1400,
        "xaxis": {
         "anchor": "y",
         "domain": [
          0,
          0.31999999999999995
         ],
         "title": {
          "text": "Тип передвижения"
         }
        },
        "xaxis2": {
         "anchor": "y2",
         "domain": [
          0.33999999999999997,
          0.6599999999999999
         ],
         "matches": "x",
         "title": {
          "text": "Тип передвижения"
         }
        },
        "xaxis3": {
         "anchor": "y3",
         "domain": [
          0.6799999999999999,
          0.9999999999999999
         ],
         "matches": "x",
         "title": {
          "text": "Тип передвижения"
         }
        },
        "xaxis4": {
         "anchor": "y4",
         "domain": [
          0,
          0.31999999999999995
         ],
         "matches": "x",
         "showticklabels": false
        },
        "xaxis5": {
         "anchor": "y5",
         "domain": [
          0.33999999999999997,
          0.6599999999999999
         ],
         "matches": "x",
         "showticklabels": false
        },
        "xaxis6": {
         "anchor": "y6",
         "domain": [
          0.6799999999999999,
          0.9999999999999999
         ],
         "matches": "x",
         "showticklabels": false
        },
        "yaxis": {
         "anchor": "x",
         "domain": [
          0,
          0.46499999999999997
         ],
         "title": {
          "text": "Количество ответивших"
         }
        },
        "yaxis2": {
         "anchor": "x2",
         "domain": [
          0,
          0.46499999999999997
         ],
         "matches": "y",
         "showticklabels": false
        },
        "yaxis3": {
         "anchor": "x3",
         "domain": [
          0,
          0.46499999999999997
         ],
         "matches": "y",
         "showticklabels": false
        },
        "yaxis4": {
         "anchor": "x4",
         "domain": [
          0.5349999999999999,
          0.9999999999999999
         ],
         "matches": "y",
         "title": {
          "text": "Количество ответивших"
         }
        },
        "yaxis5": {
         "anchor": "x5",
         "domain": [
          0.5349999999999999,
          0.9999999999999999
         ],
         "matches": "y",
         "showticklabels": false
        },
        "yaxis6": {
         "anchor": "x6",
         "domain": [
          0.5349999999999999,
          0.9999999999999999
         ],
         "matches": "y",
         "showticklabels": false
        }
       }
      }
     },
     "metadata": {},
     "output_type": "display_data"
    },
    {
     "data": {
      "application/vnd.plotly.v1+json": {
       "config": {
        "plotlyServerURL": "https://plotly.com"
       },
       "data": [
        {
         "cliponaxis": false,
         "hovertemplate": "Оценка=Абсолютно согласен<br>Тип передвижения=%{x}<br>Доля=%{text}<extra></extra>",
         "legendgroup": "",
         "marker": {
          "color": "#636efa",
          "pattern": {
           "shape": ""
          }
         },
         "name": "",
         "offsetgroup": "1",
         "orientation": "v",
         "showlegend": false,
         "text": {
          "bdata": "zczMzMyMREA9CtejcD0VQIXrUbgehQ9AZmZmZmZmKUBSuB6F61EQQA==",
          "dtype": "f8"
         },
         "textfont": {
          "size": 12
         },
         "textposition": "outside",
         "texttemplate": "%{text}%",
         "type": "bar",
         "x": [
          "Автомобиль",
          "Поезд",
          "Общественный транспорт",
          "Велосипед",
          "Ходьба"
         ],
         "xaxis": "x4",
         "y": {
          "bdata": "zczMzMyMREA9CtejcD0VQIXrUbgehQ9AZmZmZmZmKUBSuB6F61EQQA==",
          "dtype": "f8"
         },
         "yaxis": "y4"
        },
        {
         "cliponaxis": false,
         "hovertemplate": "Оценка=Согласен<br>Тип передвижения=%{x}<br>Доля=%{text}<extra></extra>",
         "legendgroup": "",
         "marker": {
          "color": "#636efa",
          "pattern": {
           "shape": ""
          }
         },
         "name": "",
         "offsetgroup": "1",
         "orientation": "v",
         "showlegend": false,
         "text": {
          "bdata": "9ihcj8JVRUBSuB6F6xExQGZmZmZmZjZA9ihcj8LVRUDD9Shcj8IpQA==",
          "dtype": "f8"
         },
         "textfont": {
          "size": 12
         },
         "textposition": "outside",
         "texttemplate": "%{text}%",
         "type": "bar",
         "x": [
          "Автомобиль",
          "Поезд",
          "Общественный транспорт",
          "Велосипед",
          "Ходьба"
         ],
         "xaxis": "x5",
         "y": {
          "bdata": "9ihcj8JVRUBSuB6F6xExQGZmZmZmZjZA9ihcj8LVRUDD9Shcj8IpQA==",
          "dtype": "f8"
         },
         "yaxis": "y5"
        },
        {
         "cliponaxis": false,
         "hovertemplate": "Оценка=Не уверен<br>Тип передвижения=%{x}<br>Доля=%{text}<extra></extra>",
         "legendgroup": "",
         "marker": {
          "color": "#636efa",
          "pattern": {
           "shape": ""
          }
         },
         "name": "",
         "offsetgroup": "1",
         "orientation": "v",
         "showlegend": false,
         "text": {
          "bdata": "PQrXo3C9IUBSuB6F69E+QArXo3A9yjtACtejcD2KN0DNzMzMzIw7QA==",
          "dtype": "f8"
         },
         "textfont": {
          "size": 12
         },
         "textposition": "outside",
         "texttemplate": "%{text}%",
         "type": "bar",
         "x": [
          "Автомобиль",
          "Поезд",
          "Общественный транспорт",
          "Велосипед",
          "Ходьба"
         ],
         "xaxis": "x6",
         "y": {
          "bdata": "PQrXo3C9IUBSuB6F69E+QArXo3A9yjtACtejcD2KN0DNzMzMzIw7QA==",
          "dtype": "f8"
         },
         "yaxis": "y6"
        },
        {
         "cliponaxis": false,
         "hovertemplate": "Оценка=Абсолютно не согласен<br>Тип передвижения=%{x}<br>Доля=%{text}<extra></extra>",
         "legendgroup": "",
         "marker": {
          "color": "#636efa",
          "pattern": {
           "shape": ""
          }
         },
         "name": "",
         "offsetgroup": "1",
         "orientation": "v",
         "showlegend": false,
         "text": {
          "bdata": "7FG4HoXr6T8UrkfhepQiQOF6FK5H4SBAH4XrUbgeBUBcj8L1KNwlQA==",
          "dtype": "f8"
         },
         "textfont": {
          "size": 12
         },
         "textposition": "outside",
         "texttemplate": "%{text}%",
         "type": "bar",
         "x": [
          "Автомобиль",
          "Поезд",
          "Общественный транспорт",
          "Велосипед",
          "Ходьба"
         ],
         "xaxis": "x",
         "y": {
          "bdata": "7FG4HoXr6T8UrkfhepQiQOF6FK5H4SBAH4XrUbgeBUBcj8L1KNwlQA==",
          "dtype": "f8"
         },
         "yaxis": "y"
        },
        {
         "cliponaxis": false,
         "hovertemplate": "Оценка=Не согласен<br>Тип передвижения=%{x}<br>Доля=%{text}<extra></extra>",
         "legendgroup": "",
         "marker": {
          "color": "#636efa",
          "pattern": {
           "shape": ""
          }
         },
         "name": "",
         "offsetgroup": "1",
         "orientation": "v",
         "showlegend": false,
         "text": {
          "bdata": "XI/C9ShcA0AzMzMzM1NAQClcj8L16D9AKVyPwvWoKkAzMzMzMxNFQA==",
          "dtype": "f8"
         },
         "textfont": {
          "size": 12
         },
         "textposition": "outside",
         "texttemplate": "%{text}%",
         "type": "bar",
         "x": [
          "Автомобиль",
          "Поезд",
          "Общественный транспорт",
          "Велосипед",
          "Ходьба"
         ],
         "xaxis": "x2",
         "y": {
          "bdata": "XI/C9ShcA0AzMzMzM1NAQClcj8L16D9AKVyPwvWoKkAzMzMzMxNFQA==",
          "dtype": "f8"
         },
         "yaxis": "y2"
        },
        {
         "cliponaxis": false,
         "hovertemplate": "Оценка=Нет оценки<br>Тип передвижения=%{x}<br>Доля=%{text}<extra></extra>",
         "legendgroup": "",
         "marker": {
          "color": "#636efa",
          "pattern": {
           "shape": ""
          }
         },
         "name": "",
         "offsetgroup": "1",
         "orientation": "v",
         "showlegend": false,
         "text": {
          "bdata": "j8L1KFyPEEBxPQrXo3ATQArXo3A9ChZAexSuR+F6EEBcj8L1KFwDQA==",
          "dtype": "f8"
         },
         "textfont": {
          "size": 12
         },
         "textposition": "outside",
         "texttemplate": "%{text}%",
         "type": "bar",
         "x": [
          "Автомобиль",
          "Поезд",
          "Общественный транспорт",
          "Велосипед",
          "Ходьба"
         ],
         "xaxis": "x3",
         "y": {
          "bdata": "j8L1KFyPEEBxPQrXo3ATQArXo3A9ChZAexSuR+F6EEBcj8L1KFwDQA==",
          "dtype": "f8"
         },
         "yaxis": "y3"
        }
       ],
       "layout": {
        "annotations": [
         {
          "font": {},
          "showarrow": false,
          "text": "Оценка=Абсолютно не согласен",
          "x": 0.15999999999999998,
          "xanchor": "center",
          "xref": "paper",
          "y": 0.46499999999999997,
          "yanchor": "bottom",
          "yref": "paper"
         },
         {
          "font": {},
          "showarrow": false,
          "text": "Оценка=Не согласен",
          "x": 0.49999999999999994,
          "xanchor": "center",
          "xref": "paper",
          "y": 0.46499999999999997,
          "yanchor": "bottom",
          "yref": "paper"
         },
         {
          "font": {},
          "showarrow": false,
          "text": "Оценка=Нет оценки",
          "x": 0.8399999999999999,
          "xanchor": "center",
          "xref": "paper",
          "y": 0.46499999999999997,
          "yanchor": "bottom",
          "yref": "paper"
         },
         {
          "font": {},
          "showarrow": false,
          "text": "Оценка=Абсолютно согласен",
          "x": 0.15999999999999998,
          "xanchor": "center",
          "xref": "paper",
          "y": 0.9999999999999999,
          "yanchor": "bottom",
          "yref": "paper"
         },
         {
          "font": {},
          "showarrow": false,
          "text": "Оценка=Согласен",
          "x": 0.49999999999999994,
          "xanchor": "center",
          "xref": "paper",
          "y": 0.9999999999999999,
          "yanchor": "bottom",
          "yref": "paper"
         },
         {
          "font": {},
          "showarrow": false,
          "text": "Оценка=Не уверен",
          "x": 0.8399999999999999,
          "xanchor": "center",
          "xref": "paper",
          "y": 0.9999999999999999,
          "yanchor": "bottom",
          "yref": "paper"
         }
        ],
        "barmode": "relative",
        "height": 600,
        "legend": {
         "tracegroupgap": 0
        },
        "margin": {
         "b": 40,
         "l": 40,
         "r": 40,
         "t": 60
        },
        "template": {
         "data": {
          "bar": [
           {
            "error_x": {
             "color": "#2a3f5f"
            },
            "error_y": {
             "color": "#2a3f5f"
            },
            "marker": {
             "line": {
              "color": "#E5ECF6",
              "width": 0.5
             },
             "pattern": {
              "fillmode": "overlay",
              "size": 10,
              "solidity": 0.2
             }
            },
            "type": "bar"
           }
          ],
          "barpolar": [
           {
            "marker": {
             "line": {
              "color": "#E5ECF6",
              "width": 0.5
             },
             "pattern": {
              "fillmode": "overlay",
              "size": 10,
              "solidity": 0.2
             }
            },
            "type": "barpolar"
           }
          ],
          "carpet": [
           {
            "aaxis": {
             "endlinecolor": "#2a3f5f",
             "gridcolor": "white",
             "linecolor": "white",
             "minorgridcolor": "white",
             "startlinecolor": "#2a3f5f"
            },
            "baxis": {
             "endlinecolor": "#2a3f5f",
             "gridcolor": "white",
             "linecolor": "white",
             "minorgridcolor": "white",
             "startlinecolor": "#2a3f5f"
            },
            "type": "carpet"
           }
          ],
          "choropleth": [
           {
            "colorbar": {
             "outlinewidth": 0,
             "ticks": ""
            },
            "type": "choropleth"
           }
          ],
          "contour": [
           {
            "colorbar": {
             "outlinewidth": 0,
             "ticks": ""
            },
            "colorscale": [
             [
              0,
              "#0d0887"
             ],
             [
              0.1111111111111111,
              "#46039f"
             ],
             [
              0.2222222222222222,
              "#7201a8"
             ],
             [
              0.3333333333333333,
              "#9c179e"
             ],
             [
              0.4444444444444444,
              "#bd3786"
             ],
             [
              0.5555555555555556,
              "#d8576b"
             ],
             [
              0.6666666666666666,
              "#ed7953"
             ],
             [
              0.7777777777777778,
              "#fb9f3a"
             ],
             [
              0.8888888888888888,
              "#fdca26"
             ],
             [
              1,
              "#f0f921"
             ]
            ],
            "type": "contour"
           }
          ],
          "contourcarpet": [
           {
            "colorbar": {
             "outlinewidth": 0,
             "ticks": ""
            },
            "type": "contourcarpet"
           }
          ],
          "heatmap": [
           {
            "colorbar": {
             "outlinewidth": 0,
             "ticks": ""
            },
            "colorscale": [
             [
              0,
              "#0d0887"
             ],
             [
              0.1111111111111111,
              "#46039f"
             ],
             [
              0.2222222222222222,
              "#7201a8"
             ],
             [
              0.3333333333333333,
              "#9c179e"
             ],
             [
              0.4444444444444444,
              "#bd3786"
             ],
             [
              0.5555555555555556,
              "#d8576b"
             ],
             [
              0.6666666666666666,
              "#ed7953"
             ],
             [
              0.7777777777777778,
              "#fb9f3a"
             ],
             [
              0.8888888888888888,
              "#fdca26"
             ],
             [
              1,
              "#f0f921"
             ]
            ],
            "type": "heatmap"
           }
          ],
          "histogram": [
           {
            "marker": {
             "pattern": {
              "fillmode": "overlay",
              "size": 10,
              "solidity": 0.2
             }
            },
            "type": "histogram"
           }
          ],
          "histogram2d": [
           {
            "colorbar": {
             "outlinewidth": 0,
             "ticks": ""
            },
            "colorscale": [
             [
              0,
              "#0d0887"
             ],
             [
              0.1111111111111111,
              "#46039f"
             ],
             [
              0.2222222222222222,
              "#7201a8"
             ],
             [
              0.3333333333333333,
              "#9c179e"
             ],
             [
              0.4444444444444444,
              "#bd3786"
             ],
             [
              0.5555555555555556,
              "#d8576b"
             ],
             [
              0.6666666666666666,
              "#ed7953"
             ],
             [
              0.7777777777777778,
              "#fb9f3a"
             ],
             [
              0.8888888888888888,
              "#fdca26"
             ],
             [
              1,
              "#f0f921"
             ]
            ],
            "type": "histogram2d"
           }
          ],
          "histogram2dcontour": [
           {
            "colorbar": {
             "outlinewidth": 0,
             "ticks": ""
            },
            "colorscale": [
             [
              0,
              "#0d0887"
             ],
             [
              0.1111111111111111,
              "#46039f"
             ],
             [
              0.2222222222222222,
              "#7201a8"
             ],
             [
              0.3333333333333333,
              "#9c179e"
             ],
             [
              0.4444444444444444,
              "#bd3786"
             ],
             [
              0.5555555555555556,
              "#d8576b"
             ],
             [
              0.6666666666666666,
              "#ed7953"
             ],
             [
              0.7777777777777778,
              "#fb9f3a"
             ],
             [
              0.8888888888888888,
              "#fdca26"
             ],
             [
              1,
              "#f0f921"
             ]
            ],
            "type": "histogram2dcontour"
           }
          ],
          "mesh3d": [
           {
            "colorbar": {
             "outlinewidth": 0,
             "ticks": ""
            },
            "type": "mesh3d"
           }
          ],
          "parcoords": [
           {
            "line": {
             "colorbar": {
              "outlinewidth": 0,
              "ticks": ""
             }
            },
            "type": "parcoords"
           }
          ],
          "pie": [
           {
            "automargin": true,
            "type": "pie"
           }
          ],
          "scatter": [
           {
            "fillpattern": {
             "fillmode": "overlay",
             "size": 10,
             "solidity": 0.2
            },
            "type": "scatter"
           }
          ],
          "scatter3d": [
           {
            "line": {
             "colorbar": {
              "outlinewidth": 0,
              "ticks": ""
             }
            },
            "marker": {
             "colorbar": {
              "outlinewidth": 0,
              "ticks": ""
             }
            },
            "type": "scatter3d"
           }
          ],
          "scattercarpet": [
           {
            "marker": {
             "colorbar": {
              "outlinewidth": 0,
              "ticks": ""
             }
            },
            "type": "scattercarpet"
           }
          ],
          "scattergeo": [
           {
            "marker": {
             "colorbar": {
              "outlinewidth": 0,
              "ticks": ""
             }
            },
            "type": "scattergeo"
           }
          ],
          "scattergl": [
           {
            "marker": {
             "colorbar": {
              "outlinewidth": 0,
              "ticks": ""
             }
            },
            "type": "scattergl"
           }
          ],
          "scattermap": [
           {
            "marker": {
             "colorbar": {
              "outlinewidth": 0,
              "ticks": ""
             }
            },
            "type": "scattermap"
           }
          ],
          "scattermapbox": [
           {
            "marker": {
             "colorbar": {
              "outlinewidth": 0,
              "ticks": ""
             }
            },
            "type": "scattermapbox"
           }
          ],
          "scatterpolar": [
           {
            "marker": {
             "colorbar": {
              "outlinewidth": 0,
              "ticks": ""
             }
            },
            "type": "scatterpolar"
           }
          ],
          "scatterpolargl": [
           {
            "marker": {
             "colorbar": {
              "outlinewidth": 0,
              "ticks": ""
             }
            },
            "type": "scatterpolargl"
           }
          ],
          "scatterternary": [
           {
            "marker": {
             "colorbar": {
              "outlinewidth": 0,
              "ticks": ""
             }
            },
            "type": "scatterternary"
           }
          ],
          "surface": [
           {
            "colorbar": {
             "outlinewidth": 0,
             "ticks": ""
            },
            "colorscale": [
             [
              0,
              "#0d0887"
             ],
             [
              0.1111111111111111,
              "#46039f"
             ],
             [
              0.2222222222222222,
              "#7201a8"
             ],
             [
              0.3333333333333333,
              "#9c179e"
             ],
             [
              0.4444444444444444,
              "#bd3786"
             ],
             [
              0.5555555555555556,
              "#d8576b"
             ],
             [
              0.6666666666666666,
              "#ed7953"
             ],
             [
              0.7777777777777778,
              "#fb9f3a"
             ],
             [
              0.8888888888888888,
              "#fdca26"
             ],
             [
              1,
              "#f0f921"
             ]
            ],
            "type": "surface"
           }
          ],
          "table": [
           {
            "cells": {
             "fill": {
              "color": "#EBF0F8"
             },
             "line": {
              "color": "white"
             }
            },
            "header": {
             "fill": {
              "color": "#C8D4E3"
             },
             "line": {
              "color": "white"
             }
            },
            "type": "table"
           }
          ]
         },
         "layout": {
          "annotationdefaults": {
           "arrowcolor": "#2a3f5f",
           "arrowhead": 0,
           "arrowwidth": 1
          },
          "autotypenumbers": "strict",
          "coloraxis": {
           "colorbar": {
            "outlinewidth": 0,
            "ticks": ""
           }
          },
          "colorscale": {
           "diverging": [
            [
             0,
             "#8e0152"
            ],
            [
             0.1,
             "#c51b7d"
            ],
            [
             0.2,
             "#de77ae"
            ],
            [
             0.3,
             "#f1b6da"
            ],
            [
             0.4,
             "#fde0ef"
            ],
            [
             0.5,
             "#f7f7f7"
            ],
            [
             0.6,
             "#e6f5d0"
            ],
            [
             0.7,
             "#b8e186"
            ],
            [
             0.8,
             "#7fbc41"
            ],
            [
             0.9,
             "#4d9221"
            ],
            [
             1,
             "#276419"
            ]
           ],
           "sequential": [
            [
             0,
             "#0d0887"
            ],
            [
             0.1111111111111111,
             "#46039f"
            ],
            [
             0.2222222222222222,
             "#7201a8"
            ],
            [
             0.3333333333333333,
             "#9c179e"
            ],
            [
             0.4444444444444444,
             "#bd3786"
            ],
            [
             0.5555555555555556,
             "#d8576b"
            ],
            [
             0.6666666666666666,
             "#ed7953"
            ],
            [
             0.7777777777777778,
             "#fb9f3a"
            ],
            [
             0.8888888888888888,
             "#fdca26"
            ],
            [
             1,
             "#f0f921"
            ]
           ],
           "sequentialminus": [
            [
             0,
             "#0d0887"
            ],
            [
             0.1111111111111111,
             "#46039f"
            ],
            [
             0.2222222222222222,
             "#7201a8"
            ],
            [
             0.3333333333333333,
             "#9c179e"
            ],
            [
             0.4444444444444444,
             "#bd3786"
            ],
            [
             0.5555555555555556,
             "#d8576b"
            ],
            [
             0.6666666666666666,
             "#ed7953"
            ],
            [
             0.7777777777777778,
             "#fb9f3a"
            ],
            [
             0.8888888888888888,
             "#fdca26"
            ],
            [
             1,
             "#f0f921"
            ]
           ]
          },
          "colorway": [
           "#636efa",
           "#EF553B",
           "#00cc96",
           "#ab63fa",
           "#FFA15A",
           "#19d3f3",
           "#FF6692",
           "#B6E880",
           "#FF97FF",
           "#FECB52"
          ],
          "font": {
           "color": "#2a3f5f"
          },
          "geo": {
           "bgcolor": "white",
           "lakecolor": "white",
           "landcolor": "#E5ECF6",
           "showlakes": true,
           "showland": true,
           "subunitcolor": "white"
          },
          "hoverlabel": {
           "align": "left"
          },
          "hovermode": "closest",
          "mapbox": {
           "style": "light"
          },
          "paper_bgcolor": "white",
          "plot_bgcolor": "#E5ECF6",
          "polar": {
           "angularaxis": {
            "gridcolor": "white",
            "linecolor": "white",
            "ticks": ""
           },
           "bgcolor": "#E5ECF6",
           "radialaxis": {
            "gridcolor": "white",
            "linecolor": "white",
            "ticks": ""
           }
          },
          "scene": {
           "xaxis": {
            "backgroundcolor": "#E5ECF6",
            "gridcolor": "white",
            "gridwidth": 2,
            "linecolor": "white",
            "showbackground": true,
            "ticks": "",
            "zerolinecolor": "white"
           },
           "yaxis": {
            "backgroundcolor": "#E5ECF6",
            "gridcolor": "white",
            "gridwidth": 2,
            "linecolor": "white",
            "showbackground": true,
            "ticks": "",
            "zerolinecolor": "white"
           },
           "zaxis": {
            "backgroundcolor": "#E5ECF6",
            "gridcolor": "white",
            "gridwidth": 2,
            "linecolor": "white",
            "showbackground": true,
            "ticks": "",
            "zerolinecolor": "white"
           }
          },
          "shapedefaults": {
           "line": {
            "color": "#2a3f5f"
           }
          },
          "ternary": {
           "aaxis": {
            "gridcolor": "white",
            "linecolor": "white",
            "ticks": ""
           },
           "baxis": {
            "gridcolor": "white",
            "linecolor": "white",
            "ticks": ""
           },
           "bgcolor": "#E5ECF6",
           "caxis": {
            "gridcolor": "white",
            "linecolor": "white",
            "ticks": ""
           }
          },
          "title": {
           "x": 0.05
          },
          "xaxis": {
           "automargin": true,
           "gridcolor": "white",
           "linecolor": "white",
           "ticks": "",
           "title": {
            "standoff": 15
           },
           "zerolinecolor": "white",
           "zerolinewidth": 2
          },
          "yaxis": {
           "automargin": true,
           "gridcolor": "white",
           "linecolor": "white",
           "ticks": "",
           "title": {
            "standoff": 15
           },
           "zerolinecolor": "white",
           "zerolinewidth": 2
          }
         }
        },
        "title": {
         "text": "Распределение использования транспорта по оценкам",
         "x": 0.5
        },
        "uniformtext": {
         "minsize": 12,
         "mode": "show"
        },
        "width": 1400,
        "xaxis": {
         "anchor": "y",
         "domain": [
          0,
          0.31999999999999995
         ],
         "title": {
          "text": "Тип передвижения"
         }
        },
        "xaxis2": {
         "anchor": "y2",
         "domain": [
          0.33999999999999997,
          0.6599999999999999
         ],
         "matches": "x",
         "title": {
          "text": "Тип передвижения"
         }
        },
        "xaxis3": {
         "anchor": "y3",
         "domain": [
          0.6799999999999999,
          0.9999999999999999
         ],
         "matches": "x",
         "title": {
          "text": "Тип передвижения"
         }
        },
        "xaxis4": {
         "anchor": "y4",
         "domain": [
          0,
          0.31999999999999995
         ],
         "matches": "x",
         "showticklabels": false
        },
        "xaxis5": {
         "anchor": "y5",
         "domain": [
          0.33999999999999997,
          0.6599999999999999
         ],
         "matches": "x",
         "showticklabels": false
        },
        "xaxis6": {
         "anchor": "y6",
         "domain": [
          0.6799999999999999,
          0.9999999999999999
         ],
         "matches": "x",
         "showticklabels": false
        },
        "yaxis": {
         "anchor": "x",
         "domain": [
          0,
          0.46499999999999997
         ],
         "title": {
          "text": "Доля"
         }
        },
        "yaxis2": {
         "anchor": "x2",
         "domain": [
          0,
          0.46499999999999997
         ],
         "matches": "y",
         "showticklabels": false
        },
        "yaxis3": {
         "anchor": "x3",
         "domain": [
          0,
          0.46499999999999997
         ],
         "matches": "y",
         "showticklabels": false
        },
        "yaxis4": {
         "anchor": "x4",
         "domain": [
          0.5349999999999999,
          0.9999999999999999
         ],
         "matches": "y",
         "title": {
          "text": "Доля"
         }
        },
        "yaxis5": {
         "anchor": "x5",
         "domain": [
          0.5349999999999999,
          0.9999999999999999
         ],
         "matches": "y",
         "showticklabels": false
        },
        "yaxis6": {
         "anchor": "x6",
         "domain": [
          0.5349999999999999,
          0.9999999999999999
         ],
         "matches": "y",
         "showticklabels": false
        }
       }
      }
     },
     "metadata": {},
     "output_type": "display_data"
    }
   ],
   "source": [
    "df51 = df.groupby('GEBRUIK_AUTO_STELLING3').size().reset_index()\n",
    "\n",
    "df51 = df51.rename(columns = {'GEBRUIK_AUTO_STELLING3': 'Оценка экономии времени на автомобиле', \n",
    "                              0: 'Количество ответивших'})\n",
    "\n",
    "df51.sort_values('Количество ответивших', ascending=False)\n",
    "\n",
    "df51['Тип передвижения'] = 'Автомобиль'\n",
    "\n",
    "\n",
    "\n",
    "\n",
    "df52 = df.groupby('GEBRUIK_TREIN_STELLING3').size().reset_index()\n",
    "\n",
    "df52 = df52.rename(columns = {'GEBRUIK_TREIN_STELLING3': 'Оценка экономии времени на поезде', \n",
    "                              0: 'Количество ответивших'})\n",
    "\n",
    "df52.sort_values('Количество ответивших', ascending=False)\n",
    "df52['Тип передвижения'] = 'Поезд'\n",
    "\n",
    "\n",
    "df53 = df.groupby('GEBRUIK_BTM_STELLING3').size().reset_index()\n",
    "\n",
    "df53 = df53.rename(columns={'GEBRUIK_BTM_STELLING3': 'Оценка экономии времени на общественном транспорте', \n",
    "                            0: 'Количество ответивших'})\n",
    "\n",
    "df53 = df53.sort_values('Количество ответивших', ascending=False)\n",
    "df53['Тип передвижения'] = 'Общественный транспорт'\n",
    "\n",
    "\n",
    "\n",
    "df54 = df.groupby('GEBRUIK_FIETS_STELLING3').size().reset_index()\n",
    "df54 = df54.rename(columns={'GEBRUIK_FIETS_STELLING3': 'Оценка экономии времени на велосипеде', \n",
    "                            0: 'Количество ответивших'})\n",
    "df54 = df54.sort_values('Количество ответивших', ascending=False)\n",
    "df54['Тип передвижения'] = 'Велосипед'\n",
    "\n",
    "\n",
    "df55 = df.groupby('GEBRUIK_LOPEN_STELLING3').size().reset_index()\n",
    "df55 = df55.rename(columns={'GEBRUIK_LOPEN_STELLING3': 'Оценка экономии времени при ходьбе', \n",
    "                            0: 'Количество ответивших'})\n",
    "df55 = df55.sort_values('Количество ответивших', ascending=False)\n",
    "df55['Тип передвижения'] = 'Ходьба'\n",
    "\n",
    "\n",
    "\n",
    "\n",
    "df5 = pd.concat([df51, df52, df53, df54, df55])\n",
    "\n",
    "overall = sum(df51['Количество ответивших'])\n",
    "\n",
    "\n",
    "print(overall)\n",
    "\n",
    "df_long = pd.melt(\n",
    "    df5,\n",
    "    id_vars=['Количество ответивших', 'Тип передвижения'],\n",
    "    value_vars=['Оценка экономии времени на автомобиле', 'Оценка экономии времени на поезде', 'Оценка экономии времени на общественном транспорте', 'Оценка экономии времени на велосипеде', 'Оценка экономии времени при ходьбе'],\n",
    "    var_name='Тип оценки',\n",
    "    value_name='Оценка'\n",
    ")\n",
    "\n",
    "# Удаление NaN значений\n",
    "df_long.dropna(inplace=True)\n",
    "\n",
    "# Вычисление долей в процентах\n",
    "df_long['Доля'] = round((df_long['Количество ответивших'] / overall) * 100, 2)\n",
    "\n",
    "# Замена категорий оценок\n",
    "df_long['Оценка'] = df_long['Оценка'].replace({\n",
    "    1: 'Абсолютно не согласен',\n",
    "    2: 'Не согласен',\n",
    "    3: 'Не уверен',\n",
    "    4: 'Согласен',\n",
    "    5: 'Абсолютно согласен',\n",
    "    6: 'Нет оценки'\n",
    "})\n",
    "\n",
    "# Задание порядка категорий\n",
    "order = ['Абсолютно согласен', 'Согласен', 'Не уверен', 'Абсолютно не согласен', 'Не согласен', 'Нет оценки']\n",
    "df_long['Оценка'] = pd.Categorical(df_long['Оценка'], categories=order, ordered=True)\n",
    "\n",
    "# Построение графика для количества поездок\n",
    "fig3 = px.bar(\n",
    "    df_long, \n",
    "    x='Тип передвижения', \n",
    "    y='Количество ответивших', \n",
    "    text='Количество ответивших',\n",
    "    facet_col='Оценка',\n",
    "    facet_col_wrap=3,\n",
    "    height=600, \n",
    "    width=1400,\n",
    "    category_orders={'Оценка': order}\n",
    ")\n",
    "\n",
    "fig3.update_traces(textfont_size=10, textposition='outside', cliponaxis=False)\n",
    "\n",
    "fig3.update_layout(\n",
    "    title={'text': 'Согласны ли вы, что этот вид транспорта экономит время?', 'x': 0.5},\n",
    "    margin=dict(t=60, b=40, l=40, r=40),\n",
    "    legend=dict(title='Тип передвижения', orientation='h', yanchor='bottom', y=-0.2, xanchor='center', x=0.5)\n",
    ")\n",
    "\n",
    "fig3.show()\n",
    "\n",
    "\n",
    "\n",
    "#--------------ОТОБРАЗИМ ВСЕ В ДОЛЯХ----------------------\n",
    "fig4 = px.bar(\n",
    "    df_long, \n",
    "    x='Тип передвижения', \n",
    "    y='Доля', \n",
    "    text='Доля',\n",
    "    facet_col='Оценка',\n",
    "    facet_col_wrap=3,\n",
    "    height=600, \n",
    "    width=1400,\n",
    "    category_orders={'Оценка': order}\n",
    ")\n",
    "\n",
    "fig4.update_traces(\n",
    "    textposition='outside',\n",
    "    textfont=dict(size=12),  \n",
    "    cliponaxis=False,  \n",
    "    texttemplate='%{text}%', \n",
    "    offsetgroup=1 \n",
    ")\n",
    "\n",
    "fig4.update_layout(\n",
    "    title={'text': 'Распределение использования транспорта по оценкам', 'x': 0.5},\n",
    "    margin=dict(t=60, b=40, l=40, r=40),\n",
    "    uniformtext_minsize=12,\n",
    "    uniformtext_mode='show'  \n",
    ")\n",
    "\n",
    "fig4.show()\n"
   ]
  },
  {
   "cell_type": "markdown",
   "id": "b3412607",
   "metadata": {},
   "source": [
    "## График 5 (восприятие безопасности разных видов транспорта)"
   ]
  },
  {
   "cell_type": "code",
   "execution_count": 178,
   "id": "813290c0",
   "metadata": {},
   "outputs": [
    {
     "name": "stdout",
     "output_type": "stream",
     "text": [
      "4465\n"
     ]
    },
    {
     "data": {
      "application/vnd.plotly.v1+json": {
       "config": {
        "plotlyServerURL": "https://plotly.com"
       },
       "data": [
        {
         "cliponaxis": false,
         "hovertemplate": "Оценка=Абсолютно согласен<br>Тип передвижения=%{x}<br>Количество ответивших=%{text}<extra></extra>",
         "legendgroup": "",
         "marker": {
          "color": "#636efa",
          "pattern": {
           "shape": ""
          }
         },
         "name": "",
         "orientation": "v",
         "showlegend": false,
         "text": {
          "bdata": "AAAAAACYj0AAAAAAAAyVQAAAAAAA0HRAAAAAAAAckEA=",
          "dtype": "f8"
         },
         "textfont": {
          "size": 10
         },
         "textposition": "outside",
         "type": "bar",
         "x": [
          "Автомобиль",
          "Поезд",
          "Общественный транспорт",
          "Ходьба"
         ],
         "xaxis": "x4",
         "y": {
          "bdata": "8wNDBU0BBwQ=",
          "dtype": "i2"
         },
         "yaxis": "y4"
        },
        {
         "cliponaxis": false,
         "hovertemplate": "Оценка=Согласен<br>Тип передвижения=%{x}<br>Количество ответивших=%{text}<extra></extra>",
         "legendgroup": "",
         "marker": {
          "color": "#636efa",
          "pattern": {
           "shape": ""
          }
         },
         "name": "",
         "orientation": "v",
         "showlegend": false,
         "text": {
          "bdata": "AAAAAADyoUAAAAAAAEiiQAAAAAAAlKRAAAAAAAAgokA=",
          "dtype": "f8"
         },
         "textfont": {
          "size": 10
         },
         "textposition": "outside",
         "type": "bar",
         "x": [
          "Автомобиль",
          "Поезд",
          "Общественный транспорт",
          "Ходьба"
         ],
         "xaxis": "x5",
         "y": {
          "bdata": "+QgkCUoKEAk=",
          "dtype": "i2"
         },
         "yaxis": "y5"
        },
        {
         "cliponaxis": false,
         "hovertemplate": "Оценка=Не уверен<br>Тип передвижения=%{x}<br>Количество ответивших=%{text}<extra></extra>",
         "legendgroup": "",
         "marker": {
          "color": "#636efa",
          "pattern": {
           "shape": ""
          }
         },
         "name": "",
         "orientation": "v",
         "showlegend": false,
         "text": {
          "bdata": "AAAAAAC4iUAAAAAAAECBQAAAAAAAtJBAAAAAAAAwjUA=",
          "dtype": "f8"
         },
         "textfont": {
          "size": 10
         },
         "textposition": "outside",
         "type": "bar",
         "x": [
          "Автомобиль",
          "Поезд",
          "Общественный транспорт",
          "Ходьба"
         ],
         "xaxis": "x6",
         "y": {
          "bdata": "NwMoAi0EpgM=",
          "dtype": "i2"
         },
         "yaxis": "y6"
        },
        {
         "cliponaxis": false,
         "hovertemplate": "Оценка=Абсолютно не согласен<br>Тип передвижения=%{x}<br>Количество ответивших=%{text}<extra></extra>",
         "legendgroup": "",
         "marker": {
          "color": "#636efa",
          "pattern": {
           "shape": ""
          }
         },
         "name": "",
         "orientation": "v",
         "showlegend": false,
         "text": {
          "bdata": "AAAAAAAASkAAAAAAAAA1QAAAAAAAwFRAAAAAAAAAN0A=",
          "dtype": "f8"
         },
         "textfont": {
          "size": 10
         },
         "textposition": "outside",
         "type": "bar",
         "x": [
          "Автомобиль",
          "Поезд",
          "Общественный транспорт",
          "Ходьба"
         ],
         "xaxis": "x",
         "y": {
          "bdata": "NBVTFw==",
          "dtype": "i1"
         },
         "yaxis": "y"
        },
        {
         "cliponaxis": false,
         "hovertemplate": "Оценка=Не согласен<br>Тип передвижения=%{x}<br>Количество ответивших=%{text}<extra></extra>",
         "legendgroup": "",
         "marker": {
          "color": "#636efa",
          "pattern": {
           "shape": ""
          }
         },
         "name": "",
         "orientation": "v",
         "showlegend": false,
         "text": {
          "bdata": "AAAAAABgY0AAAAAAAABKQAAAAAAAQGFAAAAAAAAAXUA=",
          "dtype": "f8"
         },
         "textfont": {
          "size": 10
         },
         "textposition": "outside",
         "type": "bar",
         "x": [
          "Автомобиль",
          "Поезд",
          "Общественный транспорт",
          "Ходьба"
         ],
         "xaxis": "x2",
         "y": {
          "bdata": "mwA0AIoAdAA=",
          "dtype": "i2"
         },
         "yaxis": "y2"
        },
        {
         "cliponaxis": false,
         "hovertemplate": "Оценка=Нет оценки<br>Тип передвижения=%{x}<br>Количество ответивших=%{text}<extra></extra>",
         "legendgroup": "",
         "marker": {
          "color": "#636efa",
          "pattern": {
           "shape": ""
          }
         },
         "name": "",
         "orientation": "v",
         "showlegend": false,
         "text": {
          "bdata": "AAAAAADAX0AAAAAAACBjQAAAAAAAAGpAAAAAAACAREA=",
          "dtype": "f8"
         },
         "textfont": {
          "size": 10
         },
         "textposition": "outside",
         "type": "bar",
         "x": [
          "Автомобиль",
          "Поезд",
          "Общественный транспорт",
          "Ходьба"
         ],
         "xaxis": "x3",
         "y": {
          "bdata": "fwCZANAAKQA=",
          "dtype": "i2"
         },
         "yaxis": "y3"
        }
       ],
       "layout": {
        "annotations": [
         {
          "font": {},
          "showarrow": false,
          "text": "Оценка=Абсолютно не согласен",
          "x": 0.15999999999999998,
          "xanchor": "center",
          "xref": "paper",
          "y": 0.46499999999999997,
          "yanchor": "bottom",
          "yref": "paper"
         },
         {
          "font": {},
          "showarrow": false,
          "text": "Оценка=Не согласен",
          "x": 0.49999999999999994,
          "xanchor": "center",
          "xref": "paper",
          "y": 0.46499999999999997,
          "yanchor": "bottom",
          "yref": "paper"
         },
         {
          "font": {},
          "showarrow": false,
          "text": "Оценка=Нет оценки",
          "x": 0.8399999999999999,
          "xanchor": "center",
          "xref": "paper",
          "y": 0.46499999999999997,
          "yanchor": "bottom",
          "yref": "paper"
         },
         {
          "font": {},
          "showarrow": false,
          "text": "Оценка=Абсолютно согласен",
          "x": 0.15999999999999998,
          "xanchor": "center",
          "xref": "paper",
          "y": 0.9999999999999999,
          "yanchor": "bottom",
          "yref": "paper"
         },
         {
          "font": {},
          "showarrow": false,
          "text": "Оценка=Согласен",
          "x": 0.49999999999999994,
          "xanchor": "center",
          "xref": "paper",
          "y": 0.9999999999999999,
          "yanchor": "bottom",
          "yref": "paper"
         },
         {
          "font": {},
          "showarrow": false,
          "text": "Оценка=Не уверен",
          "x": 0.8399999999999999,
          "xanchor": "center",
          "xref": "paper",
          "y": 0.9999999999999999,
          "yanchor": "bottom",
          "yref": "paper"
         }
        ],
        "barmode": "relative",
        "height": 600,
        "legend": {
         "orientation": "h",
         "title": {
          "text": "Тип передвижения"
         },
         "tracegroupgap": 0,
         "x": 0.5,
         "xanchor": "center",
         "y": -0.2,
         "yanchor": "bottom"
        },
        "margin": {
         "b": 40,
         "l": 40,
         "r": 40,
         "t": 60
        },
        "template": {
         "data": {
          "bar": [
           {
            "error_x": {
             "color": "#2a3f5f"
            },
            "error_y": {
             "color": "#2a3f5f"
            },
            "marker": {
             "line": {
              "color": "#E5ECF6",
              "width": 0.5
             },
             "pattern": {
              "fillmode": "overlay",
              "size": 10,
              "solidity": 0.2
             }
            },
            "type": "bar"
           }
          ],
          "barpolar": [
           {
            "marker": {
             "line": {
              "color": "#E5ECF6",
              "width": 0.5
             },
             "pattern": {
              "fillmode": "overlay",
              "size": 10,
              "solidity": 0.2
             }
            },
            "type": "barpolar"
           }
          ],
          "carpet": [
           {
            "aaxis": {
             "endlinecolor": "#2a3f5f",
             "gridcolor": "white",
             "linecolor": "white",
             "minorgridcolor": "white",
             "startlinecolor": "#2a3f5f"
            },
            "baxis": {
             "endlinecolor": "#2a3f5f",
             "gridcolor": "white",
             "linecolor": "white",
             "minorgridcolor": "white",
             "startlinecolor": "#2a3f5f"
            },
            "type": "carpet"
           }
          ],
          "choropleth": [
           {
            "colorbar": {
             "outlinewidth": 0,
             "ticks": ""
            },
            "type": "choropleth"
           }
          ],
          "contour": [
           {
            "colorbar": {
             "outlinewidth": 0,
             "ticks": ""
            },
            "colorscale": [
             [
              0,
              "#0d0887"
             ],
             [
              0.1111111111111111,
              "#46039f"
             ],
             [
              0.2222222222222222,
              "#7201a8"
             ],
             [
              0.3333333333333333,
              "#9c179e"
             ],
             [
              0.4444444444444444,
              "#bd3786"
             ],
             [
              0.5555555555555556,
              "#d8576b"
             ],
             [
              0.6666666666666666,
              "#ed7953"
             ],
             [
              0.7777777777777778,
              "#fb9f3a"
             ],
             [
              0.8888888888888888,
              "#fdca26"
             ],
             [
              1,
              "#f0f921"
             ]
            ],
            "type": "contour"
           }
          ],
          "contourcarpet": [
           {
            "colorbar": {
             "outlinewidth": 0,
             "ticks": ""
            },
            "type": "contourcarpet"
           }
          ],
          "heatmap": [
           {
            "colorbar": {
             "outlinewidth": 0,
             "ticks": ""
            },
            "colorscale": [
             [
              0,
              "#0d0887"
             ],
             [
              0.1111111111111111,
              "#46039f"
             ],
             [
              0.2222222222222222,
              "#7201a8"
             ],
             [
              0.3333333333333333,
              "#9c179e"
             ],
             [
              0.4444444444444444,
              "#bd3786"
             ],
             [
              0.5555555555555556,
              "#d8576b"
             ],
             [
              0.6666666666666666,
              "#ed7953"
             ],
             [
              0.7777777777777778,
              "#fb9f3a"
             ],
             [
              0.8888888888888888,
              "#fdca26"
             ],
             [
              1,
              "#f0f921"
             ]
            ],
            "type": "heatmap"
           }
          ],
          "histogram": [
           {
            "marker": {
             "pattern": {
              "fillmode": "overlay",
              "size": 10,
              "solidity": 0.2
             }
            },
            "type": "histogram"
           }
          ],
          "histogram2d": [
           {
            "colorbar": {
             "outlinewidth": 0,
             "ticks": ""
            },
            "colorscale": [
             [
              0,
              "#0d0887"
             ],
             [
              0.1111111111111111,
              "#46039f"
             ],
             [
              0.2222222222222222,
              "#7201a8"
             ],
             [
              0.3333333333333333,
              "#9c179e"
             ],
             [
              0.4444444444444444,
              "#bd3786"
             ],
             [
              0.5555555555555556,
              "#d8576b"
             ],
             [
              0.6666666666666666,
              "#ed7953"
             ],
             [
              0.7777777777777778,
              "#fb9f3a"
             ],
             [
              0.8888888888888888,
              "#fdca26"
             ],
             [
              1,
              "#f0f921"
             ]
            ],
            "type": "histogram2d"
           }
          ],
          "histogram2dcontour": [
           {
            "colorbar": {
             "outlinewidth": 0,
             "ticks": ""
            },
            "colorscale": [
             [
              0,
              "#0d0887"
             ],
             [
              0.1111111111111111,
              "#46039f"
             ],
             [
              0.2222222222222222,
              "#7201a8"
             ],
             [
              0.3333333333333333,
              "#9c179e"
             ],
             [
              0.4444444444444444,
              "#bd3786"
             ],
             [
              0.5555555555555556,
              "#d8576b"
             ],
             [
              0.6666666666666666,
              "#ed7953"
             ],
             [
              0.7777777777777778,
              "#fb9f3a"
             ],
             [
              0.8888888888888888,
              "#fdca26"
             ],
             [
              1,
              "#f0f921"
             ]
            ],
            "type": "histogram2dcontour"
           }
          ],
          "mesh3d": [
           {
            "colorbar": {
             "outlinewidth": 0,
             "ticks": ""
            },
            "type": "mesh3d"
           }
          ],
          "parcoords": [
           {
            "line": {
             "colorbar": {
              "outlinewidth": 0,
              "ticks": ""
             }
            },
            "type": "parcoords"
           }
          ],
          "pie": [
           {
            "automargin": true,
            "type": "pie"
           }
          ],
          "scatter": [
           {
            "fillpattern": {
             "fillmode": "overlay",
             "size": 10,
             "solidity": 0.2
            },
            "type": "scatter"
           }
          ],
          "scatter3d": [
           {
            "line": {
             "colorbar": {
              "outlinewidth": 0,
              "ticks": ""
             }
            },
            "marker": {
             "colorbar": {
              "outlinewidth": 0,
              "ticks": ""
             }
            },
            "type": "scatter3d"
           }
          ],
          "scattercarpet": [
           {
            "marker": {
             "colorbar": {
              "outlinewidth": 0,
              "ticks": ""
             }
            },
            "type": "scattercarpet"
           }
          ],
          "scattergeo": [
           {
            "marker": {
             "colorbar": {
              "outlinewidth": 0,
              "ticks": ""
             }
            },
            "type": "scattergeo"
           }
          ],
          "scattergl": [
           {
            "marker": {
             "colorbar": {
              "outlinewidth": 0,
              "ticks": ""
             }
            },
            "type": "scattergl"
           }
          ],
          "scattermap": [
           {
            "marker": {
             "colorbar": {
              "outlinewidth": 0,
              "ticks": ""
             }
            },
            "type": "scattermap"
           }
          ],
          "scattermapbox": [
           {
            "marker": {
             "colorbar": {
              "outlinewidth": 0,
              "ticks": ""
             }
            },
            "type": "scattermapbox"
           }
          ],
          "scatterpolar": [
           {
            "marker": {
             "colorbar": {
              "outlinewidth": 0,
              "ticks": ""
             }
            },
            "type": "scatterpolar"
           }
          ],
          "scatterpolargl": [
           {
            "marker": {
             "colorbar": {
              "outlinewidth": 0,
              "ticks": ""
             }
            },
            "type": "scatterpolargl"
           }
          ],
          "scatterternary": [
           {
            "marker": {
             "colorbar": {
              "outlinewidth": 0,
              "ticks": ""
             }
            },
            "type": "scatterternary"
           }
          ],
          "surface": [
           {
            "colorbar": {
             "outlinewidth": 0,
             "ticks": ""
            },
            "colorscale": [
             [
              0,
              "#0d0887"
             ],
             [
              0.1111111111111111,
              "#46039f"
             ],
             [
              0.2222222222222222,
              "#7201a8"
             ],
             [
              0.3333333333333333,
              "#9c179e"
             ],
             [
              0.4444444444444444,
              "#bd3786"
             ],
             [
              0.5555555555555556,
              "#d8576b"
             ],
             [
              0.6666666666666666,
              "#ed7953"
             ],
             [
              0.7777777777777778,
              "#fb9f3a"
             ],
             [
              0.8888888888888888,
              "#fdca26"
             ],
             [
              1,
              "#f0f921"
             ]
            ],
            "type": "surface"
           }
          ],
          "table": [
           {
            "cells": {
             "fill": {
              "color": "#EBF0F8"
             },
             "line": {
              "color": "white"
             }
            },
            "header": {
             "fill": {
              "color": "#C8D4E3"
             },
             "line": {
              "color": "white"
             }
            },
            "type": "table"
           }
          ]
         },
         "layout": {
          "annotationdefaults": {
           "arrowcolor": "#2a3f5f",
           "arrowhead": 0,
           "arrowwidth": 1
          },
          "autotypenumbers": "strict",
          "coloraxis": {
           "colorbar": {
            "outlinewidth": 0,
            "ticks": ""
           }
          },
          "colorscale": {
           "diverging": [
            [
             0,
             "#8e0152"
            ],
            [
             0.1,
             "#c51b7d"
            ],
            [
             0.2,
             "#de77ae"
            ],
            [
             0.3,
             "#f1b6da"
            ],
            [
             0.4,
             "#fde0ef"
            ],
            [
             0.5,
             "#f7f7f7"
            ],
            [
             0.6,
             "#e6f5d0"
            ],
            [
             0.7,
             "#b8e186"
            ],
            [
             0.8,
             "#7fbc41"
            ],
            [
             0.9,
             "#4d9221"
            ],
            [
             1,
             "#276419"
            ]
           ],
           "sequential": [
            [
             0,
             "#0d0887"
            ],
            [
             0.1111111111111111,
             "#46039f"
            ],
            [
             0.2222222222222222,
             "#7201a8"
            ],
            [
             0.3333333333333333,
             "#9c179e"
            ],
            [
             0.4444444444444444,
             "#bd3786"
            ],
            [
             0.5555555555555556,
             "#d8576b"
            ],
            [
             0.6666666666666666,
             "#ed7953"
            ],
            [
             0.7777777777777778,
             "#fb9f3a"
            ],
            [
             0.8888888888888888,
             "#fdca26"
            ],
            [
             1,
             "#f0f921"
            ]
           ],
           "sequentialminus": [
            [
             0,
             "#0d0887"
            ],
            [
             0.1111111111111111,
             "#46039f"
            ],
            [
             0.2222222222222222,
             "#7201a8"
            ],
            [
             0.3333333333333333,
             "#9c179e"
            ],
            [
             0.4444444444444444,
             "#bd3786"
            ],
            [
             0.5555555555555556,
             "#d8576b"
            ],
            [
             0.6666666666666666,
             "#ed7953"
            ],
            [
             0.7777777777777778,
             "#fb9f3a"
            ],
            [
             0.8888888888888888,
             "#fdca26"
            ],
            [
             1,
             "#f0f921"
            ]
           ]
          },
          "colorway": [
           "#636efa",
           "#EF553B",
           "#00cc96",
           "#ab63fa",
           "#FFA15A",
           "#19d3f3",
           "#FF6692",
           "#B6E880",
           "#FF97FF",
           "#FECB52"
          ],
          "font": {
           "color": "#2a3f5f"
          },
          "geo": {
           "bgcolor": "white",
           "lakecolor": "white",
           "landcolor": "#E5ECF6",
           "showlakes": true,
           "showland": true,
           "subunitcolor": "white"
          },
          "hoverlabel": {
           "align": "left"
          },
          "hovermode": "closest",
          "mapbox": {
           "style": "light"
          },
          "paper_bgcolor": "white",
          "plot_bgcolor": "#E5ECF6",
          "polar": {
           "angularaxis": {
            "gridcolor": "white",
            "linecolor": "white",
            "ticks": ""
           },
           "bgcolor": "#E5ECF6",
           "radialaxis": {
            "gridcolor": "white",
            "linecolor": "white",
            "ticks": ""
           }
          },
          "scene": {
           "xaxis": {
            "backgroundcolor": "#E5ECF6",
            "gridcolor": "white",
            "gridwidth": 2,
            "linecolor": "white",
            "showbackground": true,
            "ticks": "",
            "zerolinecolor": "white"
           },
           "yaxis": {
            "backgroundcolor": "#E5ECF6",
            "gridcolor": "white",
            "gridwidth": 2,
            "linecolor": "white",
            "showbackground": true,
            "ticks": "",
            "zerolinecolor": "white"
           },
           "zaxis": {
            "backgroundcolor": "#E5ECF6",
            "gridcolor": "white",
            "gridwidth": 2,
            "linecolor": "white",
            "showbackground": true,
            "ticks": "",
            "zerolinecolor": "white"
           }
          },
          "shapedefaults": {
           "line": {
            "color": "#2a3f5f"
           }
          },
          "ternary": {
           "aaxis": {
            "gridcolor": "white",
            "linecolor": "white",
            "ticks": ""
           },
           "baxis": {
            "gridcolor": "white",
            "linecolor": "white",
            "ticks": ""
           },
           "bgcolor": "#E5ECF6",
           "caxis": {
            "gridcolor": "white",
            "linecolor": "white",
            "ticks": ""
           }
          },
          "title": {
           "x": 0.05
          },
          "xaxis": {
           "automargin": true,
           "gridcolor": "white",
           "linecolor": "white",
           "ticks": "",
           "title": {
            "standoff": 15
           },
           "zerolinecolor": "white",
           "zerolinewidth": 2
          },
          "yaxis": {
           "automargin": true,
           "gridcolor": "white",
           "linecolor": "white",
           "ticks": "",
           "title": {
            "standoff": 15
           },
           "zerolinecolor": "white",
           "zerolinewidth": 2
          }
         }
        },
        "title": {
         "text": "Согласны ли вы, что этот вид транспорта безопасен?",
         "x": 0.5
        },
        "width": 1400,
        "xaxis": {
         "anchor": "y",
         "domain": [
          0,
          0.31999999999999995
         ],
         "title": {
          "text": "Тип передвижения"
         }
        },
        "xaxis2": {
         "anchor": "y2",
         "domain": [
          0.33999999999999997,
          0.6599999999999999
         ],
         "matches": "x",
         "title": {
          "text": "Тип передвижения"
         }
        },
        "xaxis3": {
         "anchor": "y3",
         "domain": [
          0.6799999999999999,
          0.9999999999999999
         ],
         "matches": "x",
         "title": {
          "text": "Тип передвижения"
         }
        },
        "xaxis4": {
         "anchor": "y4",
         "domain": [
          0,
          0.31999999999999995
         ],
         "matches": "x",
         "showticklabels": false
        },
        "xaxis5": {
         "anchor": "y5",
         "domain": [
          0.33999999999999997,
          0.6599999999999999
         ],
         "matches": "x",
         "showticklabels": false
        },
        "xaxis6": {
         "anchor": "y6",
         "domain": [
          0.6799999999999999,
          0.9999999999999999
         ],
         "matches": "x",
         "showticklabels": false
        },
        "yaxis": {
         "anchor": "x",
         "domain": [
          0,
          0.46499999999999997
         ],
         "title": {
          "text": "Количество ответивших"
         }
        },
        "yaxis2": {
         "anchor": "x2",
         "domain": [
          0,
          0.46499999999999997
         ],
         "matches": "y",
         "showticklabels": false
        },
        "yaxis3": {
         "anchor": "x3",
         "domain": [
          0,
          0.46499999999999997
         ],
         "matches": "y",
         "showticklabels": false
        },
        "yaxis4": {
         "anchor": "x4",
         "domain": [
          0.5349999999999999,
          0.9999999999999999
         ],
         "matches": "y",
         "title": {
          "text": "Количество ответивших"
         }
        },
        "yaxis5": {
         "anchor": "x5",
         "domain": [
          0.5349999999999999,
          0.9999999999999999
         ],
         "matches": "y",
         "showticklabels": false
        },
        "yaxis6": {
         "anchor": "x6",
         "domain": [
          0.5349999999999999,
          0.9999999999999999
         ],
         "matches": "y",
         "showticklabels": false
        }
       }
      }
     },
     "metadata": {},
     "output_type": "display_data"
    },
    {
     "data": {
      "application/vnd.plotly.v1+json": {
       "config": {
        "plotlyServerURL": "https://plotly.com"
       },
       "data": [
        {
         "cliponaxis": false,
         "hovertemplate": "Оценка=Абсолютно согласен<br>Тип передвижения=%{x}<br>Доля=%{text}<extra></extra>",
         "legendgroup": "",
         "marker": {
          "color": "#636efa",
          "pattern": {
           "shape": ""
          }
         },
         "name": "",
         "offsetgroup": "1",
         "orientation": "v",
         "showlegend": false,
         "text": {
          "bdata": "pHA9CtejNkDsUbgehSs+QNejcD0K1x1A16NwPQoXN0A=",
          "dtype": "f8"
         },
         "textfont": {
          "size": 12
         },
         "textposition": "outside",
         "texttemplate": "%{text}%",
         "type": "bar",
         "x": [
          "Автомобиль",
          "Поезд",
          "Общественный транспорт",
          "Ходьба"
         ],
         "xaxis": "x4",
         "y": {
          "bdata": "pHA9CtejNkDsUbgehSs+QNejcD0K1x1A16NwPQoXN0A=",
          "dtype": "f8"
         },
         "yaxis": "y4"
        },
        {
         "cliponaxis": false,
         "hovertemplate": "Оценка=Согласен<br>Тип передвижения=%{x}<br>Доля=%{text}<extra></extra>",
         "legendgroup": "",
         "marker": {
          "color": "#636efa",
          "pattern": {
           "shape": ""
          }
         },
         "name": "",
         "offsetgroup": "1",
         "orientation": "v",
         "showlegend": false,
         "text": {
          "bdata": "uB6F61G4SUAUrkfhejRKQB+F61G4fk1AexSuR+H6SUA=",
          "dtype": "f8"
         },
         "textfont": {
          "size": 12
         },
         "textposition": "outside",
         "texttemplate": "%{text}%",
         "type": "bar",
         "x": [
          "Автомобиль",
          "Поезд",
          "Общественный транспорт",
          "Ходьба"
         ],
         "xaxis": "x5",
         "y": {
          "bdata": "uB6F61G4SUAUrkfhejRKQB+F61G4fk1AexSuR+H6SUA=",
          "dtype": "f8"
         },
         "yaxis": "y5"
        },
        {
         "cliponaxis": false,
         "hovertemplate": "Оценка=Не уверен<br>Тип передвижения=%{x}<br>Доля=%{text}<extra></extra>",
         "legendgroup": "",
         "marker": {
          "color": "#636efa",
          "pattern": {
           "shape": ""
          }
         },
         "name": "",
         "offsetgroup": "1",
         "orientation": "v",
         "showlegend": false,
         "text": {
          "bdata": "rkfhehRuMkC4HoXrUbgoQHE9Ctej8DdA7FG4HoXrNEA=",
          "dtype": "f8"
         },
         "textfont": {
          "size": 12
         },
         "textposition": "outside",
         "texttemplate": "%{text}%",
         "type": "bar",
         "x": [
          "Автомобиль",
          "Поезд",
          "Общественный транспорт",
          "Ходьба"
         ],
         "xaxis": "x6",
         "y": {
          "bdata": "rkfhehRuMkC4HoXrUbgoQHE9Ctej8DdA7FG4HoXrNEA=",
          "dtype": "f8"
         },
         "yaxis": "y6"
        },
        {
         "cliponaxis": false,
         "hovertemplate": "Оценка=Абсолютно не согласен<br>Тип передвижения=%{x}<br>Доля=%{text}<extra></extra>",
         "legendgroup": "",
         "marker": {
          "color": "#636efa",
          "pattern": {
           "shape": ""
          }
         },
         "name": "",
         "offsetgroup": "1",
         "orientation": "v",
         "showlegend": false,
         "text": {
          "bdata": "j8L1KFyP8j8UrkfhehTeP8P1KFyPwv0/pHA9Ctej4D8=",
          "dtype": "f8"
         },
         "textfont": {
          "size": 12
         },
         "textposition": "outside",
         "texttemplate": "%{text}%",
         "type": "bar",
         "x": [
          "Автомобиль",
          "Поезд",
          "Общественный транспорт",
          "Ходьба"
         ],
         "xaxis": "x",
         "y": {
          "bdata": "j8L1KFyP8j8UrkfhehTeP8P1KFyPwv0/pHA9Ctej4D8=",
          "dtype": "f8"
         },
         "yaxis": "y"
        },
        {
         "cliponaxis": false,
         "hovertemplate": "Оценка=Не согласен<br>Тип передвижения=%{x}<br>Доля=%{text}<extra></extra>",
         "legendgroup": "",
         "marker": {
          "color": "#636efa",
          "pattern": {
           "shape": ""
          }
         },
         "name": "",
         "offsetgroup": "1",
         "orientation": "v",
         "showlegend": false,
         "text": {
          "bdata": "w/UoXI/CC0CPwvUoXI/yP7gehetRuAhAzczMzMzMBEA=",
          "dtype": "f8"
         },
         "textfont": {
          "size": 12
         },
         "textposition": "outside",
         "texttemplate": "%{text}%",
         "type": "bar",
         "x": [
          "Автомобиль",
          "Поезд",
          "Общественный транспорт",
          "Ходьба"
         ],
         "xaxis": "x2",
         "y": {
          "bdata": "w/UoXI/CC0CPwvUoXI/yP7gehetRuAhAzczMzMzMBEA=",
          "dtype": "f8"
         },
         "yaxis": "y2"
        },
        {
         "cliponaxis": false,
         "hovertemplate": "Оценка=Нет оценки<br>Тип передвижения=%{x}<br>Доля=%{text}<extra></extra>",
         "legendgroup": "",
         "marker": {
          "color": "#636efa",
          "pattern": {
           "shape": ""
          }
         },
         "name": "",
         "offsetgroup": "1",
         "orientation": "v",
         "showlegend": false,
         "text": {
          "bdata": "uB6F61G4BkBxPQrXo3ALQKRwPQrXoxJAcT0K16Nw7T8=",
          "dtype": "f8"
         },
         "textfont": {
          "size": 12
         },
         "textposition": "outside",
         "texttemplate": "%{text}%",
         "type": "bar",
         "x": [
          "Автомобиль",
          "Поезд",
          "Общественный транспорт",
          "Ходьба"
         ],
         "xaxis": "x3",
         "y": {
          "bdata": "uB6F61G4BkBxPQrXo3ALQKRwPQrXoxJAcT0K16Nw7T8=",
          "dtype": "f8"
         },
         "yaxis": "y3"
        }
       ],
       "layout": {
        "annotations": [
         {
          "font": {},
          "showarrow": false,
          "text": "Оценка=Абсолютно не согласен",
          "x": 0.15999999999999998,
          "xanchor": "center",
          "xref": "paper",
          "y": 0.46499999999999997,
          "yanchor": "bottom",
          "yref": "paper"
         },
         {
          "font": {},
          "showarrow": false,
          "text": "Оценка=Не согласен",
          "x": 0.49999999999999994,
          "xanchor": "center",
          "xref": "paper",
          "y": 0.46499999999999997,
          "yanchor": "bottom",
          "yref": "paper"
         },
         {
          "font": {},
          "showarrow": false,
          "text": "Оценка=Нет оценки",
          "x": 0.8399999999999999,
          "xanchor": "center",
          "xref": "paper",
          "y": 0.46499999999999997,
          "yanchor": "bottom",
          "yref": "paper"
         },
         {
          "font": {},
          "showarrow": false,
          "text": "Оценка=Абсолютно согласен",
          "x": 0.15999999999999998,
          "xanchor": "center",
          "xref": "paper",
          "y": 0.9999999999999999,
          "yanchor": "bottom",
          "yref": "paper"
         },
         {
          "font": {},
          "showarrow": false,
          "text": "Оценка=Согласен",
          "x": 0.49999999999999994,
          "xanchor": "center",
          "xref": "paper",
          "y": 0.9999999999999999,
          "yanchor": "bottom",
          "yref": "paper"
         },
         {
          "font": {},
          "showarrow": false,
          "text": "Оценка=Не уверен",
          "x": 0.8399999999999999,
          "xanchor": "center",
          "xref": "paper",
          "y": 0.9999999999999999,
          "yanchor": "bottom",
          "yref": "paper"
         }
        ],
        "barmode": "relative",
        "height": 600,
        "legend": {
         "tracegroupgap": 0
        },
        "margin": {
         "b": 40,
         "l": 40,
         "r": 40,
         "t": 60
        },
        "template": {
         "data": {
          "bar": [
           {
            "error_x": {
             "color": "#2a3f5f"
            },
            "error_y": {
             "color": "#2a3f5f"
            },
            "marker": {
             "line": {
              "color": "#E5ECF6",
              "width": 0.5
             },
             "pattern": {
              "fillmode": "overlay",
              "size": 10,
              "solidity": 0.2
             }
            },
            "type": "bar"
           }
          ],
          "barpolar": [
           {
            "marker": {
             "line": {
              "color": "#E5ECF6",
              "width": 0.5
             },
             "pattern": {
              "fillmode": "overlay",
              "size": 10,
              "solidity": 0.2
             }
            },
            "type": "barpolar"
           }
          ],
          "carpet": [
           {
            "aaxis": {
             "endlinecolor": "#2a3f5f",
             "gridcolor": "white",
             "linecolor": "white",
             "minorgridcolor": "white",
             "startlinecolor": "#2a3f5f"
            },
            "baxis": {
             "endlinecolor": "#2a3f5f",
             "gridcolor": "white",
             "linecolor": "white",
             "minorgridcolor": "white",
             "startlinecolor": "#2a3f5f"
            },
            "type": "carpet"
           }
          ],
          "choropleth": [
           {
            "colorbar": {
             "outlinewidth": 0,
             "ticks": ""
            },
            "type": "choropleth"
           }
          ],
          "contour": [
           {
            "colorbar": {
             "outlinewidth": 0,
             "ticks": ""
            },
            "colorscale": [
             [
              0,
              "#0d0887"
             ],
             [
              0.1111111111111111,
              "#46039f"
             ],
             [
              0.2222222222222222,
              "#7201a8"
             ],
             [
              0.3333333333333333,
              "#9c179e"
             ],
             [
              0.4444444444444444,
              "#bd3786"
             ],
             [
              0.5555555555555556,
              "#d8576b"
             ],
             [
              0.6666666666666666,
              "#ed7953"
             ],
             [
              0.7777777777777778,
              "#fb9f3a"
             ],
             [
              0.8888888888888888,
              "#fdca26"
             ],
             [
              1,
              "#f0f921"
             ]
            ],
            "type": "contour"
           }
          ],
          "contourcarpet": [
           {
            "colorbar": {
             "outlinewidth": 0,
             "ticks": ""
            },
            "type": "contourcarpet"
           }
          ],
          "heatmap": [
           {
            "colorbar": {
             "outlinewidth": 0,
             "ticks": ""
            },
            "colorscale": [
             [
              0,
              "#0d0887"
             ],
             [
              0.1111111111111111,
              "#46039f"
             ],
             [
              0.2222222222222222,
              "#7201a8"
             ],
             [
              0.3333333333333333,
              "#9c179e"
             ],
             [
              0.4444444444444444,
              "#bd3786"
             ],
             [
              0.5555555555555556,
              "#d8576b"
             ],
             [
              0.6666666666666666,
              "#ed7953"
             ],
             [
              0.7777777777777778,
              "#fb9f3a"
             ],
             [
              0.8888888888888888,
              "#fdca26"
             ],
             [
              1,
              "#f0f921"
             ]
            ],
            "type": "heatmap"
           }
          ],
          "histogram": [
           {
            "marker": {
             "pattern": {
              "fillmode": "overlay",
              "size": 10,
              "solidity": 0.2
             }
            },
            "type": "histogram"
           }
          ],
          "histogram2d": [
           {
            "colorbar": {
             "outlinewidth": 0,
             "ticks": ""
            },
            "colorscale": [
             [
              0,
              "#0d0887"
             ],
             [
              0.1111111111111111,
              "#46039f"
             ],
             [
              0.2222222222222222,
              "#7201a8"
             ],
             [
              0.3333333333333333,
              "#9c179e"
             ],
             [
              0.4444444444444444,
              "#bd3786"
             ],
             [
              0.5555555555555556,
              "#d8576b"
             ],
             [
              0.6666666666666666,
              "#ed7953"
             ],
             [
              0.7777777777777778,
              "#fb9f3a"
             ],
             [
              0.8888888888888888,
              "#fdca26"
             ],
             [
              1,
              "#f0f921"
             ]
            ],
            "type": "histogram2d"
           }
          ],
          "histogram2dcontour": [
           {
            "colorbar": {
             "outlinewidth": 0,
             "ticks": ""
            },
            "colorscale": [
             [
              0,
              "#0d0887"
             ],
             [
              0.1111111111111111,
              "#46039f"
             ],
             [
              0.2222222222222222,
              "#7201a8"
             ],
             [
              0.3333333333333333,
              "#9c179e"
             ],
             [
              0.4444444444444444,
              "#bd3786"
             ],
             [
              0.5555555555555556,
              "#d8576b"
             ],
             [
              0.6666666666666666,
              "#ed7953"
             ],
             [
              0.7777777777777778,
              "#fb9f3a"
             ],
             [
              0.8888888888888888,
              "#fdca26"
             ],
             [
              1,
              "#f0f921"
             ]
            ],
            "type": "histogram2dcontour"
           }
          ],
          "mesh3d": [
           {
            "colorbar": {
             "outlinewidth": 0,
             "ticks": ""
            },
            "type": "mesh3d"
           }
          ],
          "parcoords": [
           {
            "line": {
             "colorbar": {
              "outlinewidth": 0,
              "ticks": ""
             }
            },
            "type": "parcoords"
           }
          ],
          "pie": [
           {
            "automargin": true,
            "type": "pie"
           }
          ],
          "scatter": [
           {
            "fillpattern": {
             "fillmode": "overlay",
             "size": 10,
             "solidity": 0.2
            },
            "type": "scatter"
           }
          ],
          "scatter3d": [
           {
            "line": {
             "colorbar": {
              "outlinewidth": 0,
              "ticks": ""
             }
            },
            "marker": {
             "colorbar": {
              "outlinewidth": 0,
              "ticks": ""
             }
            },
            "type": "scatter3d"
           }
          ],
          "scattercarpet": [
           {
            "marker": {
             "colorbar": {
              "outlinewidth": 0,
              "ticks": ""
             }
            },
            "type": "scattercarpet"
           }
          ],
          "scattergeo": [
           {
            "marker": {
             "colorbar": {
              "outlinewidth": 0,
              "ticks": ""
             }
            },
            "type": "scattergeo"
           }
          ],
          "scattergl": [
           {
            "marker": {
             "colorbar": {
              "outlinewidth": 0,
              "ticks": ""
             }
            },
            "type": "scattergl"
           }
          ],
          "scattermap": [
           {
            "marker": {
             "colorbar": {
              "outlinewidth": 0,
              "ticks": ""
             }
            },
            "type": "scattermap"
           }
          ],
          "scattermapbox": [
           {
            "marker": {
             "colorbar": {
              "outlinewidth": 0,
              "ticks": ""
             }
            },
            "type": "scattermapbox"
           }
          ],
          "scatterpolar": [
           {
            "marker": {
             "colorbar": {
              "outlinewidth": 0,
              "ticks": ""
             }
            },
            "type": "scatterpolar"
           }
          ],
          "scatterpolargl": [
           {
            "marker": {
             "colorbar": {
              "outlinewidth": 0,
              "ticks": ""
             }
            },
            "type": "scatterpolargl"
           }
          ],
          "scatterternary": [
           {
            "marker": {
             "colorbar": {
              "outlinewidth": 0,
              "ticks": ""
             }
            },
            "type": "scatterternary"
           }
          ],
          "surface": [
           {
            "colorbar": {
             "outlinewidth": 0,
             "ticks": ""
            },
            "colorscale": [
             [
              0,
              "#0d0887"
             ],
             [
              0.1111111111111111,
              "#46039f"
             ],
             [
              0.2222222222222222,
              "#7201a8"
             ],
             [
              0.3333333333333333,
              "#9c179e"
             ],
             [
              0.4444444444444444,
              "#bd3786"
             ],
             [
              0.5555555555555556,
              "#d8576b"
             ],
             [
              0.6666666666666666,
              "#ed7953"
             ],
             [
              0.7777777777777778,
              "#fb9f3a"
             ],
             [
              0.8888888888888888,
              "#fdca26"
             ],
             [
              1,
              "#f0f921"
             ]
            ],
            "type": "surface"
           }
          ],
          "table": [
           {
            "cells": {
             "fill": {
              "color": "#EBF0F8"
             },
             "line": {
              "color": "white"
             }
            },
            "header": {
             "fill": {
              "color": "#C8D4E3"
             },
             "line": {
              "color": "white"
             }
            },
            "type": "table"
           }
          ]
         },
         "layout": {
          "annotationdefaults": {
           "arrowcolor": "#2a3f5f",
           "arrowhead": 0,
           "arrowwidth": 1
          },
          "autotypenumbers": "strict",
          "coloraxis": {
           "colorbar": {
            "outlinewidth": 0,
            "ticks": ""
           }
          },
          "colorscale": {
           "diverging": [
            [
             0,
             "#8e0152"
            ],
            [
             0.1,
             "#c51b7d"
            ],
            [
             0.2,
             "#de77ae"
            ],
            [
             0.3,
             "#f1b6da"
            ],
            [
             0.4,
             "#fde0ef"
            ],
            [
             0.5,
             "#f7f7f7"
            ],
            [
             0.6,
             "#e6f5d0"
            ],
            [
             0.7,
             "#b8e186"
            ],
            [
             0.8,
             "#7fbc41"
            ],
            [
             0.9,
             "#4d9221"
            ],
            [
             1,
             "#276419"
            ]
           ],
           "sequential": [
            [
             0,
             "#0d0887"
            ],
            [
             0.1111111111111111,
             "#46039f"
            ],
            [
             0.2222222222222222,
             "#7201a8"
            ],
            [
             0.3333333333333333,
             "#9c179e"
            ],
            [
             0.4444444444444444,
             "#bd3786"
            ],
            [
             0.5555555555555556,
             "#d8576b"
            ],
            [
             0.6666666666666666,
             "#ed7953"
            ],
            [
             0.7777777777777778,
             "#fb9f3a"
            ],
            [
             0.8888888888888888,
             "#fdca26"
            ],
            [
             1,
             "#f0f921"
            ]
           ],
           "sequentialminus": [
            [
             0,
             "#0d0887"
            ],
            [
             0.1111111111111111,
             "#46039f"
            ],
            [
             0.2222222222222222,
             "#7201a8"
            ],
            [
             0.3333333333333333,
             "#9c179e"
            ],
            [
             0.4444444444444444,
             "#bd3786"
            ],
            [
             0.5555555555555556,
             "#d8576b"
            ],
            [
             0.6666666666666666,
             "#ed7953"
            ],
            [
             0.7777777777777778,
             "#fb9f3a"
            ],
            [
             0.8888888888888888,
             "#fdca26"
            ],
            [
             1,
             "#f0f921"
            ]
           ]
          },
          "colorway": [
           "#636efa",
           "#EF553B",
           "#00cc96",
           "#ab63fa",
           "#FFA15A",
           "#19d3f3",
           "#FF6692",
           "#B6E880",
           "#FF97FF",
           "#FECB52"
          ],
          "font": {
           "color": "#2a3f5f"
          },
          "geo": {
           "bgcolor": "white",
           "lakecolor": "white",
           "landcolor": "#E5ECF6",
           "showlakes": true,
           "showland": true,
           "subunitcolor": "white"
          },
          "hoverlabel": {
           "align": "left"
          },
          "hovermode": "closest",
          "mapbox": {
           "style": "light"
          },
          "paper_bgcolor": "white",
          "plot_bgcolor": "#E5ECF6",
          "polar": {
           "angularaxis": {
            "gridcolor": "white",
            "linecolor": "white",
            "ticks": ""
           },
           "bgcolor": "#E5ECF6",
           "radialaxis": {
            "gridcolor": "white",
            "linecolor": "white",
            "ticks": ""
           }
          },
          "scene": {
           "xaxis": {
            "backgroundcolor": "#E5ECF6",
            "gridcolor": "white",
            "gridwidth": 2,
            "linecolor": "white",
            "showbackground": true,
            "ticks": "",
            "zerolinecolor": "white"
           },
           "yaxis": {
            "backgroundcolor": "#E5ECF6",
            "gridcolor": "white",
            "gridwidth": 2,
            "linecolor": "white",
            "showbackground": true,
            "ticks": "",
            "zerolinecolor": "white"
           },
           "zaxis": {
            "backgroundcolor": "#E5ECF6",
            "gridcolor": "white",
            "gridwidth": 2,
            "linecolor": "white",
            "showbackground": true,
            "ticks": "",
            "zerolinecolor": "white"
           }
          },
          "shapedefaults": {
           "line": {
            "color": "#2a3f5f"
           }
          },
          "ternary": {
           "aaxis": {
            "gridcolor": "white",
            "linecolor": "white",
            "ticks": ""
           },
           "baxis": {
            "gridcolor": "white",
            "linecolor": "white",
            "ticks": ""
           },
           "bgcolor": "#E5ECF6",
           "caxis": {
            "gridcolor": "white",
            "linecolor": "white",
            "ticks": ""
           }
          },
          "title": {
           "x": 0.05
          },
          "xaxis": {
           "automargin": true,
           "gridcolor": "white",
           "linecolor": "white",
           "ticks": "",
           "title": {
            "standoff": 15
           },
           "zerolinecolor": "white",
           "zerolinewidth": 2
          },
          "yaxis": {
           "automargin": true,
           "gridcolor": "white",
           "linecolor": "white",
           "ticks": "",
           "title": {
            "standoff": 15
           },
           "zerolinecolor": "white",
           "zerolinewidth": 2
          }
         }
        },
        "title": {
         "text": "Распределение восприятия безопасности транспорта по оценкам",
         "x": 0.5
        },
        "uniformtext": {
         "minsize": 12,
         "mode": "show"
        },
        "width": 1400,
        "xaxis": {
         "anchor": "y",
         "domain": [
          0,
          0.31999999999999995
         ],
         "title": {
          "text": "Тип передвижения"
         }
        },
        "xaxis2": {
         "anchor": "y2",
         "domain": [
          0.33999999999999997,
          0.6599999999999999
         ],
         "matches": "x",
         "title": {
          "text": "Тип передвижения"
         }
        },
        "xaxis3": {
         "anchor": "y3",
         "domain": [
          0.6799999999999999,
          0.9999999999999999
         ],
         "matches": "x",
         "title": {
          "text": "Тип передвижения"
         }
        },
        "xaxis4": {
         "anchor": "y4",
         "domain": [
          0,
          0.31999999999999995
         ],
         "matches": "x",
         "showticklabels": false
        },
        "xaxis5": {
         "anchor": "y5",
         "domain": [
          0.33999999999999997,
          0.6599999999999999
         ],
         "matches": "x",
         "showticklabels": false
        },
        "xaxis6": {
         "anchor": "y6",
         "domain": [
          0.6799999999999999,
          0.9999999999999999
         ],
         "matches": "x",
         "showticklabels": false
        },
        "yaxis": {
         "anchor": "x",
         "domain": [
          0,
          0.46499999999999997
         ],
         "title": {
          "text": "Доля"
         }
        },
        "yaxis2": {
         "anchor": "x2",
         "domain": [
          0,
          0.46499999999999997
         ],
         "matches": "y",
         "showticklabels": false
        },
        "yaxis3": {
         "anchor": "x3",
         "domain": [
          0,
          0.46499999999999997
         ],
         "matches": "y",
         "showticklabels": false
        },
        "yaxis4": {
         "anchor": "x4",
         "domain": [
          0.5349999999999999,
          0.9999999999999999
         ],
         "matches": "y",
         "title": {
          "text": "Доля"
         }
        },
        "yaxis5": {
         "anchor": "x5",
         "domain": [
          0.5349999999999999,
          0.9999999999999999
         ],
         "matches": "y",
         "showticklabels": false
        },
        "yaxis6": {
         "anchor": "x6",
         "domain": [
          0.5349999999999999,
          0.9999999999999999
         ],
         "matches": "y",
         "showticklabels": false
        }
       }
      }
     },
     "metadata": {},
     "output_type": "display_data"
    }
   ],
   "source": [
    "df51 = df.groupby('GEBRUIK_AUTO_STELLING4').size().reset_index()\n",
    "\n",
    "df51 = df51.rename(columns = {'GEBRUIK_AUTO_STELLING4': 'Оценка безопасности автомобиля', \n",
    "                              0: 'Количество ответивших'})\n",
    "\n",
    "df51.sort_values('Количество ответивших', ascending=False)\n",
    "\n",
    "df51['Тип передвижения'] = 'Автомобиль'\n",
    "\n",
    "\n",
    "\n",
    "\n",
    "df52 = df.groupby('GEBRUIK_TREIN_STELLING4').size().reset_index()\n",
    "\n",
    "df52 = df52.rename(columns = {'GEBRUIK_TREIN_STELLING4': 'Оценка безопасности поезда', \n",
    "                              0: 'Количество ответивших'})\n",
    "\n",
    "df52.sort_values('Количество ответивших', ascending=False)\n",
    "df52['Тип передвижения'] = 'Поезд'\n",
    "\n",
    "\n",
    "df53 = df.groupby('GEBRUIK_BTM_STELLING4').size().reset_index()\n",
    "\n",
    "df53 = df53.rename(columns={'GEBRUIK_BTM_STELLING4': 'Оценка безопасности общественного транспорта', \n",
    "                            0: 'Количество ответивших'})\n",
    "\n",
    "df53 = df53.sort_values('Количество ответивших', ascending=False)\n",
    "df53['Тип передвижения'] = 'Общественный транспорт'\n",
    "\n",
    "\n",
    "\n",
    "\n",
    "df54 = df.groupby('GEBRUIK_LOPEN_STELLING4').size().reset_index()\n",
    "df54 = df54.rename(columns={'GEBRUIK_LOPEN_STELLING4': 'Оценка безопасности ходьбы', \n",
    "                            0: 'Количество ответивших'})\n",
    "df54 = df54.sort_values('Количество ответивших', ascending=False)\n",
    "df54['Тип передвижения'] = 'Ходьба'\n",
    "\n",
    "\n",
    "\n",
    "df5 = pd.concat([df51, df52, df53, df54])\n",
    "\n",
    "overall = sum(df51['Количество ответивших'])\n",
    "\n",
    "\n",
    "print(overall)\n",
    "\n",
    "df_long = pd.melt(\n",
    "    df5,\n",
    "    id_vars=['Количество ответивших', 'Тип передвижения'],\n",
    "    value_vars=['Оценка безопасности автомобиля', 'Оценка безопасности поезда', 'Оценка безопасности общественного транспорта', 'Оценка безопасности ходьбы'],\n",
    "    var_name='Тип оценки',\n",
    "    value_name='Оценка'\n",
    ")\n",
    "\n",
    "# Удаление NaN значений\n",
    "df_long.dropna(inplace=True)\n",
    "\n",
    "# Вычисление долей в процентах\n",
    "df_long['Доля'] = round((df_long['Количество ответивших'] / overall) * 100, 2)\n",
    "\n",
    "# Замена категорий оценок\n",
    "df_long['Оценка'] = df_long['Оценка'].replace({\n",
    "    1: 'Абсолютно не согласен',\n",
    "    2: 'Не согласен',\n",
    "    3: 'Не уверен',\n",
    "    4: 'Согласен',\n",
    "    5: 'Абсолютно согласен',\n",
    "    6: 'Нет оценки'\n",
    "})\n",
    "\n",
    "# Задание порядка категорий\n",
    "order = ['Абсолютно согласен', 'Согласен', 'Не уверен', 'Абсолютно не согласен', 'Не согласен', 'Нет оценки']\n",
    "df_long['Оценка'] = pd.Categorical(df_long['Оценка'], categories=order, ordered=True)\n",
    "\n",
    "# Построение графика для количества поездок\n",
    "fig3 = px.bar(\n",
    "    df_long, \n",
    "    x='Тип передвижения', \n",
    "    y='Количество ответивших', \n",
    "    text='Количество ответивших',\n",
    "    facet_col='Оценка',\n",
    "    facet_col_wrap=3,\n",
    "    height=600, \n",
    "    width=1400,\n",
    "    category_orders={'Оценка': order}\n",
    ")\n",
    "\n",
    "fig3.update_traces(textfont_size=10, textposition='outside', cliponaxis=False)\n",
    "\n",
    "fig3.update_layout(\n",
    "    title={'text': 'Согласны ли вы, что этот вид транспорта безопасен?', 'x': 0.5},\n",
    "    margin=dict(t=60, b=40, l=40, r=40),\n",
    "    legend=dict(title='Тип передвижения', orientation='h', yanchor='bottom', y=-0.2, xanchor='center', x=0.5)\n",
    ")\n",
    "\n",
    "fig3.show()\n",
    "\n",
    "\n",
    "\n",
    "#--------------ОТОБРАЗИМ ВСЕ В ДОЛЯХ----------------------\n",
    "fig4 = px.bar(\n",
    "    df_long, \n",
    "    x='Тип передвижения', \n",
    "    y='Доля', \n",
    "    text='Доля',\n",
    "    facet_col='Оценка',\n",
    "    facet_col_wrap=3,\n",
    "    height=600, \n",
    "    width=1400,\n",
    "    category_orders={'Оценка': order}\n",
    ")\n",
    "\n",
    "fig4.update_traces(\n",
    "    textposition='outside',\n",
    "    textfont=dict(size=12),  \n",
    "    cliponaxis=False,  \n",
    "    texttemplate='%{text}%', \n",
    "    offsetgroup=1 \n",
    ")\n",
    "\n",
    "fig4.update_layout(\n",
    "    title={'text': 'Распределение восприятия безопасности транспорта по оценкам', 'x': 0.5},\n",
    "    margin=dict(t=60, b=40, l=40, r=40),\n",
    "    uniformtext_minsize=12,\n",
    "    uniformtext_mode='show'  \n",
    ")\n",
    "\n",
    "fig4.show()\n"
   ]
  },
  {
   "cell_type": "markdown",
   "id": "47cf2a2c",
   "metadata": {},
   "source": [
    "## График 6"
   ]
  },
  {
   "cell_type": "code",
   "execution_count": null,
   "id": "0ca46fe2",
   "metadata": {},
   "outputs": [
    {
     "name": "stdout",
     "output_type": "stream",
     "text": [
      "KMOTIEF\n",
      "Business-related visit in work context      94\n",
      "Following education study, courses         401\n",
      "Other purpose                              562\n",
      "Services, personal care                    115\n",
      "Shopping, doing grocery shopping           440\n",
      "Social recreational other                  913\n",
      "To and from work                          1305\n",
      "Touring, hiking                            190\n",
      "Unknown                                     41\n",
      "Visitation                                 404\n",
      "dtype: int64\n"
     ]
    }
   ],
   "source": [
    "print(df_map.groupby('KMOTIEF').size())"
   ]
  },
  {
   "cell_type": "code",
   "execution_count": null,
   "id": "b7b98e2e",
   "metadata": {},
   "outputs": [
    {
     "name": "stdout",
     "output_type": "stream",
     "text": [
      "VERTPROV\n",
      "Drenthe                                     3\n",
      "Flevoland                                  43\n",
      "Friesland                                   5\n",
      "Gelderland                                 64\n",
      "Groningen                                  14\n",
      "Limburg                                    22\n",
      "No departure point in the Netherlands      93\n",
      "North-Brabant                              31\n",
      "North-Holland                            3956\n",
      "Overijssel                                  6\n",
      "Province of departure unknown              27\n",
      "South-Holland                              97\n",
      "Utrecht                                   103\n",
      "Zeeland                                     1\n",
      "dtype: int64\n"
     ]
    }
   ],
   "source": [
    "print(df_map.groupby('VERTPROV').size())"
   ]
  },
  {
   "cell_type": "code",
   "execution_count": null,
   "id": "8394698c",
   "metadata": {},
   "outputs": [
    {
     "name": "stdout",
     "output_type": "stream",
     "text": [
      "KAFSTV\n",
      "10-15 km      494\n",
      "15-20 km      354\n",
      "2.5-3.7 km    519\n",
      "20-30 km      443\n",
      "3.7-5.0 km    560\n",
      "30-40 km      262\n",
      "40-50 km      217\n",
      "5.0-7.5 km    451\n",
      "7.5-10 km     541\n",
      ">50 km        624\n",
      "dtype: int64\n"
     ]
    }
   ],
   "source": [
    "print(df_map.groupby('KAFSTV').size())\n",
    "\n"
   ]
  },
  {
   "cell_type": "code",
   "execution_count": null,
   "id": "4fe0d388",
   "metadata": {},
   "outputs": [
    {
     "name": "stdout",
     "output_type": "stream",
     "text": [
      "KVERTTIJD\n",
      "0 to 4:00          30\n",
      "12:00 to 13:00    278\n",
      "13:00 to 14:00    276\n",
      "14:00 to 16:00    705\n",
      "16:00 to 17:00    465\n",
      "17:00 to 18:00    420\n",
      "18:00 to 19:00    185\n",
      "19:00 to 20:00    154\n",
      "20:00 to 24:00    347\n",
      "4:00 to 7:00      232\n",
      "7:00 to 8:00      322\n",
      "8:00 to 9:00      330\n",
      "9:00 to 12:00     721\n",
      "dtype: int64\n"
     ]
    }
   ],
   "source": [
    "print(df_map.groupby('KVERTTIJD').size())"
   ]
  },
  {
   "cell_type": "code",
   "execution_count": null,
   "id": "f759e8ef",
   "metadata": {},
   "outputs": [
    {
     "name": "stdout",
     "output_type": "stream",
     "text": [
      "KREISDUUR\n",
      "1 to 5 minutes           6\n",
      "10 to 15 minutes       475\n",
      "120 minutes or more    275\n",
      "15 to 20 minutes       572\n",
      "20 to 25 minutes       388\n",
      "25 to 30 minutes       287\n",
      "30 to 45 minutes       927\n",
      "45 to 60 minutes       475\n",
      "5 to 10 minutes        194\n",
      "60 to 90 minutes       592\n",
      "90 to 120 minutes      274\n",
      "dtype: int64\n"
     ]
    }
   ],
   "source": [
    "print(df_map.groupby('KREISDUUR').size())"
   ]
  },
  {
   "cell_type": "code",
   "execution_count": null,
   "id": "7a0540b7",
   "metadata": {},
   "outputs": [
    {
     "name": "stdout",
     "output_type": "stream",
     "text": [
      "<class 'pandas.core.frame.DataFrame'>\n",
      "Index: 4465 entries, 0 to 7309\n",
      "Data columns (total 56 columns):\n",
      " #   Column                   Non-Null Count  Dtype \n",
      "---  ------                   --------------  ----- \n",
      " 0   HHID                     4465 non-null   int64 \n",
      " 1   PERSID                   4465 non-null   int64 \n",
      " 2   VPLID                    4465 non-null   int64 \n",
      " 3   RitID                    4465 non-null   int64 \n",
      " 4   HH_VALID                 4465 non-null   int64 \n",
      " 5   P_VALID                  4465 non-null   int64 \n",
      " 6   KHVM                     4465 non-null   int64 \n",
      " 7   WEGGEWEEST               4465 non-null   int64 \n",
      " 8   VERTREKP                 4465 non-null   int64 \n",
      " 9   AANTVPL                  4465 non-null   int64 \n",
      " 10  VPLDAGNR                 4465 non-null   int64 \n",
      " 11  VERPL                    4465 non-null   int64 \n",
      " 12  VERPLNR                  4465 non-null   int64 \n",
      " 13  TOER                     4465 non-null   int64 \n",
      " 14  TOER_TYPE                4465 non-null   int64 \n",
      " 15  AANTRIT                  4465 non-null   int64 \n",
      " 16  KMOTIEF                  4465 non-null   int64 \n",
      " 17  VERTPROV                 4465 non-null   int64 \n",
      " 18  AANKPROV                 4465 non-null   int64 \n",
      " 19  KAFSTV                   4465 non-null   int64 \n",
      " 20  KVERTTIJD                4465 non-null   int64 \n",
      " 21  KREISDUUR                4465 non-null   object\n",
      " 22  ROLAUTO                  4465 non-null   int64 \n",
      " 23  PARKEERKOSTEN            4465 non-null   object\n",
      " 24  VERTRAGING               4465 non-null   int64 \n",
      " 25  DAGSOORT                 4465 non-null   int64 \n",
      " 26  OORDEEL_AUTO             4465 non-null   int64 \n",
      " 27  OORDEEL_TREIN            4465 non-null   int64 \n",
      " 28  OORDEEL_BTM              4465 non-null   int64 \n",
      " 29  OORDEEL_FIETS            4465 non-null   int64 \n",
      " 30  OORDEEL_BROMMER          4465 non-null   int64 \n",
      " 31  OORDEEL_LOPEN            4465 non-null   int64 \n",
      " 32  GEBRUIK_AUTO_STELLING3   4465 non-null   int64 \n",
      " 33  GEBRUIK_AUTO_STELLING4   4465 non-null   int64 \n",
      " 34  GEBRUIK_TREIN_STELLING3  4465 non-null   int64 \n",
      " 35  GEBRUIK_TREIN_STELLING4  4465 non-null   int64 \n",
      " 36  GEBRUIK_BTM_STELLING3    4465 non-null   int64 \n",
      " 37  GEBRUIK_BTM_STELLING4    4465 non-null   int64 \n",
      " 38  GEBRUIK_FIETS_STELLING2  4465 non-null   int64 \n",
      " 39  GEBRUIK_FIETS_STELLING3  4465 non-null   int64 \n",
      " 40  GEBRUIK_LOPEN_STELLING3  4465 non-null   int64 \n",
      " 41  GEBRUIK_LOPEN_STELLING4  4465 non-null   int64 \n",
      " 42  HHPERS                   4465 non-null   int64 \n",
      " 43  HHSAM                    4465 non-null   int64 \n",
      " 44  N_KIND                   4465 non-null   int64 \n",
      " 45  HHBRUTOINK2_w5           4465 non-null   int64 \n",
      " 46  HHAUTO_N                 4465 non-null   int64 \n",
      " 47  HHAUTO                   4465 non-null   int64 \n",
      " 48  HHBESTEL                 4465 non-null   int64 \n",
      " 49  HHHYBRID                 4465 non-null   int64 \n",
      " 50  HHMOTOR                  4465 non-null   int64 \n",
      " 51  HHBROM                   4465 non-null   int64 \n",
      " 52  HHSNOR                   4465 non-null   int64 \n",
      " 53  HHFIETS                  4465 non-null   int64 \n",
      " 54  HHVOUWFIETS              4465 non-null   int64 \n",
      " 55  HHEBIKE                  4465 non-null   int64 \n",
      "dtypes: int64(54), object(2)\n",
      "memory usage: 1.9+ MB\n",
      "None\n"
     ]
    }
   ],
   "source": [
    "\n",
    "print(df.info())"
   ]
  },
  {
   "cell_type": "code",
   "execution_count": null,
   "id": "4baae3c4",
   "metadata": {},
   "outputs": [
    {
     "data": {
      "image/png": "[encoded data removed]",
      "text/plain": [
       "<Figure size 640x480 with 2 Axes>"
      ]
     },
     "metadata": {},
     "output_type": "display_data"
    }
   ],
   "source": [
    "fig = sns.heatmap(df.corr())"
   ]
  }
 ],
 "metadata": {
  "kernelspec": {
   "display_name": ".venv",
   "language": "python",
   "name": "python3"
  },
  "language_info": {
   "codemirror_mode": {
    "name": "ipython",
    "version": 3
   },
   "file_extension": ".py",
   "mimetype": "text/x-python",
   "name": "python",
   "nbconvert_exporter": "python",
   "pygments_lexer": "ipython3",
   "version": "3.11.5"
  }
 },
 "nbformat": 4,
 "nbformat_minor": 5
}
